{
 "cells": [
  {
   "cell_type": "markdown",
   "id": "9ef0e5fb-62f6-43a7-944d-dee7e03b5314",
   "metadata": {},
   "source": [
    "*Load packages and data:*"
   ]
  },
  {
   "cell_type": "code",
   "execution_count": 1,
   "id": "740e2368-9c53-4010-925f-732c7f1d718a",
   "metadata": {},
   "outputs": [],
   "source": [
    "%run stdPackages.ipynb\n",
    "read = {'variables': ['Fundamentals', 'Load', 'Generators_Other','TL'], \n",
    "        'variable2D': ['Generators_FuelMix','HourlyVariation'],\n",
    "        'scalars': ['Scalars'],\n",
    "        'maps': ['Generators_Categories', 'Load_Categories']}\n",
    "db = dbFromWB(os.path.join(d['data'],'E3.xlsx'), read)\n",
    "readSets(db)"
   ]
  },
  {
   "cell_type": "markdown",
   "id": "c3e612f8-1f83-45fd-a44a-d39b0cb800d1",
   "metadata": {
    "tags": []
   },
   "source": [
    "# The ```mBasicTrade``` model"
   ]
  },
  {
   "cell_type": "markdown",
   "id": "8ac89c53-f052-4127-8fcf-20ad9de81388",
   "metadata": {},
   "source": [
    "### **The model**"
   ]
  },
  {
   "cell_type": "markdown",
   "id": "4b823431-8838-4a92-8c39-e1ef0904fd2c",
   "metadata": {},
   "source": [
    "The class specifies the linear electricity system model specified as:\n",
    "<a id='simplemodel'>\n",
    "$$\\begin{align} \\tag{1}\n",
    "    \\max \\text{Welfare} &= \\sum_{h,g}\\left(u\\cdot D_h^g-\\sum_{i\\in\\mathcal{I}_g}mc_{id}\\cdot E_{id,h}\\right) - \\left(\\sum_{l,h} c_{l}\\cdot x_{l,h}\\right)\\\\ \n",
    "               D_h^g &= \\sum_{id\\in\\mathcal{I}_g} E_{id,h}+\\sum_{l\\in S_g}(1-\\text{ll})\\cdot x_{l',h}-x_{l,h} \\\\ \n",
    "               D_h^g &\\in [0, z_h\\cdot \\text{Load}_g], \\\\\n",
    "               E_{id,h}&\\in[0,q_{id,h}] \\\\\n",
    "               x_{l,h} &\\in[0, q_l].\n",
    "\\end{align}$$\n",
    "\n",
    "* $u$ is the consumers' marginal willingness to pay for not having the load shedded. \n",
    "* $D_h^g$ is the actual served load in hour $h$, area $g$ whereas ($\\text{Load}_g\\cdot z_h$) is the planned level of demand/load in hour, area $h,g$; \n",
    "* $z_h$ is a measure of the hourly variation in demand. If we make sure that $\\sum_h z_h =1$ the 'Load' parameter is a measure of 'yearly'/long run demand. \n",
    "* ($z_h\\cdot \\text{Load} - D_h$) measures the shedded load in a given hour. \n",
    "* $x_{l,h}$ is the amount of electricity transmitted through line $l=(g,g')$, $c_l$ is the marginal cost of using the line, and $\\text{ll}$ is the rate of loss from the transmission line. Thus, $(1-\\text{ll})x_{l',h}-x_{l,h}$ is the *net import* of electricity in area $g$ from area $g'$. \n",
    "* The boundary constraint $D_h^g\\in[0, z_h\\cdot \\text{Load}_g]$ states that demand cannot be negative and that load shedding cannot be negative.\n",
    "* The boundary constraint $E_{id,h}\\in[0,q_{id,h}]$ states the generation cannot be negative and not exceed a plant-and-hourly specific generation capacity. This generation capacity is generally constant for 'standard' plants, but varies with hours for solar and wind type of plants.\n",
    "* The boundary constraint $x_{l,h}\\in[0,q_l]$ states that transmission can only be positive up to the capacity limit $q_l$. Note that $q_l$ measures the **export capacity**; when this line is fully utilized the received amount of electricity in $g'$ is given by $(1-\\text{ll})x_{l'}$."
   ]
  },
  {
   "cell_type": "markdown",
   "id": "4ca3be0c-2e82-4e51-80c7-565c7a4c8dae",
   "metadata": {},
   "source": [
    "### 1. **Augmented form LP**"
   ]
  },
  {
   "cell_type": "markdown",
   "id": "97f043c1-915a-4c7a-9fd3-1ceb824743a8",
   "metadata": {},
   "source": [
    "For the previous models (```mBasic```, ```mBasicInt```), we outlined the complete augmented form LP of the model. This is, however, starting to be quite a cumbersome task..."
   ]
  },
  {
   "cell_type": "markdown",
   "id": "a09c0500-68fc-4f67-9628-addbd596264f",
   "metadata": {
    "tags": []
   },
   "source": [
    "## 2. Initialize and solve model"
   ]
  },
  {
   "cell_type": "markdown",
   "id": "4669743d-338d-4138-94e2-78677a378b90",
   "metadata": {},
   "source": [
    "The model is initialized with the database as input using: "
   ]
  },
  {
   "cell_type": "code",
   "execution_count": 2,
   "id": "9475c131-a797-4e02-bc1a-e5dc0d99612e",
   "metadata": {},
   "outputs": [],
   "source": [
    "m = mBasicTrade.mBasicTrade(db)"
   ]
  },
  {
   "cell_type": "markdown",
   "id": "4d1437b5-f239-4fb0-acab-b5cb0be46963",
   "metadata": {},
   "source": [
    "All models are provided with three main methods: ```self.preSolve```, ```self.initBlocks```, and ```self.postSolve```. The ```preSolve``` and ```postSolve``` methods are used to carry out computations before and after the model is solved, respectively. The ```self.preSolve``` and ```self.postSolve``` are similar to the ones in the [mBasicInt model](M_mBasicInt.ipynb). We focus on the ```self.initBlocks``` here. We note that the following statement carries out all three steps:"
   ]
  },
  {
   "cell_type": "code",
   "execution_count": 3,
   "id": "ec21947b-33a4-4c68-b3ec-5522be37b5fe",
   "metadata": {},
   "outputs": [
    {
     "name": "stdout",
     "output_type": "stream",
     "text": [
      "Solution status 0: Optimization terminated successfully.\n"
     ]
    }
   ],
   "source": [
    "m.solve()"
   ]
  },
  {
   "cell_type": "markdown",
   "id": "3450853d-85ca-4b9c-ba86-b76995c7bba8",
   "metadata": {},
   "source": [
    "#### 2.1. The vector of cost coefficients $c$:"
   ]
  },
  {
   "cell_type": "markdown",
   "id": "744b97ea-0e51-41c0-9765-d39838b6ad3f",
   "metadata": {},
   "source": [
    "<img src=\"snippets/mBasicTrade_snippet.png\" width=\"1000\" height=\"400\">"
   ]
  },
  {
   "cell_type": "markdown",
   "id": "998d675e-c839-4435-96d5-3ffcc6b2935a",
   "metadata": {},
   "source": [
    "*$c$ component for generation: Marginal costs repeated for all $id,g$ combinations in ```Generation``` variable:*"
   ]
  },
  {
   "cell_type": "code",
   "execution_count": 4,
   "id": "136f11b7-8d3e-4ea5-b947-ffebd48e9dff",
   "metadata": {
    "scrolled": true,
    "tags": []
   },
   "outputs": [
    {
     "data": {
      "text/plain": [
       "id   g   h\n",
       "id1  g1  1     6.189324\n",
       "         2     6.189324\n",
       "         3     6.189324\n",
       "         4     6.189324\n",
       "id2  g1  1     9.560114\n",
       "         2     9.560114\n",
       "         3     9.560114\n",
       "         4     9.560114\n",
       "id3  g1  1    15.402685\n",
       "         2    15.402685\n",
       "         3    15.402685\n",
       "         4    15.402685\n",
       "id4  g1  1          3.0\n",
       "         2          3.0\n",
       "         3          3.0\n",
       "         4          3.0\n",
       "id5  g2  1     9.560114\n",
       "         2     9.560114\n",
       "         3     9.560114\n",
       "         4     9.560114\n",
       "id6  g2  1          3.0\n",
       "         2          3.0\n",
       "         3          3.0\n",
       "         4          3.0\n",
       "dtype: object"
      ]
     },
     "execution_count": 4,
     "metadata": {},
     "output_type": "execute_result"
    }
   ],
   "source": [
    "lpCompiler.broadcast(m.db['mc'], m.globalDomains['Generation'])"
   ]
  },
  {
   "cell_type": "markdown",
   "id": "02596a58-61db-4522-83e9-1fe1f73f173f",
   "metadata": {},
   "source": [
    "*$c$ component for hourly demand: Minus marginal willingness to pay repeated for all $g,h$ in ```HourlyDemand``` variable:*"
   ]
  },
  {
   "cell_type": "code",
   "execution_count": 5,
   "id": "71a375d7-e359-4536-ad46-5827520cc153",
   "metadata": {},
   "outputs": [
    {
     "data": {
      "text/plain": [
       "g   h\n",
       "g1  1   -25.0\n",
       "    2   -25.0\n",
       "    3   -25.0\n",
       "    4   -25.0\n",
       "g2  1   -25.0\n",
       "    2   -25.0\n",
       "    3   -25.0\n",
       "    4   -25.0\n",
       "Name: 0, dtype: float64"
      ]
     },
     "execution_count": 5,
     "metadata": {},
     "output_type": "execute_result"
    }
   ],
   "source": [
    "m.blocks.get(('c','HourlyDemand'))"
   ]
  },
  {
   "cell_type": "markdown",
   "id": "a3471c68-a1d9-4c8b-badb-ef8ced22167d",
   "metadata": {},
   "source": [
    "*$c$ component for transmission: Marginal costs (```lineMC```) repeated for all $h$:*"
   ]
  },
  {
   "cell_type": "code",
   "execution_count": 6,
   "id": "c72603b9-2d42-41e8-af81-18a2c458c29c",
   "metadata": {},
   "outputs": [
    {
     "data": {
      "text/plain": [
       "g   g_alias  h\n",
       "g1  g2       1    0.1\n",
       "             2    0.1\n",
       "             3    0.1\n",
       "             4    0.1\n",
       "g2  g1       1    0.1\n",
       "             2    0.1\n",
       "             3    0.1\n",
       "             4    0.1\n",
       "Name: 0, dtype: object"
      ]
     },
     "execution_count": 6,
     "metadata": {},
     "output_type": "execute_result"
    }
   ],
   "source": [
    "m.blocks.get(('c','Transmission'))"
   ]
  },
  {
   "cell_type": "markdown",
   "id": "18048114-fd21-4993-8996-108d557ced03",
   "metadata": {
    "tags": []
   },
   "source": [
    "#### 2.2. The vector of upper bounds $u$:"
   ]
  },
  {
   "cell_type": "markdown",
   "id": "91111d63-d43a-4098-b91e-e4398ebed060",
   "metadata": {},
   "source": [
    "The upper bounds consists of hourly generation, demand, and transmission capacity constraints:"
   ]
  },
  {
   "cell_type": "markdown",
   "id": "febed756-870d-41b3-af3d-ae8e6275e24d",
   "metadata": {},
   "source": [
    "<img src=\"snippets/mBasicTrade_snippet2.png\" width=\"1200\" height=\"400\">"
   ]
  },
  {
   "cell_type": "markdown",
   "id": "d231f8f1-7a02-4fbf-8787-dade7d29d239",
   "metadata": {},
   "source": [
    "The two methods ```self.hourlyGeneratingCapacity``` and ```self.hourlyLoad``` are specified elsewhere in the class. This is very similar to the restrictions for the model ```mBasicInt```."
   ]
  },
  {
   "cell_type": "markdown",
   "id": "3d9fa867-775d-43e9-9c71-856f7df4d4d8",
   "metadata": {
    "tags": []
   },
   "source": [
    "#### 2.3. Constants in equality constraints $b_{eq}$:\n",
    "Consists of zeros for each equilibrium constraint (defined for each $h,g$)"
   ]
  },
  {
   "cell_type": "markdown",
   "id": "bb060a1a-9f3e-40c3-b80e-229eceb54963",
   "metadata": {},
   "source": [
    "<img src=\"snippets/mBasicInt_snippet3.png\" width=\"900\" height=\"400\">"
   ]
  },
  {
   "cell_type": "markdown",
   "id": "6ad7f8ad-5b7e-4254-9cad-9c5103d6e3ae",
   "metadata": {},
   "source": [
    "Note that we use the same trick here as we did with the $c$ coefficient: In ```self.globalDomains``` we have specified that the ```equilibrium``` constraint is defined over the sets ```h_alias``` and ```g_alias2``` (aliases of $h,g$; a copy with a separate identifier). Thus, when we add a parameter with ```None``` as here, we automatically broadcast this as a vector of zeros."
   ]
  },
  {
   "cell_type": "code",
   "execution_count": 7,
   "id": "eb65f354-3da4-4af1-9d63-1f99f0cd8cd5",
   "metadata": {},
   "outputs": [
    {
     "data": {
      "text/plain": [
       "g_alias2  h_alias\n",
       "g1        1          0\n",
       "          2          0\n",
       "          3          0\n",
       "          4          0\n",
       "g2        1          0\n",
       "          2          0\n",
       "          3          0\n",
       "          4          0\n",
       "Name: 0, dtype: int64"
      ]
     },
     "execution_count": 7,
     "metadata": {},
     "output_type": "execute_result"
    }
   ],
   "source": [
    "m.blocks.get(('eq','b','equilibrium'))"
   ]
  },
  {
   "cell_type": "markdown",
   "id": "53d434b4-b8d7-4e60-805d-af0b2d9ef638",
   "metadata": {
    "tags": []
   },
   "source": [
    "#### 2.4. Coefficients in equality constraints $A_{eq}$:"
   ]
  },
  {
   "cell_type": "markdown",
   "id": "6a2a2897-77a6-4a41-acc2-722af37dcc44",
   "metadata": {},
   "source": [
    "The coefficients in the equilibrium constraint are starting to become quite a block. The equilibrium constrained is defined over the sets ```g_alias2, h_alias``` aliases for $g,h$. All three variables (```Generation```, ```HourlyDemand```, ```Transmission```) enters the equilibrium - and they are all defined over $h,g$ as well. So, let us take them one at a time."
   ]
  },
  {
   "cell_type": "markdown",
   "id": "f05ce734-8d55-4f44-8a8d-9e5d202e9d6d",
   "metadata": {},
   "source": [
    "<img src=\"snippets/mBasicTrade_snippet3.png\" width=\"1500\" height=\"600\">"
   ]
  },
  {
   "cell_type": "markdown",
   "id": "cd1e663c-80b7-4e74-8318-5adba177e38b",
   "metadata": {},
   "source": [
    "**Generation:** \n",
    "\n",
    "We start by creating a vector of $1$ defined over the domains of ```Generation``` variable. Next, we use the ```appIndexWithCopySeries``` method which adds new index levels that are copies of existing levels. So, in this case, the sets $(g,h)$ are repeated and given the new aliased names:"
   ]
  },
  {
   "cell_type": "code",
   "execution_count": 8,
   "id": "cebef53b-0c27-4094-90b1-1c342ffb2f71",
   "metadata": {
    "scrolled": true,
    "tags": []
   },
   "outputs": [
    {
     "data": {
      "text/plain": [
       "id   g   h  g_alias2  h_alias\n",
       "id1  g1  1  g1        1          1\n",
       "         2  g1        2          1\n",
       "         3  g1        3          1\n",
       "         4  g1        4          1\n",
       "id2  g1  1  g1        1          1\n",
       "         2  g1        2          1\n",
       "         3  g1        3          1\n",
       "         4  g1        4          1\n",
       "id3  g1  1  g1        1          1\n",
       "         2  g1        2          1\n",
       "         3  g1        3          1\n",
       "         4  g1        4          1\n",
       "id4  g1  1  g1        1          1\n",
       "         2  g1        2          1\n",
       "         3  g1        3          1\n",
       "         4  g1        4          1\n",
       "id5  g2  1  g2        1          1\n",
       "         2  g2        2          1\n",
       "         3  g2        3          1\n",
       "         4  g2        4          1\n",
       "id6  g2  1  g2        1          1\n",
       "         2  g2        2          1\n",
       "         3  g2        3          1\n",
       "         4  g2        4          1\n",
       "dtype: int64"
      ]
     },
     "execution_count": 8,
     "metadata": {},
     "output_type": "execute_result"
    }
   ],
   "source": [
    "generation = mBasicTrade.appIndexWithCopySeries(pd.Series(1, index = m.globalDomains['Generation']), ['g','h'], ['g_alias2','h_alias']) # Note that h = h_alias and g=g_alias2\n",
    "generation"
   ]
  },
  {
   "cell_type": "markdown",
   "id": "a18e1e1d-9c1d-4e83-ad28-6d3b7ba0014d",
   "metadata": {},
   "source": [
    "The point of this is that when we construct the matrix $A$, we can use the ```unstack``` method on the indices on the constraint, and we automatically have the right matrix. So, the ```lpCompiler``` class will essentially do something like this:"
   ]
  },
  {
   "cell_type": "code",
   "execution_count": 9,
   "id": "401d2613-3c9c-4385-b45f-28b807bdf91e",
   "metadata": {
    "scrolled": true,
    "tags": []
   },
   "outputs": [
    {
     "data": {
      "text/html": [
       "<div>\n",
       "<style scoped>\n",
       "    .dataframe tbody tr th:only-of-type {\n",
       "        vertical-align: middle;\n",
       "    }\n",
       "\n",
       "    .dataframe tbody tr th {\n",
       "        vertical-align: top;\n",
       "    }\n",
       "\n",
       "    .dataframe thead tr th {\n",
       "        text-align: left;\n",
       "    }\n",
       "\n",
       "    .dataframe thead tr:last-of-type th {\n",
       "        text-align: right;\n",
       "    }\n",
       "</style>\n",
       "<table border=\"1\" class=\"dataframe\">\n",
       "  <thead>\n",
       "    <tr>\n",
       "      <th></th>\n",
       "      <th></th>\n",
       "      <th>g_alias2</th>\n",
       "      <th colspan=\"4\" halign=\"left\">g1</th>\n",
       "      <th colspan=\"4\" halign=\"left\">g2</th>\n",
       "    </tr>\n",
       "    <tr>\n",
       "      <th></th>\n",
       "      <th></th>\n",
       "      <th>h_alias</th>\n",
       "      <th>1</th>\n",
       "      <th>2</th>\n",
       "      <th>3</th>\n",
       "      <th>4</th>\n",
       "      <th>1</th>\n",
       "      <th>2</th>\n",
       "      <th>3</th>\n",
       "      <th>4</th>\n",
       "    </tr>\n",
       "    <tr>\n",
       "      <th>id</th>\n",
       "      <th>g</th>\n",
       "      <th>h</th>\n",
       "      <th></th>\n",
       "      <th></th>\n",
       "      <th></th>\n",
       "      <th></th>\n",
       "      <th></th>\n",
       "      <th></th>\n",
       "      <th></th>\n",
       "      <th></th>\n",
       "    </tr>\n",
       "  </thead>\n",
       "  <tbody>\n",
       "    <tr>\n",
       "      <th rowspan=\"4\" valign=\"top\">id1</th>\n",
       "      <th rowspan=\"4\" valign=\"top\">g1</th>\n",
       "      <th>1</th>\n",
       "      <td>1.0</td>\n",
       "      <td>0.0</td>\n",
       "      <td>0.0</td>\n",
       "      <td>0.0</td>\n",
       "      <td>0.0</td>\n",
       "      <td>0.0</td>\n",
       "      <td>0.0</td>\n",
       "      <td>0.0</td>\n",
       "    </tr>\n",
       "    <tr>\n",
       "      <th>2</th>\n",
       "      <td>0.0</td>\n",
       "      <td>1.0</td>\n",
       "      <td>0.0</td>\n",
       "      <td>0.0</td>\n",
       "      <td>0.0</td>\n",
       "      <td>0.0</td>\n",
       "      <td>0.0</td>\n",
       "      <td>0.0</td>\n",
       "    </tr>\n",
       "    <tr>\n",
       "      <th>3</th>\n",
       "      <td>0.0</td>\n",
       "      <td>0.0</td>\n",
       "      <td>1.0</td>\n",
       "      <td>0.0</td>\n",
       "      <td>0.0</td>\n",
       "      <td>0.0</td>\n",
       "      <td>0.0</td>\n",
       "      <td>0.0</td>\n",
       "    </tr>\n",
       "    <tr>\n",
       "      <th>4</th>\n",
       "      <td>0.0</td>\n",
       "      <td>0.0</td>\n",
       "      <td>0.0</td>\n",
       "      <td>1.0</td>\n",
       "      <td>0.0</td>\n",
       "      <td>0.0</td>\n",
       "      <td>0.0</td>\n",
       "      <td>0.0</td>\n",
       "    </tr>\n",
       "    <tr>\n",
       "      <th rowspan=\"4\" valign=\"top\">id2</th>\n",
       "      <th rowspan=\"4\" valign=\"top\">g1</th>\n",
       "      <th>1</th>\n",
       "      <td>1.0</td>\n",
       "      <td>0.0</td>\n",
       "      <td>0.0</td>\n",
       "      <td>0.0</td>\n",
       "      <td>0.0</td>\n",
       "      <td>0.0</td>\n",
       "      <td>0.0</td>\n",
       "      <td>0.0</td>\n",
       "    </tr>\n",
       "    <tr>\n",
       "      <th>2</th>\n",
       "      <td>0.0</td>\n",
       "      <td>1.0</td>\n",
       "      <td>0.0</td>\n",
       "      <td>0.0</td>\n",
       "      <td>0.0</td>\n",
       "      <td>0.0</td>\n",
       "      <td>0.0</td>\n",
       "      <td>0.0</td>\n",
       "    </tr>\n",
       "    <tr>\n",
       "      <th>3</th>\n",
       "      <td>0.0</td>\n",
       "      <td>0.0</td>\n",
       "      <td>1.0</td>\n",
       "      <td>0.0</td>\n",
       "      <td>0.0</td>\n",
       "      <td>0.0</td>\n",
       "      <td>0.0</td>\n",
       "      <td>0.0</td>\n",
       "    </tr>\n",
       "    <tr>\n",
       "      <th>4</th>\n",
       "      <td>0.0</td>\n",
       "      <td>0.0</td>\n",
       "      <td>0.0</td>\n",
       "      <td>1.0</td>\n",
       "      <td>0.0</td>\n",
       "      <td>0.0</td>\n",
       "      <td>0.0</td>\n",
       "      <td>0.0</td>\n",
       "    </tr>\n",
       "    <tr>\n",
       "      <th rowspan=\"4\" valign=\"top\">id3</th>\n",
       "      <th rowspan=\"4\" valign=\"top\">g1</th>\n",
       "      <th>1</th>\n",
       "      <td>1.0</td>\n",
       "      <td>0.0</td>\n",
       "      <td>0.0</td>\n",
       "      <td>0.0</td>\n",
       "      <td>0.0</td>\n",
       "      <td>0.0</td>\n",
       "      <td>0.0</td>\n",
       "      <td>0.0</td>\n",
       "    </tr>\n",
       "    <tr>\n",
       "      <th>2</th>\n",
       "      <td>0.0</td>\n",
       "      <td>1.0</td>\n",
       "      <td>0.0</td>\n",
       "      <td>0.0</td>\n",
       "      <td>0.0</td>\n",
       "      <td>0.0</td>\n",
       "      <td>0.0</td>\n",
       "      <td>0.0</td>\n",
       "    </tr>\n",
       "    <tr>\n",
       "      <th>3</th>\n",
       "      <td>0.0</td>\n",
       "      <td>0.0</td>\n",
       "      <td>1.0</td>\n",
       "      <td>0.0</td>\n",
       "      <td>0.0</td>\n",
       "      <td>0.0</td>\n",
       "      <td>0.0</td>\n",
       "      <td>0.0</td>\n",
       "    </tr>\n",
       "    <tr>\n",
       "      <th>4</th>\n",
       "      <td>0.0</td>\n",
       "      <td>0.0</td>\n",
       "      <td>0.0</td>\n",
       "      <td>1.0</td>\n",
       "      <td>0.0</td>\n",
       "      <td>0.0</td>\n",
       "      <td>0.0</td>\n",
       "      <td>0.0</td>\n",
       "    </tr>\n",
       "    <tr>\n",
       "      <th rowspan=\"4\" valign=\"top\">id4</th>\n",
       "      <th rowspan=\"4\" valign=\"top\">g1</th>\n",
       "      <th>1</th>\n",
       "      <td>1.0</td>\n",
       "      <td>0.0</td>\n",
       "      <td>0.0</td>\n",
       "      <td>0.0</td>\n",
       "      <td>0.0</td>\n",
       "      <td>0.0</td>\n",
       "      <td>0.0</td>\n",
       "      <td>0.0</td>\n",
       "    </tr>\n",
       "    <tr>\n",
       "      <th>2</th>\n",
       "      <td>0.0</td>\n",
       "      <td>1.0</td>\n",
       "      <td>0.0</td>\n",
       "      <td>0.0</td>\n",
       "      <td>0.0</td>\n",
       "      <td>0.0</td>\n",
       "      <td>0.0</td>\n",
       "      <td>0.0</td>\n",
       "    </tr>\n",
       "    <tr>\n",
       "      <th>3</th>\n",
       "      <td>0.0</td>\n",
       "      <td>0.0</td>\n",
       "      <td>1.0</td>\n",
       "      <td>0.0</td>\n",
       "      <td>0.0</td>\n",
       "      <td>0.0</td>\n",
       "      <td>0.0</td>\n",
       "      <td>0.0</td>\n",
       "    </tr>\n",
       "    <tr>\n",
       "      <th>4</th>\n",
       "      <td>0.0</td>\n",
       "      <td>0.0</td>\n",
       "      <td>0.0</td>\n",
       "      <td>1.0</td>\n",
       "      <td>0.0</td>\n",
       "      <td>0.0</td>\n",
       "      <td>0.0</td>\n",
       "      <td>0.0</td>\n",
       "    </tr>\n",
       "    <tr>\n",
       "      <th rowspan=\"4\" valign=\"top\">id5</th>\n",
       "      <th rowspan=\"4\" valign=\"top\">g2</th>\n",
       "      <th>1</th>\n",
       "      <td>0.0</td>\n",
       "      <td>0.0</td>\n",
       "      <td>0.0</td>\n",
       "      <td>0.0</td>\n",
       "      <td>1.0</td>\n",
       "      <td>0.0</td>\n",
       "      <td>0.0</td>\n",
       "      <td>0.0</td>\n",
       "    </tr>\n",
       "    <tr>\n",
       "      <th>2</th>\n",
       "      <td>0.0</td>\n",
       "      <td>0.0</td>\n",
       "      <td>0.0</td>\n",
       "      <td>0.0</td>\n",
       "      <td>0.0</td>\n",
       "      <td>1.0</td>\n",
       "      <td>0.0</td>\n",
       "      <td>0.0</td>\n",
       "    </tr>\n",
       "    <tr>\n",
       "      <th>3</th>\n",
       "      <td>0.0</td>\n",
       "      <td>0.0</td>\n",
       "      <td>0.0</td>\n",
       "      <td>0.0</td>\n",
       "      <td>0.0</td>\n",
       "      <td>0.0</td>\n",
       "      <td>1.0</td>\n",
       "      <td>0.0</td>\n",
       "    </tr>\n",
       "    <tr>\n",
       "      <th>4</th>\n",
       "      <td>0.0</td>\n",
       "      <td>0.0</td>\n",
       "      <td>0.0</td>\n",
       "      <td>0.0</td>\n",
       "      <td>0.0</td>\n",
       "      <td>0.0</td>\n",
       "      <td>0.0</td>\n",
       "      <td>1.0</td>\n",
       "    </tr>\n",
       "    <tr>\n",
       "      <th rowspan=\"4\" valign=\"top\">id6</th>\n",
       "      <th rowspan=\"4\" valign=\"top\">g2</th>\n",
       "      <th>1</th>\n",
       "      <td>0.0</td>\n",
       "      <td>0.0</td>\n",
       "      <td>0.0</td>\n",
       "      <td>0.0</td>\n",
       "      <td>1.0</td>\n",
       "      <td>0.0</td>\n",
       "      <td>0.0</td>\n",
       "      <td>0.0</td>\n",
       "    </tr>\n",
       "    <tr>\n",
       "      <th>2</th>\n",
       "      <td>0.0</td>\n",
       "      <td>0.0</td>\n",
       "      <td>0.0</td>\n",
       "      <td>0.0</td>\n",
       "      <td>0.0</td>\n",
       "      <td>1.0</td>\n",
       "      <td>0.0</td>\n",
       "      <td>0.0</td>\n",
       "    </tr>\n",
       "    <tr>\n",
       "      <th>3</th>\n",
       "      <td>0.0</td>\n",
       "      <td>0.0</td>\n",
       "      <td>0.0</td>\n",
       "      <td>0.0</td>\n",
       "      <td>0.0</td>\n",
       "      <td>0.0</td>\n",
       "      <td>1.0</td>\n",
       "      <td>0.0</td>\n",
       "    </tr>\n",
       "    <tr>\n",
       "      <th>4</th>\n",
       "      <td>0.0</td>\n",
       "      <td>0.0</td>\n",
       "      <td>0.0</td>\n",
       "      <td>0.0</td>\n",
       "      <td>0.0</td>\n",
       "      <td>0.0</td>\n",
       "      <td>0.0</td>\n",
       "      <td>1.0</td>\n",
       "    </tr>\n",
       "  </tbody>\n",
       "</table>\n",
       "</div>"
      ],
      "text/plain": [
       "g_alias2   g1                  g2               \n",
       "h_alias     1    2    3    4    1    2    3    4\n",
       "id  g  h                                        \n",
       "id1 g1 1  1.0  0.0  0.0  0.0  0.0  0.0  0.0  0.0\n",
       "       2  0.0  1.0  0.0  0.0  0.0  0.0  0.0  0.0\n",
       "       3  0.0  0.0  1.0  0.0  0.0  0.0  0.0  0.0\n",
       "       4  0.0  0.0  0.0  1.0  0.0  0.0  0.0  0.0\n",
       "id2 g1 1  1.0  0.0  0.0  0.0  0.0  0.0  0.0  0.0\n",
       "       2  0.0  1.0  0.0  0.0  0.0  0.0  0.0  0.0\n",
       "       3  0.0  0.0  1.0  0.0  0.0  0.0  0.0  0.0\n",
       "       4  0.0  0.0  0.0  1.0  0.0  0.0  0.0  0.0\n",
       "id3 g1 1  1.0  0.0  0.0  0.0  0.0  0.0  0.0  0.0\n",
       "       2  0.0  1.0  0.0  0.0  0.0  0.0  0.0  0.0\n",
       "       3  0.0  0.0  1.0  0.0  0.0  0.0  0.0  0.0\n",
       "       4  0.0  0.0  0.0  1.0  0.0  0.0  0.0  0.0\n",
       "id4 g1 1  1.0  0.0  0.0  0.0  0.0  0.0  0.0  0.0\n",
       "       2  0.0  1.0  0.0  0.0  0.0  0.0  0.0  0.0\n",
       "       3  0.0  0.0  1.0  0.0  0.0  0.0  0.0  0.0\n",
       "       4  0.0  0.0  0.0  1.0  0.0  0.0  0.0  0.0\n",
       "id5 g2 1  0.0  0.0  0.0  0.0  1.0  0.0  0.0  0.0\n",
       "       2  0.0  0.0  0.0  0.0  0.0  1.0  0.0  0.0\n",
       "       3  0.0  0.0  0.0  0.0  0.0  0.0  1.0  0.0\n",
       "       4  0.0  0.0  0.0  0.0  0.0  0.0  0.0  1.0\n",
       "id6 g2 1  0.0  0.0  0.0  0.0  1.0  0.0  0.0  0.0\n",
       "       2  0.0  0.0  0.0  0.0  0.0  1.0  0.0  0.0\n",
       "       3  0.0  0.0  0.0  0.0  0.0  0.0  1.0  0.0\n",
       "       4  0.0  0.0  0.0  0.0  0.0  0.0  0.0  1.0"
      ]
     },
     "execution_count": 9,
     "metadata": {},
     "output_type": "execute_result"
    }
   ],
   "source": [
    "generation.unstack(m.globalDomains['equilibrium'].names).fillna(0)"
   ]
  },
  {
   "cell_type": "markdown",
   "id": "37fdf275-2a13-451f-a12f-dc2edeb581b0",
   "metadata": {},
   "source": [
    "Note that this has $1$ in the diagonal where ```h=h_alias``` and ```g=g_alias2``` and zeros elsewhere."
   ]
  },
  {
   "cell_type": "markdown",
   "id": "940c4342-fd2f-42c5-8767-bf34c94a5729",
   "metadata": {},
   "source": [
    "**HourlyDemand:** \n",
    "\n",
    "We start by creating a vector of $-1$ defined over the domains of ```HourlyDemand``` variable. Next, we use the ```appIndexWithCopySeries``` method which adds new index levels that are copies of existing levels. So, in this case, the sets $(g,h)$ are repeated and given the new aliased names:"
   ]
  },
  {
   "cell_type": "code",
   "execution_count": 10,
   "id": "372b6b44-b2d0-4d87-bbab-cfc0a82a2e2f",
   "metadata": {
    "scrolled": true,
    "tags": []
   },
   "outputs": [
    {
     "data": {
      "text/plain": [
       "g   h  g_alias2  h_alias\n",
       "g1  1  g1        1         -1\n",
       "    2  g1        2         -1\n",
       "    3  g1        3         -1\n",
       "    4  g1        4         -1\n",
       "g2  1  g2        1         -1\n",
       "    2  g2        2         -1\n",
       "    3  g2        3         -1\n",
       "    4  g2        4         -1\n",
       "dtype: int64"
      ]
     },
     "execution_count": 10,
     "metadata": {},
     "output_type": "execute_result"
    }
   ],
   "source": [
    "demand = mBasicTrade.appIndexWithCopySeries(pd.Series(-1, index = m.globalDomains['HourlyDemand']), ['g','h'], ['g_alias2','h_alias']) # Note that h = h_alias and g=g_alias2\n",
    "demand"
   ]
  },
  {
   "cell_type": "markdown",
   "id": "fe034bed-1bba-43e0-b7e2-f96de688a958",
   "metadata": {},
   "source": [
    "Similarly, as with the ```Generation``` variable, we use the ```unstack``` method when we create the $A$ matrix in the linear program. So, the ```lpCompiler``` class will essentially do something like this:"
   ]
  },
  {
   "cell_type": "code",
   "execution_count": 11,
   "id": "67becf66-6109-4cd1-9fbe-f221240728b7",
   "metadata": {
    "scrolled": true,
    "tags": []
   },
   "outputs": [
    {
     "data": {
      "text/html": [
       "<div>\n",
       "<style scoped>\n",
       "    .dataframe tbody tr th:only-of-type {\n",
       "        vertical-align: middle;\n",
       "    }\n",
       "\n",
       "    .dataframe tbody tr th {\n",
       "        vertical-align: top;\n",
       "    }\n",
       "\n",
       "    .dataframe thead tr th {\n",
       "        text-align: left;\n",
       "    }\n",
       "\n",
       "    .dataframe thead tr:last-of-type th {\n",
       "        text-align: right;\n",
       "    }\n",
       "</style>\n",
       "<table border=\"1\" class=\"dataframe\">\n",
       "  <thead>\n",
       "    <tr>\n",
       "      <th></th>\n",
       "      <th>g_alias2</th>\n",
       "      <th colspan=\"4\" halign=\"left\">g1</th>\n",
       "      <th colspan=\"4\" halign=\"left\">g2</th>\n",
       "    </tr>\n",
       "    <tr>\n",
       "      <th></th>\n",
       "      <th>h_alias</th>\n",
       "      <th>1</th>\n",
       "      <th>2</th>\n",
       "      <th>3</th>\n",
       "      <th>4</th>\n",
       "      <th>1</th>\n",
       "      <th>2</th>\n",
       "      <th>3</th>\n",
       "      <th>4</th>\n",
       "    </tr>\n",
       "    <tr>\n",
       "      <th>g</th>\n",
       "      <th>h</th>\n",
       "      <th></th>\n",
       "      <th></th>\n",
       "      <th></th>\n",
       "      <th></th>\n",
       "      <th></th>\n",
       "      <th></th>\n",
       "      <th></th>\n",
       "      <th></th>\n",
       "    </tr>\n",
       "  </thead>\n",
       "  <tbody>\n",
       "    <tr>\n",
       "      <th rowspan=\"4\" valign=\"top\">g1</th>\n",
       "      <th>1</th>\n",
       "      <td>-1.0</td>\n",
       "      <td>0.0</td>\n",
       "      <td>0.0</td>\n",
       "      <td>0.0</td>\n",
       "      <td>0.0</td>\n",
       "      <td>0.0</td>\n",
       "      <td>0.0</td>\n",
       "      <td>0.0</td>\n",
       "    </tr>\n",
       "    <tr>\n",
       "      <th>2</th>\n",
       "      <td>0.0</td>\n",
       "      <td>-1.0</td>\n",
       "      <td>0.0</td>\n",
       "      <td>0.0</td>\n",
       "      <td>0.0</td>\n",
       "      <td>0.0</td>\n",
       "      <td>0.0</td>\n",
       "      <td>0.0</td>\n",
       "    </tr>\n",
       "    <tr>\n",
       "      <th>3</th>\n",
       "      <td>0.0</td>\n",
       "      <td>0.0</td>\n",
       "      <td>-1.0</td>\n",
       "      <td>0.0</td>\n",
       "      <td>0.0</td>\n",
       "      <td>0.0</td>\n",
       "      <td>0.0</td>\n",
       "      <td>0.0</td>\n",
       "    </tr>\n",
       "    <tr>\n",
       "      <th>4</th>\n",
       "      <td>0.0</td>\n",
       "      <td>0.0</td>\n",
       "      <td>0.0</td>\n",
       "      <td>-1.0</td>\n",
       "      <td>0.0</td>\n",
       "      <td>0.0</td>\n",
       "      <td>0.0</td>\n",
       "      <td>0.0</td>\n",
       "    </tr>\n",
       "    <tr>\n",
       "      <th rowspan=\"4\" valign=\"top\">g2</th>\n",
       "      <th>1</th>\n",
       "      <td>0.0</td>\n",
       "      <td>0.0</td>\n",
       "      <td>0.0</td>\n",
       "      <td>0.0</td>\n",
       "      <td>-1.0</td>\n",
       "      <td>0.0</td>\n",
       "      <td>0.0</td>\n",
       "      <td>0.0</td>\n",
       "    </tr>\n",
       "    <tr>\n",
       "      <th>2</th>\n",
       "      <td>0.0</td>\n",
       "      <td>0.0</td>\n",
       "      <td>0.0</td>\n",
       "      <td>0.0</td>\n",
       "      <td>0.0</td>\n",
       "      <td>-1.0</td>\n",
       "      <td>0.0</td>\n",
       "      <td>0.0</td>\n",
       "    </tr>\n",
       "    <tr>\n",
       "      <th>3</th>\n",
       "      <td>0.0</td>\n",
       "      <td>0.0</td>\n",
       "      <td>0.0</td>\n",
       "      <td>0.0</td>\n",
       "      <td>0.0</td>\n",
       "      <td>0.0</td>\n",
       "      <td>-1.0</td>\n",
       "      <td>0.0</td>\n",
       "    </tr>\n",
       "    <tr>\n",
       "      <th>4</th>\n",
       "      <td>0.0</td>\n",
       "      <td>0.0</td>\n",
       "      <td>0.0</td>\n",
       "      <td>0.0</td>\n",
       "      <td>0.0</td>\n",
       "      <td>0.0</td>\n",
       "      <td>0.0</td>\n",
       "      <td>-1.0</td>\n",
       "    </tr>\n",
       "  </tbody>\n",
       "</table>\n",
       "</div>"
      ],
      "text/plain": [
       "g_alias2   g1                  g2               \n",
       "h_alias     1    2    3    4    1    2    3    4\n",
       "g  h                                            \n",
       "g1 1     -1.0  0.0  0.0  0.0  0.0  0.0  0.0  0.0\n",
       "   2      0.0 -1.0  0.0  0.0  0.0  0.0  0.0  0.0\n",
       "   3      0.0  0.0 -1.0  0.0  0.0  0.0  0.0  0.0\n",
       "   4      0.0  0.0  0.0 -1.0  0.0  0.0  0.0  0.0\n",
       "g2 1      0.0  0.0  0.0  0.0 -1.0  0.0  0.0  0.0\n",
       "   2      0.0  0.0  0.0  0.0  0.0 -1.0  0.0  0.0\n",
       "   3      0.0  0.0  0.0  0.0  0.0  0.0 -1.0  0.0\n",
       "   4      0.0  0.0  0.0  0.0  0.0  0.0  0.0 -1.0"
      ]
     },
     "execution_count": 11,
     "metadata": {},
     "output_type": "execute_result"
    }
   ],
   "source": [
    "demand.unstack(m.globalDomains['equilibrium'].names).fillna(0)"
   ]
  },
  {
   "cell_type": "markdown",
   "id": "66296072-a1a2-47b3-ba37-14e7b9333232",
   "metadata": {},
   "source": [
    "**Transmission:** \n",
    "\n",
    "This is by far the most tricky part to add, in particular because we have to subtract $x_{l,h}$ and add $(1-\\text{ll})x_{l',h}$ where $l' = (g',g)$. So, let us start by subtract $x_{l,h}$: This is essentially done as with the other variables:"
   ]
  },
  {
   "cell_type": "code",
   "execution_count": 12,
   "id": "b5e74ed4-8998-4caf-8468-716ce242ba47",
   "metadata": {
    "scrolled": true,
    "tags": []
   },
   "outputs": [
    {
     "data": {
      "text/plain": [
       "g   g_alias  h  g_alias2  h_alias\n",
       "g1  g2       1  g1        1         -1\n",
       "             2  g1        2         -1\n",
       "             3  g1        3         -1\n",
       "             4  g1        4         -1\n",
       "g2  g1       1  g2        1         -1\n",
       "             2  g2        2         -1\n",
       "             3  g2        3         -1\n",
       "             4  g2        4         -1\n",
       "dtype: int64"
      ]
     },
     "execution_count": 12,
     "metadata": {},
     "output_type": "execute_result"
    }
   ],
   "source": [
    "transmission_1 = mBasicTrade.appIndexWithCopySeries(pd.Series(-1, index = m.globalDomains['Transmission']), ['g','h'], ['g_alias2','h_alias']) # Note that h = h_alias and g=g_alias2\n",
    "transmission_1"
   ]
  },
  {
   "cell_type": "markdown",
   "id": "e222a99b-c325-46b7-89bc-d6499c6d3ed2",
   "metadata": {},
   "source": [
    "When this is unstacked (like we did earlier), this adds a -1 in the diagonal:"
   ]
  },
  {
   "cell_type": "code",
   "execution_count": 13,
   "id": "d641235b-77fc-47b7-a688-651bb2741b50",
   "metadata": {
    "scrolled": true,
    "tags": []
   },
   "outputs": [
    {
     "data": {
      "text/html": [
       "<div>\n",
       "<style scoped>\n",
       "    .dataframe tbody tr th:only-of-type {\n",
       "        vertical-align: middle;\n",
       "    }\n",
       "\n",
       "    .dataframe tbody tr th {\n",
       "        vertical-align: top;\n",
       "    }\n",
       "\n",
       "    .dataframe thead tr th {\n",
       "        text-align: left;\n",
       "    }\n",
       "\n",
       "    .dataframe thead tr:last-of-type th {\n",
       "        text-align: right;\n",
       "    }\n",
       "</style>\n",
       "<table border=\"1\" class=\"dataframe\">\n",
       "  <thead>\n",
       "    <tr>\n",
       "      <th></th>\n",
       "      <th></th>\n",
       "      <th>g_alias2</th>\n",
       "      <th colspan=\"4\" halign=\"left\">g1</th>\n",
       "      <th colspan=\"4\" halign=\"left\">g2</th>\n",
       "    </tr>\n",
       "    <tr>\n",
       "      <th></th>\n",
       "      <th></th>\n",
       "      <th>h_alias</th>\n",
       "      <th>1</th>\n",
       "      <th>2</th>\n",
       "      <th>3</th>\n",
       "      <th>4</th>\n",
       "      <th>1</th>\n",
       "      <th>2</th>\n",
       "      <th>3</th>\n",
       "      <th>4</th>\n",
       "    </tr>\n",
       "    <tr>\n",
       "      <th>g</th>\n",
       "      <th>g_alias</th>\n",
       "      <th>h</th>\n",
       "      <th></th>\n",
       "      <th></th>\n",
       "      <th></th>\n",
       "      <th></th>\n",
       "      <th></th>\n",
       "      <th></th>\n",
       "      <th></th>\n",
       "      <th></th>\n",
       "    </tr>\n",
       "  </thead>\n",
       "  <tbody>\n",
       "    <tr>\n",
       "      <th rowspan=\"4\" valign=\"top\">g1</th>\n",
       "      <th rowspan=\"4\" valign=\"top\">g2</th>\n",
       "      <th>1</th>\n",
       "      <td>-1.0</td>\n",
       "      <td>0.0</td>\n",
       "      <td>0.0</td>\n",
       "      <td>0.0</td>\n",
       "      <td>0.0</td>\n",
       "      <td>0.0</td>\n",
       "      <td>0.0</td>\n",
       "      <td>0.0</td>\n",
       "    </tr>\n",
       "    <tr>\n",
       "      <th>2</th>\n",
       "      <td>0.0</td>\n",
       "      <td>-1.0</td>\n",
       "      <td>0.0</td>\n",
       "      <td>0.0</td>\n",
       "      <td>0.0</td>\n",
       "      <td>0.0</td>\n",
       "      <td>0.0</td>\n",
       "      <td>0.0</td>\n",
       "    </tr>\n",
       "    <tr>\n",
       "      <th>3</th>\n",
       "      <td>0.0</td>\n",
       "      <td>0.0</td>\n",
       "      <td>-1.0</td>\n",
       "      <td>0.0</td>\n",
       "      <td>0.0</td>\n",
       "      <td>0.0</td>\n",
       "      <td>0.0</td>\n",
       "      <td>0.0</td>\n",
       "    </tr>\n",
       "    <tr>\n",
       "      <th>4</th>\n",
       "      <td>0.0</td>\n",
       "      <td>0.0</td>\n",
       "      <td>0.0</td>\n",
       "      <td>-1.0</td>\n",
       "      <td>0.0</td>\n",
       "      <td>0.0</td>\n",
       "      <td>0.0</td>\n",
       "      <td>0.0</td>\n",
       "    </tr>\n",
       "    <tr>\n",
       "      <th rowspan=\"4\" valign=\"top\">g2</th>\n",
       "      <th rowspan=\"4\" valign=\"top\">g1</th>\n",
       "      <th>1</th>\n",
       "      <td>0.0</td>\n",
       "      <td>0.0</td>\n",
       "      <td>0.0</td>\n",
       "      <td>0.0</td>\n",
       "      <td>-1.0</td>\n",
       "      <td>0.0</td>\n",
       "      <td>0.0</td>\n",
       "      <td>0.0</td>\n",
       "    </tr>\n",
       "    <tr>\n",
       "      <th>2</th>\n",
       "      <td>0.0</td>\n",
       "      <td>0.0</td>\n",
       "      <td>0.0</td>\n",
       "      <td>0.0</td>\n",
       "      <td>0.0</td>\n",
       "      <td>-1.0</td>\n",
       "      <td>0.0</td>\n",
       "      <td>0.0</td>\n",
       "    </tr>\n",
       "    <tr>\n",
       "      <th>3</th>\n",
       "      <td>0.0</td>\n",
       "      <td>0.0</td>\n",
       "      <td>0.0</td>\n",
       "      <td>0.0</td>\n",
       "      <td>0.0</td>\n",
       "      <td>0.0</td>\n",
       "      <td>-1.0</td>\n",
       "      <td>0.0</td>\n",
       "    </tr>\n",
       "    <tr>\n",
       "      <th>4</th>\n",
       "      <td>0.0</td>\n",
       "      <td>0.0</td>\n",
       "      <td>0.0</td>\n",
       "      <td>0.0</td>\n",
       "      <td>0.0</td>\n",
       "      <td>0.0</td>\n",
       "      <td>0.0</td>\n",
       "      <td>-1.0</td>\n",
       "    </tr>\n",
       "  </tbody>\n",
       "</table>\n",
       "</div>"
      ],
      "text/plain": [
       "g_alias2       g1                  g2               \n",
       "h_alias         1    2    3    4    1    2    3    4\n",
       "g  g_alias h                                        \n",
       "g1 g2      1 -1.0  0.0  0.0  0.0  0.0  0.0  0.0  0.0\n",
       "           2  0.0 -1.0  0.0  0.0  0.0  0.0  0.0  0.0\n",
       "           3  0.0  0.0 -1.0  0.0  0.0  0.0  0.0  0.0\n",
       "           4  0.0  0.0  0.0 -1.0  0.0  0.0  0.0  0.0\n",
       "g2 g1      1  0.0  0.0  0.0  0.0 -1.0  0.0  0.0  0.0\n",
       "           2  0.0  0.0  0.0  0.0  0.0 -1.0  0.0  0.0\n",
       "           3  0.0  0.0  0.0  0.0  0.0  0.0 -1.0  0.0\n",
       "           4  0.0  0.0  0.0  0.0  0.0  0.0  0.0 -1.0"
      ]
     },
     "execution_count": 13,
     "metadata": {},
     "output_type": "execute_result"
    }
   ],
   "source": [
    "transmission_1.unstack(m.globalDomains['equilibrium'].names).fillna(0)"
   ]
  },
  {
   "cell_type": "markdown",
   "id": "aeb25862-5b79-423f-8963-1c1ebcc6bcea",
   "metadata": {},
   "source": [
    "Note that if there are more than two areas, this would create $-1$ for all ```g_alias``` as long as ```g = g_alias2```."
   ]
  },
  {
   "cell_type": "markdown",
   "id": "d933184b-19bd-4cd6-a655-65d7bcf48240",
   "metadata": {},
   "source": [
    "The second part, $(1-\\text{ll})\\cdot x_{l',h}$, is then added. We do this by repeating the ```g_alias``` index instead of the ```g``` index:"
   ]
  },
  {
   "cell_type": "code",
   "execution_count": 14,
   "id": "57d13eaf-1397-46ca-93e6-1a6fa59ea9e1",
   "metadata": {
    "scrolled": true,
    "tags": []
   },
   "outputs": [
    {
     "data": {
      "text/plain": [
       "g   g_alias  h  g_alias2  h_alias\n",
       "g1  g2       1  g2        1          0.95\n",
       "             2  g2        2          0.95\n",
       "             3  g2        3          0.95\n",
       "             4  g2        4          0.95\n",
       "g2  g1       1  g1        1          0.95\n",
       "             2  g1        2          0.95\n",
       "             3  g1        3          0.95\n",
       "             4  g1        4          0.95\n",
       "dtype: float64"
      ]
     },
     "execution_count": 14,
     "metadata": {},
     "output_type": "execute_result"
    }
   ],
   "source": [
    "transmission_2 = mBasicTrade.appIndexWithCopySeries(pd.Series(1-m.db['lineLoss'], index = m.globalDomains['Transmission']), ['g_alias','h'], ['g_alias2','h_alias']) # Note that h = h_alias and g_alias=g_alias2\n",
    "transmission_2"
   ]
  },
  {
   "cell_type": "markdown",
   "id": "1d886b51-4189-4896-bfd5-3fcd569d5a48",
   "metadata": {},
   "source": [
    "When this is unstacked this adds $1-\\text{ll}$ whenever ```g_alias = g_alias2```:"
   ]
  },
  {
   "cell_type": "code",
   "execution_count": 15,
   "id": "342a3008-8b2f-4cdb-85f9-4a62182eb719",
   "metadata": {
    "scrolled": true,
    "tags": []
   },
   "outputs": [
    {
     "data": {
      "text/html": [
       "<div>\n",
       "<style scoped>\n",
       "    .dataframe tbody tr th:only-of-type {\n",
       "        vertical-align: middle;\n",
       "    }\n",
       "\n",
       "    .dataframe tbody tr th {\n",
       "        vertical-align: top;\n",
       "    }\n",
       "\n",
       "    .dataframe thead tr th {\n",
       "        text-align: left;\n",
       "    }\n",
       "\n",
       "    .dataframe thead tr:last-of-type th {\n",
       "        text-align: right;\n",
       "    }\n",
       "</style>\n",
       "<table border=\"1\" class=\"dataframe\">\n",
       "  <thead>\n",
       "    <tr>\n",
       "      <th></th>\n",
       "      <th></th>\n",
       "      <th>g_alias2</th>\n",
       "      <th colspan=\"4\" halign=\"left\">g2</th>\n",
       "      <th colspan=\"4\" halign=\"left\">g1</th>\n",
       "    </tr>\n",
       "    <tr>\n",
       "      <th></th>\n",
       "      <th></th>\n",
       "      <th>h_alias</th>\n",
       "      <th>1</th>\n",
       "      <th>2</th>\n",
       "      <th>3</th>\n",
       "      <th>4</th>\n",
       "      <th>1</th>\n",
       "      <th>2</th>\n",
       "      <th>3</th>\n",
       "      <th>4</th>\n",
       "    </tr>\n",
       "    <tr>\n",
       "      <th>g</th>\n",
       "      <th>g_alias</th>\n",
       "      <th>h</th>\n",
       "      <th></th>\n",
       "      <th></th>\n",
       "      <th></th>\n",
       "      <th></th>\n",
       "      <th></th>\n",
       "      <th></th>\n",
       "      <th></th>\n",
       "      <th></th>\n",
       "    </tr>\n",
       "  </thead>\n",
       "  <tbody>\n",
       "    <tr>\n",
       "      <th rowspan=\"4\" valign=\"top\">g1</th>\n",
       "      <th rowspan=\"4\" valign=\"top\">g2</th>\n",
       "      <th>1</th>\n",
       "      <td>0.95</td>\n",
       "      <td>0.00</td>\n",
       "      <td>0.00</td>\n",
       "      <td>0.00</td>\n",
       "      <td>0.00</td>\n",
       "      <td>0.00</td>\n",
       "      <td>0.00</td>\n",
       "      <td>0.00</td>\n",
       "    </tr>\n",
       "    <tr>\n",
       "      <th>2</th>\n",
       "      <td>0.00</td>\n",
       "      <td>0.95</td>\n",
       "      <td>0.00</td>\n",
       "      <td>0.00</td>\n",
       "      <td>0.00</td>\n",
       "      <td>0.00</td>\n",
       "      <td>0.00</td>\n",
       "      <td>0.00</td>\n",
       "    </tr>\n",
       "    <tr>\n",
       "      <th>3</th>\n",
       "      <td>0.00</td>\n",
       "      <td>0.00</td>\n",
       "      <td>0.95</td>\n",
       "      <td>0.00</td>\n",
       "      <td>0.00</td>\n",
       "      <td>0.00</td>\n",
       "      <td>0.00</td>\n",
       "      <td>0.00</td>\n",
       "    </tr>\n",
       "    <tr>\n",
       "      <th>4</th>\n",
       "      <td>0.00</td>\n",
       "      <td>0.00</td>\n",
       "      <td>0.00</td>\n",
       "      <td>0.95</td>\n",
       "      <td>0.00</td>\n",
       "      <td>0.00</td>\n",
       "      <td>0.00</td>\n",
       "      <td>0.00</td>\n",
       "    </tr>\n",
       "    <tr>\n",
       "      <th rowspan=\"4\" valign=\"top\">g2</th>\n",
       "      <th rowspan=\"4\" valign=\"top\">g1</th>\n",
       "      <th>1</th>\n",
       "      <td>0.00</td>\n",
       "      <td>0.00</td>\n",
       "      <td>0.00</td>\n",
       "      <td>0.00</td>\n",
       "      <td>0.95</td>\n",
       "      <td>0.00</td>\n",
       "      <td>0.00</td>\n",
       "      <td>0.00</td>\n",
       "    </tr>\n",
       "    <tr>\n",
       "      <th>2</th>\n",
       "      <td>0.00</td>\n",
       "      <td>0.00</td>\n",
       "      <td>0.00</td>\n",
       "      <td>0.00</td>\n",
       "      <td>0.00</td>\n",
       "      <td>0.95</td>\n",
       "      <td>0.00</td>\n",
       "      <td>0.00</td>\n",
       "    </tr>\n",
       "    <tr>\n",
       "      <th>3</th>\n",
       "      <td>0.00</td>\n",
       "      <td>0.00</td>\n",
       "      <td>0.00</td>\n",
       "      <td>0.00</td>\n",
       "      <td>0.00</td>\n",
       "      <td>0.00</td>\n",
       "      <td>0.95</td>\n",
       "      <td>0.00</td>\n",
       "    </tr>\n",
       "    <tr>\n",
       "      <th>4</th>\n",
       "      <td>0.00</td>\n",
       "      <td>0.00</td>\n",
       "      <td>0.00</td>\n",
       "      <td>0.00</td>\n",
       "      <td>0.00</td>\n",
       "      <td>0.00</td>\n",
       "      <td>0.00</td>\n",
       "      <td>0.95</td>\n",
       "    </tr>\n",
       "  </tbody>\n",
       "</table>\n",
       "</div>"
      ],
      "text/plain": [
       "g_alias2        g2                      g1                  \n",
       "h_alias          1     2     3     4     1     2     3     4\n",
       "g  g_alias h                                                \n",
       "g1 g2      1  0.95  0.00  0.00  0.00  0.00  0.00  0.00  0.00\n",
       "           2  0.00  0.95  0.00  0.00  0.00  0.00  0.00  0.00\n",
       "           3  0.00  0.00  0.95  0.00  0.00  0.00  0.00  0.00\n",
       "           4  0.00  0.00  0.00  0.95  0.00  0.00  0.00  0.00\n",
       "g2 g1      1  0.00  0.00  0.00  0.00  0.95  0.00  0.00  0.00\n",
       "           2  0.00  0.00  0.00  0.00  0.00  0.95  0.00  0.00\n",
       "           3  0.00  0.00  0.00  0.00  0.00  0.00  0.95  0.00\n",
       "           4  0.00  0.00  0.00  0.00  0.00  0.00  0.00  0.95"
      ]
     },
     "execution_count": 15,
     "metadata": {},
     "output_type": "execute_result"
    }
   ],
   "source": [
    "transmission_2.unstack(m.globalDomains['equilibrium'].names).fillna(0)"
   ]
  },
  {
   "cell_type": "markdown",
   "id": "8dd548c1-cf38-4298-b8ec-fa38dbb48f25",
   "metadata": {},
   "source": [
    "When we add the two together, we get the pattern where a component $x_{g,g',h}$ will enter with $-1$ in the equilibrium constraint for $g$ and $1-\\text{ll}$ in the constraint for $g'$:"
   ]
  },
  {
   "cell_type": "code",
   "execution_count": 16,
   "id": "3eaa722f-1196-409c-9c7e-c7e956db8951",
   "metadata": {
    "scrolled": true,
    "tags": []
   },
   "outputs": [
    {
     "data": {
      "text/plain": [
       "g   g_alias  h  g_alias2  h_alias\n",
       "g1  g2       1  g1        1         -1.00\n",
       "                g2        1          0.95\n",
       "             2  g1        2         -1.00\n",
       "                g2        2          0.95\n",
       "             3  g1        3         -1.00\n",
       "                g2        3          0.95\n",
       "             4  g1        4         -1.00\n",
       "                g2        4          0.95\n",
       "g2  g1       1  g1        1          0.95\n",
       "                g2        1         -1.00\n",
       "             2  g1        2          0.95\n",
       "                g2        2         -1.00\n",
       "             3  g1        3          0.95\n",
       "                g2        3         -1.00\n",
       "             4  g1        4          0.95\n",
       "                g2        4         -1.00\n",
       "dtype: float64"
      ]
     },
     "execution_count": 16,
     "metadata": {},
     "output_type": "execute_result"
    }
   ],
   "source": [
    "m.blocks.get(('eq','A','equilibrium','Transmission'))"
   ]
  },
  {
   "cell_type": "markdown",
   "id": "62ce05cd-5a5c-45e7-a0cb-5be422311853",
   "metadata": {},
   "source": [
    "**The final matrix, $A$:**\n",
    "\n",
    "When we take all the components together, you can see why we use the ```lpCompiler``` to set up the model. The final block that is parsed as the matrix $A$ is:"
   ]
  },
  {
   "cell_type": "code",
   "execution_count": 17,
   "id": "580c4b9e-df6e-4943-be76-f4bc1f2998b6",
   "metadata": {},
   "outputs": [
    {
     "data": {
      "text/plain": [
       "array([[ 1.  ,  1.  ,  1.  ,  1.  ,  0.  ,  0.  ,  0.  ,  0.  ,  0.  ,\n",
       "         0.  ,  0.  ,  0.  ,  0.  ,  0.  ,  0.  ,  0.  ,  0.  ,  0.  ,\n",
       "         0.  ,  0.  ,  0.  ,  0.  ,  0.  ,  0.  , -1.  ,  0.  ,  0.  ,\n",
       "         0.  ,  0.  ,  0.  ,  0.  ,  0.  , -1.  ,  0.  ,  0.  ,  0.  ,\n",
       "         0.95,  0.  ,  0.  ,  0.  ],\n",
       "       [ 0.  ,  0.  ,  0.  ,  0.  ,  1.  ,  1.  ,  1.  ,  1.  ,  0.  ,\n",
       "         0.  ,  0.  ,  0.  ,  0.  ,  0.  ,  0.  ,  0.  ,  0.  ,  0.  ,\n",
       "         0.  ,  0.  ,  0.  ,  0.  ,  0.  ,  0.  ,  0.  , -1.  ,  0.  ,\n",
       "         0.  ,  0.  ,  0.  ,  0.  ,  0.  ,  0.  , -1.  ,  0.  ,  0.  ,\n",
       "         0.  ,  0.95,  0.  ,  0.  ],\n",
       "       [ 0.  ,  0.  ,  0.  ,  0.  ,  0.  ,  0.  ,  0.  ,  0.  ,  1.  ,\n",
       "         1.  ,  1.  ,  1.  ,  0.  ,  0.  ,  0.  ,  0.  ,  0.  ,  0.  ,\n",
       "         0.  ,  0.  ,  0.  ,  0.  ,  0.  ,  0.  ,  0.  ,  0.  , -1.  ,\n",
       "         0.  ,  0.  ,  0.  ,  0.  ,  0.  ,  0.  ,  0.  , -1.  ,  0.  ,\n",
       "         0.  ,  0.  ,  0.95,  0.  ],\n",
       "       [ 0.  ,  0.  ,  0.  ,  0.  ,  0.  ,  0.  ,  0.  ,  0.  ,  0.  ,\n",
       "         0.  ,  0.  ,  0.  ,  1.  ,  1.  ,  1.  ,  1.  ,  0.  ,  0.  ,\n",
       "         0.  ,  0.  ,  0.  ,  0.  ,  0.  ,  0.  ,  0.  ,  0.  ,  0.  ,\n",
       "        -1.  ,  0.  ,  0.  ,  0.  ,  0.  ,  0.  ,  0.  ,  0.  , -1.  ,\n",
       "         0.  ,  0.  ,  0.  ,  0.95],\n",
       "       [ 0.  ,  0.  ,  0.  ,  0.  ,  0.  ,  0.  ,  0.  ,  0.  ,  0.  ,\n",
       "         0.  ,  0.  ,  0.  ,  0.  ,  0.  ,  0.  ,  0.  ,  1.  ,  1.  ,\n",
       "         0.  ,  0.  ,  0.  ,  0.  ,  0.  ,  0.  ,  0.  ,  0.  ,  0.  ,\n",
       "         0.  , -1.  ,  0.  ,  0.  ,  0.  ,  0.95,  0.  ,  0.  ,  0.  ,\n",
       "        -1.  ,  0.  ,  0.  ,  0.  ],\n",
       "       [ 0.  ,  0.  ,  0.  ,  0.  ,  0.  ,  0.  ,  0.  ,  0.  ,  0.  ,\n",
       "         0.  ,  0.  ,  0.  ,  0.  ,  0.  ,  0.  ,  0.  ,  0.  ,  0.  ,\n",
       "         1.  ,  1.  ,  0.  ,  0.  ,  0.  ,  0.  ,  0.  ,  0.  ,  0.  ,\n",
       "         0.  ,  0.  , -1.  ,  0.  ,  0.  ,  0.  ,  0.95,  0.  ,  0.  ,\n",
       "         0.  , -1.  ,  0.  ,  0.  ],\n",
       "       [ 0.  ,  0.  ,  0.  ,  0.  ,  0.  ,  0.  ,  0.  ,  0.  ,  0.  ,\n",
       "         0.  ,  0.  ,  0.  ,  0.  ,  0.  ,  0.  ,  0.  ,  0.  ,  0.  ,\n",
       "         0.  ,  0.  ,  1.  ,  1.  ,  0.  ,  0.  ,  0.  ,  0.  ,  0.  ,\n",
       "         0.  ,  0.  ,  0.  , -1.  ,  0.  ,  0.  ,  0.  ,  0.95,  0.  ,\n",
       "         0.  ,  0.  , -1.  ,  0.  ],\n",
       "       [ 0.  ,  0.  ,  0.  ,  0.  ,  0.  ,  0.  ,  0.  ,  0.  ,  0.  ,\n",
       "         0.  ,  0.  ,  0.  ,  0.  ,  0.  ,  0.  ,  0.  ,  0.  ,  0.  ,\n",
       "         0.  ,  0.  ,  0.  ,  0.  ,  1.  ,  1.  ,  0.  ,  0.  ,  0.  ,\n",
       "         0.  ,  0.  ,  0.  ,  0.  , -1.  ,  0.  ,  0.  ,  0.  ,  0.95,\n",
       "         0.  ,  0.  ,  0.  , -1.  ]])"
      ]
     },
     "execution_count": 17,
     "metadata": {},
     "output_type": "execute_result"
    }
   ],
   "source": [
    "m.blocks.lp_A_eq"
   ]
  }
 ],
 "metadata": {
  "kernelspec": {
   "display_name": "Python 3 (ipykernel)",
   "language": "python",
   "name": "python3"
  },
  "language_info": {
   "codemirror_mode": {
    "name": "ipython",
    "version": 3
   },
   "file_extension": ".py",
   "mimetype": "text/x-python",
   "name": "python",
   "nbconvert_exporter": "python",
   "pygments_lexer": "ipython3",
   "version": "3.9.7"
  }
 },
 "nbformat": 4,
 "nbformat_minor": 5
}
