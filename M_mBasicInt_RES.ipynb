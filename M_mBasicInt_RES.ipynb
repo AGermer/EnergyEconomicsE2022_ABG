{
 "cells": [
  {
   "cell_type": "code",
   "execution_count": null,
   "id": "aeb94682-abaf-417b-a208-19a2a91c54a4",
   "metadata": {},
   "outputs": [],
   "source": [
    "%run stdPackages.ipynb\n",
    "read = {'variables': ['Fundamentals', 'Load', 'Generators_Other'], \n",
    "        'variable2D': ['Generators_FuelMix','HourlyVariation'],\n",
    "        'scalars': ['Scalars'],\n",
    "        'maps': ['Generators_Categories']}\n",
    "db = dbFromWB(os.path.join(d['data'],'0_GlobalData.xlsx'), read)\n",
    "readSets(db)"
   ]
  },
  {
   "cell_type": "markdown",
   "id": "06ce5627-b36c-4200-88ff-0e1a1a144dc2",
   "metadata": {
    "tags": []
   },
   "source": [
    "# The ```mBasicInt_RES``` model"
   ]
  },
  {
   "cell_type": "code",
   "execution_count": null,
   "id": "3d44d6a4-358a-4066-8a08-b61057666f31",
   "metadata": {},
   "outputs": [],
   "source": [
    "m = mBasicInt.mBasicInt_RES(db)\n",
    "m.solve()"
   ]
  },
  {
   "cell_type": "markdown",
   "id": "8d227e7f-8d88-4ac2-8479-78dfe37a2dbf",
   "metadata": {
    "tags": []
   },
   "source": [
    "### **The model**"
   ]
  },
  {
   "cell_type": "markdown",
   "id": "d8227c11-b65d-461a-a615-11d0adb2761e",
   "metadata": {},
   "source": [
    "The model is an extension to the model [mBasicInt](M_mBasicInt.ipynb). The renewable energy target will typically be modelled as:\n",
    "\n",
    "$$\\begin{align}\n",
    "    \\sum_{id\\in\\text{cleanIds}}\\sum_{h} E_{id, h} \\geq& \\overline{\\text{RESCap}} \\cdot \\sum_hD_h \\tag{1}\n",
    "\\end{align}$$\n",
    "Written on the augmented linear programming form this becomes:\n",
    "$$\\begin{align}\n",
    "    \\overline{\\text{RESCap}} \\cdot \\sum_hD_h -\\sum_{id\\in\\text{cleanIds}}\\sum_{h} E_{id, h} \\leq 0. \\tag{2}\n",
    "\\end{align}$$"
   ]
  },
  {
   "cell_type": "markdown",
   "id": "5e1d189e-6361-4f56-bece-a90571e9496c",
   "metadata": {
    "tags": []
   },
   "source": [
    "### Adjustments to the code"
   ]
  },
  {
   "cell_type": "markdown",
   "id": "46876f72-45c6-4a82-95c4-f372c30def26",
   "metadata": {},
   "source": [
    "Compared to ```mBasicInt``` the main adjustment is that there is an added ```block``` of the type ```ub```:"
   ]
  },
  {
   "cell_type": "markdown",
   "id": "d7ccbca3-e365-4ceb-9c35-7c39bf286519",
   "metadata": {},
   "source": [
    "<img src=\"snippets/mBasicInt_RES_snippet.png\" width=\"1300\" height=\"400\">"
   ]
  },
  {
   "cell_type": "markdown",
   "id": "a3809607-4bc6-49e5-9443-7a09e4da503a",
   "metadata": {},
   "source": [
    "The specification of the constraint is in terms of syntax equivalent to the ```eq``` constraints:\n",
    "* There is a constraint named ```RESCapConstraint``` ,\n",
    "* The $b_{ub}$ coefficient is zero (RHS of (2)).\n",
    "* $A_{ub}$ coefficients for this constraint are $-1$ on the variable ```'Generation'```, but only for the clean ids (see [mBasic_RES](M_mBasic_RES.ipynb)). For the demand levels the coefficient is ```RESCap```."
   ]
  }
 ],
 "metadata": {
  "kernelspec": {
   "display_name": "Python 3 (ipykernel)",
   "language": "python",
   "name": "python3"
  },
  "language_info": {
   "codemirror_mode": {
    "name": "ipython",
    "version": 3
   },
   "file_extension": ".py",
   "mimetype": "text/x-python",
   "name": "python",
   "nbconvert_exporter": "python",
   "pygments_lexer": "ipython3",
   "version": "3.9.7"
  }
 },
 "nbformat": 4,
 "nbformat_minor": 5
}
