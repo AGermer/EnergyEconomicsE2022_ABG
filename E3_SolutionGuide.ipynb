{
 "cells": [
  {
   "cell_type": "markdown",
   "id": "aa22e9cc-95d7-41b3-9e66-bc6b267eedb1",
   "metadata": {},
   "source": [
    "*Load packages and data:*"
   ]
  },
  {
   "cell_type": "code",
   "execution_count": 1,
   "id": "5e07479b-a7e1-4e13-90dd-8a7b67d655a9",
   "metadata": {},
   "outputs": [],
   "source": [
    "%run stdPackages.ipynb\n",
    "read = {'variables': ['Fundamentals', 'Load', 'Generators_Other','TL'], \n",
    "        'variable2D': ['Generators_FuelMix','HourlyVariation'],\n",
    "        'scalars': ['Scalars'],\n",
    "        'maps': ['Generators_Categories', 'Load_Categories']}\n",
    "db = dbFromWB(os.path.join(d['data'],'E3.xlsx'), read)\n",
    "readSets(db)"
   ]
  },
  {
   "cell_type": "markdown",
   "id": "40be2b23-fb1a-4070-adc6-a8fa53e9f1ed",
   "metadata": {
    "tags": []
   },
   "source": [
    "# Exercise 3: The value of transmission lines and the cost of intermittency"
   ]
  },
  {
   "cell_type": "markdown",
   "id": "1e33ef0a-262f-4e1b-b981-f465e01f3928",
   "metadata": {
    "tags": []
   },
   "source": [
    "### Problem 1: Gains of trade"
   ]
  },
  {
   "cell_type": "markdown",
   "id": "55a8e543-9730-4e16-b07f-abb621963038",
   "metadata": {},
   "source": [
    "Let us start with a few observations for $g1,g2$:\n",
    "* Recall from exercise 2 that the market $g1$ consists of four types of plants with the merit order of dispatching: Wind, coal, natural gas, biomass. In that model, the hours $h=1,4$ were characterized by relatively small demand and cheap marginal supply (from coal). In hours $h=3$, however, the marginal supply is instead from the more expensive biomass, and in $h=3$ some load has to be shedded to establish equilibrium.\n",
    "* For the The market $g2$ uses solar (PV) and natural gas only. In hours $h=1,2,4$ the marginal supply comes from natural gas; in hour $h=3$ the load has to shedded here as well."
   ]
  },
  {
   "cell_type": "markdown",
   "id": "cc241bd7-f81a-4cac-b6c5-fadaebc8f7ad",
   "metadata": {},
   "source": [
    "With this in mind: We can expect $g1$ to export in hours $h=1,4$ and $g2$ to export in $h=2$. Let us confirm that this is the case:"
   ]
  },
  {
   "cell_type": "markdown",
   "id": "f48e9691-4d73-42a1-abc1-44becbe230bd",
   "metadata": {},
   "source": [
    "*Set up and solve:*"
   ]
  },
  {
   "cell_type": "code",
   "execution_count": 2,
   "id": "f66ea24f-13b7-4946-bc1e-c10a4a7d84b1",
   "metadata": {},
   "outputs": [
    {
     "name": "stdout",
     "output_type": "stream",
     "text": [
      "Solution status 0: Optimization terminated successfully.\n"
     ]
    }
   ],
   "source": [
    "m = mBasicTrade.mBasicTrade(db)\n",
    "m.solve()"
   ]
  },
  {
   "cell_type": "markdown",
   "id": "71cca7db-e7a2-47f8-a32b-5d5303484d23",
   "metadata": {},
   "source": [
    "*Inspect exports:*"
   ]
  },
  {
   "cell_type": "code",
   "execution_count": 3,
   "id": "878ace36-17cd-4418-9d61-5b7a6632652c",
   "metadata": {},
   "outputs": [
    {
     "data": {
      "text/html": [
       "<div>\n",
       "<style scoped>\n",
       "    .dataframe tbody tr th:only-of-type {\n",
       "        vertical-align: middle;\n",
       "    }\n",
       "\n",
       "    .dataframe tbody tr th {\n",
       "        vertical-align: top;\n",
       "    }\n",
       "\n",
       "    .dataframe thead th {\n",
       "        text-align: right;\n",
       "    }\n",
       "</style>\n",
       "<table border=\"1\" class=\"dataframe\">\n",
       "  <thead>\n",
       "    <tr style=\"text-align: right;\">\n",
       "      <th></th>\n",
       "      <th>h</th>\n",
       "      <th>1</th>\n",
       "      <th>2</th>\n",
       "      <th>3</th>\n",
       "      <th>4</th>\n",
       "    </tr>\n",
       "    <tr>\n",
       "      <th>g</th>\n",
       "      <th>g_alias</th>\n",
       "      <th></th>\n",
       "      <th></th>\n",
       "      <th></th>\n",
       "      <th></th>\n",
       "    </tr>\n",
       "  </thead>\n",
       "  <tbody>\n",
       "    <tr>\n",
       "      <th>g1</th>\n",
       "      <th>g2</th>\n",
       "      <td>25.0</td>\n",
       "      <td>0.0</td>\n",
       "      <td>0.0</td>\n",
       "      <td>25.0</td>\n",
       "    </tr>\n",
       "    <tr>\n",
       "      <th>g2</th>\n",
       "      <th>g1</th>\n",
       "      <td>0.0</td>\n",
       "      <td>17.5</td>\n",
       "      <td>0.0</td>\n",
       "      <td>0.0</td>\n",
       "    </tr>\n",
       "  </tbody>\n",
       "</table>\n",
       "</div>"
      ],
      "text/plain": [
       "h              1     2    3     4\n",
       "g  g_alias                       \n",
       "g1 g2       25.0   0.0  0.0  25.0\n",
       "g2 g1        0.0  17.5  0.0   0.0"
      ]
     },
     "execution_count": 3,
     "metadata": {},
     "output_type": "execute_result"
    }
   ],
   "source": [
    "m.db['Transmission'].unstack('h')"
   ]
  },
  {
   "cell_type": "markdown",
   "id": "0c156ee0-3064-48ac-9a50-db903f1986d3",
   "metadata": {},
   "source": [
    "* The positive values in $h=1,4$ for $(g1,g2)$ indicate that $g1$ exports to $g2$ in these hours.\n",
    "* The positive value in $h=2$ for $(g2,g1)$ indicates that $g2$ exports to $g1$ in these hours."
   ]
  },
  {
   "cell_type": "markdown",
   "id": "fb9e62c5-c7c6-44d7-9539-3aeae4a2395c",
   "metadata": {
    "tags": []
   },
   "source": [
    "### Problem 2: Gains of trade"
   ]
  },
  {
   "cell_type": "markdown",
   "id": "31087801-48d6-4942-90aa-0c8ab151994e",
   "metadata": {},
   "source": [
    "We vary ```lineCapacity``` from 0-100 GJ with 21 grid points and use the ```loopSolveExtract``` method applied in previous exercises:"
   ]
  },
  {
   "cell_type": "markdown",
   "id": "11f4fd65-3f53-46b6-be7c-f160c0545b23",
   "metadata": {},
   "source": [
    "i) Create loop:"
   ]
  },
  {
   "cell_type": "code",
   "execution_count": 4,
   "id": "94342fc1-5451-40bb-8082-14b3edf2e77e",
   "metadata": {},
   "outputs": [],
   "source": [
    "loop = pd.Index(range(21), name = 'loop')"
   ]
  },
  {
   "cell_type": "markdown",
   "id": "34f7b063-83a5-43c5-8177-40d11f4286ce",
   "metadata": {},
   "source": [
    "ii) Create grid of values to update throughout the loop by specifying first (```v0```) and final value in the loop (```vT```):"
   ]
  },
  {
   "cell_type": "code",
   "execution_count": 5,
   "id": "2591d974-7fef-4b63-9da6-c5c4b8bc42d3",
   "metadata": {},
   "outputs": [],
   "source": [
    "v0 = db['lineCapacity'] * 0\n",
    "vT = db['lineCapacity'] * 4\n",
    "grid = addGrid(v0,vT,loop,'lineCapacity')"
   ]
  },
  {
   "cell_type": "markdown",
   "id": "6d3d9cf2-87f9-451d-b640-1f553c9fa15e",
   "metadata": {},
   "source": [
    "iii) Specify which symbols to save in the simulations:"
   ]
  },
  {
   "cell_type": "code",
   "execution_count": 6,
   "id": "54716610-f524-48b1-aacb-bcd3daa8123c",
   "metadata": {},
   "outputs": [],
   "source": [
    "extract = ['marginalSystemCosts','congestionRent','marginalEconomicValue']"
   ]
  },
  {
   "cell_type": "markdown",
   "id": "baedc3fb-e004-481c-a153-7fc2772c3a3e",
   "metadata": {},
   "source": [
    "iv) Run simulation:"
   ]
  },
  {
   "cell_type": "code",
   "execution_count": 7,
   "id": "04a35aef-7a0f-40bf-9a97-4ae13eaaff9e",
   "metadata": {},
   "outputs": [],
   "source": [
    "solution = m.loopSolveExtract(loop,[grid],extract)"
   ]
  },
  {
   "cell_type": "markdown",
   "id": "678caa84-7ca6-4de9-aced-c0cc9ac25e55",
   "metadata": {},
   "source": [
    "Let us consider each of the variables in turn:"
   ]
  },
  {
   "cell_type": "markdown",
   "id": "8d07a4d8-78b5-455e-82ce-e7b3e4132341",
   "metadata": {},
   "source": [
    "#### 2.1. *Marginal system costs:*\n"
   ]
  },
  {
   "cell_type": "markdown",
   "id": "a85ae830-6ea2-4299-b80a-59e06b955550",
   "metadata": {},
   "source": [
    "The variable is defined over $(g,h,loop)$. Let us print a separate plot for each hour:"
   ]
  },
  {
   "cell_type": "code",
   "execution_count": 8,
   "id": "52216381-cb4c-400f-ad6b-1d0eb5de8caf",
   "metadata": {},
   "outputs": [
    {
     "data": {
      "image/png": "[encoded data removed]",
      "text/plain": [
       "<Figure size 576x288 with 4 Axes>"
      ]
     },
     "metadata": {},
     "output_type": "display_data"
    }
   ],
   "source": [
    "nplots = len(db['h'])\n",
    "nrows = math.ceil(nplots/2)\n",
    "fig, axes = plt.subplots(nrows, min(nplots, 2), figsize = (8, (2*nrows)));\n",
    "plt.subplots_adjust(hspace=0.35) # create a bit of extra space between subplots\n",
    "\n",
    "for j in range(nplots):\n",
    "    ax = plt.subplot(nrows, min(nplots,2), j+1) # access subplot j+1\n",
    "    df = solution['marginalSystemCosts'].xs(j+1,level='h').unstack('g')\n",
    "    df.plot(ax=ax, legend=False, linewidth=3);\n",
    "    ax.set_xlabel('Loop', labelpad=10); # set label on the x-axis; labelpad specifies distance from axis to edges of the plot \n",
    "    ax.set_ylabel(\"marginalSystemCosts\", labelpad=10); # set label on the y-axis\n",
    "    ax.set_title(f\"\"\"$h={j+1}$\"\"\")\n",
    "\n",
    "fig.legend(df.columns, loc = 9, ncol = 2, frameon=True) # add columns as legends above the plot\n",
    "fig.tight_layout(); # auxiliary function that often makes the plot look a bit nicer\n",
    "fig.subplots_adjust(top=0.9); # make room for the legends to be above the plot"
   ]
  },
  {
   "cell_type": "markdown",
   "id": "1718239f-1390-476a-9a28-a121308ec19d",
   "metadata": {},
   "source": [
    "* The marginal system costs are always identical in $h=3$; this is because the equilibrium is characterized by load shedding - thus, trade does not help in this scenario.\n",
    "* In hour $h=1$ the marginal supply comes from coal in $g1$ and natural gas in $g2$. There is sufficient excess capacity of coal in $g1$, however, to export to $g2$ such that this coal plant is the marginal supply in $g2$ as well. So, the marginal system costs drop to (near) to the cost in $g1$ once the transmission capacity is large enough.\n",
    "* In hour $h=2$ the marginal supply comes from biomass in $g1$ and gas in $g2$. There is, however, not that much excess capacity of gas in $g1$. Thus, when transmission capacities increase, the marginal system costs increase instead of decrease (as it happened in $h=1$).\n",
    "* In hour $h=4$ we have a similar situation as to $h=2$, but with the reverse trade flows: marginal supply is coal in $g1$ and gas in $g2$. When transmission capacities increase however, the marginal system costs increase instead of decreasing. This is because natural gas becomes the marginal supplier (and not the coal plant). "
   ]
  },
  {
   "cell_type": "markdown",
   "id": "bc22a895-1688-4d8e-a06e-8f8ba69a6f0e",
   "metadata": {
    "tags": []
   },
   "source": [
    "#### 2.2. *Congestion rent:*\n"
   ]
  },
  {
   "cell_type": "markdown",
   "id": "94bf0cb9-cb4c-43f4-8963-5c9c795a227a",
   "metadata": {},
   "source": [
    "The variable is defined over $(g,g',h,loop)$. We sum over $(g,g')$ and plot for each hour:"
   ]
  },
  {
   "cell_type": "code",
   "execution_count": 9,
   "id": "ae604555-d4d8-45ce-a9c3-2b90c44a195b",
   "metadata": {},
   "outputs": [
    {
     "data": {
      "image/png": "[encoded data removed]",
      "text/plain": [
       "<Figure size 576x288 with 4 Axes>"
      ]
     },
     "metadata": {},
     "output_type": "display_data"
    }
   ],
   "source": [
    "nplots = len(db['h'])\n",
    "nrows = math.ceil(nplots/2)\n",
    "fig, axes = plt.subplots(nrows, min(nplots, 2), figsize = (8, (2*nrows)));\n",
    "plt.subplots_adjust(hspace=0.35) # create a bit of extra space between subplots\n",
    "\n",
    "for j in range(nplots):\n",
    "    ax = plt.subplot(nrows, min(nplots,2), j+1) # access subplot j+1\n",
    "    df = pdSum(solution['congestionRent'], ['g','g_alias']).xs(j+1,level='h')\n",
    "    df.plot(ax=ax, legend=False, linewidth=3);\n",
    "    ax.set_xlabel('Loop', labelpad=10); # set label on the x-axis; labelpad specifies distance from axis to edges of the plot \n",
    "    ax.set_ylabel(\"Congestion rents\", labelpad=10); # set label on the y-axis\n",
    "    ax.set_title(f\"\"\"$h={j+1}$\"\"\")\n",
    "\n",
    "fig.tight_layout(); # auxiliary function that often makes the plot look a bit nicer"
   ]
  },
  {
   "cell_type": "markdown",
   "id": "97a3614a-2bc1-4eff-875f-397b853972ab",
   "metadata": {},
   "source": [
    "The congestion rents are all increasing initially in the installed transmission capacity: This is all driven by increases in trade flows, $x_{l,h}$. Once we reach a certain threshold (different ones for each hour), the system marginal costs are (almost entirely) equalized across $g_1,g_2$. At this point, the congestion rents drop significantly and stays constant after this. Note that congestion rents do not drop to exactly zero, because system marginal costs are not entirely equalized; this is due to costs of operating the lines (```lineMC```) and the line losses (```lineLoss```)."
   ]
  },
  {
   "cell_type": "markdown",
   "id": "ac1a3091-96db-4a23-9d6e-28e8cf090f70",
   "metadata": {},
   "source": [
    "#### 2.3. *Marginal Economic Value*"
   ]
  },
  {
   "cell_type": "markdown",
   "id": "4e4761c6-57b8-4def-aa50-cac68e6a40e3",
   "metadata": {},
   "source": [
    "Plot the marginal economic value in separate plots to make it easier to inspect:"
   ]
  },
  {
   "cell_type": "code",
   "execution_count": 10,
   "id": "372e8975-ddfe-466a-8107-b2a350601d1a",
   "metadata": {},
   "outputs": [
    {
     "data": {
      "image/png": "[encoded data removed]",
      "text/plain": [
       "<Figure size 576x432 with 6 Axes>"
      ]
     },
     "metadata": {},
     "output_type": "display_data"
    }
   ],
   "source": [
    "nplots = len(db['id'])\n",
    "nrows = math.ceil(nplots/2)\n",
    "fig, axes = plt.subplots(nrows, min(nplots, 2), figsize = (8, (2*nrows)));\n",
    "plt.subplots_adjust(hspace=0.35) # create a bit of extra space between subplots\n",
    "\n",
    "for j in range(nplots):\n",
    "    ax = plt.subplot(nrows, min(nplots,2), j+1) # access subplot j+1\n",
    "    s = solution['marginalEconomicValue'].xs(db['id'][j],level='id')\n",
    "    s.plot(ax=ax, legend=False, linewidth=3);\n",
    "    ax.set_xlabel('Loop', labelpad=10); # set label on the x-axis; labelpad specifies distance from axis to edges of the plot \n",
    "    ax.set_ylabel(\"MEV\"); # set label on the y-axis\n",
    "    ax.set_title(f\"\"\"$id={db['id'][j]}$\"\"\")\n",
    "\n",
    "fig.tight_layout(); # auxiliary function that often makes the plot look a bit nicer"
   ]
  },
  {
   "cell_type": "markdown",
   "id": "06a6a7b6-b33f-4c2d-a3f6-63a7f4e9ce64",
   "metadata": {},
   "source": [
    "Note that for all plants, the *marginal economic value* of capacity increases in the transmission capacity. In particular, as the "
   ]
  },
  {
   "cell_type": "code",
   "execution_count": null,
   "id": "bc49fd63-78d7-4246-8d28-dd9e3b023115",
   "metadata": {},
   "outputs": [],
   "source": []
  }
 ],
 "metadata": {
  "kernelspec": {
   "display_name": "Python 3 (ipykernel)",
   "language": "python",
   "name": "python3"
  },
  "language_info": {
   "codemirror_mode": {
    "name": "ipython",
    "version": 3
   },
   "file_extension": ".py",
   "mimetype": "text/x-python",
   "name": "python",
   "nbconvert_exporter": "python",
   "pygments_lexer": "ipython3",
   "version": "3.9.7"
  }
 },
 "nbformat": 4,
 "nbformat_minor": 5
}
