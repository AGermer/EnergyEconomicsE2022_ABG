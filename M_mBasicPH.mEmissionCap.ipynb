{
 "cells": [
  {
   "cell_type": "code",
   "execution_count": 1,
   "id": "1b0754c5-14b7-4a59-94b0-9e59250f9b27",
   "metadata": {},
   "outputs": [],
   "source": [
    "%run stdPackages.ipynb\n",
    "read = {'variables': ['Fundamentals', 'LoadVariables', 'TransmissionLines', 'GeneratorsVariables','Regulation'],\n",
    "        'maps': ['LoadMaps','GeneratorsMaps'],\n",
    "        'variable2D': ['HourlyVariation'],\n",
    "        'scalars': ['Scalars']}\n",
    "db = dbFromWB(os.path.join(d['data'],'E4.xlsx'), read)\n",
    "readSets(db)"
   ]
  },
  {
   "cell_type": "markdown",
   "id": "a958a1fa-2a73-47e5-a1e3-c927049d779a",
   "metadata": {
    "tags": []
   },
   "source": [
    "# The ```mBasicPH.mEmissionCap``` model"
   ]
  },
  {
   "cell_type": "code",
   "execution_count": 2,
   "id": "fa43a0a3-6898-4e92-ac6c-c59a554bc935",
   "metadata": {},
   "outputs": [],
   "source": [
    "m = mBasicPH.mEmissionCap(db)"
   ]
  },
  {
   "cell_type": "markdown",
   "id": "22fd69bc-8b46-4616-81e9-53af24a9efaf",
   "metadata": {},
   "source": [
    "### **The model**"
   ]
  },
  {
   "cell_type": "markdown",
   "id": "fb16d262-d323-4b2e-bda0-f858024d6ad8",
   "metadata": {},
   "source": [
    "The model is an extension to the [mBasicPH](M_mBasicPH.ipynb) model. The difference is that emissions are capped in this section. We can cap emissions in two ways: One common, or one for each geographic area.\n",
    "\n",
    "The adjustments to the code are almost identical as the ones for the ```mBasicTrade.mEmissionCap``` model."
   ]
  },
  {
   "cell_type": "markdown",
   "id": "a9241ad6-980c-4ec5-960b-cbd18c2adc8d",
   "metadata": {},
   "source": [
    "**With one common cap:**"
   ]
  },
  {
   "cell_type": "markdown",
   "id": "8f62b284-458e-44a8-abe7-bc680dc40382",
   "metadata": {},
   "source": [
    "With one common emissions cap, the condition is:\n",
    "$$\\begin{align}\n",
    "    \\sum_{h,BFt} \\text{EmissionIntensity}_{BFt,CO2}\\cdot\\left( \\sum_{id\\in\\lbrace \\mathcal{I}^E, \\mathcal{I}^{BP} \\rbrace} \\mu_{BFt}^{id}\\cdot E_{id,h}+\\sum_{id\\in\\mathcal{I}^{H}} \\mu_{BFt}^{id}\\cdot H_{id,h}\\right) \\leq \\sum_g CO2Cap_g\n",
    "\\end{align}$$"
   ]
  },
  {
   "cell_type": "markdown",
   "id": "e28f49aa-66c5-4e7e-a2be-ab25caa57f4c",
   "metadata": {},
   "source": [
    "Solve with common cap:"
   ]
  },
  {
   "cell_type": "code",
   "execution_count": 3,
   "id": "38f06626-d9d7-4557-9bd6-a5fa0253e659",
   "metadata": {},
   "outputs": [
    {
     "name": "stdout",
     "output_type": "stream",
     "text": [
      "Solution status 0: Optimization terminated successfully.\n"
     ]
    }
   ],
   "source": [
    "m = mBasicPH.mEmissionCap(db,commonCap = True)\n",
    "m.solve()"
   ]
  },
  {
   "cell_type": "markdown",
   "id": "deba7960-69ab-4d84-9a1b-b4645c14509f",
   "metadata": {},
   "source": [
    "**With geograpic-specific emission caps:**"
   ]
  },
  {
   "cell_type": "markdown",
   "id": "66931942-31d4-4320-9521-13ef26e6ae9e",
   "metadata": {},
   "source": [
    "The constraint is now:\n",
    "$$\\begin{align}\n",
    "    \\sum_{h,BFt} \\text{EmissionIntensity}_{BFt,CO2}\\cdot\\left( \\sum_{id\\in\\lbrace \\mathcal{I}_g^E, \\mathcal{I}^{BP}_g \\rbrace} \\mu_{BFt}^{id}\\cdot E_{id,h}+\\sum_{id\\in\\mathcal{I}^{H}_g} \\mu_{BFt}^{id}\\cdot H_{id,h}\\right) \\leq CO2Cap_g\n",
    "\\end{align}$$"
   ]
  },
  {
   "cell_type": "markdown",
   "id": "21bf6f59-bcf4-4395-8022-f2839b9518a4",
   "metadata": {},
   "source": [
    "Solve with geographic-specific caps:"
   ]
  },
  {
   "cell_type": "code",
   "execution_count": 4,
   "id": "fd65366e-4040-40c9-bd11-30b073197542",
   "metadata": {},
   "outputs": [
    {
     "name": "stdout",
     "output_type": "stream",
     "text": [
      "Solution status 0: Optimization terminated successfully.\n"
     ]
    }
   ],
   "source": [
    "m.commonCap = False\n",
    "m.solve()"
   ]
  }
 ],
 "metadata": {
  "kernelspec": {
   "display_name": "Python 3 (ipykernel)",
   "language": "python",
   "name": "python3"
  },
  "language_info": {
   "codemirror_mode": {
    "name": "ipython",
    "version": 3
   },
   "file_extension": ".py",
   "mimetype": "text/x-python",
   "name": "python",
   "nbconvert_exporter": "python",
   "pygments_lexer": "ipython3",
   "version": "3.9.7"
  }
 },
 "nbformat": 4,
 "nbformat_minor": 5
}
