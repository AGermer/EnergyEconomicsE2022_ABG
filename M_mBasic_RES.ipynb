{
 "cells": [
  {
   "cell_type": "code",
   "execution_count": 1,
   "id": "7827e12f-8b2b-42fc-be78-3df98de1e027",
   "metadata": {},
   "outputs": [],
   "source": [
    "%run stdPackages.ipynb\n",
    "read = {'variables': ['Fundamentals', 'Load', 'Generators_Other'], \n",
    "        'variable2D': ['Generators_FuelMix'],\n",
    "        'scalars': ['Scalars'],\n",
    "        'maps': ['Generators_Categories']}\n",
    "db = dbFromWB(os.path.join(d['data'],'0_GlobalData.xlsx'), read)\n",
    "readSets(db)"
   ]
  },
  {
   "cell_type": "markdown",
   "id": "cc5cd602-b2f2-44a0-91b3-1e47f88b2056",
   "metadata": {
    "tags": []
   },
   "source": [
    "# The ```mBasic.mRES``` model"
   ]
  },
  {
   "cell_type": "code",
   "execution_count": 2,
   "id": "2729da76-05fa-4057-8841-2ba2ef53e850",
   "metadata": {},
   "outputs": [
    {
     "name": "stdout",
     "output_type": "stream",
     "text": [
      "Solution status 0: Optimization terminated successfully.\n"
     ]
    }
   ],
   "source": [
    "m = mBasic.mRES(db)\n",
    "m.solve()"
   ]
  },
  {
   "cell_type": "markdown",
   "id": "96d2579a-bafa-40af-90ca-6fa2be23cf0c",
   "metadata": {},
   "source": [
    "### **The model**"
   ]
  },
  {
   "cell_type": "markdown",
   "id": "3ed64510-bc71-4796-9923-aacea0ef2609",
   "metadata": {},
   "source": [
    "The model is an extension to the model [mBasic](M_mBasic.ipynb); the note \"*Models for Energy Economics*\" describes the extension in section 1.2.2. The extension is that there is a *minimum target for the share of total electricity production that comes from renewable sources*, or a target for Renewable Energy Shares (RES). In this model version, we identify *renewable* energy as plants that emits zero $CO2$. Thus, following the computation of emissions (also used in ```mBasic```):\n",
    "$$\\begin{align}\n",
    "    \\text{FuelConsumption}_{BFt} =& \\sum_{id}\\mu_{BFt}^{id}\\cdot E_{id} \\\\ \n",
    "    \\text{Emissions}_m =& \\sum_{BFt}\\text{FuelConsumption}_{BFt}\\cdot \\text{EmissionIntensity}_{BFt,m},\n",
    "\\end{align}$$\n",
    "we define a subset of ids as ```cleanIds``` if $\\sum_{BFt}\\mu_{BFt}^{id}\\cdot \\text{EmissionIntensity}_{BFt,CO2} \\leq 0$. The auxiliary property (a type of Python class method) ```cleanIds``` returns which ids we are talking about:"
   ]
  },
  {
   "cell_type": "code",
   "execution_count": 3,
   "id": "0ce969d2-9064-4aa0-8387-3089f7898bd7",
   "metadata": {},
   "outputs": [
    {
     "data": {
      "text/plain": [
       "Index(['id6', 'id7', 'id8'], dtype='object', name='id')"
      ]
     },
     "execution_count": 3,
     "metadata": {},
     "output_type": "execute_result"
    }
   ],
   "source": [
    "m.cleanIds"
   ]
  },
  {
   "cell_type": "markdown",
   "id": "43667a27-4690-4d0c-9055-b1c151c89dbd",
   "metadata": {},
   "source": [
    "The RES constraint can  thus be written as:\n",
    "$$\\begin{align}\n",
    "    \\sum_{id \\in \\text{cleanIds}} E_{id} \\geq \\text{Load} \\cdot RESCap.\n",
    "\\end{align}$$\n",
    "Multiply by $-1$ on both sides (this reverses the '$\\geq$' to '$\\leq$') to get the inequality on the form:\n",
    "$$\\begin{align}\n",
    "    -\\sum_{id \\in \\text{cleanIds}} E_{id} \\leq - \\text{Load} \\cdot RESCap.\n",
    "\\end{align}$$\n"
   ]
  },
  {
   "cell_type": "markdown",
   "id": "6efcc1e4-f7b4-4cbc-867f-f122bf645174",
   "metadata": {},
   "source": [
    "### **Augmented-form LP**"
   ]
  },
  {
   "cell_type": "markdown",
   "id": "eaffeb40-93c5-478c-b53c-6bee7000a430",
   "metadata": {},
   "source": [
    "To solve the model, the algorithm in ```scipy.optimize.linprog``` requires that we specify the problem in the 'augmented'-form that specifically looks as follows:\n",
    "$$\\begin{align} \\tag{2}\n",
    "    &\\min_{x}\\mbox{ }c^T\\cdot x \\\\ \n",
    "    &A_{ub}\\times x \\leq b_{ub} \\\\ \n",
    "    &A_{eq}\\times x  = b_{eq} \\\\ \n",
    "    &l\\leq x\\leq u,\n",
    "\\end{align}$$\n",
    "where \n",
    "* $c,x,l,u$ are all vectors of the same length $N$, \n",
    "* $b_{eq},b_{ub}$ are vectors of lengths $N_{eq},N_{ub}$ respectively,\n",
    "* and $A_{eq}, A_{ub}$ are coefficient matrices of sizes $(N_{eq}\\times N)$ and $(N_{ub} \\times N)$ respectively."
   ]
  },
  {
   "cell_type": "markdown",
   "id": "9f49e73b-88b1-408b-b459-7fd1ca30f5d7",
   "metadata": {},
   "source": [
    "Extending the model with a RES-target is relatively straightforward as it means including an inequality constraint. Specifically, the augmented form becomes (note $A_{ub}$ is transposed here):\n",
    "<b id='augmentedForm'>\n",
    "    \n",
    "$$\\begin{align}\\tag{3}\n",
    "c = \\begin{pmatrix} mc_{id1} \\\\ \\vdots \\\\ mc_{idN}\\end{pmatrix}, \\qquad l = \\begin{pmatrix} 0 \\\\ \\vdots \\\\ 0 \\end{pmatrix}, \\qquad u = \\begin{pmatrix} q_{id1} \\\\ \\vdots \\\\ q_{idN}\\end{pmatrix}, \\qquad b_{eq} = L, \\qquad A_{eq} = \\begin{pmatrix} 1 & \\cdots & 1 \\end{pmatrix}, \\qquad b_{ub} = -\\text{Load}\\cdot \\text{RESCap}, \\qquad A_{ub} = - \\begin{pmatrix} \\mathbb{1}_{id1 \\in \\text{cleanIds}} \\\\  \\mathbb{1}_{idN \\in \\text{cleanIds}} \\end{pmatrix}^T,\n",
    "\\end{align}$$\n",
    "\n",
    "where $\\mathbb{1}_{idn\\in\\text{cleanIds}}$ is a dummy variable that is $1$ if $idn$ is a clean id and 0 if not.\n"
   ]
  },
  {
   "cell_type": "markdown",
   "id": "cb10bdad-3940-4458-a983-3740c02f3b18",
   "metadata": {
    "tags": []
   },
   "source": [
    "### Adjustments to the code"
   ]
  },
  {
   "cell_type": "markdown",
   "id": "3d10f2a9-2704-40ea-89df-3b6f0e03ffd7",
   "metadata": {},
   "source": [
    "Compared to ```mBasic``` the main adjustment is that there is an added ```block``` of the type ```ub```:"
   ]
  },
  {
   "cell_type": "markdown",
   "id": "d267c9ec-263d-4ea2-818c-44391645f2f6",
   "metadata": {},
   "source": [
    "<img src=\"snippets/mBasic_RES_snippet.png\" width=\"1300\" height=\"400\">"
   ]
  },
  {
   "cell_type": "markdown",
   "id": "e52ffc69-d1cf-4bcd-878e-2202e90d7553",
   "metadata": {},
   "source": [
    "The specification of the constraint is in terms of syntax equivalent to the ```eq``` constraints:\n",
    "* There is a constraint named ```RESCapConstraint``` ,\n",
    "* with the parameter constraint $b_{ub}$ from ```-self.db['RESCap'] * self.getLoad```.\n",
    "* $A_{ub}$ coefficients for this constraint are on the variable ```'Generation'``` and specifically given by $-1$, but only for the ids that are in ```self.cleanIds```. \n",
    "\n",
    "The conditional that only ```self.cleanIds``` should be included in the constraint is provided using the keyword ```'conditions'``` as outlined above. When supplying this keyword, the model uses a small, homemade function ```rc_pd``` that matches on index levels. Specifically, it looks at the vector ```Generation``` and checks that is defined over the index ```id```:"
   ]
  },
  {
   "cell_type": "code",
   "execution_count": 4,
   "id": "3d173415-e264-4c40-8abf-46c963075c80",
   "metadata": {},
   "outputs": [
    {
     "data": {
      "text/plain": [
       "id\n",
       "id1    10.0\n",
       "id2     0.0\n",
       "id3    10.0\n",
       "id4    30.0\n",
       "id5     5.0\n",
       "id6     0.0\n",
       "id7    35.0\n",
       "id8    10.0\n",
       "dtype: float64"
      ]
     },
     "execution_count": 4,
     "metadata": {},
     "output_type": "execute_result"
    }
   ],
   "source": [
    "m.db['Generation']"
   ]
  },
  {
   "cell_type": "markdown",
   "id": "d9bc5521-5fa3-46a9-a726-97520d331b4f",
   "metadata": {},
   "source": [
    "Then it looks at the index used in the conditional; this is also defined over ```id```:"
   ]
  },
  {
   "cell_type": "code",
   "execution_count": 5,
   "id": "ea189e84-ce53-4b98-b43f-7c22c8b919a0",
   "metadata": {},
   "outputs": [
    {
     "data": {
      "text/plain": [
       "Index(['id6', 'id7', 'id8'], dtype='object', name='id')"
      ]
     },
     "execution_count": 5,
     "metadata": {},
     "output_type": "execute_result"
    }
   ],
   "source": [
    "m.cleanIds"
   ]
  },
  {
   "cell_type": "markdown",
   "id": "a518f29b-9d66-4e1d-b2e2-b2986aeb80e2",
   "metadata": {},
   "source": [
    "Using ```rc_pd```, we look for all overlapping domains (thus, also works with more complicated indices, also with partial overlaps):"
   ]
  },
  {
   "cell_type": "code",
   "execution_count": 6,
   "id": "88c19d08-bdfe-485f-bfd4-8f66ba1cdbe9",
   "metadata": {},
   "outputs": [
    {
     "data": {
      "text/plain": [
       "id\n",
       "id6     0.0\n",
       "id7    35.0\n",
       "id8    10.0\n",
       "Name: 0, dtype: float64"
      ]
     },
     "execution_count": 6,
     "metadata": {},
     "output_type": "execute_result"
    }
   ],
   "source": [
    "rc_pd(m.db['Generation'], m.cleanIds)"
   ]
  }
 ],
 "metadata": {
  "kernelspec": {
   "display_name": "Python 3 (ipykernel)",
   "language": "python",
   "name": "python3"
  },
  "language_info": {
   "codemirror_mode": {
    "name": "ipython",
    "version": 3
   },
   "file_extension": ".py",
   "mimetype": "text/x-python",
   "name": "python",
   "nbconvert_exporter": "python",
   "pygments_lexer": "ipython3",
   "version": "3.9.7"
  }
 },
 "nbformat": 4,
 "nbformat_minor": 5
}
