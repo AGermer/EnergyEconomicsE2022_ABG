{
 "cells": [
  {
   "cell_type": "code",
   "execution_count": 1,
   "id": "7befade0-bc0e-410c-8b9f-7520c90686c2",
   "metadata": {},
   "outputs": [],
   "source": [
    "%run stdPackages.ipynb\n",
    "slides = False # print to slides format if True\n",
    "out_folder = os.path.join(d['curr'], 'Misc', 'Figs')\n",
    "d['data'] = os.path.join(d['curr'],'Misc','Data')\n",
    "read = {'variables': ['Fundamentals', 'Load', 'Generators_Other'], \n",
    "        'variable2D': ['Generators_FuelMix','HourlyVariation'],\n",
    "        'scalars': ['MWP'],\n",
    "        'maps': ['Generators_Categories']}\n",
    "db = dbFromWB(os.path.join(d['data'],'mBasicInt1.xlsx'), read)\n",
    "readSets(db)"
   ]
  },
  {
   "cell_type": "markdown",
   "id": "ac04f37b-5d11-4b0a-9d19-9bfc5956dbff",
   "metadata": {},
   "source": [
    "Set up model and solve:"
   ]
  },
  {
   "cell_type": "code",
   "execution_count": 2,
   "id": "79299241-63bd-483d-926b-4cdfd9bacafa",
   "metadata": {},
   "outputs": [
    {
     "name": "stdout",
     "output_type": "stream",
     "text": [
      "Solution status 0: Optimization terminated successfully.\n"
     ]
    }
   ],
   "source": [
    "m = mBasicInt.mBasicInt(db)\n",
    "m.solve()"
   ]
  },
  {
   "cell_type": "markdown",
   "id": "9fef1255-6a74-4211-9649-6060bcfb9344",
   "metadata": {},
   "source": [
    "#### Capacity Factors"
   ]
  },
  {
   "cell_type": "markdown",
   "id": "187a7099-5465-491f-b007-2ae2bd23d2b5",
   "metadata": {},
   "source": [
    "Inspect capacity factors compared to marginal costs:from matplotlib.ticker import MaxNLocator"
   ]
  },
  {
   "cell_type": "code",
   "execution_count": 3,
   "id": "486c3f65-d72e-4980-8ff1-37ff227895b9",
   "metadata": {},
   "outputs": [],
   "source": [
    "types = {'id1': 'Coal', 'id2': 'Gas', 'id3': 'Bio', 'id4': 'Wind'}"
   ]
  },
  {
   "cell_type": "code",
   "execution_count": 4,
   "id": "0a708e20-1784-4ddf-8220-32523c131c77",
   "metadata": {},
   "outputs": [],
   "source": [
    "df = pd.DataFrame({'TCF': mBasicInt.theoreticalCapacityFactor(m.db), \n",
    "                   'PCF': mBasicInt.practicalCapacityFactor(m),\n",
    "                   'mc' : m.db['mc']}).sort_values(by='mc')\n",
    "df.index = df.index.map(types)"
   ]
  },
  {
   "cell_type": "code",
   "execution_count": 5,
   "id": "21d66f69-b148-4edc-a1a4-ab5731e24d79",
   "metadata": {},
   "outputs": [],
   "source": [
    "%%capture\n",
    "one_graph()\n",
    "fig, ax1 = plt.subplots(1,1,figsize = (14,8))\n",
    "ax2 = ax1.twinx()\n",
    "df[['TCF','PCF']].plot.bar(ax=ax1, legend=False, linewidth=0)\n",
    "ax1.set_yticks(np.linspace(0, 1, 5))\n",
    "ax1.set_ylim([0, 1]);\n",
    "ax1.set_ylabel('$CF_{id}$', labelpad=10);\n",
    "ax1.set_xlabel('Plant type', labelpad=10);\n",
    "\n",
    "df['mc'].plot(ax=ax2, legend=False, linewidth=3, color = colors[2]);\n",
    "ax2.set_yticks(np.linspace(0, 16, 5))\n",
    "ax2.set_ylim([0, 16]);\n",
    "ax2.set_ylabel('$MC_{id}$', labelpad=10);\n",
    "ax2.grid(None);\n",
    "\n",
    "fig.legend(['TCF', 'PCF', 'MC'],loc=9,ncol=3,frameon=True)\n",
    "fig.tight_layout();\n",
    "fig.subplots_adjust(top=0.9);\n",
    "\n",
    "if slides:\n",
    "    fig.savefig(f\"{out_folder}\\\\mBasicInt_CF_slides.pdf\",facecolor='#FAFAFA',edgecolor='k')\n",
    "else:\n",
    "    fig.savefig(f\"{out_folder}\\\\mBasicInt_CF.pdf\",edgecolor='k')"
   ]
  },
  {
   "cell_type": "markdown",
   "id": "2a7fa936-053d-4557-bf87-ab39f167211a",
   "metadata": {},
   "source": [
    "#### Average capacity costs, average energy costs"
   ]
  },
  {
   "cell_type": "markdown",
   "id": "4047e709-c25e-47dc-a8d9-50d5bb172ee3",
   "metadata": {},
   "source": [
    "Plot average FOM costs:"
   ]
  },
  {
   "cell_type": "markdown",
   "id": "65a5cdb9-8135-412e-933b-5aade4490144",
   "metadata": {},
   "source": [
    "FOM with plant types instead of ids:"
   ]
  },
  {
   "cell_type": "code",
   "execution_count": 6,
   "id": "01624917-1daa-48b7-982f-6adaef9eaacd",
   "metadata": {},
   "outputs": [
    {
     "data": {
      "text/plain": [
       "Index(['Wind', 'Coal', 'Gas', 'Bio'], dtype='object', name='id')"
      ]
     },
     "execution_count": 6,
     "metadata": {},
     "output_type": "execute_result"
    }
   ],
   "source": [
    "df.index"
   ]
  },
  {
   "cell_type": "code",
   "execution_count": 7,
   "id": "efad120b-640e-46dc-a45e-279cbbbc43bc",
   "metadata": {},
   "outputs": [],
   "source": [
    "s = m.db['FOM'].set_axis(m.db['FOM'].index.map(types)).reindex(df.index)"
   ]
  },
  {
   "cell_type": "code",
   "execution_count": 8,
   "id": "dee73443-c74e-465f-b0bf-256d5f37901d",
   "metadata": {},
   "outputs": [],
   "source": [
    "%%capture\n",
    "one_graph()\n",
    "fig, ax = plt.subplots(1,1,figsize = (14,8))\n",
    "s.plot.bar(ax=ax, legend=False);\n",
    "ax.set_ylabel('( 1000 €/ (GJ/h capacity) ) / year', labelpad=10);\n",
    "ax.set_xlabel('Plant type', labelpad=10);\n",
    "fig.tight_layout();\n",
    "if slides:\n",
    "    fig.savefig(f\"{out_folder}\\\\mBasicInt_FOM_slides.pdf\",facecolor='#FAFAFA',edgecolor='k')\n",
    "else:\n",
    "    fig.savefig(f\"{out_folder}\\\\mBasicInt_FOM.pdf\",edgecolor='k')"
   ]
  },
  {
   "cell_type": "markdown",
   "id": "16048ca2-f81b-443d-a633-cd5721bc5dfb",
   "metadata": {},
   "source": [
    "Plot average capacity costs and energy costs against marginal costs:"
   ]
  },
  {
   "cell_type": "code",
   "execution_count": 9,
   "id": "875d5347-ad8c-41b2-a7ba-3207863d2005",
   "metadata": {},
   "outputs": [],
   "source": [
    "fcosts = mBasicInt.fixedCosts(m.db) * 1000\n",
    "fcosts_ACC = fcosts/m.db['GeneratingCapacity']\n",
    "fcosts_AEC = fcosts/pdSum(m.db['Generation'], 'h')"
   ]
  },
  {
   "cell_type": "code",
   "execution_count": 10,
   "id": "d45166c6-36a2-4e9b-bb78-a0748f594a86",
   "metadata": {},
   "outputs": [],
   "source": [
    "df = pd.concat({('variable','ACC'): m.db['capacityCosts']-fcosts_ACC,\n",
    "                ('fixed', 'ACC'): fcosts_ACC,\n",
    "                ('variable','AEC'): m.db['energyCosts']-fcosts_AEC,\n",
    "                ('fixed', 'AEC'): fcosts_AEC,\n",
    "                ('', 'mc'): m.db['mc']}, names = ['type','variable']).unstack(['variable','type']).sort_values(by='mc')\n",
    "df.index = df.index.map(types)"
   ]
  },
  {
   "cell_type": "code",
   "execution_count": 11,
   "id": "b1107cd1-b2ed-4d7d-b3c6-d973450a9a11",
   "metadata": {},
   "outputs": [],
   "source": [
    "%%capture\n",
    "mult_graphs()\n",
    "nplots = 2\n",
    "nrows = math.ceil(nplots/2)\n",
    "fig, axes = plt.subplots(nrows, min(nplots, 2), figsize = (14, (6*nrows)));\n",
    "plt.subplots_adjust(hspace=0.35)\n",
    "# Plot 1:\n",
    "ax = plt.subplot(nrows, min(nplots,2), 1)\n",
    "df['ACC'].plot.bar(ax=ax, stacked=True, legend=False)\n",
    "ax.set_xlabel('Plant type', labelpad=10);\n",
    "ax.set_ylabel(\"$ACC$\", labelpad=10);\n",
    "ax.set_yticks(np.linspace(0, 25, 6))\n",
    "ax.set_ylim([0, 25]);\n",
    "\n",
    "# Plot 2: Zooming in\n",
    "ax = plt.subplot(nrows, min(nplots,2), 2)\n",
    "df['AEC'].plot.bar(ax=ax, stacked=True, legend=False);\n",
    "ax.set_xlabel('Plant type', labelpad=10);\n",
    "ax.set_ylabel(\"$AEC$\",labelpad=10);\n",
    "ax.set_yticks(np.linspace(0, 20, 6))\n",
    "ax.set_ylim([0, 20]);\n",
    "\n",
    "fig.legend(df['ACC'].columns,loc=9,ncol=3,frameon=True)\n",
    "fig.tight_layout();\n",
    "fig.subplots_adjust(top=0.88);\n",
    "if slides:\n",
    "    fig.savefig(f\"{out_folder}\\\\mBasicInt_ACC_slides.pdf\",facecolor='#FAFAFA',edgecolor='k')\n",
    "else:\n",
    "    fig.savefig(f\"{out_folder}\\\\mBasicInt_ACC.pdf\",edgecolor='k')"
   ]
  },
  {
   "cell_type": "markdown",
   "id": "e4599216-a0b2-4cb6-b326-007685d5bc3b",
   "metadata": {},
   "source": [
    "#### Marginal economic value:"
   ]
  },
  {
   "cell_type": "markdown",
   "id": "7e306da1-7f56-4f7a-9ddb-aa4b31d37015",
   "metadata": {},
   "source": [
    "Plot marginal economic value decomposed into revenue and costs part:"
   ]
  },
  {
   "cell_type": "code",
   "execution_count": 12,
   "id": "9b5d6a73-4660-4816-a681-b28d35919384",
   "metadata": {},
   "outputs": [
    {
     "data": {
      "text/plain": [
       "id\n",
       "id1    24.092022\n",
       "id2    17.566069\n",
       "id3     5.944347\n",
       "id4    11.100167\n",
       "dtype: object"
      ]
     },
     "execution_count": 12,
     "metadata": {},
     "output_type": "execute_result"
    }
   ],
   "source": [
    "mBasicInt.marginalEconomicValue(m)"
   ]
  },
  {
   "cell_type": "code",
   "execution_count": 13,
   "id": "3bc776ba-4220-4787-9962-5eeb29d03d74",
   "metadata": {},
   "outputs": [],
   "source": [
    "df = pd.DataFrame({'revenue': mBasicInt.marginalEconomicRevenue(m),\n",
    "                   'costs': mBasicInt.marginalEconomicValue(m)-mBasicInt.marginalEconomicRevenue(m),\n",
    "                   'value': mBasicInt.marginalEconomicValue(m)\n",
    "                  }).sort_values(by='value', ascending = False)\n",
    "df.index = df.index.map(types)"
   ]
  },
  {
   "cell_type": "code",
   "execution_count": 15,
   "id": "645b5bc7-09bb-42f9-81ea-85f9f6550f4e",
   "metadata": {},
   "outputs": [],
   "source": [
    "%%capture\n",
    "one_graph()\n",
    "fig, ax1 = plt.subplots(1,1,figsize = (14,8))\n",
    "\n",
    "df[['revenue','costs']].plot.bar(ax=ax1, stacked=True, color = colors[1:3], align='edge', width = -0.25, legend=False)\n",
    "ax1.set_ylim([-20, 50]);\n",
    "ax1.set_ylabel('$\\Delta €/\\Delta q_i$', labelpad=10);\n",
    "ax1.set_xlabel('Plant type', labelpad=10);\n",
    "\n",
    "\n",
    "ax2 = ax1.twinx()\n",
    "df['value'].plot.bar(ax=ax2, color = colors[0], align='edge', width = 0.25, linestyle = '--', edgecolor = 'k', linewidth = 1, legend=False)\n",
    "ax2.set_ylim([-20, 50]);\n",
    "ax2.set_yticks([])\n",
    "ax2.set_xlim([-.5, len(df['value'])-0.5])\n",
    "\n",
    "\n",
    "fig.legend(['$\\sum_h \\mathbb{1}_{\\overline{\\\\vartheta}_{i,h}}\\cdot \\lambda_h \\cdot \\gamma_{i,h}$', \n",
    "            '$ c_i\\cdot \\sum_h \\mathbb{1}_{\\overline{\\\\vartheta}_{i,h}} \\cdot \\gamma_{i,h}-FOM_i$', \n",
    "            '$\\partial \\mathcal{L}^B/\\partial q_i$'],\n",
    "           loc=9,ncol=3,frameon=True)\n",
    "fig.tight_layout();\n",
    "fig.subplots_adjust(top=0.85);\n",
    "\n",
    "if slides:\n",
    "    fig.savefig(f\"{out_folder}\\\\mBasicInt_EconomicValue_slides.pdf\",facecolor='#FAFAFA',edgecolor='k')\n",
    "else:\n",
    "    fig.savefig(f\"{out_folder}\\\\mBasicInt_EconomicValue.pdf\",edgecolor='k')"
   ]
  }
 ],
 "metadata": {
  "kernelspec": {
   "display_name": "Python 3 (ipykernel)",
   "language": "python",
   "name": "python3"
  },
  "language_info": {
   "codemirror_mode": {
    "name": "ipython",
    "version": 3
   },
   "file_extension": ".py",
   "mimetype": "text/x-python",
   "name": "python",
   "nbconvert_exporter": "python",
   "pygments_lexer": "ipython3",
   "version": "3.9.7"
  }
 },
 "nbformat": 4,
 "nbformat_minor": 5
}
