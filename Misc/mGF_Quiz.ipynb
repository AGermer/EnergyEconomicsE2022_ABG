{
 "cells": [
  {
   "cell_type": "code",
   "execution_count": 1,
   "id": "958b3b1c-bf0d-464a-9b11-3eaad653bcbd",
   "metadata": {},
   "outputs": [],
   "source": [
    "%run stdPackages.ipynb\n",
    "slides = True # print to slides format if True\n",
    "out_folder = os.path.join(d['curr'], 'Misc', 'Figs','quiz')\n",
    "d['data'] = os.path.join(d['curr'],'Misc','Data')\n",
    "read = {'variables': ['Fundamentals', 'LoadVariables', 'TransmissionLines', 'GeneratorsVariables'],\n",
    "        'maps': ['LoadMaps','GeneratorsMaps'],\n",
    "        'variable2D': ['LoadVariation_E','LoadVariation_H','HourlyVariation'],\n",
    "        'scalars': ['Scalars']}\n",
    "db = dbFromWB(os.path.join(d['data'],'mGF_PH_ThellufsenEtAl2022.xlsx'), read)\n",
    "readSets(db)"
   ]
  },
  {
   "cell_type": "markdown",
   "id": "4f93d6dc-3d85-4746-a936-b135eb72cc6e",
   "metadata": {},
   "source": [
    "# Greenfield experiments with Danish-looking aggregate data"
   ]
  },
  {
   "cell_type": "markdown",
   "id": "af6f20c8-a1fa-462d-b834-f3a40c91afad",
   "metadata": {
    "tags": []
   },
   "source": [
    "### 1. Descriptive"
   ]
  },
  {
   "cell_type": "markdown",
   "id": "9aa62f38-4e9d-41c0-a1cd-e000a542aefe",
   "metadata": {},
   "source": [
    "Let's start by plotting time series data. Collect all hourly variation in one dataframe:"
   ]
  },
  {
   "cell_type": "code",
   "execution_count": 2,
   "id": "837c3b8e-8f10-408e-aaef-be04bd6c9189",
   "metadata": {},
   "outputs": [],
   "source": [
    "load_E = db['LoadVariation_E'].rename_axis(index={'c_E':'hvt'})\n",
    "load_E.index = load_E.index.set_levels('Load E_'+load_E.index.levels[-1], level='hvt')\n",
    "load_H = db['LoadVariation_H'].rename_axis(index={'c_H':'hvt'})\n",
    "load_H.index = load_H.index.set_levels('Load H_'+load_H.index.levels[-1], level='hvt')\n",
    "df_H = pd.concat([db['CapVariation'].unstack('hvt'), load_E.unstack('hvt'), load_H.unstack('hvt')], axis=1).astype(float)"
   ]
  },
  {
   "cell_type": "markdown",
   "id": "166183c7-d4b1-41de-873a-127833524469",
   "metadata": {},
   "source": [
    "Split the samples into DK1 and DK2 time series':"
   ]
  },
  {
   "cell_type": "code",
   "execution_count": 3,
   "id": "2a64774e-2b3f-4135-b5f5-a2106658b86a",
   "metadata": {},
   "outputs": [
    {
     "name": "stdout",
     "output_type": "stream",
     "text": [
      "\\begin{tabular}{lrrrrrrr}\n",
      "\\toprule\n",
      "hvt &    PV &  WNearShore &  WOffShore &  WOnShore &  Load E &  Load H &    SH \\\\\n",
      "hvt        &       &             &            &           &         &         &       \\\\\n",
      "\\midrule\n",
      "PV         &  1.00 &       -0.20 &      -0.21 &     -0.15 &    0.18 &   -0.27 &  0.49 \\\\\n",
      "WNearShore & -0.20 &        1.00 &       0.77 &      0.91 &    0.28 &    0.39 & -0.22 \\\\\n",
      "WOffShore  & -0.21 &        0.77 &       1.00 &      0.82 &    0.20 &    0.34 & -0.18 \\\\\n",
      "WOnShore   & -0.15 &        0.91 &       0.82 &      1.00 &    0.26 &    0.40 & -0.18 \\\\\n",
      "Load E     &  0.18 &        0.28 &       0.20 &      0.26 &    1.00 &    0.34 & -0.10 \\\\\n",
      "Load H     & -0.27 &        0.39 &       0.34 &      0.40 &    0.34 &    1.00 & -0.35 \\\\\n",
      "SH         &  0.49 &       -0.22 &      -0.18 &     -0.18 &   -0.10 &   -0.35 &  1.00 \\\\\n",
      "\\bottomrule\n",
      "\\end{tabular}\n",
      "\n"
     ]
    }
   ],
   "source": [
    "DK1 = df_H.columns[df_H.columns.str.contains('DK1')].union(['SH'])\n",
    "DK2 = df_H.columns[df_H.columns.str.contains('DK2')].union(['SH'])\n",
    "df_DK1 = df_H[DK1]\n",
    "df_DK2 = df_H[DK2]\n",
    "df_DK1.columns = df_DK1.columns.str.strip('_DK1')\n",
    "df_DK2.columns = df_DK1.columns.str.strip('_DK2')\n",
    "print(df_DK1.corr().round(2).to_latex())"
   ]
  },
  {
   "cell_type": "code",
   "execution_count": 4,
   "id": "3896f02c-13c0-4d0a-ac75-1f50717aabba",
   "metadata": {},
   "outputs": [
    {
     "name": "stdout",
     "output_type": "stream",
     "text": [
      "\\begin{tabular}{lrrrrrrr}\n",
      "\\toprule\n",
      "hvt &    PV &  WNearShore &  WOffShore &  WOnShore &  Load E &  Load H &    SH \\\\\n",
      "hvt        &       &             &            &           &         &         &       \\\\\n",
      "\\midrule\n",
      "PV         &  1.00 &       -0.21 &      -0.13 &     -0.13 &    0.16 &   -0.23 &  0.48 \\\\\n",
      "WNearShore & -0.21 &        1.00 &       0.87 &      0.82 &    0.20 &    0.29 & -0.21 \\\\\n",
      "WOffShore  & -0.13 &        0.87 &       1.00 &      0.76 &    0.17 &    0.24 & -0.16 \\\\\n",
      "WOnShore   & -0.13 &        0.82 &       0.76 &      1.00 &    0.28 &    0.36 & -0.20 \\\\\n",
      "Load E     &  0.16 &        0.20 &       0.17 &      0.28 &    1.00 &    0.40 & -0.12 \\\\\n",
      "Load H     & -0.23 &        0.29 &       0.24 &      0.36 &    0.40 &    1.00 & -0.34 \\\\\n",
      "SH         &  0.48 &       -0.21 &      -0.16 &     -0.20 &   -0.12 &   -0.34 &  1.00 \\\\\n",
      "\\bottomrule\n",
      "\\end{tabular}\n",
      "\n"
     ]
    }
   ],
   "source": [
    "print(df_DK2.corr().round(2).to_latex())"
   ]
  },
  {
   "cell_type": "markdown",
   "id": "766fc47f-265f-41aa-8005-aa6ec5093b30",
   "metadata": {},
   "source": [
    "The marginal costs:"
   ]
  },
  {
   "cell_type": "code",
   "execution_count": 5,
   "id": "c113dbb5-54aa-4061-8561-37db1aea6281",
   "metadata": {},
   "outputs": [],
   "source": [
    "m = mGF_PH.mSimple(db)\n",
    "m.preSolve()"
   ]
  },
  {
   "cell_type": "markdown",
   "id": "25d6dd95-00fe-46af-9e24-e5711a6500f7",
   "metadata": {},
   "source": [
    "### 2. Create *design days approach*-like input data from full yearly samples"
   ]
  },
  {
   "cell_type": "code",
   "execution_count": 6,
   "id": "b5b95cbd-92ee-4b53-bf67-22912899a4eb",
   "metadata": {},
   "outputs": [],
   "source": [
    "db_before = db.copy()"
   ]
  },
  {
   "cell_type": "markdown",
   "id": "20c5dfa6-7171-4d6b-9288-af7183b0ee8e",
   "metadata": {},
   "source": [
    "*Create representative days for each month instead:*"
   ]
  },
  {
   "cell_type": "code",
   "execution_count": 7,
   "id": "2b561ac1-f79f-454a-bf82-5046d1c1288d",
   "metadata": {},
   "outputs": [],
   "source": [
    "lm = [31,28,31,30,31,30,31,31,30,31,30,31] # number of days in the months\n",
    "months = [i for l in [[j+1]*24*lm[j] for j in range(len(lm))] for i in l]\n",
    "hours  = [j for l in [range(1,25)]*365 for j in l]\n",
    "map_ = pd.MultiIndex.from_arrays([db['h'], hours, months], names = ['h','h_new','month'])\n",
    "map2flat = pd.MultiIndex.from_arrays([pd.MultiIndex.from_arrays([months,hours]).to_flat_index(),months,hours], names = ['h','month','h_new']).unique()\n",
    "map_flat = pd.MultiIndex.from_arrays([db['h'], pd.MultiIndex.from_arrays([months,hours]).to_flat_index()], names = ['h','h_new'])"
   ]
  },
  {
   "cell_type": "markdown",
   "id": "1f9580e9-2dff-4dd1-ba0b-0c466ac883c0",
   "metadata": {},
   "source": [
    "*Use a version of aggregation that uses extreme values instead of averages (if a cluster group is below average --> use minimum observation, if a cluster group is above average --> use maximum observation):*"
   ]
  },
  {
   "cell_type": "code",
   "execution_count": 8,
   "id": "a3aab894-5f5f-47c2-8312-ad7141de960a",
   "metadata": {},
   "outputs": [],
   "source": [
    "def aggregateV1(v, map_, map2flat):\n",
    "    \"\"\" Map variable 'v' to hours and months. Flatten index to 1d\"\"\"\n",
    "    v_gb = applyMult(v,map_).groupby(list(set(v.index.names).union(['h_new','month'])-set('h')))\n",
    "    v_min,v_mean,v_max = v_gb.min()*v_gb.count(), v_gb.sum(), v_gb.max()*v_gb.count()\n",
    "    mean_ = v_mean.groupby(list(set(v.index.names).union(['month'])-set('h'))).mean()\n",
    "    v_new = pd.concat([v_min[(v_mean-mean_<=0).reorder_levels(v_mean.index.names)], v_max[(v_mean-mean_>0).reorder_levels(v_mean.index.names)]])\n",
    "    v_new = applyMult(v_new, map2flat).droplevel(['h_new','month']).reorder_levels(v.index.names)\n",
    "    return v_new * pdSum(v,'h') / pdSum(v_new,'h')\n",
    "def aggregateV2(v, map_flat):\n",
    "    \"\"\" Map variable 'v' to flat index of months/hours directly. \"\"\"\n",
    "    v_gb = applyMult(v,map_).groupby([k if k!='h' else 'h_new' for k in v.index.names])\n",
    "    v_min,v_mean,v_max = v_gb.min()*v_gb.count(), v_gb.sum(), v_gb.max()*v_gb.count()\n",
    "    mean_ = v_mean.groupby([k for k in v.index.names if k!='h']).mean()\n",
    "    v_new = pd.concat([v_min[v_mean-mean_<=0], v_max[v_mean-mean_>0]]).rename_axis(index={'h_new':'h'})\n",
    "    return v_new * pdSum(v,'h')/ pdSum(v_new,'h')"
   ]
  },
  {
   "cell_type": "markdown",
   "id": "2262b968-e408-4391-bf00-c734af37d44f",
   "metadata": {},
   "source": [
    "*Update symbols in database*"
   ]
  },
  {
   "cell_type": "code",
   "execution_count": 9,
   "id": "82321790-b7bd-49ba-8a3f-60db4d4c1d22",
   "metadata": {},
   "outputs": [],
   "source": [
    "[db.__setitem__(k,aggregateV1(db[k], map_, map2flat)) for k in db.variableDomains('h')];\n",
    "# [db.__setitem__(k,aggregateV2(db[k], map_flat)) for k in db.variableDomains('h')];\n",
    "db['h'] = db['CapVariation'].index.levels[0] # update 'h' as well"
   ]
  },
  {
   "cell_type": "markdown",
   "id": "35d815bb-8999-4ae2-94b5-21e2a521728a",
   "metadata": {},
   "source": [
    "### 3. Baseline model without aggregate capacity constraints"
   ]
  },
  {
   "cell_type": "code",
   "execution_count": 10,
   "id": "32e711de-e510-44de-985f-9620f7ccaed9",
   "metadata": {},
   "outputs": [
    {
     "name": "stdout",
     "output_type": "stream",
     "text": [
      "Solution status 0: Optimization terminated successfully. (HiGHS Status 7: Optimal)\n"
     ]
    }
   ],
   "source": [
    "m = mGF_PH.mMultipleConsumers(db)\n",
    "m.solve()"
   ]
  },
  {
   "cell_type": "markdown",
   "id": "ca6fc64d-c142-4b32-8d7f-93470aa3d2f4",
   "metadata": {},
   "source": [
    "*Extract solution:*"
   ]
  },
  {
   "cell_type": "code",
   "execution_count": 11,
   "id": "3c6ccba6-e759-4296-94ad-77776d10aa8c",
   "metadata": {},
   "outputs": [],
   "source": [
    "os.chdir(c)\n",
    "%run auxQuiz.ipynb"
   ]
  },
  {
   "cell_type": "code",
   "execution_count": 12,
   "id": "598a067a-d527-44e3-8076-3551597878f4",
   "metadata": {},
   "outputs": [],
   "source": [
    "%%capture\n",
    "baseline = getSolution(m, 'baseline')\n",
    "printLevels(baseline)"
   ]
  },
  {
   "cell_type": "markdown",
   "id": "4b98c6a6-45ee-48fa-9287-4ea1c08391b9",
   "metadata": {},
   "source": [
    "## 4: Shocks:"
   ]
  },
  {
   "cell_type": "markdown",
   "id": "96417a93-e395-43f9-961a-e3e10e23847d",
   "metadata": {},
   "source": [
    "### 4.1: Remove heat pumps"
   ]
  },
  {
   "cell_type": "code",
   "execution_count": 13,
   "id": "1ed1c819-4812-488c-928f-5d67dc7c5053",
   "metadata": {},
   "outputs": [
    {
     "name": "stdout",
     "output_type": "stream",
     "text": [
      "Solution status 0: Optimization terminated successfully. (HiGHS Status 7: Optimal)\n"
     ]
    }
   ],
   "source": [
    "name = 'HP'\n",
    "m.db['TechCap_H'] = (rc_pd(m.db['TechCap_H'], pd.Index(['HP'],name='tech')) * 0).combine_first(m.db['TechCap_H'])\n",
    "m.solve()"
   ]
  },
  {
   "cell_type": "markdown",
   "id": "b1116657-fee2-4fb5-9c41-177d272f2911",
   "metadata": {},
   "source": [
    "*Extract solution:*"
   ]
  },
  {
   "cell_type": "code",
   "execution_count": 14,
   "id": "34499b42-c9fb-4902-bf6f-64898a7acfb4",
   "metadata": {},
   "outputs": [],
   "source": [
    "HP = getSolution(m, name)"
   ]
  },
  {
   "cell_type": "markdown",
   "id": "14dbe188-b5e5-4acc-9a0f-5dd7d52ee654",
   "metadata": {},
   "source": [
    "*Print levels and comparisons:*"
   ]
  },
  {
   "cell_type": "code",
   "execution_count": 15,
   "id": "cb0f8f78-7531-48d7-8735-bcbee3410ba0",
   "metadata": {},
   "outputs": [],
   "source": [
    "%%capture\n",
    "printLevels(HP)\n",
    "printShock(compareSol(HP,baseline,f\"{HP['name']}_vs_{baseline['name']}\"), base = 'HP')"
   ]
  },
  {
   "cell_type": "markdown",
   "id": "e05af52a-fb24-406f-a7b4-4151ad357c64",
   "metadata": {},
   "source": [
    "### 4.2: NIMBY constraints"
   ]
  },
  {
   "cell_type": "code",
   "execution_count": 16,
   "id": "57ea2545-9c0c-45aa-9656-e5d959580b80",
   "metadata": {},
   "outputs": [
    {
     "name": "stdout",
     "output_type": "stream",
     "text": [
      "Solution status 0: Optimization terminated successfully. (HiGHS Status 7: Optimal)\n"
     ]
    }
   ],
   "source": [
    "name = 'NIMBY'\n",
    "m.db = baseline['db'].copy()\n",
    "m.db['TechCap_E'] = pd.Series([2.5, 2.5, 8, 8], index = pd.MultiIndex.from_tuples([('DK1','PV'),('DK2','PV'), ('DK1','WOnShore'), ('DK2','WOnShore')], names = ['g','tech'])).combine_first(m.db['TechCap_E'])\n",
    "m.solve()"
   ]
  },
  {
   "cell_type": "markdown",
   "id": "deb070d2-33fe-408a-a337-6e0b424283ba",
   "metadata": {},
   "source": [
    "*Extract solution:*"
   ]
  },
  {
   "cell_type": "code",
   "execution_count": 17,
   "id": "25ff052a-c280-4879-a602-1ce4d0027a7d",
   "metadata": {},
   "outputs": [],
   "source": [
    "NIMBY = getSolution(m,name)"
   ]
  },
  {
   "cell_type": "markdown",
   "id": "b8ea76d4-7515-413b-8d81-320c93e8c5db",
   "metadata": {},
   "source": [
    "*Print levels and comparisons:*"
   ]
  },
  {
   "cell_type": "code",
   "execution_count": 18,
   "id": "89ee547c-c2a1-4e39-ab34-9e69fd8723bd",
   "metadata": {},
   "outputs": [],
   "source": [
    "%%capture\n",
    "printLevels(NIMBY)\n",
    "printShock(compareSol(NIMBY,baseline,f\"{NIMBY['name']}_vs_{baseline['name']}\"), base = 'NIMBY')"
   ]
  },
  {
   "cell_type": "markdown",
   "id": "fbd953ec-48b1-43ce-bc73-5f8c19763947",
   "metadata": {},
   "source": [
    "### 4.3: Tax on emissions + NIMBY"
   ]
  },
  {
   "cell_type": "code",
   "execution_count": 19,
   "id": "70716c1b-9742-48e8-aa0d-f6b6e4b9f624",
   "metadata": {},
   "outputs": [
    {
     "name": "stdout",
     "output_type": "stream",
     "text": [
      "Solution status 0: Optimization terminated successfully. (HiGHS Status 7: Optimal)\n"
     ]
    }
   ],
   "source": [
    "name = '25EUR_NIMBY'\n",
    "m.db = NIMBY['db'].copy()\n",
    "m.db['EmissionTax'] = m.db['EmissionTax']+25\n",
    "m.solve(preSolve = {'recomputeMC': True})"
   ]
  },
  {
   "cell_type": "markdown",
   "id": "22a81f5f-f5e5-4f31-9527-e6c4c0a19c41",
   "metadata": {},
   "source": [
    "*Extract solution:*"
   ]
  },
  {
   "cell_type": "code",
   "execution_count": 20,
   "id": "995d3b6a-33cb-4be0-84d7-7ffc17e3cd51",
   "metadata": {},
   "outputs": [],
   "source": [
    "CO2_NIMBY = getSolution(m,name)"
   ]
  },
  {
   "cell_type": "markdown",
   "id": "318e2007-1f19-42f5-823c-2a372edb2a98",
   "metadata": {},
   "source": [
    "*Print levels and comparisons:*"
   ]
  },
  {
   "cell_type": "code",
   "execution_count": 21,
   "id": "1cb05c70-aa4e-442e-af1c-bcad2e3e4519",
   "metadata": {},
   "outputs": [],
   "source": [
    "%%capture\n",
    "printLevels(CO2_NIMBY)\n",
    "printShock(compareSol(CO2_NIMBY,NIMBY,f\"{CO2_NIMBY['name']}_vs_{NIMBY['name']}\"), base = 'NIMBY')"
   ]
  },
  {
   "cell_type": "markdown",
   "id": "be87aa4f-9820-4cab-8988-3f0f18579427",
   "metadata": {},
   "source": [
    "### 4.4. Capturing power2X:"
   ]
  },
  {
   "cell_type": "code",
   "execution_count": 22,
   "id": "d492df10-6116-4974-9886-3d5bca48fa46",
   "metadata": {},
   "outputs": [],
   "source": [
    "name = 'P2X_Large'\n",
    "m.db = baseline['db'].copy()"
   ]
  },
  {
   "cell_type": "markdown",
   "id": "c601632d-2b3a-4bce-847a-06d27ea137a6",
   "metadata": {},
   "source": [
    "*1. Define a power to X producer with a marginal willingsness to pay at 10 EUR/GJ in baseline, and a cap of 100% of total demand:*"
   ]
  },
  {
   "cell_type": "code",
   "execution_count": 23,
   "id": "d48e92ee-2782-4a5b-b407-2974acb8044f",
   "metadata": {},
   "outputs": [],
   "source": [
    "P2XCap = pdSum(applyMult(m.db['Load_E'], m.db['c_E2g']), 'c_E') \n",
    "P2XCap.index = P2XCap.index.map(lambda x: 'P2X_'+x).rename('c_E')\n",
    "m.db['Load_E'] = P2XCap.combine_first(m.db['Load_E'])"
   ]
  },
  {
   "cell_type": "markdown",
   "id": "63e6ea78-56db-4e71-938e-b42b14604efc",
   "metadata": {},
   "source": [
    "*2. Assume no variation in capacity over the year (e.g. use the 'standard plant' path):*"
   ]
  },
  {
   "cell_type": "code",
   "execution_count": 24,
   "id": "1cd62b1d-e0fa-4830-a858-919d43fcd16a",
   "metadata": {},
   "outputs": [],
   "source": [
    "P2XVariation = lpCompiler.broadcast(m.db['CapVariation'].xs('Standard',level='hvt'), P2XCap.index)\n",
    "m.db['LoadVariation_E'] = m.db['LoadVariation_E'].combine_first(P2XVariation/pdSum(P2XVariation, 'h'))"
   ]
  },
  {
   "cell_type": "markdown",
   "id": "4437075c-33ea-4266-bc8a-90e95b558864",
   "metadata": {},
   "source": [
    "*3. Keep the marginal willingness to pay at 100 for the \"original\" part of the demand, and set it at 10 for the new consumers:*"
   ]
  },
  {
   "cell_type": "code",
   "execution_count": 25,
   "id": "b21be781-2671-464f-bad2-949440733a40",
   "metadata": {},
   "outputs": [],
   "source": [
    "m.db['MWP_LoadShedding_E'] = pd.Series(6, index = P2XCap.index).combine_first(pd.Series(m.db['MWP_LoadShedding_E'], index = m.db['c_E']))"
   ]
  },
  {
   "cell_type": "markdown",
   "id": "c1cf1001-7e59-41a5-aa5d-82332e2e79f4",
   "metadata": {},
   "source": [
    "*4. Add new consumers to mapping and sets:*"
   ]
  },
  {
   "cell_type": "code",
   "execution_count": 26,
   "id": "01302a60-33c1-40b3-9ec5-aeb3db691ee6",
   "metadata": {},
   "outputs": [],
   "source": [
    "m.db['c_E2g'] = m.db['c_E2g'].union(pd.MultiIndex.from_arrays([P2XCap.index, P2XCap.index.str[-3:].rename('g')]))\n",
    "m.db['c_E'] = m.db['c_E'].union(P2XCap.index)"
   ]
  },
  {
   "cell_type": "markdown",
   "id": "a4941a0c-c48a-48c5-8a9c-ed8bec673577",
   "metadata": {},
   "source": [
    "Solve, store, and print solution:"
   ]
  },
  {
   "cell_type": "code",
   "execution_count": 27,
   "id": "78bba1d1-fcfa-4ca1-84ef-23f7e2f7962f",
   "metadata": {},
   "outputs": [
    {
     "name": "stdout",
     "output_type": "stream",
     "text": [
      "Solution status 0: Optimization terminated successfully. (HiGHS Status 7: Optimal)\n"
     ]
    }
   ],
   "source": [
    "m.solve()"
   ]
  },
  {
   "cell_type": "markdown",
   "id": "75933da7-8dba-4fda-8a65-ec6274be9475",
   "metadata": {},
   "source": [
    "*Extract solution:*"
   ]
  },
  {
   "cell_type": "code",
   "execution_count": 28,
   "id": "bc3871e5-cb4d-4cfe-8774-caa776c26724",
   "metadata": {},
   "outputs": [],
   "source": [
    "P2X = getSolution(m,name)"
   ]
  },
  {
   "cell_type": "markdown",
   "id": "14a54a80-fa0d-49f9-be44-f997c4aec014",
   "metadata": {},
   "source": [
    "Print levels and comparisons:"
   ]
  },
  {
   "cell_type": "code",
   "execution_count": 29,
   "id": "8d528043-f87c-43e0-9d17-ea3929502b1c",
   "metadata": {},
   "outputs": [],
   "source": [
    "%%capture\n",
    "printLevels(P2X)\n",
    "printShock(compareSol(P2X,baseline,f\"{P2X['name']}_vs_{baseline['name']}\"), base = 'baseline')"
   ]
  },
  {
   "cell_type": "markdown",
   "id": "309ac970-924e-4078-9288-1528d2f63092",
   "metadata": {
    "tags": []
   },
   "source": [
    "### 4.5. P2X with emission taxes"
   ]
  },
  {
   "cell_type": "code",
   "execution_count": 30,
   "id": "7ae4b025-a0ff-4605-8f95-f14e3886cfd3",
   "metadata": {},
   "outputs": [
    {
     "name": "stdout",
     "output_type": "stream",
     "text": [
      "Solution status 0: Optimization terminated successfully. (HiGHS Status 7: Optimal)\n"
     ]
    }
   ],
   "source": [
    "name = '25EUR_P2X'\n",
    "m.db = P2X['db'].copy()\n",
    "m.db['EmissionTax'] = m.db['EmissionTax']+25\n",
    "m.solve(preSolve = {'recomputeMC': True})"
   ]
  },
  {
   "cell_type": "markdown",
   "id": "2cd35f17-948a-4a59-98b4-f2114f4766a0",
   "metadata": {},
   "source": [
    "*Extract solution:*"
   ]
  },
  {
   "cell_type": "code",
   "execution_count": 31,
   "id": "a0fcc09d-de11-43f1-8623-b75cd0699707",
   "metadata": {},
   "outputs": [],
   "source": [
    "CO2_P2X = getSolution(m,name)"
   ]
  },
  {
   "cell_type": "markdown",
   "id": "04ba8707-cf1d-47c5-a313-5da8a30ce821",
   "metadata": {},
   "source": [
    "*Print levels and comparisons:*"
   ]
  },
  {
   "cell_type": "code",
   "execution_count": 32,
   "id": "7d42a499-cb58-407b-b50a-acdd157e4175",
   "metadata": {},
   "outputs": [],
   "source": [
    "%%capture\n",
    "printLevels(CO2_P2X)\n",
    "printShock(compareSol(CO2_P2X,P2X,f\"{CO2_P2X['name']}_vs_{P2X['name']}\"), base = P2X['name'])"
   ]
  }
 ],
 "metadata": {
  "kernelspec": {
   "display_name": "Python 3 (ipykernel)",
   "language": "python",
   "name": "python3"
  },
  "language_info": {
   "codemirror_mode": {
    "name": "ipython",
    "version": 3
   },
   "file_extension": ".py",
   "mimetype": "text/x-python",
   "name": "python",
   "nbconvert_exporter": "python",
   "pygments_lexer": "ipython3",
   "version": "3.9.7"
  }
 },
 "nbformat": 4,
 "nbformat_minor": 5
}
