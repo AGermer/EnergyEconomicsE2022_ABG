{
 "cells": [
  {
   "cell_type": "code",
   "execution_count": 1,
   "id": "ce95159e-c1a1-4956-ac60-acf3202fa7f8",
   "metadata": {},
   "outputs": [],
   "source": [
    "%run stdPackages.ipynb\n",
    "slides = True # print to slides format if True\n",
    "out_folder = os.path.join(d['curr'], 'Misc', 'Figs')\n",
    "d['data'] = os.path.join(d['curr'],'Misc','Data')\n",
    "read = {'variable2D': ['prices','emissionIntensity']}\n",
    "db = dbFromWB(os.path.join(d['data'],'FuelProjections.xlsx'), read)\n",
    "readSets(db)"
   ]
  },
  {
   "cell_type": "markdown",
   "id": "eca2f52e-ffe4-416b-a5f5-a27488199d81",
   "metadata": {},
   "source": [
    "Group the variables for plots:"
   ]
  },
  {
   "cell_type": "code",
   "execution_count": 2,
   "id": "556eb298-6cad-46f3-a3fd-be5eb11d7ea5",
   "metadata": {},
   "outputs": [],
   "source": [
    "d = {'Fossil': pd.Index(['Coal','Lignite','Fueloil','Gasoil','NatGas','Peat'],name='BFt'),\n",
    "     'Biomass': pd.Index(['Straw','WoodPellets','WoodChips','WoodWaste'], name = 'BFt'),\n",
    "     'Bio': pd.Index(['Biogas','BioOil'], name = 'BFt'),\n",
    "     'Other': pd.Index(['Waste','Uranium','Hydrogen'], name = 'BFt')\n",
    "    }"
   ]
  },
  {
   "cell_type": "markdown",
   "id": "2c26ad5d-ef91-4914-bd94-49270e8e2a3b",
   "metadata": {},
   "source": [
    "Plot four subplots:"
   ]
  },
  {
   "cell_type": "code",
   "execution_count": 3,
   "id": "9da3e94f-defa-40a9-a9a5-1bb9258b38a1",
   "metadata": {},
   "outputs": [],
   "source": [
    "db['FuelPrice'].index = db['FuelPrice'].index.set_levels(db['t'].astype(int), level='t')\n",
    "db['FuelPrice'] = db['FuelPrice'].unstack('t').sort_values(by=2020, ascending=False).stack()"
   ]
  },
  {
   "cell_type": "code",
   "execution_count": 4,
   "id": "0eaae0c7-ba1e-4f89-8eea-66643f453a48",
   "metadata": {},
   "outputs": [],
   "source": [
    "%%capture\n",
    "mult_graphs()\n",
    "nplots = 4\n",
    "nrows = math.ceil(nplots/2)\n",
    "fig, axes = plt.subplots(nrows, min(nplots, 2), figsize = (14, (4*nrows)));\n",
    "plt.subplots_adjust(hspace=0.35)\n",
    "for j in range(4):\n",
    "    ax = plt.subplot(nrows, min(nplots,2),j+1)\n",
    "    g, ind = list(d.keys())[j], list(d.values())[j]\n",
    "    seaborn.lineplot(data=rc_pd(db['FuelPrice'], ind).unstack('BFt'),ax=ax,linewidth=3);\n",
    "    ax.set_ylim([0,30]);\n",
    "    ax.set_ylabel('€/GJ');\n",
    "    ax.legend(ncol=2);\n",
    "    ax.set_title(g)\n",
    "if slides:\n",
    "    fig.savefig(f\"{out_folder}\\\\FuelCosts_slides.pdf\",facecolor='#FAFAFA',edgecolor='k')\n",
    "else:\n",
    "    fig.savefig(f\"{out_folder}\\\\FuelCosts.pdf\",edgecolor='k')"
   ]
  },
  {
   "cell_type": "markdown",
   "id": "44f9d004-8c90-4fc3-94d2-433a642c2286",
   "metadata": {},
   "source": [
    "Emission intensity:"
   ]
  },
  {
   "cell_type": "code",
   "execution_count": 5,
   "id": "e444dab8-cb41-43ce-a824-10fde50730a7",
   "metadata": {},
   "outputs": [],
   "source": [
    "%%capture \n",
    "mult_graphs()\n",
    "nplots = 2\n",
    "nrows = math.ceil(nplots/2)\n",
    "fig, axes = plt.subplots(nrows, min(nplots, 2), figsize = (14, (6*nrows)));\n",
    "ax = plt.subplot(nrows,2,1)\n",
    "e = 'CO2'\n",
    "db['EmissionIntensity'].xs(e)[db['EmissionIntensity'].xs(e)!=0].sort_values().plot.bar(ax=ax);\n",
    "ax.set_ylabel('kg/GJ');\n",
    "ax.set_title(e);\n",
    "ax = plt.subplot(nrows,2,2)\n",
    "e = 'SO2'\n",
    "db['EmissionIntensity'].xs(e)[db['EmissionIntensity'].xs(e)!=0].sort_values().plot.bar(ax=ax);\n",
    "ax.set_ylabel('kg/GJ');\n",
    "ax.set_title(e);\n",
    "fig.tight_layout();\n",
    "if slides:\n",
    "    fig.savefig(f\"{out_folder}\\\\EmissionIntensity_slides.pdf\",facecolor='#FAFAFA',edgecolor='k')\n",
    "else:\n",
    "    fig.savefig(f\"{out_folder}\\\\EmissionIntensity.pdf\",edgecolor='k')"
   ]
  }
 ],
 "metadata": {
  "kernelspec": {
   "display_name": "Python 3 (ipykernel)",
   "language": "python",
   "name": "python3"
  },
  "language_info": {
   "codemirror_mode": {
    "name": "ipython",
    "version": 3
   },
   "file_extension": ".py",
   "mimetype": "text/x-python",
   "name": "python",
   "nbconvert_exporter": "python",
   "pygments_lexer": "ipython3",
   "version": "3.9.7"
  }
 },
 "nbformat": 4,
 "nbformat_minor": 5
}
