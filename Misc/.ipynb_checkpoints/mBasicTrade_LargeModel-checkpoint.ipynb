{
 "cells": [
  {
   "cell_type": "code",
   "execution_count": 1,
   "id": "9c019acb-e523-4e83-840d-19725843560a",
   "metadata": {},
   "outputs": [],
   "source": [
    "%run stdPackages.ipynb\n",
    "slides = False # print to slides format if True\n",
    "out_folder = os.path.join(d['curr'], 'Misc', 'Figs')\n",
    "d['data'] = os.path.join(d['curr'],'Misc','Data')\n",
    "read = {'variables': ['Fundamentals', 'Load', 'Generators_Other','TL'], \n",
    "        'variable2D': ['Generators_FuelMix'],\n",
    "        'scalars': ['Scalars'],\n",
    "        'maps': ['Generators_Categories', 'Load_Categories']}\n",
    "db = dbFromWB(os.path.join(d['data'],'mBasicTrade2.xlsx'), read)"
   ]
  },
  {
   "cell_type": "markdown",
   "id": "ea4483e8-d0dc-451f-9f31-6584ac98ac42",
   "metadata": {},
   "source": [
    "Create correlated samples:\n",
    "* Two demand functions correlate positively,\n",
    "* Wind generation correlates negatively with demand and solar.\n",
    "* Solar generation correlates positively with demand."
   ]
  },
  {
   "cell_type": "markdown",
   "id": "fc7ba264-472a-44a4-bd93-c766099fa92a",
   "metadata": {},
   "source": [
    "In the order: Demand1, demand2, wind, solar"
   ]
  },
  {
   "cell_type": "code",
   "execution_count": 2,
   "id": "6953b4dc-3e07-4fb9-b43d-9382d68c59b5",
   "metadata": {},
   "outputs": [],
   "source": [
    "H = 1000\n",
    "means = np.array([1]*4) # set mean to 1 (we normalize later)\n",
    "cov_matrix = np.array([[1, 0.95, -0.6, 0.18],\n",
    "                       [0.95, 1, -0.4, 0.3],\n",
    "                       [-0.6, -0.4, 1, -0.2],\n",
    "                       [0.18, 0.3, -0.2, 1]])\n",
    "size = H\n",
    "dim_bounds = np.array([[0, 10], \n",
    "                       [0, 10],\n",
    "                       [0, 100],\n",
    "                       [0, 10]]);\n",
    "rng = np.random.default_rng(seed=103)\n",
    "sample = sampling.BoundedMultivariateNormalDist(means, cov_matrix = cov_matrix, dim_bounds = dim_bounds, size = size, rng = rng)"
   ]
  },
  {
   "cell_type": "markdown",
   "id": "e939fae3-a5d0-4f2b-9a2b-3b9581c3ff95",
   "metadata": {},
   "source": [
    "Normalize the levels to sum to 1 for demand functions, and target average capacity factors for the variation in productivity:"
   ]
  },
  {
   "cell_type": "code",
   "execution_count": 3,
   "id": "9e4300bd-8aa0-435c-8fe5-b180a8e6217a",
   "metadata": {},
   "outputs": [],
   "source": [
    "LoadVariation = pd.DataFrame(sample[:,:2]/sample[:,:2].sum(axis=0), \n",
    "                             index = pd.Index(range(1,H+1), name = 'h'), \n",
    "                             columns = pd.Index(['c1','c2'], name = 'c')\n",
    "                            ).stack()\n",
    "capVariation = pd.DataFrame(sample[:,2:]/sample[:,2:].sum(axis=0) * H * np.array([0.5, 0.3]), \n",
    "                            index = pd.Index(range(1,H+1), name = 'h'), \n",
    "                            columns = pd.Index(['Wind_g1', 'PV_g2'], name = 'hvt')\n",
    "                           ).assign(Standard = 1).stack()"
   ]
  },
  {
   "cell_type": "markdown",
   "id": "8a7075ba-343d-4961-a0a5-2666dacdd310",
   "metadata": {},
   "source": [
    "Add to database:"
   ]
  },
  {
   "cell_type": "code",
   "execution_count": 4,
   "id": "3cb79978-24e8-4417-93ea-3fff901cc150",
   "metadata": {},
   "outputs": [],
   "source": [
    "db['LoadVariation'] = LoadVariation\n",
    "db['CapVariation'] = capVariation\n",
    "db['Load'] = db['Load'] * H\n",
    "readSets(db)"
   ]
  },
  {
   "cell_type": "markdown",
   "id": "290ed0f2-ab99-4e32-83d1-88fda0ec0efd",
   "metadata": {},
   "source": [
    "Set up model:"
   ]
  },
  {
   "cell_type": "code",
   "execution_count": 5,
   "id": "c87a218c-ef03-4821-8f5a-4ad75d852a4b",
   "metadata": {},
   "outputs": [
    {
     "name": "stdout",
     "output_type": "stream",
     "text": [
      "Solution status 0: Optimization terminated successfully.\n"
     ]
    }
   ],
   "source": [
    "m = mBasicTrade.mBasicTrade(db)\n",
    "m.solve()"
   ]
  },
  {
   "cell_type": "markdown",
   "id": "eb8feb4c-d40d-408f-930f-83ff26be95e1",
   "metadata": {},
   "source": [
    "### LDC and RDC"
   ]
  },
  {
   "cell_type": "markdown",
   "id": "362a4d30-e587-469a-b65c-079bc0d0f09a",
   "metadata": {},
   "source": [
    "Load duration curves (LDC):"
   ]
  },
  {
   "cell_type": "code",
   "execution_count": 6,
   "id": "4d01e7bb-8273-45a3-86f1-aa1529b6b8ce",
   "metadata": {},
   "outputs": [],
   "source": [
    "LDC = pd.DataFrame({g: m.hourlyLoad.xs(g,level='g').sort_values(ascending=False).values for g in db['g']})\n",
    "LDC.index = [i/(len(LDC)) for i in range(1, len(LDC)+1)]\n",
    "LDC.at[0] = LDC.iloc[0]"
   ]
  },
  {
   "cell_type": "code",
   "execution_count": 7,
   "id": "575a44d2-c584-4f66-8930-4f58c2c04f47",
   "metadata": {},
   "outputs": [],
   "source": [
    "cap = lpCompiler.broadcast(lpCompiler.broadcast(m.hourlyGeneratingCapacity, db['id2hvt']), db['id2g'])\n",
    "cap = pdSum(cap[cap.index.get_level_values('hvt') != 'Standard'], ['id','hvt'])\n",
    "RDC = pd.DataFrame({g: (m.hourlyLoad-cap).xs(g,level='g').sort_values(ascending=False).values for g in db['g']})\n",
    "RDC.index = [i/(len(RDC)) for i in range(1, len(RDC)+1)]\n",
    "RDC.at[0] = RDC.iloc[0] "
   ]
  },
  {
   "cell_type": "code",
   "execution_count": 8,
   "id": "a9c2609b-185f-49e6-b443-f494a926b0fe",
   "metadata": {},
   "outputs": [],
   "source": [
    "%%capture\n",
    "mult_graphs()\n",
    "nplots = 2\n",
    "nrows = math.ceil(nplots/2)\n",
    "fig, axes = plt.subplots(nrows, min(nplots, 2), figsize = (14, (6*nrows)));\n",
    "plt.subplots_adjust(hspace=0.35)\n",
    "\n",
    "# plot 1: LDC\n",
    "ax = plt.subplot(nrows, min(nplots,2), 1)\n",
    "seaborn.lineplot(data=LDC, ax = ax, linewidth=3, legend=False);\n",
    "ax.set_xlabel(r'Capacity Factor', labelpad = 5);\n",
    "ax.set_ylabel(r'$GJ$', labelpad = 5);\n",
    "ax.set_xlim([0, 1]);\n",
    "ax.set_ylim([-50, 350]);\n",
    "ax.hlines(0,0,1,colors='k',linewidth=1,alpha=0.5)\n",
    "ax.set_title('Load Duration Curve')\n",
    "\n",
    "# Plot 2:\n",
    "ax = plt.subplot(nrows, min(nplots,2),2)\n",
    "seaborn.lineplot(data=RDC, ax = ax, linewidth= 3, legend=False);\n",
    "ax.set_xlabel(r'Capacity Factor', labelpad = 5);\n",
    "ax.set_ylabel(r'$GJ$', labelpad = 5);\n",
    "ax.set_xlim([0, 1]);\n",
    "ax.hlines(0,0,1,colors='k',linewidth=1,alpha=0.5)\n",
    "ax.set_ylim([-50, 350]);\n",
    "ax.set_title('Residual Demand Curve');\n",
    "\n",
    "fig.legend(LDC.columns,loc=9,ncol=2,frameon=True)\n",
    "fig.tight_layout()\n",
    "fig.subplots_adjust(top=0.85);\n",
    "if slides:\n",
    "    fig.savefig(f\"{out_folder}\\\\mBasicTrade_LDC_RDC_slides.pdf\",facecolor='#FAFAFA',edgecolor='k')\n",
    "else:\n",
    "    fig.savefig(f\"{out_folder}\\\\mBasicTrade_LDC_RDC.pdf\",edgecolor='k')"
   ]
  },
  {
   "cell_type": "markdown",
   "id": "94cfee4c-46ce-400a-82cd-8c15b5df8a13",
   "metadata": {},
   "source": [
    "Sample correlations:"
   ]
  },
  {
   "cell_type": "code",
   "execution_count": 9,
   "id": "12377a55-5d11-4d78-a518-e37c6b5ea0aa",
   "metadata": {},
   "outputs": [],
   "source": [
    "correlations = pd.concat([lpCompiler.broadcast(db['LoadVariation'], db['c2g']).droplevel('c').unstack('g'), db['CapVariation'].unstack('hvt')[[k for k in db['hvt'] if k != 'Standard']]], axis = 1).corr()"
   ]
  },
  {
   "cell_type": "code",
   "execution_count": 10,
   "id": "780930ba-05cd-481a-80b3-0e1e1b419c78",
   "metadata": {},
   "outputs": [],
   "source": [
    "names = {'g1': 'Demand, $g_1$', 'g2': 'Demand, $g_2$', 'Wind_g1': 'Wind, $g_1$', 'PV_g2': 'PV, $g_2$'}"
   ]
  },
  {
   "cell_type": "code",
   "execution_count": 11,
   "id": "f58fdb63-47f5-486e-9082-a6fedd361dbe",
   "metadata": {},
   "outputs": [],
   "source": [
    "correlations.index = correlations.index.map(names)\n",
    "correlations.columns = correlations.columns.map(names)"
   ]
  },
  {
   "cell_type": "code",
   "execution_count": 12,
   "id": "08790ac0-0c30-4e67-aae1-0da286ccb319",
   "metadata": {},
   "outputs": [],
   "source": [
    "%%capture\n",
    "one_graph()\n",
    "fig, ax = plt.subplots(1,1,figsize = (14,8))\n",
    "seaborn.heatmap(correlations,ax=ax,annot=True,linewidths=.5);\n",
    "fig.tight_layout();\n",
    "if slides:\n",
    "    fig.savefig(f\"{out_folder}\\\\mBasicTrade_Corr_slides.pdf\",facecolor='#FAFAFA',edgecolor='k')\n",
    "else:\n",
    "    fig.savefig(f\"{out_folder}\\\\mBasicTrade_Corr.pdf\",edgecolor='k')"
   ]
  }
 ],
 "metadata": {
  "kernelspec": {
   "display_name": "Python 3 (ipykernel)",
   "language": "python",
   "name": "python3"
  },
  "language_info": {
   "codemirror_mode": {
    "name": "ipython",
    "version": 3
   },
   "file_extension": ".py",
   "mimetype": "text/x-python",
   "name": "python",
   "nbconvert_exporter": "python",
   "pygments_lexer": "ipython3",
   "version": "3.9.7"
  }
 },
 "nbformat": 4,
 "nbformat_minor": 5
}
