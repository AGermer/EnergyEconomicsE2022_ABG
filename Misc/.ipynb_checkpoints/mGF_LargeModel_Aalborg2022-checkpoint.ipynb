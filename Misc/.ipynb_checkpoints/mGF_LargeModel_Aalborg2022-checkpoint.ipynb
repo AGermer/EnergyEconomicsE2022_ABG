{
 "cells": [
  {
   "cell_type": "code",
   "execution_count": 1,
   "id": "9a16b3bc-982d-4a58-b76a-8560c10b9164",
   "metadata": {},
   "outputs": [],
   "source": [
    "%run stdPackages.ipynb\n",
    "slides = True # print to slides format if True\n",
    "out_folder = os.path.join(d['curr'], 'Misc', 'Figs')\n",
    "d['data'] = os.path.join(d['curr'],'Misc','Data')\n",
    "read = {'variables': ['Fundamentals', 'LoadVariables', 'TransmissionLines', 'GeneratorsVariables'],\n",
    "        'maps': ['LoadMaps','GeneratorsMaps'],\n",
    "        'variable2D': ['LoadVariation_E','LoadVariation_H','HourlyVariation'],\n",
    "        'scalars': ['Scalars']}\n",
    "db = dbFromWB(os.path.join(d['data'],'mGF_PH_ThellufsenEtAl2022.xlsx'), read)\n",
    "readSets(db)"
   ]
  },
  {
   "cell_type": "markdown",
   "id": "96eebea0-644f-4f33-b5ae-23fd45945c05",
   "metadata": {},
   "source": [
    "# Greenfield experiments with Danish-looking aggregate data"
   ]
  },
  {
   "cell_type": "markdown",
   "id": "4509b0ce-6487-4b43-8291-8feea07a8bdc",
   "metadata": {
    "tags": []
   },
   "source": [
    "### 1. Descriptive"
   ]
  },
  {
   "cell_type": "markdown",
   "id": "e2ea2928-69dc-445f-9a4e-3a9cecfc2be5",
   "metadata": {},
   "source": [
    "Let's start by plotting time series data. Collect all hourly variation in one dataframe:"
   ]
  },
  {
   "cell_type": "code",
   "execution_count": 2,
   "id": "aa5d9c12-31b0-4ead-8f23-328779a5d3e2",
   "metadata": {},
   "outputs": [],
   "source": [
    "load_E = db['LoadVariation_E'].rename_axis(index={'c_E':'hvt'})\n",
    "load_E.index = load_E.index.set_levels('Load E_'+load_E.index.levels[-1], level='hvt')\n",
    "load_H = db['LoadVariation_H'].rename_axis(index={'c_H':'hvt'})\n",
    "load_H.index = load_H.index.set_levels('Load H_'+load_H.index.levels[-1], level='hvt')\n",
    "df_H = pd.concat([db['CapVariation'].unstack('hvt'), load_E.unstack('hvt'), load_H.unstack('hvt')], axis=1).astype(float)"
   ]
  },
  {
   "cell_type": "markdown",
   "id": "990bf2a2-590e-40fa-8af0-65886bd8de2c",
   "metadata": {},
   "source": [
    "Split the samples into DK1 and DK2 time series':"
   ]
  },
  {
   "cell_type": "code",
   "execution_count": 3,
   "id": "d8d3ed10-646d-4104-a4ea-ad9f400b1af7",
   "metadata": {},
   "outputs": [
    {
     "name": "stdout",
     "output_type": "stream",
     "text": [
      "\\begin{tabular}{lrrrrrrr}\n",
      "\\toprule\n",
      "hvt &    PV &  WNearShore &  WOffShore &  WOnShore &  Load E &  Load H &    SH \\\\\n",
      "hvt        &       &             &            &           &         &         &       \\\\\n",
      "\\midrule\n",
      "PV         &  1.00 &       -0.20 &      -0.21 &     -0.15 &    0.18 &   -0.27 &  0.49 \\\\\n",
      "WNearShore & -0.20 &        1.00 &       0.77 &      0.91 &    0.28 &    0.39 & -0.22 \\\\\n",
      "WOffShore  & -0.21 &        0.77 &       1.00 &      0.82 &    0.20 &    0.34 & -0.18 \\\\\n",
      "WOnShore   & -0.15 &        0.91 &       0.82 &      1.00 &    0.26 &    0.40 & -0.18 \\\\\n",
      "Load E     &  0.18 &        0.28 &       0.20 &      0.26 &    1.00 &    0.34 & -0.10 \\\\\n",
      "Load H     & -0.27 &        0.39 &       0.34 &      0.40 &    0.34 &    1.00 & -0.35 \\\\\n",
      "SH         &  0.49 &       -0.22 &      -0.18 &     -0.18 &   -0.10 &   -0.35 &  1.00 \\\\\n",
      "\\bottomrule\n",
      "\\end{tabular}\n",
      "\n"
     ]
    }
   ],
   "source": [
    "DK1 = df_H.columns[df_H.columns.str.contains('DK1')].union(['SH'])\n",
    "DK2 = df_H.columns[df_H.columns.str.contains('DK2')].union(['SH'])\n",
    "df_DK1 = df_H[DK1]\n",
    "df_DK2 = df_H[DK2]\n",
    "df_DK1.columns = df_DK1.columns.str.strip('_DK1')\n",
    "df_DK2.columns = df_DK1.columns.str.strip('_DK2')\n",
    "print(df_DK1.corr().round(2).to_latex())"
   ]
  },
  {
   "cell_type": "code",
   "execution_count": 4,
   "id": "3509253a-39f5-4e66-b902-9cca3f5ec8c1",
   "metadata": {},
   "outputs": [
    {
     "name": "stdout",
     "output_type": "stream",
     "text": [
      "\\begin{tabular}{lrrrrrrr}\n",
      "\\toprule\n",
      "hvt &    PV &  WNearShore &  WOffShore &  WOnShore &  Load E &  Load H &    SH \\\\\n",
      "hvt        &       &             &            &           &         &         &       \\\\\n",
      "\\midrule\n",
      "PV         &  1.00 &       -0.21 &      -0.13 &     -0.13 &    0.16 &   -0.23 &  0.48 \\\\\n",
      "WNearShore & -0.21 &        1.00 &       0.87 &      0.82 &    0.20 &    0.29 & -0.21 \\\\\n",
      "WOffShore  & -0.13 &        0.87 &       1.00 &      0.76 &    0.17 &    0.24 & -0.16 \\\\\n",
      "WOnShore   & -0.13 &        0.82 &       0.76 &      1.00 &    0.28 &    0.36 & -0.20 \\\\\n",
      "Load E     &  0.16 &        0.20 &       0.17 &      0.28 &    1.00 &    0.40 & -0.12 \\\\\n",
      "Load H     & -0.23 &        0.29 &       0.24 &      0.36 &    0.40 &    1.00 & -0.34 \\\\\n",
      "SH         &  0.48 &       -0.21 &      -0.16 &     -0.20 &   -0.12 &   -0.34 &  1.00 \\\\\n",
      "\\bottomrule\n",
      "\\end{tabular}\n",
      "\n"
     ]
    }
   ],
   "source": [
    "print(df_DK2.corr().round(2).to_latex())"
   ]
  },
  {
   "cell_type": "markdown",
   "id": "ad393364-ced2-46f4-9437-f87fdfb27f7e",
   "metadata": {},
   "source": [
    "The marginal costs:"
   ]
  },
  {
   "cell_type": "code",
   "execution_count": 5,
   "id": "d2c2f7ff-2e97-4142-9efb-b85355cf98f8",
   "metadata": {},
   "outputs": [],
   "source": [
    "m = mGF_PH.mSimple(db)\n",
    "m.preSolve()"
   ]
  },
  {
   "cell_type": "markdown",
   "id": "c0ed969e-4062-4e20-b300-8f5af0bb9c4b",
   "metadata": {},
   "source": [
    "What are the average costs per GJ supply if utilization was 100 \\%? (the heat pumps are not included here; we can't assess them in the same way)\n",
    "* If we install 1 GJ/h capacity, the plants produce ```m.hourlyCapFactors``` GJ throughout a year, with a marginal cost of ```mc```.\n",
    "* The plant pays ```FOM``` and ```InvestCost_A``` for the 1 GJ/h capacity.\n",
    "* For back-pressure plants, installing 1 GJ/h capacity can yield both production of heat and electricity. So, we scale costs with the amount of GJ produced. "
   ]
  },
  {
   "cell_type": "code",
   "execution_count": 6,
   "id": "84875dae-8025-4089-814b-ed54ef06bc1a",
   "metadata": {},
   "outputs": [],
   "source": [
    "E2H_BP = mGF_PH.subsetIdsTech(db['E2H'], 'BP',db)\n",
    "E2H_HP = mGF_PH.subsetIdsTech(db['E2H'], 'HP',db)\n",
    "src = m.db['mc'].copy() # marginal costs of producing at capacity throughout a year\n",
    "src.loc[E2H_BP.index] = src.loc[E2H_BP.index]/(1+1/E2H_BP) # scale SRC for back-pressure plants\n",
    "invcosts = applyMult(m.db['InvestCost_A'], m.db['id2tech']).droplevel('tech') * 1000 / pdSum(m.hourlyCapFactors,'h')\n",
    "invcosts.loc[E2H_BP.index] = invcosts.loc[E2H_BP.index]/(1+1/E2H_BP) # scale SRC for back-pressure plants\n",
    "tc = invcosts.add(src,fill_value=0)"
   ]
  },
  {
   "cell_type": "markdown",
   "id": "dfa70db5-59e4-40f5-a896-697dc7200fdb",
   "metadata": {},
   "source": [
    "Map to technologies (cost structure of technologies is the same in DK1 and DK2)"
   ]
  },
  {
   "cell_type": "code",
   "execution_count": 7,
   "id": "e0fc4298-c4b4-4908-a16b-0412f2b5bc14",
   "metadata": {},
   "outputs": [],
   "source": [
    "src = applyMult(src, m.db['id2tech']).droplevel('id').groupby('tech').first()\n",
    "invcosts = applyMult(invcosts, m.db['id2tech']).droplevel('id').groupby('tech').first()\n",
    "tc = applyMult(tc, m.db['id2tech']).droplevel('id').groupby('tech').first()\n",
    "df_Costs = pd.DataFrame({'Short run costs/GJ': src, 'Investment and fixed costs/GJ': invcosts, 'Unit cost': tc}).sort_values(by='Unit cost')"
   ]
  },
  {
   "cell_type": "code",
   "execution_count": 8,
   "id": "22947354-328e-4a8e-82f3-ba82fde5cbe8",
   "metadata": {},
   "outputs": [],
   "source": [
    "%%capture\n",
    "one_graph()\n",
    "fig, ax = plt.subplots(1,1,figsize = (14,8))\n",
    "df_Costs.iloc[:,0:2].plot.bar(stacked=True,ax=ax)\n",
    "ax.set_ylabel('$€/GJ$', labelpad=10);\n",
    "ax.set_xlabel('Technology', labelpad=10);\n",
    "fig.tight_layout();\n",
    "if slides:\n",
    "    fig.savefig(f\"{out_folder}\\\\mGF_PH_AAU_Costs_slides.pdf\",facecolor='#FAFAFA',edgecolor='k')\n",
    "else:\n",
    "    fig.savefig(f\"{out_folder}\\\\mGF_PH_AAU_Costs.pdf\",edgecolor='k')"
   ]
  },
  {
   "cell_type": "markdown",
   "id": "6cbfb29b-b9c6-4d92-b057-72dc180937f9",
   "metadata": {},
   "source": [
    "### 2. Create *design days approach*-like input data from full yearly samples"
   ]
  },
  {
   "cell_type": "code",
   "execution_count": 9,
   "id": "2134c788-9c9d-4231-ade1-3d6fa7a0c4b0",
   "metadata": {},
   "outputs": [],
   "source": [
    "db_before = db.copy()"
   ]
  },
  {
   "cell_type": "markdown",
   "id": "20746509-8fb8-4d6e-9560-cf7b166838f5",
   "metadata": {},
   "source": [
    "*Create representative days for each month instead:*"
   ]
  },
  {
   "cell_type": "code",
   "execution_count": 10,
   "id": "24bf623e-ef71-4b16-8eb9-e711e7a21fc6",
   "metadata": {},
   "outputs": [],
   "source": [
    "lm = [31,28,31,30,31,30,31,31,30,31,30,31] # number of days in the months\n",
    "months = [i for l in [[j+1]*24*lm[j] for j in range(len(lm))] for i in l]\n",
    "hours  = [j for l in [range(1,25)]*365 for j in l]\n",
    "map_ = pd.MultiIndex.from_arrays([db['h'], hours, months], names = ['h','h_new','month'])\n",
    "map2flat = pd.MultiIndex.from_arrays([pd.MultiIndex.from_arrays([months,hours]).to_flat_index(),months,hours], names = ['h','month','h_new']).unique()\n",
    "map_flat = pd.MultiIndex.from_arrays([db['h'], pd.MultiIndex.from_arrays([months,hours]).to_flat_index()], names = ['h','h_new'])"
   ]
  },
  {
   "cell_type": "markdown",
   "id": "2486c515-badb-41ab-867c-019858b37ccd",
   "metadata": {},
   "source": [
    "*Use a version of aggregation that uses extreme values instead of averages (if a cluster group is below average --> use minimum observation, if a cluster group is above average --> use maximum observation):*"
   ]
  },
  {
   "cell_type": "code",
   "execution_count": 11,
   "id": "5c3fee4b-edde-47fa-8d18-bbfccb5024bb",
   "metadata": {},
   "outputs": [],
   "source": [
    "def aggregateV1(v, map_, map2flat):\n",
    "    \"\"\" Map variable 'v' to hours and months. Flatten index to 1d\"\"\"\n",
    "    v_gb = applyMult(v,map_).groupby(list(set(v.index.names).union(['h_new','month'])-set('h')))\n",
    "    v_min,v_mean,v_max = v_gb.min()*v_gb.count(), v_gb.sum(), v_gb.max()*v_gb.count()\n",
    "    mean_ = v_mean.groupby(list(set(v.index.names).union(['month'])-set('h'))).mean()\n",
    "    v_new = pd.concat([v_min[(v_mean-mean_<=0).reorder_levels(v_mean.index.names)], v_max[(v_mean-mean_>0).reorder_levels(v_mean.index.names)]])\n",
    "    v_new = applyMult(v_new, map2flat).droplevel(['h_new','month']).reorder_levels(v.index.names)\n",
    "    return v_new * pdSum(v,'h') / pdSum(v_new,'h')\n",
    "def aggregateV2(v, map_flat):\n",
    "    \"\"\" Map variable 'v' to flat index of months/hours directly. \"\"\"\n",
    "    v_gb = applyMult(v,map_).groupby([k if k!='h' else 'h_new' for k in v.index.names])\n",
    "    v_min,v_mean,v_max = v_gb.min()*v_gb.count(), v_gb.sum(), v_gb.max()*v_gb.count()\n",
    "    mean_ = v_mean.groupby([k for k in v.index.names if k!='h']).mean()\n",
    "    v_new = pd.concat([v_min[v_mean-mean_<=0], v_max[v_mean-mean_>0]]).rename_axis(index={'h_new':'h'})\n",
    "    return v_new * pdSum(v,'h')/ pdSum(v_new,'h')"
   ]
  },
  {
   "cell_type": "markdown",
   "id": "fb9f2f12-1792-4bef-9ee4-55636ecd510d",
   "metadata": {},
   "source": [
    "*Update symbols in database*"
   ]
  },
  {
   "cell_type": "code",
   "execution_count": 12,
   "id": "091b8c98-ca5e-4393-84e5-41d1cfa937e8",
   "metadata": {},
   "outputs": [],
   "source": [
    "[db.__setitem__(k,aggregateV1(db[k], map_, map2flat)) for k in db.variableDomains('h')];\n",
    "# [db.__setitem__(k,aggregateV2(db[k], map_flat)) for k in db.variableDomains('h')];\n",
    "db['h'] = db['CapVariation'].index.levels[0] # update 'h' as well"
   ]
  },
  {
   "cell_type": "markdown",
   "id": "adc1aac4-30ec-4eec-8ed4-f59d391af0e4",
   "metadata": {},
   "source": [
    "### 3. Baseline model without aggregate capacity constraints"
   ]
  },
  {
   "cell_type": "code",
   "execution_count": 13,
   "id": "cf2b9a7c-927d-4893-8039-519886891c6b",
   "metadata": {},
   "outputs": [
    {
     "name": "stdout",
     "output_type": "stream",
     "text": [
      "Solution status 0: Optimization terminated successfully. (HiGHS Status 7: Optimal)\n"
     ]
    }
   ],
   "source": [
    "m = mGF_PH.mSimple(db)\n",
    "m.solve()"
   ]
  },
  {
   "cell_type": "markdown",
   "id": "79d3eaa1-274b-4ade-9c8f-c39248c9e7c4",
   "metadata": {},
   "source": [
    "**Generation capacity:**"
   ]
  },
  {
   "cell_type": "code",
   "execution_count": 14,
   "id": "c7f70f41-2e76-4677-8f2b-1b565cd23c1c",
   "metadata": {},
   "outputs": [],
   "source": [
    "cap = applyMult(pd.concat([applyMult(m.db['GeneratingCap_E'], db['id2tech']), applyMult(m.db['GeneratingCap_H'], db['id2tech'])]), db['id2g']).droplevel('id')\n",
    "cap = cap.rename_axis(index={'g':None})\n",
    "cap = cap.unstack().reindex(df_Costs.index)"
   ]
  },
  {
   "cell_type": "code",
   "execution_count": 15,
   "id": "bc625655-6686-44d6-8a69-5376f942e222",
   "metadata": {},
   "outputs": [],
   "source": [
    "%%capture\n",
    "one_graph()\n",
    "fig, ax = plt.subplots(1,1,figsize = (14,8))\n",
    "cap.plot.bar(ax=ax);\n",
    "ax.set_ylabel('TJ/h capacity', labelpad=10);\n",
    "ax.set_xlabel('Technology', labelpad=10);\n",
    "fig.tight_layout();\n",
    "if slides:\n",
    "    fig.savefig(f\"{out_folder}\\\\mGF_PH_AAU_Baseline_GeneratingCap_slides.pdf\",facecolor='#FAFAFA',edgecolor='k')\n",
    "else:\n",
    "    fig.savefig(f\"{out_folder}\\\\mGF_PH_AAU_Baseline_GeneratingCap.pdf\",edgecolor='k')"
   ]
  },
  {
   "cell_type": "markdown",
   "id": "a818b6a0-98f9-46ce-8dd7-7e990a652297",
   "metadata": {},
   "source": [
    "*Plot **practical** capacity factors for active plants:*"
   ]
  },
  {
   "cell_type": "code",
   "execution_count": 16,
   "id": "49b46126-2cc2-473d-8880-eed52b127d5c",
   "metadata": {},
   "outputs": [],
   "source": [
    "capFactor_E = (pdSum(m.db['Generation_E'], 'h')/ pdNonZero(pdSum(m.hourlyGeneratingCap_E, 'h')) ).dropna() \n",
    "capFactor_H = (pdSum(m.db['Generation_H'], 'h')/ pdNonZero(pdSum(m.hourlyGeneratingCap_H, 'h')) ).dropna()\n",
    "capFactor = applyMult(pd.concat([capFactor_E, capFactor_H]), db['id2tech']).droplevel('id')\n",
    "capFactor = capFactor.rename_axis(index={'g':None})\n",
    "capFactor = capFactor.unstack(0).reindex(df_Costs.index).dropna(how='all').fillna(0)"
   ]
  },
  {
   "cell_type": "code",
   "execution_count": 17,
   "id": "ba76a3a3-f038-40c2-b404-4f1965a73f2a",
   "metadata": {},
   "outputs": [],
   "source": [
    "%%capture\n",
    "one_graph()\n",
    "fig, ax = plt.subplots(1,1,figsize = (14,8))\n",
    "capFactor.plot.bar(ax=ax);\n",
    "ax.set_ylabel('Practical capacity factor', labelpad=10);\n",
    "ax.set_ylim([0,1]);\n",
    "ax.set_xlabel('Technology', labelpad=10);\n",
    "fig.tight_layout();\n",
    "if slides:\n",
    "    fig.savefig(f\"{out_folder}\\\\mGF_PH_AAU_Baseline_PCF_slides.pdf\",facecolor='#FAFAFA',edgecolor='k')\n",
    "else:\n",
    "    fig.savefig(f\"{out_folder}\\\\mGF_PH_AAU_Baseline_PCF.pdf\",edgecolor='k')"
   ]
  },
  {
   "cell_type": "markdown",
   "id": "9dcf0c78-4ceb-486f-baf8-377ad0f23485",
   "metadata": {},
   "source": [
    "*Plot residual demand curves:*"
   ]
  },
  {
   "cell_type": "code",
   "execution_count": 18,
   "id": "67ec2cc1-4d98-460a-9caf-d0806d1526a9",
   "metadata": {},
   "outputs": [],
   "source": [
    "intermittent = mGF_PH.getTechs_i(['PV','WNearShore','WOffShore','WOnShore','SH'],m.db)\n",
    "residualDemand_E = pdSum(m.hourlyLoad_E-pdSum(applyMult(rc_pd(m.hourlyGeneratingCap_E, intermittent), m.db['id2g']), 'id'), 'g')\n",
    "residualDemand_H = pdSum(m.hourlyLoad_H-pdSum(applyMult(rc_pd(m.hourlyGeneratingCap_H, intermittent), m.db['id2g']), 'id'), 'g')"
   ]
  },
  {
   "cell_type": "code",
   "execution_count": 19,
   "id": "c826bac8-459a-4014-9622-6295adbd76d1",
   "metadata": {},
   "outputs": [],
   "source": [
    "residualDemand_E = residualDemand_E.sort_values(ascending=False).reset_index(drop=True)\n",
    "residualDemand_E.index = [i/(len(residualDemand_E)) for i in range(1, len(residualDemand_E)+1)]\n",
    "residualDemand_E.at[0] = residualDemand_E.iloc[0]\n",
    "residualDemand_H = residualDemand_H.sort_values(ascending=False).reset_index(drop=True)\n",
    "residualDemand_H.index = [i/(len(residualDemand_H)) for i in range(1, len(residualDemand_H)+1)]\n",
    "residualDemand_H.at[0] = residualDemand_H.iloc[0]"
   ]
  },
  {
   "cell_type": "code",
   "execution_count": 20,
   "id": "dd8a45fa-9306-4c32-8575-1575a2c8d7f3",
   "metadata": {
    "tags": []
   },
   "outputs": [],
   "source": [
    "%%capture\n",
    "mult_graphs()\n",
    "nplots = 2\n",
    "nrows = math.ceil(nplots/2)\n",
    "fig, axes = plt.subplots(nrows, min(nplots, 2), figsize = (14, (6*nrows)));\n",
    "\n",
    "# plot 1: RDC\n",
    "ax = plt.subplot(nrows, min(nplots,2), 1)\n",
    "seaborn.lineplot(data=residualDemand_E, ax = ax, linewidth=3);\n",
    "ax.set_xlabel(r'Capacity Factor', labelpad = 5);\n",
    "ax.set_ylabel(r'$TJ$', labelpad = 5);\n",
    "ax.set_xlim([0, 1]);\n",
    "ax.hlines(0,0,1,colors='k',linewidth=1,alpha=0.5)\n",
    "ax.set_title('Residual Demand, E')\n",
    "\n",
    "# plot 1: RDC\n",
    "ax = plt.subplot(nrows, min(nplots,2), 2)\n",
    "seaborn.lineplot(data=residualDemand_H, ax = ax, linewidth=3);\n",
    "ax.set_xlabel(r'Capacity Factor', labelpad = 5);\n",
    "ax.set_ylabel(r'$TJ$', labelpad = 5);\n",
    "ax.set_xlim([0, 1]);\n",
    "ax.hlines(0,0,1,colors='k',linewidth=1,alpha=0.5)\n",
    "ax.set_title('Residual Demand, H')\n",
    "\n",
    "fig.tight_layout()\n",
    "if slides:\n",
    "    fig.savefig(f\"{out_folder}\\\\mGF_PH_AAU_Baseline_RDC_slides.pdf\",facecolor='#FAFAFA',edgecolor='k')\n",
    "else:\n",
    "    fig.savefig(f\"{out_folder}\\\\mGF_PH_AAU_Baseline_RDC.pdf\",edgecolor='k')"
   ]
  },
  {
   "cell_type": "markdown",
   "id": "b55cbceb-04b5-4a4c-845f-5e15c5e12c69",
   "metadata": {},
   "source": [
    "Plot the variation in system marginal costs (sort each of them separately):"
   ]
  },
  {
   "cell_type": "code",
   "execution_count": 21,
   "id": "61b379b5-2ebd-438c-b038-9ec0bf724e3b",
   "metadata": {},
   "outputs": [],
   "source": [
    "msc_E = pd.DataFrame({k: m.db['marginalSystemCosts_E'].xs(k,level='g').sort_values(ascending=False).reset_index(drop=True) for k in m.db['marginalSystemCosts_E'].index.levels[0]})\n",
    "msc_H = pd.DataFrame({k: m.db['marginalSystemCosts_H'].xs(k,level='g').sort_values(ascending=False).reset_index(drop=True) for k in m.db['marginalSystemCosts_H'].index.levels[0]})\n",
    "msc_E.index = [i/(len(msc_E)) for i in range(1, len(msc_E)+1)]\n",
    "msc_E.at[0] = msc_E.iloc[0]\n",
    "msc_H.index = [i/(len(msc_H)) for i in range(1, len(msc_H)+1)]\n",
    "msc_H.at[0] = msc_H.iloc[0]"
   ]
  },
  {
   "cell_type": "code",
   "execution_count": 22,
   "id": "0631ed20-f716-4304-b13c-fec2bdee556d",
   "metadata": {},
   "outputs": [],
   "source": [
    "%%capture\n",
    "mult_graphs()\n",
    "nplots = 2\n",
    "nrows = math.ceil(nplots/2)\n",
    "fig, axes = plt.subplots(nrows, min(nplots, 2), figsize = (14, (6*nrows)));\n",
    "\n",
    "# plot 1: RDC\n",
    "ax = plt.subplot(nrows, min(nplots,2), 1)\n",
    "seaborn.lineplot(data=msc_E, ax = ax, linewidth=3);\n",
    "ax.set_xlabel(r'Capacity Factor', labelpad = 5);\n",
    "ax.set_ylabel(r'€/GJ', labelpad = 5);\n",
    "ax.set_xlim([0, 1]);\n",
    "ax.hlines(0,0,1,colors='k',linewidth=1,alpha=0.5)\n",
    "ax.set_title('Marginal System Costs, E')\n",
    "\n",
    "# plot 1: RDC\n",
    "ax = plt.subplot(nrows, min(nplots,2), 2)\n",
    "seaborn.lineplot(data=msc_H, ax = ax, linewidth=3);\n",
    "ax.set_xlabel(r'Capacity Factor', labelpad = 5);\n",
    "ax.set_ylabel(r'$€/GJ$', labelpad = 5);\n",
    "ax.set_xlim([0, 1]);\n",
    "ax.hlines(0,0,1,colors='k',linewidth=1,alpha=0.5)\n",
    "ax.set_title('Marginal System Costs, H')\n",
    "\n",
    "fig.tight_layout()\n",
    "if slides:\n",
    "    fig.savefig(f\"{out_folder}\\\\mGF_PH_AAU_Baseline_MSC_slides.pdf\",facecolor='#FAFAFA',edgecolor='k')\n",
    "else:\n",
    "    fig.savefig(f\"{out_folder}\\\\mGF_PH_AAU_Baseline_MSC.pdf\",edgecolor='k')"
   ]
  },
  {
   "cell_type": "code",
   "execution_count": 23,
   "id": "266a5a8b-30a4-4516-9563-b43028339387",
   "metadata": {},
   "outputs": [],
   "source": [
    "db_baseline = m.db.copy()"
   ]
  },
  {
   "cell_type": "markdown",
   "id": "86966f62-003b-4d04-8a3f-57dee68353a8",
   "metadata": {},
   "source": [
    "### 4. Remove heat pumps"
   ]
  },
  {
   "cell_type": "code",
   "execution_count": 24,
   "id": "e59d2a6d-9165-4b2a-8561-c827d0b10f62",
   "metadata": {},
   "outputs": [
    {
     "name": "stdout",
     "output_type": "stream",
     "text": [
      "Solution status 0: Optimization terminated successfully. (HiGHS Status 7: Optimal)\n"
     ]
    }
   ],
   "source": [
    "m.db['TechCap_H'] = (rc_pd(m.db['TechCap_H'], pd.Index(['HP'],name='tech')) * 0).combine_first(m.db['TechCap_H'])\n",
    "m.solve()"
   ]
  },
  {
   "cell_type": "markdown",
   "id": "6b585fa9-cf5b-457f-a25c-6a80e14b6ed5",
   "metadata": {},
   "source": [
    "*Compare capacities:*"
   ]
  },
  {
   "cell_type": "code",
   "execution_count": 25,
   "id": "b57a4669-bef3-48d6-a2f9-8cf448a5f3af",
   "metadata": {},
   "outputs": [],
   "source": [
    "cap_HP = applyMult(pd.concat([applyMult(m.db['GeneratingCap_E'], db['id2tech']), applyMult(m.db['GeneratingCap_H'], db['id2tech'])]), db['id2g']).droplevel('id')\n",
    "cap_HP = cap_HP.rename_axis(index={'g':None})\n",
    "cap_HP = cap_HP.unstack().reindex(df_Costs.index)\n",
    "cap_compare = pd.DataFrame({'Baseline': cap.sum(axis=1), 'Without HP': cap_HP.sum(axis=1)})"
   ]
  },
  {
   "cell_type": "code",
   "execution_count": 26,
   "id": "4ea89070-8735-4882-bdf5-dea69005eaec",
   "metadata": {},
   "outputs": [],
   "source": [
    "%%capture\n",
    "one_graph()\n",
    "fig, ax = plt.subplots(1,1,figsize = (14,8))\n",
    "cap_compare.plot.bar(ax=ax);\n",
    "ax.set_ylabel('TJ/h capacity', labelpad=10);\n",
    "ax.set_xlabel('Technology', labelpad=10);\n",
    "fig.tight_layout();\n",
    "if slides:\n",
    "    fig.savefig(f\"{out_folder}\\\\mGF_PH_AAU_HP_GeneratingCap_slides.pdf\",facecolor='#FAFAFA',edgecolor='k')\n",
    "else:\n",
    "    fig.savefig(f\"{out_folder}\\\\mGF_PH_AAU_HP_GeneratingCap.pdf\",edgecolor='k')"
   ]
  },
  {
   "cell_type": "markdown",
   "id": "ba74a561-dc00-4150-887e-7ae9161e81ae",
   "metadata": {},
   "source": [
    "*Compare practical capacity factors for active plants:*"
   ]
  },
  {
   "cell_type": "code",
   "execution_count": 27,
   "id": "f0659829-e9a4-41fe-9fde-95ea4018cdc4",
   "metadata": {},
   "outputs": [],
   "source": [
    "capFactor_E_HP = (pdSum(m.db['Generation_E'], 'h')/ pdNonZero(pdSum(m.hourlyGeneratingCap_E, 'h')) ).dropna() \n",
    "capFactor_H_HP = (pdSum(m.db['Generation_H'], 'h')/ pdNonZero(pdSum(m.hourlyGeneratingCap_H, 'h')) ).dropna()\n",
    "capFactor_HP = applyMult(pd.concat([capFactor_E_HP, capFactor_H_HP]), db['id2tech']).droplevel('id')\n",
    "capFactor_HP = capFactor_HP.rename_axis(index={'g':None})\n",
    "capFactor_HP = capFactor_HP.unstack(0).reindex(df_Costs.index).dropna(how='all').fillna(0)\n",
    "capFactor_compare = pd.DataFrame({'Baseline': capFactor.mean(axis=1), 'Without HP': capFactor_HP.mean(axis=1)})"
   ]
  },
  {
   "cell_type": "code",
   "execution_count": 28,
   "id": "b4c90169-58b4-4b8e-b0a9-b7cac9ebc4e1",
   "metadata": {},
   "outputs": [],
   "source": [
    "%%capture\n",
    "one_graph()\n",
    "fig, ax = plt.subplots(1,1,figsize = (14,8))\n",
    "capFactor_compare.plot.bar(ax=ax);\n",
    "ax.set_ylabel('Practical capacity factor', labelpad=10);\n",
    "ax.set_ylim([0,1]);\n",
    "ax.set_xlabel('Technology', labelpad=10);\n",
    "fig.tight_layout();\n",
    "if slides:\n",
    "    fig.savefig(f\"{out_folder}\\\\mGF_PH_AAU_HP_PCF_slides.pdf\",facecolor='#FAFAFA',edgecolor='k')\n",
    "else:\n",
    "    fig.savefig(f\"{out_folder}\\\\mGF_PH_AAU_HP_PCF.pdf\",edgecolor='k')"
   ]
  },
  {
   "cell_type": "markdown",
   "id": "7ac8ea74-4c56-4352-a89b-0f4369958642",
   "metadata": {},
   "source": [
    "*System costs, mean price, and emissions:*"
   ]
  },
  {
   "cell_type": "code",
   "execution_count": 29,
   "id": "21ac78d2-98f9-4f9e-b23b-2128d68b014c",
   "metadata": {},
   "outputs": [],
   "source": [
    "costs_baseline = sum(m.hourlyLoad_H*m.db['MWP_LoadShedding_H'])+sum(m.hourlyLoad_E*m.db['MWP_LoadShedding_E'])-db_baseline['Welfare']\n",
    "costs_hp = sum(m.hourlyLoad_H*m.db['MWP_LoadShedding_H'])+sum(m.hourlyLoad_E*m.db['MWP_LoadShedding_E'])-m.db['Welfare']\n",
    "emissions_baseline = sum(db_baseline['Emissions'])\n",
    "emissions_hp = sum(m.db['Emissions'])\n",
    "mp_E_baseline = db_baseline['meanConsumerPrice_E'].mean()\n",
    "mp_E_HP = m.db['meanConsumerPrice_E'].mean()\n",
    "mp_H_baseline = db_baseline['meanConsumerPrice_H'].mean()\n",
    "mp_H_HP = m.db['meanConsumerPrice_H'].mean()"
   ]
  },
  {
   "cell_type": "code",
   "execution_count": 30,
   "id": "6b9de6fe-a31c-4bd5-b89b-22b45da0810b",
   "metadata": {},
   "outputs": [],
   "source": [
    "df_compare = pd.DataFrame({'Baseline':  pd.Series([costs_baseline, emissions_baseline, mp_E_baseline, mp_H_baseline], index = pd.Index(['System costs','Emissions','mean price, E', 'mean price, H'], name = 'variable')),\n",
    "                           'Without HP': pd.Series([costs_hp, emissions_hp, mp_E_HP, mp_H_HP], index = pd.Index(['System costs','Emissions','mean price, E', 'mean price, H'], name = 'variable'))})"
   ]
  },
  {
   "cell_type": "markdown",
   "id": "911a7dea-e6b7-423b-a0de-b16f00b4a5c7",
   "metadata": {},
   "source": [
    "Make the 'without HP' index 100:"
   ]
  },
  {
   "cell_type": "code",
   "execution_count": 31,
   "id": "6f773141-0e62-4f86-b65e-27596114f474",
   "metadata": {},
   "outputs": [],
   "source": [
    "df_compare = (df_compare.stack()/df_compare['Without HP']).unstack() * 100"
   ]
  },
  {
   "cell_type": "code",
   "execution_count": 32,
   "id": "509cc67c-46d6-4b4e-b630-a497528cbe4a",
   "metadata": {},
   "outputs": [],
   "source": [
    "%%capture\n",
    "one_graph()\n",
    "fig, ax = plt.subplots(1,1,figsize = (14,8))\n",
    "df_compare.plot.bar(ax=ax, legend=False);\n",
    "ax.set_ylabel(\"\"\"Index 100 = 'Without HP' \"\"\", labelpad=10);\n",
    "# ax.set_ylim([0,100]);\n",
    "ax.set_xlabel(None);\n",
    "fig.legend(df_compare.columns,loc=9,ncol=2,frameon=True)\n",
    "fig.tight_layout();\n",
    "fig.subplots_adjust(top=0.9);\n",
    "if slides:\n",
    "    fig.savefig(f\"{out_folder}\\\\mGF_PH_AAU_HP_overview_slides.pdf\",facecolor='#FAFAFA',edgecolor='k')\n",
    "else:\n",
    "    fig.savefig(f\"{out_folder}\\\\mGF_PH_AAU_HP_overview.pdf\",edgecolor='k')"
   ]
  },
  {
   "cell_type": "markdown",
   "id": "a9d0d674-4de2-4799-a9c9-72d647523830",
   "metadata": {},
   "source": [
    "### 5. NIMBY constraints"
   ]
  },
  {
   "cell_type": "markdown",
   "id": "14ccacee-fa32-4e1d-8a02-6debf0b49ee6",
   "metadata": {},
   "source": [
    "Re-introduce heat pumps, but lower capacity for ```PV, SH, and WOnShore```:"
   ]
  },
  {
   "cell_type": "code",
   "execution_count": 33,
   "id": "c31f06a5-eb62-422d-9f95-6898f5bb8f92",
   "metadata": {},
   "outputs": [
    {
     "name": "stdout",
     "output_type": "stream",
     "text": [
      "Solution status 0: Optimization terminated successfully. (HiGHS Status 7: Optimal)\n"
     ]
    }
   ],
   "source": [
    "m.db['TechCap_H'] = db_baseline['TechCap_H'].copy()\n",
    "m.db['TechCap_E'] = pd.Series([2.5, 2.5, 8, 8], index = pd.MultiIndex.from_tuples([('DK1','PV'),('DK2','PV'), ('DK1','WOnShore'), ('DK2','WOnShore')], names = ['g','tech'])).combine_first(m.db['TechCap_E'])\n",
    "m.db['TechCap_H'] = pd.Series([2,2], index = pd.MultiIndex.from_tuples([('DK1','SH'), ('DK2','SH')], names = ['g','tech'])).combine_first(m.db['TechCap_H'])\n",
    "m.solve()"
   ]
  },
  {
   "cell_type": "markdown",
   "id": "23e5af20-d16d-4f5c-9046-7ab1d81b0a28",
   "metadata": {},
   "source": [
    "*Compare capacities:*"
   ]
  },
  {
   "cell_type": "code",
   "execution_count": 34,
   "id": "69e0e53e-61d0-4d5e-b0fb-21bfe7941225",
   "metadata": {},
   "outputs": [],
   "source": [
    "cap_NIMBY = applyMult(pd.concat([applyMult(m.db['GeneratingCap_E'], db['id2tech']), applyMult(m.db['GeneratingCap_H'], db['id2tech'])]), db['id2g']).droplevel('id')\n",
    "cap_NIMBY = cap_NIMBY.rename_axis(index={'g':None})\n",
    "cap_NIMBY = cap_NIMBY.unstack().reindex(df_Costs.index)\n",
    "cap_compare = pd.DataFrame({'Baseline': cap.sum(axis=1), 'NIMBY': cap_NIMBY.sum(axis=1)})"
   ]
  },
  {
   "cell_type": "code",
   "execution_count": 35,
   "id": "f41caea9-b780-4c51-b931-a310e98ad3d6",
   "metadata": {},
   "outputs": [],
   "source": [
    "%%capture\n",
    "one_graph()\n",
    "fig, ax = plt.subplots(1,1,figsize = (14,8))\n",
    "cap_compare.plot.bar(ax=ax);\n",
    "ax.set_ylabel('TJ/h capacity', labelpad=10);\n",
    "ax.set_xlabel('Technology', labelpad=10);\n",
    "fig.tight_layout();\n",
    "if slides:\n",
    "    fig.savefig(f\"{out_folder}\\\\mGF_PH_AAU_NIMBY_GeneratingCap_slides.pdf\",facecolor='#FAFAFA',edgecolor='k')\n",
    "else:\n",
    "    fig.savefig(f\"{out_folder}\\\\mGF_PH_AAU_NIMBY_GeneratingCap.pdf\",edgecolor='k')"
   ]
  },
  {
   "cell_type": "markdown",
   "id": "f1d99f32-2c03-488f-b22e-a6ed053225a7",
   "metadata": {},
   "source": [
    "*Compare practical capacity factors for active plants:*"
   ]
  },
  {
   "cell_type": "code",
   "execution_count": 36,
   "id": "273e7c4d-1608-499c-9df4-7a46fcae62a5",
   "metadata": {},
   "outputs": [],
   "source": [
    "capFactor_E_NIMBY = (pdSum(m.db['Generation_E'], 'h')/ pdNonZero(pdSum(m.hourlyGeneratingCap_E, 'h')) ).dropna() \n",
    "capFactor_H_NIMBY = (pdSum(m.db['Generation_H'], 'h')/ pdNonZero(pdSum(m.hourlyGeneratingCap_H, 'h')) ).dropna()\n",
    "capFactor_NIMBY = applyMult(pd.concat([capFactor_E_NIMBY, capFactor_H_NIMBY]), db['id2tech']).droplevel('id')\n",
    "capFactor_NIMBY = capFactor_NIMBY.rename_axis(index={'g':None})\n",
    "capFactor_NIMBY = capFactor_NIMBY.unstack(0).reindex(df_Costs.index).dropna(how='all').fillna(0)\n",
    "capFactor_compare = pd.DataFrame({'Baseline': capFactor.mean(axis=1), 'NIMBY': capFactor_NIMBY.mean(axis=1)})"
   ]
  },
  {
   "cell_type": "code",
   "execution_count": 37,
   "id": "1ce8b2e9-b129-46af-82d7-78240e53a684",
   "metadata": {},
   "outputs": [],
   "source": [
    "%%capture\n",
    "one_graph()\n",
    "fig, ax = plt.subplots(1,1,figsize = (14,8))\n",
    "capFactor_compare.plot.bar(ax=ax);\n",
    "ax.set_ylabel('Practical capacity factor', labelpad=10);\n",
    "ax.set_ylim([0,1]);\n",
    "ax.set_xlabel('Technology', labelpad=10);\n",
    "fig.tight_layout();\n",
    "if slides:\n",
    "    fig.savefig(f\"{out_folder}\\\\mGF_PH_AAU_NIMBY_PCF_slides.pdf\",facecolor='#FAFAFA',edgecolor='k')\n",
    "else:\n",
    "    fig.savefig(f\"{out_folder}\\\\mGF_PH_AAU_NIMBY_PCF.pdf\",edgecolor='k')"
   ]
  },
  {
   "cell_type": "markdown",
   "id": "100f9c2b-5ded-490f-a7aa-21bf085ae8eb",
   "metadata": {},
   "source": [
    "*System costs, mean price, and emissions:*"
   ]
  },
  {
   "cell_type": "code",
   "execution_count": 38,
   "id": "335f4940-f768-4749-a032-da367e368325",
   "metadata": {},
   "outputs": [],
   "source": [
    "costs_NIMBY = sum(m.hourlyLoad_H*m.db['MWP_LoadShedding_H'])+sum(m.hourlyLoad_E*m.db['MWP_LoadShedding_E'])-m.db['Welfare']\n",
    "emissions_NIMBY = sum(m.db['Emissions'])\n",
    "mp_E_NIMBY = m.db['meanConsumerPrice_E'].mean()\n",
    "mp_H_NIMBY = m.db['meanConsumerPrice_H'].mean()"
   ]
  },
  {
   "cell_type": "code",
   "execution_count": 39,
   "id": "ad0b3e76-d5a5-4327-9ad5-6bf29fd24642",
   "metadata": {},
   "outputs": [],
   "source": [
    "df_compare = pd.DataFrame({'Baseline':  pd.Series([costs_baseline, emissions_baseline, mp_E_baseline, mp_H_baseline], index = pd.Index(['System costs','Emissions','mean price, E', 'mean price, H'], name = 'variable')),\n",
    "                           'NIMBY'   :  pd.Series([costs_NIMBY, emissions_NIMBY, mp_E_NIMBY, mp_H_NIMBY], index = pd.Index(['System costs','Emissions','mean price, E', 'mean price, H'], name = 'variable'))})"
   ]
  },
  {
   "cell_type": "markdown",
   "id": "8311122e-2a35-43c5-884a-0fcc8e7bd9dd",
   "metadata": {},
   "source": [
    "Make the 'NIMBY' index 100:"
   ]
  },
  {
   "cell_type": "code",
   "execution_count": 40,
   "id": "a09f9871-435f-47a4-a112-79a77fc2e2b6",
   "metadata": {},
   "outputs": [],
   "source": [
    "df_compare = (df_compare.stack()/df_compare['NIMBY']).unstack() * 100"
   ]
  },
  {
   "cell_type": "code",
   "execution_count": 41,
   "id": "49632a64-a6bb-4617-a03b-acaf5b93d1db",
   "metadata": {},
   "outputs": [],
   "source": [
    "%%capture\n",
    "one_graph()\n",
    "fig, ax = plt.subplots(1,1,figsize = (14,8))\n",
    "df_compare.plot.bar(ax=ax, legend=False);\n",
    "ax.set_ylabel(\"\"\"Index 100 = 'NIMBY' \"\"\", labelpad=10);\n",
    "# ax.set_ylim([0,100]);\n",
    "ax.set_xlabel(None);\n",
    "fig.legend(df_compare.columns,loc=9,ncol=2,frameon=True)\n",
    "fig.tight_layout();\n",
    "fig.subplots_adjust(top=0.9);\n",
    "if slides:\n",
    "    fig.savefig(f\"{out_folder}\\\\mGF_PH_AAU_NIMBY_overview_slides.pdf\",facecolor='#FAFAFA',edgecolor='k')\n",
    "else:\n",
    "    fig.savefig(f\"{out_folder}\\\\mGF_PH_AAU_NIMBY_overview.pdf\",edgecolor='k')"
   ]
  }
 ],
 "metadata": {
  "kernelspec": {
   "display_name": "Python 3 (ipykernel)",
   "language": "python",
   "name": "python3"
  },
  "language_info": {
   "codemirror_mode": {
    "name": "ipython",
    "version": 3
   },
   "file_extension": ".py",
   "mimetype": "text/x-python",
   "name": "python",
   "nbconvert_exporter": "python",
   "pygments_lexer": "ipython3",
   "version": "3.9.7"
  }
 },
 "nbformat": 4,
 "nbformat_minor": 5
}
