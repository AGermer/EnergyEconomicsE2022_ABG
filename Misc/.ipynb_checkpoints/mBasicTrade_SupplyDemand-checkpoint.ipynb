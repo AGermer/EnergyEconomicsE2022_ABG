{
 "cells": [
  {
   "cell_type": "code",
   "execution_count": 1,
   "id": "14f42bcd-bd28-45d8-ac8b-f9e6b08e740c",
   "metadata": {},
   "outputs": [],
   "source": [
    "%run stdPackages.ipynb\n",
    "slides = False # print to slides format if True\n",
    "out_folder = os.path.join(d['curr'], 'Misc', 'Figs')\n",
    "d['data'] = os.path.join(d['curr'],'Misc','Data')\n",
    "read = {'variables': ['Fundamentals', 'Load', 'Generators_Other','TL'], \n",
    "        'variable2D': ['Generators_FuelMix','HourlyVariation'],\n",
    "        'scalars': ['Scalars'],\n",
    "        'maps': ['Generators_Categories', 'Load_Categories']}\n",
    "db = dbFromWB(os.path.join(d['data'],'mBasicTrade1.xlsx'), read)\n",
    "readSets(db)"
   ]
  },
  {
   "cell_type": "markdown",
   "id": "bb8679d6-c990-41df-a3f9-08ee0acac055",
   "metadata": {},
   "source": [
    "Set up model:"
   ]
  },
  {
   "cell_type": "code",
   "execution_count": 2,
   "id": "0701ff81-d4aa-4eb7-b533-c55a5ff3e002",
   "metadata": {},
   "outputs": [
    {
     "name": "stdout",
     "output_type": "stream",
     "text": [
      "Solution status 0: Optimization terminated successfully.\n"
     ]
    }
   ],
   "source": [
    "m = mBasicTrade.mBasicTrade(db)\n",
    "m.solve()"
   ]
  },
  {
   "cell_type": "markdown",
   "id": "2f2d272e-de3d-493c-a94a-cb8f9ef998ca",
   "metadata": {},
   "source": [
    "### LDC and RDC"
   ]
  },
  {
   "cell_type": "markdown",
   "id": "31bee547-f3a3-40c1-bea3-54ff3d83e74a",
   "metadata": {},
   "source": [
    "Print the same plots as for ```mBasicInt``` for the geographic area $g2$. The area $g1$ is identical to plots in ```mBasicInt```."
   ]
  },
  {
   "cell_type": "markdown",
   "id": "da50ec17-9c0f-48b3-b595-80b1ee6288b6",
   "metadata": {},
   "source": [
    "Load duration curve (LDC) and residual demand curve (RDC):"
   ]
  },
  {
   "cell_type": "code",
   "execution_count": 3,
   "id": "c267d1f2-18d6-4245-89af-700e3a592f8e",
   "metadata": {},
   "outputs": [],
   "source": [
    "LDC = m.hourlyLoad.sort_values(ascending=False).xs('g2',level='g')\n",
    "LDC.index = [i/(len(LDC)) for i in range(1, len(LDC)+1)]\n",
    "LDC.at[0] = LDC.iloc[0]\n",
    "RDC = (m.hourlyLoad-m.hourlyGeneratingCapacity.xs('id6')).sort_values(ascending = False)\n",
    "RDC.index = [i/(len(RDC)) for i in range(1, len(RDC)+1)]\n",
    "RDC.at[0] = RDC.iloc[0]"
   ]
  },
  {
   "cell_type": "code",
   "execution_count": 4,
   "id": "1859ea1e-c28c-48c9-8bbe-40f965c655fc",
   "metadata": {},
   "outputs": [],
   "source": [
    "%%capture\n",
    "mult_graphs()\n",
    "nplots = 4\n",
    "nrows = math.ceil(nplots/2)\n",
    "fig, axes = plt.subplots(nrows, min(nplots, 2), figsize = (14, (4*nrows)));\n",
    "plt.subplots_adjust(hspace=0.35)\n",
    "# Plot 1: Hourly load\n",
    "ax = plt.subplot(nrows, min(nplots,2), 1)\n",
    "m.hourlyLoad.xs('g2',level='g').plot.bar(ax = ax, legend = False);\n",
    "ax.set_xlabel(r'$h$', labelpad=10);\n",
    "ax.set_ylabel(r\"Load, GJ\", labelpad=10);\n",
    "ax.set_title('Hourly load');\n",
    "\n",
    "# Plot 2: Load duration curve\n",
    "ax = plt.subplot(nrows, min(nplots,2), 2)\n",
    "seaborn.lineplot(data=LDC, ax = ax, linewidth = 3, legend = False);\n",
    "ax.set_xlim([0,1]);\n",
    "ax.set_xlabel(r'Capacity factor', labelpad=10);\n",
    "ax.set_ylabel(r\"Load, GJ\",labelpad=10);\n",
    "ax.set_title('Load duration curve');\n",
    "\n",
    "# Plot 3: Hourly Variation in Generation:\n",
    "ax = plt.subplot(nrows, min(nplots,2), 3)\n",
    "m.hourlyGeneratingCapacity.xs('id6').plot.bar(ax = ax, legend = False,linewidth=None);\n",
    "ax.set_xlabel(r'$h$', labelpad=10);\n",
    "ax.set_ylabel(r\"Generating capacity, GJ\", labelpad=10);\n",
    "ax.set_title('Generating capacity, PV');\n",
    "\n",
    "# Plot 4: Residual demand curve\n",
    "ax = plt.subplot(nrows, min(nplots,2), 4)\n",
    "seaborn.lineplot(data=RDC, ax = ax, linewidth = 3, legend = False);\n",
    "ax.set_xlim([0,1]);\n",
    "ax.set_xlabel(r'Capacity factor', labelpad=10);\n",
    "ax.set_ylabel(r\"Demand net of PV, GJ\",labelpad=10);\n",
    "ax.set_title('Residual demand curve');\n",
    "fig.tight_layout()\n",
    "if slides:\n",
    "    fig.savefig(f\"{out_folder}\\\\mBasicTrade_hvt_g2_slides.pdf\",facecolor='#FAFAFA',edgecolor='k')\n",
    "else:\n",
    "    fig.savefig(f\"{out_folder}\\\\mBasicTrade_hvt_g2.pdf\",edgecolor='k')"
   ]
  },
  {
   "cell_type": "markdown",
   "id": "7358fbd7-9811-4b47-95de-bcde6f48cb93",
   "metadata": {},
   "source": [
    "### Plot merit order curve for each hour:"
   ]
  },
  {
   "cell_type": "code",
   "execution_count": 5,
   "id": "2fe0f3b7-0063-4310-95df-bc7bf09bed2b",
   "metadata": {},
   "outputs": [],
   "source": [
    "def demand_h(m,h):\n",
    "    return standardPlots.demandLinear_df(m.db['MWP_LoadShedding'], m.hourlyLoad.xs('g2',level='g').xs(h))\n",
    "def supply_h(m,h,maxY=30):\n",
    "    return standardPlots.meritOrderCurve_df(lpCompiler.broadcast(m.db['mc'], m.db['id2g']).xs('g2',level='g'), lpCompiler.broadcast(m.hourlyGeneratingCapacity, m.db['id2g']).xs('g2',level='g').xs(h,level='h'),maxY=maxY)"
   ]
  },
  {
   "cell_type": "code",
   "execution_count": 6,
   "id": "3049e302-8c18-4462-8f76-83f4fece5991",
   "metadata": {},
   "outputs": [],
   "source": [
    "%%capture\n",
    "mult_graphs()\n",
    "nplots = len(m.db['h'])\n",
    "nrows = math.ceil(nplots/2)\n",
    "fig,axes = plt.subplots(nrows,min(nplots,2),figsize=(14,(4*nrows)));\n",
    "plt.subplots_adjust(hspace=0.35)\n",
    "offset_N, offset_Arrow, offset_q = 1, 1, 3\n",
    "for j in range(nplots):\n",
    "    ax = plt.subplot(nrows,min(nplots,2),j+1)\n",
    "    h = j+1\n",
    "    df = supply_h(m,h)\n",
    "    dh = demand_h(m,h)\n",
    "    \n",
    "    df.plot(linewidth=3,ax=ax,legend=False);\n",
    "    dh.plot(linewidth=3,ax=ax,legend=False);\n",
    "    ax.set_xlabel(r'$GJ$', labelpad = 5);\n",
    "    ax.set_ylabel(r'$€/$GJ', labelpad = 5);\n",
    "    ax.set_xlim([0, max([dh.index.max(), df.index.max()])+5]);\n",
    "    ax.set_ylim([0, math.ceil(max([df.max()[0], dh.max()[0]]))]);\n",
    "    ax.set_title(f\"\"\"$h={h}$\"\"\")\n",
    "    \n",
    "    if j>0:\n",
    "        plt.text(df.index[2]/2-8, df.iloc[2]+offset_N, f'Solar');\n",
    "        plt.text(df.index[2]/2-5, df.iloc[2]-offset_q, f'$q_S$');\n",
    "        plt.annotate(\"\",xy=(1, df.iloc[2]-offset_Arrow), xytext=(df.index[2]-1, df.iloc[2]-offset_Arrow), arrowprops=dict(width=1, color='k', headwidth=5, headlength=15));\n",
    "        plt.annotate(\"\",xy=(df.index[2]-1, df.iloc[2]-offset_Arrow), xytext=(1, df.iloc[2]-offset_Arrow), arrowprops=dict(width=1, color='k', headwidth=5, headlength=15));\n",
    "    \n",
    "    plt.text((df.index[4]+df.index[2])/2-8, df.iloc[4]+offset_N, f'Gas')\n",
    "    plt.text((df.index[4]+df.index[2])/2-5, df.iloc[4]-offset_q, f'$q_G$');\n",
    "    plt.annotate(\"\",xy=(df.index[2]+1, df.iloc[4]-offset_Arrow), xytext=(df.index[4]-1,df.iloc[4]-offset_Arrow), arrowprops=dict(width=1, color='k', headwidth=5, headlength=15));\n",
    "    plt.annotate(\"\",xy=(df.index[4]-1, df.iloc[4]-offset_Arrow), xytext=(df.index[2]+1, df.iloc[4]-offset_Arrow), arrowprops=dict(width=1, color='k', headwidth=5, headlength=15));\n",
    "    \n",
    "fig.legend(['Generation', 'Load'],loc=9,ncol=2,frameon=True)\n",
    "fig.tight_layout();\n",
    "fig.subplots_adjust(top=0.9);\n",
    "if slides:\n",
    "    fig.savefig(f\"{out_folder}\\\\mBasicTrade_MeritOrder_g2_slides.pdf\",facecolor='#FAFAFA',edgecolor='k')\n",
    "else:\n",
    "    fig.savefig(f\"{out_folder}\\\\mBasicTrade_MeritOrder_g2.pdf\",edgecolor='k')"
   ]
  }
 ],
 "metadata": {
  "kernelspec": {
   "display_name": "Python 3 (ipykernel)",
   "language": "python",
   "name": "python3"
  },
  "language_info": {
   "codemirror_mode": {
    "name": "ipython",
    "version": 3
   },
   "file_extension": ".py",
   "mimetype": "text/x-python",
   "name": "python",
   "nbconvert_exporter": "python",
   "pygments_lexer": "ipython3",
   "version": "3.9.7"
  }
 },
 "nbformat": 4,
 "nbformat_minor": 5
}
