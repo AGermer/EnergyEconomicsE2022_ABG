{
 "cells": [
  {
   "cell_type": "code",
   "execution_count": 1,
   "id": "1bc550bc-00ff-462e-a12a-78fda133f7a7",
   "metadata": {},
   "outputs": [],
   "source": [
    "%run stdPackages.ipynb\n",
    "d['data'] = os.path.join(d['curr'],'Misc','Data')\n",
    "read = {'variable2D': ['data']}\n",
    "db = dbFromWB(os.path.join(d['data'],'Correlations.xlsx'), read)"
   ]
  },
  {
   "cell_type": "markdown",
   "id": "6616a374-b494-4762-be5c-2ba2688a44f2",
   "metadata": {},
   "source": [
    "## Create representative samples and correlations"
   ]
  },
  {
   "cell_type": "code",
   "execution_count": 2,
   "id": "a69e5497-2d96-4482-991f-68ded68ab506",
   "metadata": {},
   "outputs": [],
   "source": [
    "df = db['dataVariation'].unstack('data')\n",
    "varnames = df.columns.copy()"
   ]
  },
  {
   "cell_type": "markdown",
   "id": "8abaad1d-3c47-409b-b18c-225fd80cda21",
   "metadata": {},
   "source": [
    "## Create representative samples and correlations"
   ]
  },
  {
   "cell_type": "markdown",
   "id": "01f4fe11-85fc-48e0-94fc-da8b71e2c042",
   "metadata": {},
   "source": [
    "Create indices corresponding to:\n",
    "* Aggregate year to 24 hours.\n",
    "* Aggregate year to 4 seasons, 24 hours.\n",
    "* 6 hour intervals for each day:"
   ]
  },
  {
   "cell_type": "markdown",
   "id": "85ce8ba7-c9ec-4637-8fcd-9882fbec39a6",
   "metadata": {},
   "source": [
    "*Hours:*"
   ]
  },
  {
   "cell_type": "code",
   "execution_count": 3,
   "id": "e49cff16-e2d3-4e67-a61d-78720ea6e0ec",
   "metadata": {},
   "outputs": [],
   "source": [
    "df['h_24hours'] = [i for i in range(1,25)]*365 "
   ]
  },
  {
   "cell_type": "markdown",
   "id": "07e25c06-5659-4b8f-bb74-a50f9149c9f9",
   "metadata": {},
   "source": [
    "*Seasons (northern hemisphere)*"
   ]
  },
  {
   "cell_type": "code",
   "execution_count": 4,
   "id": "f3e7c424-542b-44d6-a493-5a78db92f611",
   "metadata": {},
   "outputs": [
    {
     "name": "stderr",
     "output_type": "stream",
     "text": [
      "C:\\Users\\sxj477\\Anaconda3\\lib\\site-packages\\pandas\\core\\indexing.py:1732: SettingWithCopyWarning: \n",
      "A value is trying to be set on a copy of a slice from a DataFrame\n",
      "\n",
      "See the caveats in the documentation: https://pandas.pydata.org/pandas-docs/stable/user_guide/indexing.html#returning-a-view-versus-a-copy\n",
      "  self._setitem_single_block(indexer, value, name)\n"
     ]
    }
   ],
   "source": [
    "spring0 = (31+28)*24+1\n",
    "springE = spring0+(31+30+31)*24\n",
    "summer0 = springE+1\n",
    "summerE = summer0+(30+31+31)*24\n",
    "fall0   = summerE+1\n",
    "fallE   = fall0+(30+31+30)*24\n",
    "df['seasons'] = 'winter'\n",
    "df['seasons'].iloc[spring0:springE] = 'spring'\n",
    "df['seasons'].iloc[summer0:summerE] = 'summer'\n",
    "df['seasons'].iloc[fall0:fallE] = 'fall'"
   ]
  },
  {
   "cell_type": "markdown",
   "id": "d32b5752-3773-4f25-b3ff-b2c1d1666e82",
   "metadata": {},
   "source": [
    "*6 and 3 hour intervals - 4 daily states and 6 daily states:*"
   ]
  },
  {
   "cell_type": "code",
   "execution_count": 5,
   "id": "a6e07604-2235-49db-a107-d33c6dda06d8",
   "metadata": {},
   "outputs": [],
   "source": [
    "df['h_4hours'] = np.hstack([[i]*6 for i in range(1,5)] * 365)\n",
    "df['h_6hours'] = np.hstack([[i]*4 for i in range(1,7)] * 365)"
   ]
  },
  {
   "cell_type": "markdown",
   "id": "7eff5043-b42c-4ad2-9b25-74930ce45f1b",
   "metadata": {},
   "source": [
    "#### Correlations:"
   ]
  },
  {
   "cell_type": "code",
   "execution_count": 6,
   "id": "2dd01dde-8886-4cbb-8715-e9d6ab7a3873",
   "metadata": {},
   "outputs": [],
   "source": [
    "corr = df[varnames].astype(float).corr()\n",
    "db['correlations'] = corr.stack().rename_axis(['data','data_alias'])"
   ]
  },
  {
   "cell_type": "markdown",
   "id": "476cafb2-389f-4a8b-80a8-a9581025aea7",
   "metadata": {},
   "source": [
    "#### Samples:"
   ]
  },
  {
   "cell_type": "code",
   "execution_count": 7,
   "id": "cf05cf93-d083-4ae3-988f-2b022be4c653",
   "metadata": {},
   "outputs": [],
   "source": [
    "df = df.reset_index().set_index(['hdata','h_24hours','seasons','h_4hours','h_6hours'])"
   ]
  },
  {
   "cell_type": "markdown",
   "id": "74552db2-b0b1-422a-8946-1f418ee0e266",
   "metadata": {},
   "source": [
    "Create 24 hours representative states:"
   ]
  },
  {
   "cell_type": "code",
   "execution_count": 8,
   "id": "f7e44430-95de-4c3d-9858-f7a39b3dcd95",
   "metadata": {},
   "outputs": [],
   "source": [
    "x = df[['LoadVariation_E','LoadVariation_H']].groupby(['h_24hours']).sum().rename_axis('h')\n",
    "[db.__setitem__(k+'_24h', x[k]) for k in ['LoadVariation_E','LoadVariation_H']];\n",
    "db['CapVariation_24h'] = df[['WS','PV','SH']].groupby('h_24hours').mean().stack().rename_axis(index={'h_24hours': 'h', 'data':'hvt'})"
   ]
  },
  {
   "cell_type": "markdown",
   "id": "8d647ca2-e165-4a01-aa7d-0961e674391a",
   "metadata": {},
   "source": [
    "Create 4 representative states:"
   ]
  },
  {
   "cell_type": "code",
   "execution_count": 9,
   "id": "74cb79fe-3357-4ef1-bbee-e255836c4292",
   "metadata": {},
   "outputs": [],
   "source": [
    "x = df[['LoadVariation_E','LoadVariation_H']].groupby(['h_4hours']).sum().rename_axis('h')\n",
    "[db.__setitem__(k+'_4h', x[k]) for k in ['LoadVariation_E','LoadVariation_H']];\n",
    "db['CapVariation_4h'] = df[['WS','PV','SH']].groupby('h_4hours').mean().stack().rename_axis(index={'h_4hours': 'h', 'data':'hvt'})"
   ]
  },
  {
   "cell_type": "markdown",
   "id": "500eaa25-64de-4566-ab39-ee25f44a6f74",
   "metadata": {},
   "source": [
    "Create 6 representative states:"
   ]
  },
  {
   "cell_type": "code",
   "execution_count": 10,
   "id": "6bad1390-98b7-4201-90b4-7060341204ae",
   "metadata": {},
   "outputs": [],
   "source": [
    "x = df[['LoadVariation_E','LoadVariation_H']].groupby(['h_6hours']).sum().rename_axis('h')\n",
    "[db.__setitem__(k+'_6h', x[k]) for k in ['LoadVariation_E','LoadVariation_H']];\n",
    "db['CapVariation_6h'] = df[['WS','PV','SH']].groupby('h_6hours').mean().stack().rename_axis(index={'h_6hours': 'h', 'data':'hvt'})"
   ]
  },
  {
   "cell_type": "code",
   "execution_count": 15,
   "id": "c8f66b38-3f23-46c4-b575-05b2db4d2b4f",
   "metadata": {},
   "outputs": [
    {
     "data": {
      "text/html": [
       "<div>\n",
       "<style scoped>\n",
       "    .dataframe tbody tr th:only-of-type {\n",
       "        vertical-align: middle;\n",
       "    }\n",
       "\n",
       "    .dataframe tbody tr th {\n",
       "        vertical-align: top;\n",
       "    }\n",
       "\n",
       "    .dataframe thead th {\n",
       "        text-align: right;\n",
       "    }\n",
       "</style>\n",
       "<table border=\"1\" class=\"dataframe\">\n",
       "  <thead>\n",
       "    <tr style=\"text-align: right;\">\n",
       "      <th>data_alias</th>\n",
       "      <th>LoadVariation_H</th>\n",
       "      <th>LoadVariation_E</th>\n",
       "      <th>WS</th>\n",
       "      <th>PV</th>\n",
       "      <th>SH</th>\n",
       "    </tr>\n",
       "    <tr>\n",
       "      <th>data</th>\n",
       "      <th></th>\n",
       "      <th></th>\n",
       "      <th></th>\n",
       "      <th></th>\n",
       "      <th></th>\n",
       "    </tr>\n",
       "  </thead>\n",
       "  <tbody>\n",
       "    <tr>\n",
       "      <th>LoadVariation_H</th>\n",
       "      <td>1.000000</td>\n",
       "      <td>0.322321</td>\n",
       "      <td>0.340809</td>\n",
       "      <td>-0.268178</td>\n",
       "      <td>-0.351990</td>\n",
       "    </tr>\n",
       "    <tr>\n",
       "      <th>LoadVariation_E</th>\n",
       "      <td>0.322321</td>\n",
       "      <td>1.000000</td>\n",
       "      <td>0.136334</td>\n",
       "      <td>0.215353</td>\n",
       "      <td>-0.085645</td>\n",
       "    </tr>\n",
       "    <tr>\n",
       "      <th>WS</th>\n",
       "      <td>0.340809</td>\n",
       "      <td>0.136334</td>\n",
       "      <td>1.000000</td>\n",
       "      <td>-0.211031</td>\n",
       "      <td>-0.180001</td>\n",
       "    </tr>\n",
       "    <tr>\n",
       "      <th>PV</th>\n",
       "      <td>-0.268178</td>\n",
       "      <td>0.215353</td>\n",
       "      <td>-0.211031</td>\n",
       "      <td>1.000000</td>\n",
       "      <td>0.493722</td>\n",
       "    </tr>\n",
       "    <tr>\n",
       "      <th>SH</th>\n",
       "      <td>-0.351990</td>\n",
       "      <td>-0.085645</td>\n",
       "      <td>-0.180001</td>\n",
       "      <td>0.493722</td>\n",
       "      <td>1.000000</td>\n",
       "    </tr>\n",
       "  </tbody>\n",
       "</table>\n",
       "</div>"
      ],
      "text/plain": [
       "data_alias       LoadVariation_H  LoadVariation_E        WS        PV  \\\n",
       "data                                                                    \n",
       "LoadVariation_H         1.000000         0.322321  0.340809 -0.268178   \n",
       "LoadVariation_E         0.322321         1.000000  0.136334  0.215353   \n",
       "WS                      0.340809         0.136334  1.000000 -0.211031   \n",
       "PV                     -0.268178         0.215353 -0.211031  1.000000   \n",
       "SH                     -0.351990        -0.085645 -0.180001  0.493722   \n",
       "\n",
       "data_alias             SH  \n",
       "data                       \n",
       "LoadVariation_H -0.351990  \n",
       "LoadVariation_E -0.085645  \n",
       "WS              -0.180001  \n",
       "PV               0.493722  \n",
       "SH               1.000000  "
      ]
     },
     "execution_count": 15,
     "metadata": {},
     "output_type": "execute_result"
    }
   ],
   "source": [
    "db['correlations'].unstack()"
   ]
  }
 ],
 "metadata": {
  "kernelspec": {
   "display_name": "Python 3 (ipykernel)",
   "language": "python",
   "name": "python3"
  },
  "language_info": {
   "codemirror_mode": {
    "name": "ipython",
    "version": 3
   },
   "file_extension": ".py",
   "mimetype": "text/x-python",
   "name": "python",
   "nbconvert_exporter": "python",
   "pygments_lexer": "ipython3",
   "version": "3.9.7"
  }
 },
 "nbformat": 4,
 "nbformat_minor": 5
}
