{
 "cells": [
  {
   "cell_type": "markdown",
   "id": "12413bb6-1d6d-4f66-a384-cd21a03d46ca",
   "metadata": {},
   "source": [
    "*load packages:*"
   ]
  },
  {
   "cell_type": "code",
   "execution_count": 1,
   "id": "12403b60-467a-49fd-9c10-23fb9ddc26b9",
   "metadata": {},
   "outputs": [],
   "source": [
    "%run stdPackages.ipynb\n",
    "slides = False # print to slides format if True\n",
    "out_folder = os.path.join(d['curr'], 'Misc', 'Figs')"
   ]
  },
  {
   "cell_type": "markdown",
   "id": "9e7c2e11-3a05-4803-b0e0-39d378195507",
   "metadata": {
    "tags": []
   },
   "source": [
    "# Simple Plots"
   ]
  },
  {
   "cell_type": "markdown",
   "id": "cfd0f687-6fea-452f-829c-b451c1f4bc60",
   "metadata": {
    "tags": []
   },
   "source": [
    "### Production function:"
   ]
  },
  {
   "cell_type": "markdown",
   "id": "bff1c002-4db6-420d-abb9-9f09b4ecd3bc",
   "metadata": {},
   "source": [
    "*CES function:*"
   ]
  },
  {
   "cell_type": "code",
   "execution_count": 2,
   "id": "2ab7d74e-1333-441c-8a12-4de942882db2",
   "metadata": {},
   "outputs": [],
   "source": [
    "def F(X,K,ϵ=1/3):\n",
    "    return np.power(np.power(X, (ϵ-1)/ϵ)+np.power(K, (ϵ-1)/ϵ), ϵ/(ϵ-1))\n",
    "def F_MultipleEpsilon(X,K,ϵgrid):\n",
    "    return pd.DataFrame(np.vstack([F(X,K,ϵ=i) for i in ϵgrid]).T, columns = [f\"\"\"$\\epsilon = {round(j,1)}$\"\"\" for j in ϵgrid], index = pd.Index(X, name = '$X_i$'))"
   ]
  },
  {
   "cell_type": "markdown",
   "id": "ddfada34-f85f-4b91-9482-e9297cf72d30",
   "metadata": {},
   "source": [
    "*Plot production function for different levels of $\\epsilon$:*"
   ]
  },
  {
   "cell_type": "code",
   "execution_count": 3,
   "id": "a6d2900a-eb8f-46cd-a9b3-d8bc5133d379",
   "metadata": {},
   "outputs": [],
   "source": [
    "K = 10\n",
    "ϵgrid = np.linspace(0.1, 0.5, 3)\n",
    "X1 = np.linspace(0+np.finfo(float).eps, 10*K, 101)\n",
    "X2 = np.linspace(0+np.finfo(float).eps, K, 101)\n",
    "s1 = F_MultipleEpsilon(X1, K, ϵgrid)\n",
    "s2 = F_MultipleEpsilon(X2, K, ϵgrid)"
   ]
  },
  {
   "cell_type": "markdown",
   "id": "1f764e37-6858-4c53-978e-411817b8a3e8",
   "metadata": {},
   "source": [
    "Plot:"
   ]
  },
  {
   "cell_type": "code",
   "execution_count": 4,
   "id": "d99b922f-0519-4b56-9267-3de984613ca2",
   "metadata": {},
   "outputs": [],
   "source": [
    "%%capture\n",
    "largeFont()\n",
    "fig, ax = plt.subplots(1,1,figsize = (14,8))\n",
    "seaborn.lineplot(data = s1, linewidth = 3, ax = ax, legend=False);\n",
    "ax.set_ylim([0,K*1.1]);\n",
    "ax.set_xlim([0,10*K]);\n",
    "ax.hlines(K,0,10*K,colors='k',linewidth=3,alpha=0.5)\n",
    "ax.set_xlabel(r'$X_i$', labelpad=10);\n",
    "ax.set_ylabel(r\"$E_i$\",labelpad=10);\n",
    "plt.text(4.7*K, K+0.2, f'$K={K}$')\n",
    "fig.legend(s1.columns,loc=9,ncol=len(s1.columns),frameon=True)\n",
    "fig.tight_layout()\n",
    "fig.subplots_adjust(top=0.9)\n",
    "if slides:\n",
    "    fig.savefig(f\"{out_folder}\\\\TechnologyFunction_Full_slides.pdf\",facecolor='#FAFAFA',edgecolor='k')\n",
    "else:\n",
    "    fig.savefig(f\"{out_folder}\\\\TechnologyFunction_Full.pdf\",edgecolor='k')"
   ]
  },
  {
   "cell_type": "code",
   "execution_count": 5,
   "id": "67d37681-20bd-407c-8ef4-73a45659dae9",
   "metadata": {},
   "outputs": [],
   "source": [
    "%%capture\n",
    "fig, ax = plt.subplots(1,1,figsize = (14,8))\n",
    "seaborn.lineplot(data = s2, linewidth = 3, ax = ax, legend=False);\n",
    "ax.set_ylim([0,K*1.1]);\n",
    "ax.set_xlim([0,K]);\n",
    "ax.hlines(K,0,K,colors='k',linewidth=3,alpha=0.5)\n",
    "ax.set_xlabel(r'$X_i$', labelpad=10);\n",
    "ax.set_ylabel(r\"$E_i$\",labelpad=10);\n",
    "plt.text(0.47*K, K+0.2, f'$K={K}$')\n",
    "fig.legend(s2.columns,loc=9,ncol=len(s2.columns),frameon=True)\n",
    "fig.tight_layout()\n",
    "fig.subplots_adjust(top=0.9)\n",
    "if slides:\n",
    "    fig.savefig(f\"{out_folder}\\\\TechnologyFunction_Zoom_slides.pdf\",facecolor='#FAFAFA',edgecolor='k')\n",
    "else:\n",
    "    fig.savefig(f\"{out_folder}\\\\TechnologyFunction_Zoom.pdf\",edgecolor='k')"
   ]
  },
  {
   "cell_type": "markdown",
   "id": "41b66baf-1d3e-4261-b7f5-8182146a4c54",
   "metadata": {},
   "source": [
    "Combine the two in one plot:"
   ]
  },
  {
   "cell_type": "code",
   "execution_count": 6,
   "id": "71cca945-c95b-4cfb-8689-1fda0ff9ed6e",
   "metadata": {},
   "outputs": [],
   "source": [
    "%%capture\n",
    "mult_graphs()\n",
    "nplots = 2\n",
    "nrows = math.ceil(nplots/2)\n",
    "fig, axes = plt.subplots(nrows, min(nplots, 2), figsize = (14, (5*nrows)));\n",
    "plt.subplots_adjust(hspace=0.35)\n",
    "# Plot 1:\n",
    "ax = plt.subplot(nrows, min(nplots,2), 1)\n",
    "seaborn.lineplot(data = s1, linewidth = 3, ax = ax, legend=False);\n",
    "ax.set_ylim([0,K*1.1]);\n",
    "ax.set_xlim([0,10*K]);\n",
    "ax.hlines(K,0,10*K,colors='k',linewidth=3,alpha=0.5)\n",
    "ax.set_xlabel(r'$X_i$', labelpad=10);\n",
    "ax.set_ylabel(r\"$E_i$\",labelpad=10);\n",
    "plt.text(5*K, K+0.2, f'$K={K}$')\n",
    "# Plot 2: Zooming in\n",
    "ax = plt.subplot(nrows, min(nplots,2), 2)\n",
    "seaborn.lineplot(data = s2, linewidth = 3, ax = ax, legend = False);\n",
    "ax.set_ylim([0,K*1.1]);\n",
    "ax.set_xlim([0,K]);\n",
    "ax.hlines(K,0,K,colors='k',linewidth=3,alpha=0.5)\n",
    "ax.set_xlabel(r'$X_i$', labelpad=10);\n",
    "ax.set_ylabel(r\"$E_i$\",labelpad=10);\n",
    "plt.text(0.5*K, K+0.2, f'$K={K}$')\n",
    "\n",
    "# Add legends, adjust layout and print to pdf:\n",
    "fig.legend(s1.columns,loc=9,ncol=len(s1.columns),frameon=True)\n",
    "fig.tight_layout()\n",
    "fig.subplots_adjust(top=0.90)\n",
    "if slides:\n",
    "    fig.savefig(f\"{out_folder}\\\\TechnologyFunction_Combined_slides.pdf\",facecolor='#FAFAFA',edgecolor='k')\n",
    "else:\n",
    "    fig.savefig(f\"{out_folder}\\\\TechnologyFunction_Combined.pdf\",edgecolor='k')"
   ]
  },
  {
   "cell_type": "markdown",
   "id": "a7139190-7e29-44f4-a787-4380f95959a8",
   "metadata": {
    "tags": []
   },
   "source": [
    "### Marginal costs:"
   ]
  },
  {
   "cell_type": "markdown",
   "id": "c7b08c51-a643-4d7c-9020-9f416cd12ad8",
   "metadata": {},
   "source": [
    "*SR MC function:*"
   ]
  },
  {
   "cell_type": "code",
   "execution_count": 7,
   "id": "b97af775-065d-41e4-badb-bd5893abfdef",
   "metadata": {},
   "outputs": [],
   "source": [
    "def MC(X, K, pX=1, ϵ=1/3):\n",
    "    return pX * np.power(1+np.power(K/X, (ϵ-1)/ϵ), -1/(ϵ-1))\n",
    "def MC_MultipleEpsilon(X, K, ϵgrid, pX=1):\n",
    "    return pd.DataFrame(np.vstack([MC(X,K,pX=pX,ϵ=i) for i in ϵgrid]).T, columns = [f\"\"\"$\\epsilon = {round(j,1)}$\"\"\" for j in ϵgrid], index = pd.Index(X, name = '$X_i$'))"
   ]
  },
  {
   "cell_type": "markdown",
   "id": "6757cf6c-cc37-439f-a893-b0d18a0fe8bd",
   "metadata": {},
   "source": [
    "*Plot MC for $\\epsilon=0.1$:*"
   ]
  },
  {
   "cell_type": "code",
   "execution_count": 8,
   "id": "c8b7c4e0-6f33-491b-bb26-a927fd40f9e8",
   "metadata": {},
   "outputs": [],
   "source": [
    "%%capture\n",
    "s = pd.Series(MC(X2, K, ϵ=ϵgrid[0]), index = X2)\n",
    "one_graph()\n",
    "fig, ax = plt.subplots(1,1,figsize = (14,8))\n",
    "seaborn.lineplot(data = s, linewidth = 3, ax = ax);\n",
    "ax.set_xlabel(r'$X_i$', labelpad=10);\n",
    "ax.set_ylabel(r\"Marginal costs\",labelpad=10);\n",
    "fig.tight_layout()\n",
    "if slides:\n",
    "    fig.savefig(f\"{out_folder}\\\\MCFunction_slides.pdf\",facecolor='#FAFAFA',edgecolor='k')\n",
    "else:\n",
    "    fig.savefig(f\"{out_folder}\\\\MCFunction.pdf\",edgecolor='k')"
   ]
  }
 ],
 "metadata": {
  "kernelspec": {
   "display_name": "Python 3 (ipykernel)",
   "language": "python",
   "name": "python3"
  },
  "language_info": {
   "codemirror_mode": {
    "name": "ipython",
    "version": 3
   },
   "file_extension": ".py",
   "mimetype": "text/x-python",
   "name": "python",
   "nbconvert_exporter": "python",
   "pygments_lexer": "ipython3",
   "version": "3.9.7"
  }
 },
 "nbformat": 4,
 "nbformat_minor": 5
}
