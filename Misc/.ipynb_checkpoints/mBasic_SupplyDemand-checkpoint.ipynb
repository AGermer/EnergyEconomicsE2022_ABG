{
 "cells": [
  {
   "cell_type": "markdown",
   "id": "6efd67d0-f2ba-434a-be8c-335d15b39e08",
   "metadata": {},
   "source": [
    "*load packages:*"
   ]
  },
  {
   "cell_type": "code",
   "execution_count": 1,
   "id": "81c5cd14-bdfe-4e9e-b4f4-55ceb390dc4b",
   "metadata": {},
   "outputs": [],
   "source": [
    "%run stdPackages.ipynb\n",
    "slides = False # print to slides format if True\n",
    "out_folder = os.path.join(d['curr'], 'Misc', 'Figs')\n",
    "d['data'] = os.path.join(d['curr'],'Misc','Data')\n",
    "read = {'variables': ['Fundamentals', 'Load', 'Generators_Other'], \n",
    "        'variable2D': ['Generators_FuelMix'],\n",
    "        'maps': ['Generators_Categories']}\n",
    "db = dbFromWB(os.path.join(d['data'],'mBasic1.xlsx'), read)\n",
    "readSets(db)"
   ]
  },
  {
   "cell_type": "markdown",
   "id": "e0d863c9-4bc7-4ef8-b114-307392963095",
   "metadata": {},
   "source": [
    "## MODEL 1: Three plants simple setup"
   ]
  },
  {
   "cell_type": "markdown",
   "id": "9f3f6658-1b51-484d-abac-b9a07f02be06",
   "metadata": {},
   "source": [
    "Set up model:"
   ]
  },
  {
   "cell_type": "code",
   "execution_count": 2,
   "id": "a3326490-ae60-4b36-a2e6-9e985a8304c0",
   "metadata": {},
   "outputs": [
    {
     "name": "stdout",
     "output_type": "stream",
     "text": [
      "Solution status 0: Optimization terminated successfully.\n"
     ]
    }
   ],
   "source": [
    "m = mBasic.mBasic(db)\n",
    "m.solve()"
   ]
  },
  {
   "cell_type": "markdown",
   "id": "955d7bf5-8907-4e9c-bfd0-bd3191fe8529",
   "metadata": {},
   "source": [
    "Plot merit order curve:"
   ]
  },
  {
   "cell_type": "code",
   "execution_count": 3,
   "id": "82d384c0-a9d6-499e-9255-ff3499b4878a",
   "metadata": {},
   "outputs": [],
   "source": [
    "df = standardPlots.meritOrderCurve_df(db['mc'], db['GeneratingCapacity'])"
   ]
  },
  {
   "cell_type": "code",
   "execution_count": 4,
   "id": "d49375b5-a663-4b2f-b94b-b64d2a6517f5",
   "metadata": {},
   "outputs": [],
   "source": [
    "%%capture\n",
    "one_graph()\n",
    "fig, ax = plt.subplots(1,1,figsize = (14,8))\n",
    "df.plot(linewidth=3, ax=ax, legend=False);\n",
    "ax.vlines(db['Load'].sum(), 0, math.ceil(df.max())+4,linewidth=3, color = colors[1]);\n",
    "ax.set_xlabel(r'$GJ$', labelpad = 5);\n",
    "ax.set_ylabel(r'$€/$GJ', labelpad = 5);\n",
    "ax.set_xlim([0, df.index.max()-1]);\n",
    "ax.set_ylim([0, math.ceil(df.max())+4]);\n",
    "plt.text(10, df.iloc[2]+0.25, f'Wind');\n",
    "plt.text(11, 2, f'$q_W$');\n",
    "plt.annotate(\"\",xy=(1, 2.5), xytext=(24,2.5), arrowprops=dict(width=1, color='k', headwidth=5, headlength=15));\n",
    "plt.annotate(\"\",xy=(24,2.5), xytext=(1, 2.5), arrowprops=dict(width=1, color='k', headwidth=5, headlength=15));\n",
    "\n",
    "plt.text(df.index[2]+25, df.iloc[4]+0.25, f'Coal')\n",
    "plt.text(50, df.iloc[4]-1.5, f'$q_C$');\n",
    "plt.annotate(\"\",xy=(26, 5.5), xytext=(74,5.5), arrowprops=dict(width=1, color='k', headwidth=5, headlength=15));\n",
    "plt.annotate(\"\",xy=(74, 5.5), xytext=(26, 5.5), arrowprops=dict(width=1, color='k', headwidth=5, headlength=15));\n",
    "\n",
    "plt.text(df.index[4]+10, df.iloc[6]+0.25, f'Gas')\n",
    "plt.text(df.index[4]+11, df.iloc[6]-1.25, f'$q_G$');\n",
    "plt.annotate(\"\",xy=(76, 9.25), xytext=(124, 9.25), arrowprops=dict(width=1, color='k', headwidth=5, headlength=15));\n",
    "plt.annotate(\"\",xy=(124, 9.25), xytext=(76, 9.25), arrowprops=dict(width=1, color='k', headwidth=5, headlength=15));\n",
    "\n",
    "\n",
    "fig.legend(['Generation', 'Load'],loc=9,ncol=2,frameon=True)\n",
    "fig.tight_layout();\n",
    "fig.subplots_adjust(top=0.9);\n",
    "if slides:\n",
    "    fig.savefig(f\"{out_folder}\\\\mBasic_MeritOrder_slides.pdf\",facecolor='#FAFAFA',edgecolor='k')\n",
    "else:\n",
    "\n",
    "    fig.savefig(f\"{out_folder}\\\\mBasic_MeritOrder.pdf\",edgecolor='k')"
   ]
  },
  {
   "cell_type": "markdown",
   "id": "fdb2cd6e-7e6f-4745-8cad-b4e20cf12d18",
   "metadata": {},
   "source": [
    "## MODEL 2: Four plants with bio mass"
   ]
  },
  {
   "cell_type": "code",
   "execution_count": 5,
   "id": "32ea71b3-e7f2-4c35-bd06-be28db63fbc2",
   "metadata": {},
   "outputs": [],
   "source": [
    "db = dbFromWB(os.path.join(d['data'],'mBasic2.xlsx'), read)\n",
    "readSets(db)"
   ]
  },
  {
   "cell_type": "markdown",
   "id": "7daac6e4-2785-45de-8b6b-5bfad2c3d70a",
   "metadata": {},
   "source": [
    "Set up and solve model:"
   ]
  },
  {
   "cell_type": "code",
   "execution_count": 6,
   "id": "cce644aa-eb7d-428b-9a5a-27bdc8a3affc",
   "metadata": {},
   "outputs": [
    {
     "name": "stdout",
     "output_type": "stream",
     "text": [
      "Solution status 0: Optimization terminated successfully.\n"
     ]
    }
   ],
   "source": [
    "m = mBasic.mBasic(db)\n",
    "m.solve()"
   ]
  },
  {
   "cell_type": "markdown",
   "id": "61a1e7be-4659-4305-a6b7-5d0a0c1a16b8",
   "metadata": {},
   "source": [
    "Plot merit order curve:"
   ]
  },
  {
   "cell_type": "code",
   "execution_count": 7,
   "id": "bb8f5ed6-3d2f-4c43-a569-986b733b3c2e",
   "metadata": {},
   "outputs": [],
   "source": [
    "df = standardPlots.meritOrderCurve_df(db['mc'], db['GeneratingCapacity'])"
   ]
  },
  {
   "cell_type": "code",
   "execution_count": 8,
   "id": "e66133aa-d3a3-462d-87de-cfd165132ca7",
   "metadata": {},
   "outputs": [],
   "source": [
    "%%capture\n",
    "one_graph()\n",
    "fig, ax = plt.subplots(1,1,figsize = (14,8))\n",
    "df.plot(linewidth=3, ax=ax, legend=False);\n",
    "ax.vlines(db['Load'].sum(), 0, math.ceil(df.max())+4,linewidth=3, color = colors[1]);\n",
    "ax.set_xlabel(r'$GJ$', labelpad = 5);\n",
    "ax.set_ylabel(r'$€/$GJ', labelpad = 5);\n",
    "ax.set_xlim([0, df.index.max()-1]);\n",
    "ax.set_ylim([0, math.ceil(df.max())+4]);\n",
    "plt.text(df.index[2]/2-3, df.iloc[2]+0.25, f'Wind');\n",
    "plt.text(df.index[2]/2-2, df.iloc[2]-1, f'$q_W$');\n",
    "plt.annotate(\"\",xy=(1, df.iloc[2]-0.5), xytext=(df.index[2]-1, df.iloc[2]-0.5), arrowprops=dict(width=1, color='k', headwidth=5, headlength=15));\n",
    "plt.annotate(\"\",xy=(df.index[2]-1, df.iloc[2]-0.5), xytext=(1, df.iloc[2]-0.5), arrowprops=dict(width=1, color='k', headwidth=5, headlength=15));\n",
    "\n",
    "plt.text((df.index[4]+df.index[2])/2-3, df.iloc[4]+0.25, f'Coal')\n",
    "plt.text((df.index[4]+df.index[2])/2-2, df.iloc[4]-1, f'$q_C$');\n",
    "plt.annotate(\"\",xy=(df.index[2]+1, df.iloc[4]-0.5), xytext=(df.index[4]-1,df.iloc[4]-0.5), arrowprops=dict(width=1, color='k', headwidth=5, headlength=15));\n",
    "plt.annotate(\"\",xy=(df.index[4]-1, df.iloc[4]-0.5), xytext=(df.index[2]+1, df.iloc[4]-0.5), arrowprops=dict(width=1, color='k', headwidth=5, headlength=15));\n",
    "\n",
    "plt.text((df.index[6]+df.index[4])/2-3, df.iloc[6]+0.25, f'Gas')\n",
    "plt.text((df.index[6]+df.index[4])/2-2, df.iloc[6]-1, f'$q_G$');\n",
    "plt.annotate(\"\",xy=(df.index[4]+1, df.iloc[6]-0.5), xytext=(df.index[6]-1,df.iloc[6]-0.5), arrowprops=dict(width=1, color='k', headwidth=5, headlength=15));\n",
    "plt.annotate(\"\",xy=(df.index[6]-1, df.iloc[6]-0.5), xytext=(df.index[4]+1, df.iloc[6]-0.5), arrowprops=dict(width=1, color='k', headwidth=5, headlength=15));\n",
    "\n",
    "plt.text((df.index[8]+df.index[6])/2-3, df.iloc[8]+0.25, f'Bio')\n",
    "plt.text((df.index[8]+df.index[6])/2-2, df.iloc[8]-1, f'$q_B$');\n",
    "plt.annotate(\"\",xy=(df.index[6]+1, df.iloc[8]-0.5), xytext=(df.index[8]-1,df.iloc[8]-0.5), arrowprops=dict(width=1, color='k', headwidth=5, headlength=15));\n",
    "plt.annotate(\"\",xy=(df.index[8]-1, df.iloc[8]-0.5), xytext=(df.index[6]+1, df.iloc[8]-0.5), arrowprops=dict(width=1, color='k', headwidth=5, headlength=15));\n",
    "\n",
    "\n",
    "fig.legend(['Generation', 'Load'],loc=9,ncol=2,frameon=True)\n",
    "fig.tight_layout();\n",
    "fig.subplots_adjust(top=0.9);\n",
    "if slides:\n",
    "    fig.savefig(f\"{out_folder}\\\\mBasic_MeritOrder2_slides.pdf\",facecolor='#FAFAFA',edgecolor='k')\n",
    "else:\n",
    "\n",
    "    fig.savefig(f\"{out_folder}\\\\mBasic_MeritOrder2.pdf\",edgecolor='k')"
   ]
  }
 ],
 "metadata": {
  "kernelspec": {
   "display_name": "Python 3 (ipykernel)",
   "language": "python",
   "name": "python3"
  },
  "language_info": {
   "codemirror_mode": {
    "name": "ipython",
    "version": 3
   },
   "file_extension": ".py",
   "mimetype": "text/x-python",
   "name": "python",
   "nbconvert_exporter": "python",
   "pygments_lexer": "ipython3",
   "version": "3.9.7"
  }
 },
 "nbformat": 4,
 "nbformat_minor": 5
}
