{
 "cells": [
  {
   "cell_type": "code",
   "execution_count": 1,
   "id": "9c019acb-e523-4e83-840d-19725843560a",
   "metadata": {},
   "outputs": [],
   "source": [
    "%run stdPackages.ipynb\n",
    "slides = False # print to slides format if True\n",
    "out_folder = os.path.join(d['curr'], 'Misc', 'Figs')\n",
    "d['data'] = os.path.join(d['curr'],'Misc','Data')\n",
    "read = {'variables': ['Fundamentals', 'Load', 'Generators_Other','TL'], \n",
    "        'variable2D': ['Generators_FuelMix'],\n",
    "        'scalars': ['Scalars'],\n",
    "        'maps': ['Generators_Categories', 'Load_Categories']}\n",
    "db = dbFromWB(os.path.join(d['data'],'mBasicTrade2.xlsx'), read)"
   ]
  },
  {
   "cell_type": "markdown",
   "id": "37ee20ec-9b30-412c-945f-ce7280a916b8",
   "metadata": {},
   "source": [
    "# The effect of trade on intermittency"
   ]
  },
  {
   "cell_type": "markdown",
   "id": "9c81be30-4d9f-4c9e-941f-3c42f2b76e98",
   "metadata": {},
   "source": [
    "This simulates the effect of trade on intermittency by going through the steps:\n",
    "1. Create two identical areas in terms of (i) size of yearly load and (ii) dispatchable generators. Each area has one intermittent technology; A wind (in zone 1) and PV (in zone 2).\n",
    "2. Connect the two with a transmission line.\n",
    "3. Solve the two models varying the size of transmission lines + correlation between demand/intermittent productivity."
   ]
  },
  {
   "cell_type": "code",
   "execution_count": 2,
   "id": "4f7da439-711c-41ac-a042-66aa4707d259",
   "metadata": {},
   "outputs": [],
   "source": [
    "H = 1000\n",
    "rng = np.random.default_rng(seed=103)"
   ]
  },
  {
   "cell_type": "markdown",
   "id": "5f9b2ca5-9c0a-4c9b-981a-87a1d78cab6e",
   "metadata": {},
   "source": [
    "## 1: Create samples with different correlation levels"
   ]
  },
  {
   "cell_type": "markdown",
   "id": "b63225e2-572f-4749-9db7-a1f45a1f5fa5",
   "metadata": {},
   "source": [
    "This helps us to create variation in demand and intermittent productivity based on correlations:"
   ]
  },
  {
   "cell_type": "code",
   "execution_count": 3,
   "id": "08843c05-a419-4386-a50d-1407f4f5b0c3",
   "metadata": {},
   "outputs": [],
   "source": [
    "def createCorrMatrix(σ_L1L2, σ_L1W, σ_L1PV, σ_L2W, σ_L2PV, σ_WPV):\n",
    "    return np.array([[1, σ_L1L2, σ_L1W, σ_L1PV],\n",
    "                     [σ_L1L2, 1, σ_L2W, σ_L2PV],\n",
    "                     [σ_L1W, σ_L2W, 1, σ_WPV],\n",
    "                     [σ_L1PV, σ_L2PV, σ_WPV, 1]])\n",
    "def correlatedSample(covMatrix, capFactors = [0.5, 0.3]):\n",
    "    means = np.array([1]*4)\n",
    "    dim_bounds = np.array([[0, 10], \n",
    "                       [0, 10],\n",
    "                       [0, 100],\n",
    "                       [0, 10]]);\n",
    "    sample = sampling.BoundedMultivariateNormalDist(means, cov_matrix = createCorrMatrix(*covMatrix), dim_bounds = dim_bounds, size = H, rng = rng)\n",
    "    return {'LoadVariation': mapSample2LoadVariation(sample), 'CapVariation': mapSample2CapVariation(sample, capFactors = capFactors)} \n",
    "def mapSample2LoadVariation(sample):\n",
    "    return pd.DataFrame(sample[:,:2]/sample[:,:2].sum(axis=0),\n",
    "                        index  = pd.Index(range(1,H+1), name = 'h'),\n",
    "                        columns= pd.Index(['c1','c2'], name = 'c')\n",
    "                       ).stack()\n",
    "def mapSample2CapVariation(sample, capFactors = [0.5, 0.3]):\n",
    "    return pd.DataFrame(sample[:,2:]/sample[:,2:].sum(axis=0) * H * np.array(capFactors), \n",
    "                        index = pd.Index(range(1,H+1), name = 'h'), \n",
    "                        columns = pd.Index(['Wind_g1', 'Wind_g2'], name = 'hvt')\n",
    "                       ).assign(Standard = 1).stack()"
   ]
  },
  {
   "cell_type": "markdown",
   "id": "22c7891f-465e-471f-a30c-67da387e0f47",
   "metadata": {},
   "source": [
    "Create correlated sample by providing list of correlations (see ```createCorrMatrix``` for the order of correlations) and add to the database:"
   ]
  },
  {
   "cell_type": "code",
   "execution_count": 4,
   "id": "a6b38020-93aa-4db9-8a05-a9c78a2e7e54",
   "metadata": {},
   "outputs": [],
   "source": [
    "db['Load'] = db['Load'] * H \n",
    "db.symbols.update(correlatedSample([0.95, -0.3, 0.2, -0.1, 0.2, -0.2]))\n",
    "readSets(db)"
   ]
  },
  {
   "cell_type": "markdown",
   "id": "b6d7b78b-365c-4e23-be6d-6ceb91c5980f",
   "metadata": {
    "tags": []
   },
   "source": [
    "## 2: Create functions to extract LDC/RDC and sample correlations"
   ]
  },
  {
   "cell_type": "code",
   "execution_count": 5,
   "id": "c87a218c-ef03-4821-8f5a-4ad75d852a4b",
   "metadata": {},
   "outputs": [
    {
     "name": "stdout",
     "output_type": "stream",
     "text": [
      "Solution status 0: Optimization terminated successfully.\n"
     ]
    }
   ],
   "source": [
    "m = mBasicTrade.mSimple(db)\n",
    "m.solve()"
   ]
  },
  {
   "cell_type": "code",
   "execution_count": 6,
   "id": "11975c57-4ded-4d34-9888-492c861a145e",
   "metadata": {},
   "outputs": [],
   "source": [
    "def LDCFromModel(m):\n",
    "    LDC = pd.DataFrame({g: m.hourlyLoad.xs(g,level='g').sort_values(ascending=False).values for g in m.db['g']})\n",
    "    LDC.index = [i/(len(LDC)) for i in range(1, len(LDC)+1)]\n",
    "    LDC.at[0] = LDC.iloc[0]\n",
    "    return LDC\n",
    "def RDCFromModel(m):\n",
    "    cap = lpCompiler.broadcast(lpCompiler.broadcast(m.hourlyGeneratingCapacity, m.db['id2hvt']), m.db['id2g'])\n",
    "    cap = pdSum(cap[cap.index.get_level_values('hvt') != 'Standard'], ['id','hvt'])\n",
    "    RDC = pd.DataFrame({g: (m.hourlyLoad-cap).xs(g,level='g').sort_values(ascending=False).values for g in m.db['g']})\n",
    "    RDC.index = [i/(len(RDC)) for i in range(1, len(RDC)+1)]\n",
    "    RDC.at[0] = RDC.iloc[0]\n",
    "    return RDC\n",
    "def corrFromModel(m, names):\n",
    "    c = pd.concat([lpCompiler.broadcast(m.db['LoadVariation'], m.db['c2g']).droplevel('c').unstack('g'), m.db['CapVariation'].unstack('hvt')[[k for k in m.db['hvt'] if k != 'Standard']]], axis = 1).corr()\n",
    "    c.index = c.index.map(names)\n",
    "    c.columns = c.columns.map(names)\n",
    "    return c"
   ]
  },
  {
   "cell_type": "code",
   "execution_count": 7,
   "id": "abe6d5ea-25ce-4977-a83d-de944958ab56",
   "metadata": {},
   "outputs": [],
   "source": [
    "names = {'g1': 'Demand, $g_1$', 'g2': 'Demand, $g_2$', 'Wind_g1': 'Wind, $g_1$', 'Wind_g2': 'Wind, $g_2$'}\n",
    "LDC = LDCFromModel(m)\n",
    "RDC = RDCFromModel(m)\n",
    "correlations = corrFromModel(m,names)"
   ]
  },
  {
   "cell_type": "markdown",
   "id": "f65483a4-b130-4617-9bf1-73a7b5dfa975",
   "metadata": {},
   "source": [
    "Plot them:"
   ]
  },
  {
   "cell_type": "code",
   "execution_count": 8,
   "id": "a9c2609b-185f-49e6-b443-f494a926b0fe",
   "metadata": {},
   "outputs": [],
   "source": [
    "%%capture\n",
    "mult_graphs()\n",
    "nplots = 2\n",
    "nrows = math.ceil(nplots/2)\n",
    "fig, axes = plt.subplots(nrows, min(nplots, 2), figsize = (14, (6*nrows)));\n",
    "plt.subplots_adjust(hspace=0.35)\n",
    "\n",
    "# plot 1: LDC\n",
    "ax = plt.subplot(nrows, min(nplots,2), 1)\n",
    "seaborn.lineplot(data=LDC, ax = ax, linewidth=3, legend=False);\n",
    "ax.set_xlabel(r'Capacity Factor', labelpad = 5);\n",
    "ax.set_ylabel(r'$GJ$', labelpad = 5);\n",
    "ax.set_xlim([0, 1]);\n",
    "ax.set_ylim([-50, 350]);\n",
    "ax.hlines(0,0,1,colors='k',linewidth=1,alpha=0.5)\n",
    "ax.set_title('Load Duration Curve')\n",
    "\n",
    "# Plot 2:\n",
    "ax = plt.subplot(nrows, min(nplots,2),2)\n",
    "seaborn.lineplot(data=RDC, ax = ax, linewidth= 3, legend=False);\n",
    "ax.set_xlabel(r'Capacity Factor', labelpad = 5);\n",
    "ax.set_ylabel(r'$GJ$', labelpad = 5);\n",
    "ax.set_xlim([0, 1]);\n",
    "ax.hlines(0,0,1,colors='k',linewidth=1,alpha=0.5)\n",
    "ax.set_ylim([-50, 350]);\n",
    "ax.set_title('Residual Demand Curve');\n",
    "\n",
    "fig.legend(LDC.columns,loc=9,ncol=2,frameon=True)\n",
    "fig.tight_layout()\n",
    "fig.subplots_adjust(top=0.85);\n",
    "if slides:\n",
    "    fig.savefig(f\"{out_folder}\\\\mBasicTrade_LDC_RDC_slides.pdf\",facecolor='#FAFAFA',edgecolor='k')\n",
    "else:\n",
    "    fig.savefig(f\"{out_folder}\\\\mBasicTrade_LDC_RDC.pdf\",edgecolor='k')"
   ]
  },
  {
   "cell_type": "markdown",
   "id": "94cfee4c-46ce-400a-82cd-8c15b5df8a13",
   "metadata": {},
   "source": [
    "Sample correlations:"
   ]
  },
  {
   "cell_type": "code",
   "execution_count": 9,
   "id": "08790ac0-0c30-4e67-aae1-0da286ccb319",
   "metadata": {},
   "outputs": [],
   "source": [
    "%%capture\n",
    "one_graph()\n",
    "fig, ax = plt.subplots(1,1,figsize = (14,8))\n",
    "seaborn.heatmap(correlations,ax=ax,annot=True,linewidths=.5);\n",
    "fig.tight_layout();\n",
    "if slides:\n",
    "    fig.savefig(f\"{out_folder}\\\\mBasicTrade_Corr_slides.pdf\",facecolor='#FAFAFA',edgecolor='k')\n",
    "else:\n",
    "    fig.savefig(f\"{out_folder}\\\\mBasicTrade_Corr.pdf\",edgecolor='k')"
   ]
  },
  {
   "cell_type": "markdown",
   "id": "aebb642c-5b22-4c36-a5a1-26d9b1fff7f0",
   "metadata": {
    "tags": []
   },
   "source": [
    "## 3: Vary transmission cap and solve"
   ]
  },
  {
   "cell_type": "code",
   "execution_count": 10,
   "id": "bcca03a2-70ef-49e7-bc9d-f0b0e5f9493c",
   "metadata": {},
   "outputs": [],
   "source": [
    "loop = pd.Index(range(21), name = 'loop')\n",
    "v0 = m.db['lineCapacity'] * 0\n",
    "vT = m.db['lineCapacity'] * 4\n",
    "grid = addGrid(v0,vT,loop,'lineCapacity')\n",
    "extract = ['marginalSystemCosts','congestionRent','marginalEconomicValue', 'meanConsumerPrice']"
   ]
  },
  {
   "cell_type": "markdown",
   "id": "81054780-3872-4ed8-847d-ed66e66a7d92",
   "metadata": {},
   "source": [
    "#### 3.1: With assymetric markets"
   ]
  },
  {
   "cell_type": "markdown",
   "id": "b3c692d8-8d0e-4e6d-83b6-5d77ec15009d",
   "metadata": {},
   "source": [
    "In this simulation, we reduce the size of wind capacity in $g_2$ and increase the scale in $g_1$; This effectively creates a low-price ($g_1$) and a high-cost ($g_2$) area:"
   ]
  },
  {
   "cell_type": "code",
   "execution_count": 11,
   "id": "9f9943af-88df-41da-9171-7a5c76533c98",
   "metadata": {},
   "outputs": [],
   "source": [
    "m.db['GeneratingCapacity'].loc['id4'] = 100\n",
    "m.db['GeneratingCapacity'].loc['id8'] = 0"
   ]
  },
  {
   "cell_type": "markdown",
   "id": "e4d2150d-a239-4232-b930-65320c6839c0",
   "metadata": {},
   "source": [
    "Simulate shock:"
   ]
  },
  {
   "cell_type": "code",
   "execution_count": 12,
   "id": "95e86e73-22db-4fe2-818f-7aadea52cb15",
   "metadata": {},
   "outputs": [],
   "source": [
    "solutionAsymmetric = m.loopSolveExtract(loop,[grid],extract)"
   ]
  },
  {
   "cell_type": "markdown",
   "id": "8f62a430-36c8-4abc-8fbc-2007ff3dab72",
   "metadata": {},
   "source": [
    "*Get mean consumer prices:*"
   ]
  },
  {
   "cell_type": "code",
   "execution_count": 13,
   "id": "5c95371c-25b7-433e-a7d6-793d761caaf3",
   "metadata": {},
   "outputs": [],
   "source": [
    "idTypes = dict(id1 = 'Coal', id2 = 'Gas', id3 = 'Bio', id4 = 'Wind',\n",
    "               id5 = 'Coal', id6 = 'Gas', id7 = 'Bio', id8 = 'Wind') # create a map from old-to-new plant id names\n",
    "loopNames = grid.xs('g1',level='g').droplevel('g_alias')\n",
    "df_MeanPrice = solutionAsymmetric['meanConsumerPrice'].unstack('g')\n",
    "df_MeanPrice.columns = pd.Index(['$g_1$', '$g_2$'], name = 'Zone')\n",
    "df_MeanPrice.index = df_MeanPrice.index.map(loopNames)\n",
    "df_MeanPrice.index.name = '$q_l$'"
   ]
  },
  {
   "cell_type": "markdown",
   "id": "9f2e7a4e-c21a-4352-a84a-9aab842a9736",
   "metadata": {},
   "source": [
    "*Get marginal Economic Value for wind plants:*"
   ]
  },
  {
   "cell_type": "code",
   "execution_count": 14,
   "id": "54f4338a-8cdd-4134-9112-7043f8c309b2",
   "metadata": {},
   "outputs": [],
   "source": [
    "MEV = lpCompiler.broadcast(solutionAsymmetric['marginalEconomicValue'], db['id2g']) / 1000\n",
    "MEV.index = MEV.index.set_levels(MEV.index.levels[0].map(idTypes),level=0,verify_integrity = False)\n",
    "MEV.index = MEV.index.set_levels(MEV.index.levels[1].map(loopNames),level=1, verify_integrity = False)\n",
    "MEV.index.names = ['Plant type', '$q_l$', 'g']"
   ]
  },
  {
   "cell_type": "markdown",
   "id": "411040e4-2cf4-4022-bc82-1ca8c7f804ed",
   "metadata": {},
   "source": [
    "*Get congestion rent:*"
   ]
  },
  {
   "cell_type": "code",
   "execution_count": 15,
   "id": "89ef06c0-5aef-435b-b0cc-e791c2fdeb95",
   "metadata": {},
   "outputs": [],
   "source": [
    "congestionRent = pdSum(solutionAsymmetric['congestionRent'], ['g','g_alias','h']) / 1000\n",
    "congestionRent.index = congestionRent.index.map(loopNames)\n",
    "congestionRent.index.name = '$q_l$'"
   ]
  },
  {
   "cell_type": "markdown",
   "id": "c2f2d15c-8d83-48fd-9310-52235165b0a0",
   "metadata": {},
   "source": [
    "Plotting: (1) Mean price as a function of trade cap, (2) marginal economic value for plants in g1, (3) marginal economic value for plants in g2, (4) congestion rent."
   ]
  },
  {
   "cell_type": "code",
   "execution_count": 16,
   "id": "f33b3059-2db9-4975-8e24-54c07634e6b7",
   "metadata": {},
   "outputs": [],
   "source": [
    "%%capture\n",
    "nplots = 4\n",
    "nrows = math.ceil(nplots/2)\n",
    "fig,axes = plt.subplots(nrows, min(nplots,2), figsize = (14, (4*nrows)));\n",
    "plt.subplots_adjust(hspace=0.35) # create a bit of extra space between subplots\n",
    "# plot 1: Mean prices:\n",
    "ax = plt.subplot(nrows, min(nplots,2), 1) # access subplot 1\n",
    "seaborn.lineplot(data = df_MeanPrice, ax=ax, linewidth=3, legend=False);\n",
    "ax.set_ylabel('€/GJ');\n",
    "ax.legend(df_MeanPrice.columns, loc = 1);\n",
    "ax.set_xlim([0,100]);\n",
    "ax.set_title('Average consumer price');\n",
    "\n",
    "# plot 2: Congestion rent:\n",
    "ax = plt.subplot(nrows, min(nplots,2), 2) # access subplot 1\n",
    "seaborn.lineplot(data = congestionRent, ax=ax, linewidth=3, legend=False);\n",
    "ax.set_ylabel('1000€');\n",
    "ax.set_xlim([0,100]);\n",
    "ax.set_ylim([0, 50]);\n",
    "ax.set_title('Congestion rent');\n",
    "\n",
    "\n",
    "# plot 3: MEV for g1\n",
    "ax = plt.subplot(nrows, min(nplots,2), 3) # access subplot 1\n",
    "df_i = MEV.xs('g1',level='g').unstack('Plant type')\n",
    "seaborn.lineplot(data = df_i, ax=ax, linewidth=3, legend=False);\n",
    "ax.set_ylabel('1000 €/(GJ/h)', labelpad=10);\n",
    "ax.legend(df_i.columns, loc=1, ncol = 2);\n",
    "ax.set_xlim([0,100]);\n",
    "ax.set_ylim([0, 8]);\n",
    "ax.set_title('Marginal economic value, $g_1$');\n",
    "\n",
    "# plot 4: MEV for g2\n",
    "ax = plt.subplot(nrows, min(nplots,2), 4) # access subplot 1\n",
    "df_i = MEV.xs('g2',level='g').unstack('Plant type')\n",
    "seaborn.lineplot(data = df_i, ax=ax, linewidth=3, legend=False);\n",
    "ax.set_ylabel('1000 €/(GJ/h)', labelpad=10);\n",
    "ax.legend(df_i.columns, loc=1, ncol = 2);\n",
    "ax.set_xlim([0,100]);\n",
    "ax.set_ylim([0, 8]);\n",
    "ax.set_title('Marginal economic value, $g_2$');\n",
    "\n",
    "fig.tight_layout()\n",
    "if slides:\n",
    "    fig.savefig(f\"{out_folder}\\\\mBasicTrade_asymmetric1_slides.pdf\",facecolor='#FAFAFA',edgecolor='k')\n",
    "else:\n",
    "    fig.savefig(f\"{out_folder}\\\\mBasicTrade_asymmetric1.pdf\",edgecolor='k')"
   ]
  },
  {
   "cell_type": "markdown",
   "id": "533b6257-3f10-4014-b625-1a6925f56be5",
   "metadata": {},
   "source": [
    "#### 3.2: Correlation patterns"
   ]
  },
  {
   "cell_type": "code",
   "execution_count": 17,
   "id": "8dfb32d4-102e-497a-b9ef-e48ef1847863",
   "metadata": {},
   "outputs": [],
   "source": [
    "m.db['GeneratingCapacity'].loc['id4'] = 100\n",
    "m.db['GeneratingCapacity'].loc['id8'] = 100"
   ]
  },
  {
   "cell_type": "markdown",
   "id": "831f5642-ab4f-48c9-9687-8bf44d62b5e7",
   "metadata": {},
   "source": [
    "* Sample 1: The two intermittent technologies have high, positive correlation. \n",
    "* Sample 2: The two vary negatively, and positively with foreign demand."
   ]
  },
  {
   "cell_type": "code",
   "execution_count": 18,
   "id": "4c5c6894-9228-494e-a7bc-539bc4869fe6",
   "metadata": {},
   "outputs": [],
   "source": [
    "sample1 = correlatedSample([0.9, 0, 0, 0, 0, 0.9], capFactors = [0.5, 0.5])\n",
    "sample2 = correlatedSample([0.90, -0.15, 0.2, 0.2, -0.15, -0.9], capFactors=[0.5, 0.5])"
   ]
  },
  {
   "cell_type": "code",
   "execution_count": 19,
   "id": "16efeba2-5511-4ecd-8fed-9b94bfc3553c",
   "metadata": {},
   "outputs": [],
   "source": [
    "loop = pd.Index(range(21), name = 'loop')\n",
    "v0 = m.db['lineCapacity'] * 0\n",
    "vT = m.db['lineCapacity'] * 4\n",
    "grid = addGrid(v0,vT,loop,'lineCapacity')\n",
    "extract = ['marginalSystemCosts','congestionRent','marginalEconomicValue', 'meanConsumerPrice']"
   ]
  },
  {
   "cell_type": "markdown",
   "id": "68b233e6-3678-464e-9a19-560d9c47a378",
   "metadata": {},
   "source": [
    "Run for each sample:"
   ]
  },
  {
   "cell_type": "code",
   "execution_count": 20,
   "id": "1d59dd3e-77e1-4ebd-81a1-1575567bc901",
   "metadata": {
    "tags": []
   },
   "outputs": [],
   "source": [
    "m.db.symbols.update(sample1)\n",
    "solution1 = m.loopSolveExtract(loop,[grid],extract)\n",
    "LDC1 = LDCFromModel(m)\n",
    "RDC1 = RDCFromModel(m)\n",
    "correlations1 = corrFromModel(m,names)"
   ]
  },
  {
   "cell_type": "code",
   "execution_count": 21,
   "id": "0f97f733-302b-4d46-8897-f893c7b751ae",
   "metadata": {},
   "outputs": [],
   "source": [
    "m.db.symbols.update(sample2)\n",
    "solution2 = m.loopSolveExtract(loop,[grid],extract)\n",
    "LDC2 = LDCFromModel(m)\n",
    "RDC2 = RDCFromModel(m)\n",
    "correlations2 = corrFromModel(m,names)"
   ]
  },
  {
   "cell_type": "markdown",
   "id": "bc84f3fb-2839-4736-844e-7e28b5ab7fa6",
   "metadata": {
    "tags": []
   },
   "source": [
    "## 4: Plot:"
   ]
  },
  {
   "cell_type": "markdown",
   "id": "58afc347-8115-4a48-adb0-f5efa12c2fa6",
   "metadata": {},
   "source": [
    "1. Mean consumer price for the three scenarios:"
   ]
  },
  {
   "cell_type": "code",
   "execution_count": 22,
   "id": "67920326-0c41-473d-a866-e119cb8a3abb",
   "metadata": {},
   "outputs": [],
   "source": [
    "df = pd.DataFrame({'Scenario 1': solution1['meanConsumerPrice'], 'Scenario 2': solution2['meanConsumerPrice']})\n",
    "df.index = df.index.set_levels([df.index.levels[0].map({'g1': '$g_1$', 'g2': '$g_2$'}),\n",
    "                                df.index.levels[1].map(loopNames)])\n",
    "df.index.names = ['Zone', '$q_l$']"
   ]
  },
  {
   "cell_type": "code",
   "execution_count": 25,
   "id": "226b5c95-cc33-4f9f-803d-f9d6260b1e66",
   "metadata": {},
   "outputs": [],
   "source": [
    "%%capture\n",
    "fig, axes = plt.subplots(1, 2, figsize = (14,6));\n",
    "for j in range(1,3):\n",
    "    ax = plt.subplot(1, 2, j)\n",
    "    seaborn.lineplot(data = df[f'Scenario {j}'].unstack('Zone'), ax=ax, linewidth=3, legend=False);\n",
    "    ax.set_xlim([0,100]);\n",
    "    ax.set_ylim([12.3,12.90]);\n",
    "    ax.set_ylabel('€/GJ');\n",
    "    ax.set_title(f'Scenario {j}');\n",
    "fig.tight_layout()\n",
    "fig.legend(df.index.levels[0], loc = 9, ncol = 2, frameon=True);\n",
    "fig.subplots_adjust(top=0.85);\n",
    "if slides:\n",
    "    fig.savefig(f\"{out_folder}\\\\mBasicTrade_correlationMeanPrice_slides.pdf\",facecolor='#FAFAFA',edgecolor='k')\n",
    "else:\n",
    "    fig.savefig(f\"{out_folder}\\\\mBasicTrade_correlationMeanPrice.pdf\",edgecolor='k')"
   ]
  },
  {
   "cell_type": "markdown",
   "id": "d3ce1f73-daf2-437b-b836-85016d94c640",
   "metadata": {},
   "source": [
    "2. Marginal economic value for wind:"
   ]
  },
  {
   "cell_type": "code",
   "execution_count": 43,
   "id": "e13335e2-7ed0-491b-a795-08f0d5063529",
   "metadata": {},
   "outputs": [],
   "source": [
    "df = rc_pd(pd.DataFrame({'Scenario 1': solution1['marginalEconomicValue'], 'Scenario 2': solution2['marginalEconomicValue']}), pd.Index(['id4','id8'], name = 'id')) / 1000\n",
    "df.index = df.index.remove_unused_levels()\n",
    "df.index = df.index.set_levels([df.index.levels[0].map({'id4': '$g_1$', 'id8': '$g_2$'}),\n",
    "                                df.index.levels[1].map(loopNames)])\n",
    "df.index.names = ['Zone', '$q_l$']"
   ]
  },
  {
   "cell_type": "code",
   "execution_count": 46,
   "id": "18b90860-151a-47bf-842d-9e3414d4b081",
   "metadata": {},
   "outputs": [],
   "source": [
    "%%capture\n",
    "fig, axes = plt.subplots(1, 2, figsize = (14,6));\n",
    "for j in range(1,3):\n",
    "    ax = plt.subplot(1, 2, j)\n",
    "    seaborn.lineplot(data = df[f'Scenario {j}'].unstack('Zone'), ax=ax, linewidth=3, legend=False);\n",
    "    ax.set_xlim([0,100]);\n",
    "    ax.set_ylim([1, 1.6]);\n",
    "    ax.set_ylabel('1000 €/ (GJ/h)');\n",
    "    ax.set_title(f'Scenario {j}');\n",
    "fig.tight_layout()\n",
    "fig.legend(df.index.levels[0], loc = 9, ncol = 2, frameon=True);\n",
    "fig.subplots_adjust(top=0.85);\n",
    "if slides:\n",
    "    fig.savefig(f\"{out_folder}\\\\mBasicTrade_correlationMEV_slides.pdf\",facecolor='#FAFAFA',edgecolor='k')\n",
    "else:\n",
    "    fig.savefig(f\"{out_folder}\\\\mBasicTrade_correlationMEV.pdf\",edgecolor='k')"
   ]
  }
 ],
 "metadata": {
  "kernelspec": {
   "display_name": "Python 3 (ipykernel)",
   "language": "python",
   "name": "python3"
  },
  "language_info": {
   "codemirror_mode": {
    "name": "ipython",
    "version": 3
   },
   "file_extension": ".py",
   "mimetype": "text/x-python",
   "name": "python",
   "nbconvert_exporter": "python",
   "pygments_lexer": "ipython3",
   "version": "3.9.7"
  }
 },
 "nbformat": 4,
 "nbformat_minor": 5
}
