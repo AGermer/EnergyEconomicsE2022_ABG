{
 "cells": [
  {
   "cell_type": "markdown",
   "id": "a8ddbd4d-fccc-4873-b7e5-dcd8fc80267f",
   "metadata": {},
   "source": [
    "*Load packages and data:*"
   ]
  },
  {
   "cell_type": "code",
   "execution_count": 1,
   "id": "ad15d24e-5c01-4b67-beec-f56bc39aaf3f",
   "metadata": {},
   "outputs": [],
   "source": [
    "%run stdPackages.ipynb\n",
    "read = {'variables': ['Fundamentals', 'Load', 'Generators_Other','TL','Regulation'], \n",
    "        'variable2D': ['Generators_FuelMix','HourlyVariation'],\n",
    "        'scalars': ['Scalars'],\n",
    "        'maps': ['Generators_Categories', 'Load_Categories']}\n",
    "db = dbFromWB(os.path.join(d['data'],'E3.xlsx'), read)\n",
    "readSets(db)"
   ]
  },
  {
   "cell_type": "markdown",
   "id": "70a818e2-5359-4c48-87c9-45cec868ed29",
   "metadata": {
    "tags": []
   },
   "source": [
    "# Exercise 3: The value of transmission lines and the cost of intermittency"
   ]
  },
  {
   "cell_type": "markdown",
   "id": "455b4457-198a-43ca-a06f-a7c1221b6a48",
   "metadata": {},
   "source": [
    "The main objectives of the third exercise are:\n",
    "1. Investigating the economic value of trade in electricity;\n",
    "2. explore its role in mitigating the costs of intermittency;\n",
    "3. analyze policies aimed at reducing CO2 emissions.\n",
    "\n",
    "The exercise builds on the ```mBasicTrade``` model class; you can find helpful information on this in the following:\n",
    "* The note \"*Models for Energy Economics*\" describes the model in section 3.\n",
    "* The notebook [M_mBasicTrade](M_mBasicTrade.ipynb) includes some description of the model class.\n",
    "* The notebook [E3_SolutionGuide](E3_SolutionGuide.ipynb) provides a short solution to the problems posted in the current notebook."
   ]
  },
  {
   "cell_type": "markdown",
   "id": "b2f536d7-d250-40d5-8905-6a0780dac47c",
   "metadata": {
    "tags": []
   },
   "source": [
    "## The setup:"
   ]
  },
  {
   "cell_type": "markdown",
   "id": "9670b797-0fcd-437c-a03c-b51c87e09925",
   "metadata": {},
   "source": [
    "We consider a ```mBasicTrade``` model with two geographic markets $g1,g2$ and four hours $H=4$.\n",
    "* The $g1$ market is taken from [Exercise 2](E2_Problem.ipynb): There are four plants that contribute to satisfy a \"daily\" load of $400GJ$. Three plants combine fuels: Coal, natural gas, and biomass. The fourth plant produces wind power.\n",
    "* The $g2$ market is very simple: There is daily load of $400GJ$ as well, but only two plants (id5-id6). One that relies on natural gas (id5) and a solar (photovoltaics, PV, id6) plant.\n",
    "* The two markets are connected via a transmission line with hourly capacity of $25GJ$ exports (```lineCapacity```). When exporting, there is a loss of 5\\% of the transported electricity (```lineLoss```). Thus, the maximum imports are $25*0.95$ GJ.\n",
    "\n",
    "As in exercise 2, the day consists of four short run states. They are identical in the two areas.  \n",
    "\n",
    "The plant ```id```s are tied to a specific geographic area in the mapping ```id2g``` stored in the database:"
   ]
  },
  {
   "cell_type": "code",
   "execution_count": 2,
   "id": "2319d725-091d-4875-855e-043dc2f1f115",
   "metadata": {},
   "outputs": [
    {
     "data": {
      "text/plain": [
       "MultiIndex([('id1', 'g1'),\n",
       "            ('id2', 'g1'),\n",
       "            ('id3', 'g1'),\n",
       "            ('id4', 'g1'),\n",
       "            ('id5', 'g2'),\n",
       "            ('id6', 'g2')],\n",
       "           names=['id', 'g'])"
      ]
     },
     "execution_count": 2,
     "metadata": {},
     "output_type": "execute_result"
    }
   ],
   "source": [
    "db['id2g']"
   ]
  },
  {
   "cell_type": "markdown",
   "id": "7ddb665e-d1b2-4fb4-aca6-52da14f7ecc4",
   "metadata": {},
   "source": [
    "Some descriptive figures are plotted here for area $g2$ (similar to those used in exercise 2 as well)"
   ]
  },
  {
   "cell_type": "code",
   "execution_count": 3,
   "id": "2544ca04-8ab9-4da2-b128-a4524e7a64b7",
   "metadata": {},
   "outputs": [
    {
     "data": {
      "text/html": [
       "\n",
       "        <iframe\n",
       "            width=\"600\"\n",
       "            height=\"300\"\n",
       "            src=\"Misc/Figs/mBasicTrade_hvt_g2.pdf\"\n",
       "            frameborder=\"0\"\n",
       "            allowfullscreen\n",
       "            \n",
       "        ></iframe>\n",
       "        "
      ],
      "text/plain": [
       "<IPython.lib.display.IFrame at 0x185c4c001f0>"
      ]
     },
     "execution_count": 3,
     "metadata": {},
     "output_type": "execute_result"
    }
   ],
   "source": [
    "IFrame(\"Misc/Figs/mBasicTrade_hvt_g2.pdf\", width=600, height=300)"
   ]
  },
  {
   "cell_type": "code",
   "execution_count": 4,
   "id": "87f3a7c0-13d1-4de2-baef-cc7825e6a3d1",
   "metadata": {},
   "outputs": [
    {
     "data": {
      "text/html": [
       "\n",
       "        <iframe\n",
       "            width=\"600\"\n",
       "            height=\"300\"\n",
       "            src=\"Misc/Figs/mBasicTrade_MeritOrder_g2.pdf\"\n",
       "            frameborder=\"0\"\n",
       "            allowfullscreen\n",
       "            \n",
       "        ></iframe>\n",
       "        "
      ],
      "text/plain": [
       "<IPython.lib.display.IFrame at 0x185ca4ae460>"
      ]
     },
     "execution_count": 4,
     "metadata": {},
     "output_type": "execute_result"
    }
   ],
   "source": [
    "IFrame(\"Misc/Figs/mBasicTrade_MeritOrder_g2.pdf\", width=600, height=300)"
   ]
  },
  {
   "cell_type": "markdown",
   "id": "040b5736-2c48-4785-9cea-d8bb6070f588",
   "metadata": {
    "tags": []
   },
   "source": [
    "### Problem 1: Predicted trade flows"
   ]
  },
  {
   "cell_type": "markdown",
   "id": "b482ae08-c5af-45ac-8866-e2432079a5a7",
   "metadata": {},
   "source": [
    "*Hypothesize on the trade patterns that emerges this model: In what hours of the day do you expect $g1, g2$ to benefit from trade in electricity? Confirm your hypothesis by solving the model and inspecting the solution variable ```Transmission[g,g_alias,h]``` which is stores the solution $x_{g,g',h}$ measuring the export from $g$ to $g'$ in hour $h$.*"
   ]
  },
  {
   "cell_type": "markdown",
   "id": "94c038bb-9778-4301-a4c1-c9ebb36dc840",
   "metadata": {
    "tags": []
   },
   "source": [
    "### Problem 2: Gains of trade"
   ]
  },
  {
   "cell_type": "markdown",
   "id": "3af191f3-8751-4368-b003-9a7c5f4a7472",
   "metadata": {},
   "source": [
    "Solve the model with varying transmission capacity (variable ```lineCapacity```) and inspect/explain:\n",
    "1. *Marginal system costs in the two areas. Do you expect them to increase/decrease when you increase transmission capacities?*\n",
    "2. *Congestion rents.* \n",
    "3. *Marginal economic value of the 6 plants.*"
   ]
  },
  {
   "cell_type": "markdown",
   "id": "41bc37c7-700b-4817-b19d-08162b4f847a",
   "metadata": {},
   "source": [
    "*Hint 1: All three variables you are asked to inspect are computed automatically and can be accessed as ```marginalSystemCosts```, ```congestionRent```, and ```marginalEconomicValue``` respectively.*"
   ]
  },
  {
   "cell_type": "markdown",
   "id": "024b9fde-fce0-490f-8c76-59aaf934b0d5",
   "metadata": {},
   "source": [
    "*Hint 2: The congestion rent in an hour $h$ defined as*\n",
    "$$\\begin{align}\n",
    "    \\text{Congestion rent}_h = \\sum_{l} x_{l,h} \\cdot (p_{g',h} - p_{g,h}) \\geq 0.\n",
    "\\end{align}$$\n",
    "*where $x_{l,h}$ is the export from $g$ to $g'$ and $p_g, p_{g'}$ are the prices in the two markets. So, congestion rents **measure the increase in economic value that comes from exporting $x_{l,h}$ to a high-price market $(p_{g'})$ instead of consuming it locally $(p_{g})$.***\n",
    "\n",
    "*In our model these variables are defined as:*\n",
    "* *```Transmission[g,g_alias,h]```$=x_{g,g',h}$,*\n",
    "* *```marginalSystemCosts[g,h]``` $=p_{g,h}$.*\n",
    "* *```marginalEconomicValue[id]``` measures the marginal economic value*"
   ]
  },
  {
   "cell_type": "markdown",
   "id": "33d15042-0d09-4919-acb4-1a839d8d27e8",
   "metadata": {
    "tags": []
   },
   "source": [
    "### Problem 3: Coordinated/uncoordinated regulation"
   ]
  },
  {
   "cell_type": "markdown",
   "id": "a33fb5d8-f9fe-478c-a823-af9be86c4fa2",
   "metadata": {},
   "source": [
    "Another topic that arises with multiple markets/zones/areas (```g```) is that of coordinated/uncoordinated regulation. This topic is a classic in climate economics and will covered in more detail in other courses (e.g. *\"Economics of the Environment and Climate Change\"* at UCPH). To look into this issue, start by initializing a model with emission constraints as follows:"
   ]
  },
  {
   "cell_type": "code",
   "execution_count": 5,
   "id": "ad7dea13-4fe9-4883-a683-1e39e9549ed5",
   "metadata": {},
   "outputs": [],
   "source": [
    "m = mBasicTrade.mEmissionCap(db)"
   ]
  },
  {
   "cell_type": "markdown",
   "id": "6655f24c-0469-4807-bdca-0b9ca5744039",
   "metadata": {},
   "source": [
    "This model class allows us to impose emission constraints on the two geographic areas separately (uncoordinated) or as one common (coordinated) emissions cap by setting:"
   ]
  },
  {
   "cell_type": "code",
   "execution_count": 6,
   "id": "02c6d87a-30af-4030-9d4f-ec6d3a968823",
   "metadata": {},
   "outputs": [],
   "source": [
    "m.commonCap = True # default option, coordinated regulation.\n",
    "m.commonCap = False # Use this for uncoordinated regulation."
   ]
  },
  {
   "cell_type": "markdown",
   "id": "45420fc4-b13f-4409-84cc-3ae21ff2457c",
   "metadata": {},
   "source": [
    "Revert the transmission capacity to its original setting of 25 GJ:"
   ]
  },
  {
   "cell_type": "code",
   "execution_count": 7,
   "id": "5910bdc3-c6c1-42c6-b2de-cc29f6ca5240",
   "metadata": {},
   "outputs": [],
   "source": [
    "m.db['lineCapacity'] = 25"
   ]
  },
  {
   "cell_type": "markdown",
   "id": "3f5ccb5e-6c6c-466a-b750-5de07bd83976",
   "metadata": {},
   "source": [
    "*Simulate the effect of lowering the emission cap from 50 to 20. Compare the effect of doing so coordinated (total cap of 50), and uncoordinated (cap of 25/25).*"
   ]
  },
  {
   "cell_type": "markdown",
   "id": "eb984724-1378-42e6-a378-52f3988a96f6",
   "metadata": {},
   "source": [
    "*Hint 1: The shock requires the following grid specification*"
   ]
  },
  {
   "cell_type": "code",
   "execution_count": 8,
   "id": "0311bfb6-1d00-4b30-9740-9e84f9c526df",
   "metadata": {},
   "outputs": [],
   "source": [
    "loop = pd.Index(range(11), name = 'loop') # number of gridpoints.\n",
    "v0 = pd.Series(25, index = m.db['g']) # start with cap on 25/25.\n",
    "vT = pd.Series(10, index = m.db['g']) # end with cap 10/10.\n",
    "grid = addGrid(v0,vT,loop,'CO2Cap') # grid"
   ]
  },
  {
   "cell_type": "markdown",
   "id": "edcc05fc-3abf-416e-a92a-6154d28a4511",
   "metadata": {},
   "source": [
    "*Hint 2: The variable ```Welfare``` measures the objective function.*"
   ]
  }
 ],
 "metadata": {
  "kernelspec": {
   "display_name": "Python 3 (ipykernel)",
   "language": "python",
   "name": "python3"
  },
  "language_info": {
   "codemirror_mode": {
    "name": "ipython",
    "version": 3
   },
   "file_extension": ".py",
   "mimetype": "text/x-python",
   "name": "python",
   "nbconvert_exporter": "python",
   "pygments_lexer": "ipython3",
   "version": "3.9.7"
  }
 },
 "nbformat": 4,
 "nbformat_minor": 5
}
