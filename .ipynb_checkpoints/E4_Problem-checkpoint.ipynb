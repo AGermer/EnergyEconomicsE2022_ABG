{
 "cells": [
  {
   "cell_type": "markdown",
   "id": "197661ba-0915-476f-9c87-ec94b1bb1f74",
   "metadata": {},
   "source": [
    "*Load packages and data:*"
   ]
  },
  {
   "cell_type": "code",
   "execution_count": 1,
   "id": "031316b6-b141-48e7-a637-a756cf1cd9ff",
   "metadata": {},
   "outputs": [],
   "source": [
    "%run stdPackages.ipynb\n",
    "read = {'variables': ['Fundamentals', 'LoadVariables', 'TransmissionLines', 'GeneratorsVariables'],\n",
    "        'maps': ['LoadMaps','GeneratorsMaps'],\n",
    "        'variable2D': ['HourlyVariation'],\n",
    "        'scalars': ['Scalars']}\n",
    "db = dbFromWB(os.path.join(d['data'],'E4.xlsx'), read)\n",
    "readSets(db)"
   ]
  },
  {
   "cell_type": "markdown",
   "id": "bc956f9f-9bed-4836-bf75-f09f0a8166a6",
   "metadata": {
    "tags": []
   },
   "source": [
    "# Exercise 4: Technology Complementarity"
   ]
  },
  {
   "cell_type": "markdown",
   "id": "7387f5ad-91eb-486e-bc36-9e73fb809527",
   "metadata": {},
   "source": [
    "The main objective of the fourth exercise is to estimate how technologies may complement each other. Specifically, we will look at a number of scenarios:\n",
    "* *High/low shares of renewables*.\n",
    "* *High/low shares of CHP plants*.\n",
    "* *Large/small heat markets*.\n",
    "\n",
    "The exercise builds on the ```mBasicPH``` model class; you can find helpful information on this in the following:\n",
    "* The note \"*Models in Energy Economics*\" describes the model in section 4.\n",
    "* The notebook [M_mBasicPH](M_mBasicPH.ipynb) includes some description of the model class.\n",
    "* The notebook [E4_SolutionGuide](E4_SolutionGuide.ipynb) provides a short solution to the problems posted in the current notebook."
   ]
  },
  {
   "cell_type": "markdown",
   "id": "8b518799-b6d3-4789-b73b-0806581dc93e",
   "metadata": {},
   "source": [
    "*Note: The model class ```mBasicPH``` automatically includes transmission lines and geographic markets. Currently, the class needs to have multiple geographic areas. We have set the transmission capacity between $g_1,g_2$ to zero, and only focus on $g_1$ - so, we ignore the effect of trade throughout. Technically, though, this means that we have to keep extracting the right information from $g_1$. The following should help subsetting the relevant symbols throughout:*"
   ]
  },
  {
   "cell_type": "code",
   "execution_count": 2,
   "id": "db35f626-7191-4312-97f1-5484a6004375",
   "metadata": {},
   "outputs": [],
   "source": [
    "ids = db['id'][db['id'].str.startswith('g1')]\n",
    "g   = pd.Index(['g1'],name='g')\n",
    "hvts= db['hvt'][db['hvt'].str.startswith('g1')]\n",
    "cE  = pd.Index(['c1'],name='c_E')\n",
    "cH  = pd.Index(['c2'],name='c_H')"
   ]
  },
  {
   "cell_type": "markdown",
   "id": "6c80d1fd-8905-4454-aece-34dd8b883895",
   "metadata": {
    "tags": []
   },
   "source": [
    "## The setup:"
   ]
  },
  {
   "cell_type": "markdown",
   "id": "21a05ba2-5418-4c2e-bf3b-d3fe1bdc4739",
   "metadata": {},
   "source": [
    "We consider a ```mBasicPH``` model with $H=4$ hours. The hourly average load is $100 GJ$ for both power and heat markets.\n",
    "\n",
    "#### Hourly Variation;\n",
    "\n",
    "We use a stylized hourly variation pattern where the four hours represent four 6-hour blocks of the day (hours 0-6, 6-12, 12-18, 18-24). Heat demand is slightly higher in the night ($h=1,4$), whereas electricity is somewhat higher during the day $(h=2,3$). Wind generation is slightly higher at night, whereas photovoltaics and solar heating primarily produce during the day."
   ]
  },
  {
   "cell_type": "code",
   "execution_count": 3,
   "id": "aa76f5e5-eb0e-42e6-8c55-06c61fa09fb3",
   "metadata": {},
   "outputs": [
    {
     "data": {
      "text/html": [
       "<div>\n",
       "<style scoped>\n",
       "    .dataframe tbody tr th:only-of-type {\n",
       "        vertical-align: middle;\n",
       "    }\n",
       "\n",
       "    .dataframe tbody tr th {\n",
       "        vertical-align: top;\n",
       "    }\n",
       "\n",
       "    .dataframe thead th {\n",
       "        text-align: right;\n",
       "    }\n",
       "</style>\n",
       "<table border=\"1\" class=\"dataframe\">\n",
       "  <thead>\n",
       "    <tr style=\"text-align: right;\">\n",
       "      <th>hvt</th>\n",
       "      <th>g1_WS</th>\n",
       "      <th>g1_PV</th>\n",
       "      <th>g1_SH</th>\n",
       "      <th>LoadVariation_E</th>\n",
       "      <th>LoadVariation_H</th>\n",
       "    </tr>\n",
       "    <tr>\n",
       "      <th>h</th>\n",
       "      <th></th>\n",
       "      <th></th>\n",
       "      <th></th>\n",
       "      <th></th>\n",
       "      <th></th>\n",
       "    </tr>\n",
       "  </thead>\n",
       "  <tbody>\n",
       "    <tr>\n",
       "      <th>1</th>\n",
       "      <td>0.5</td>\n",
       "      <td>0</td>\n",
       "      <td>0.15</td>\n",
       "      <td>0.1</td>\n",
       "      <td>0.35</td>\n",
       "    </tr>\n",
       "    <tr>\n",
       "      <th>2</th>\n",
       "      <td>0.3</td>\n",
       "      <td>0.3</td>\n",
       "      <td>0.25</td>\n",
       "      <td>0.3</td>\n",
       "      <td>0.15</td>\n",
       "    </tr>\n",
       "    <tr>\n",
       "      <th>3</th>\n",
       "      <td>0.6</td>\n",
       "      <td>0.4</td>\n",
       "      <td>0.25</td>\n",
       "      <td>0.5</td>\n",
       "      <td>0.15</td>\n",
       "    </tr>\n",
       "    <tr>\n",
       "      <th>4</th>\n",
       "      <td>0.7</td>\n",
       "      <td>0.05</td>\n",
       "      <td>0.15</td>\n",
       "      <td>0.1</td>\n",
       "      <td>0.35</td>\n",
       "    </tr>\n",
       "  </tbody>\n",
       "</table>\n",
       "</div>"
      ],
      "text/plain": [
       "hvt g1_WS g1_PV g1_SH LoadVariation_E LoadVariation_H\n",
       "h                                                    \n",
       "1     0.5     0  0.15             0.1            0.35\n",
       "2     0.3   0.3  0.25             0.3            0.15\n",
       "3     0.6   0.4  0.25             0.5            0.15\n",
       "4     0.7  0.05  0.15             0.1            0.35"
      ]
     },
     "execution_count": 3,
     "metadata": {},
     "output_type": "execute_result"
    }
   ],
   "source": [
    "DFVariation = rc_pd(db['CapVariation'], hvts).unstack('hvt').assign(LoadVariation_E = db['LoadVariation_E'].xs('c1'), LoadVariation_H = db['LoadVariation_H'].xs('c1'))\n",
    "DFVariation"
   ]
  },
  {
   "cell_type": "markdown",
   "id": "99e35a92-f61c-4b1b-ab87-807f3af4bb85",
   "metadata": {},
   "source": [
    "With only four hours, this stylized setup produces some pretty correlated variables:"
   ]
  },
  {
   "cell_type": "code",
   "execution_count": 4,
   "id": "6f9cba00-c1ba-488f-854e-35f3078c5b53",
   "metadata": {},
   "outputs": [
    {
     "data": {
      "text/html": [
       "<div>\n",
       "<style scoped>\n",
       "    .dataframe tbody tr th:only-of-type {\n",
       "        vertical-align: middle;\n",
       "    }\n",
       "\n",
       "    .dataframe tbody tr th {\n",
       "        vertical-align: top;\n",
       "    }\n",
       "\n",
       "    .dataframe thead th {\n",
       "        text-align: right;\n",
       "    }\n",
       "</style>\n",
       "<table border=\"1\" class=\"dataframe\">\n",
       "  <thead>\n",
       "    <tr style=\"text-align: right;\">\n",
       "      <th>hvt</th>\n",
       "      <th>g1_WS</th>\n",
       "      <th>g1_PV</th>\n",
       "      <th>g1_SH</th>\n",
       "      <th>LoadVariation_E</th>\n",
       "      <th>LoadVariation_H</th>\n",
       "    </tr>\n",
       "    <tr>\n",
       "      <th>hvt</th>\n",
       "      <th></th>\n",
       "      <th></th>\n",
       "      <th></th>\n",
       "      <th></th>\n",
       "      <th></th>\n",
       "    </tr>\n",
       "  </thead>\n",
       "  <tbody>\n",
       "    <tr>\n",
       "      <th>g1_WS</th>\n",
       "      <td>1.00</td>\n",
       "      <td>-0.29</td>\n",
       "      <td>-0.51</td>\n",
       "      <td>-0.15</td>\n",
       "      <td>0.51</td>\n",
       "    </tr>\n",
       "    <tr>\n",
       "      <th>g1_PV</th>\n",
       "      <td>-0.29</td>\n",
       "      <td>1.00</td>\n",
       "      <td>0.97</td>\n",
       "      <td>0.97</td>\n",
       "      <td>-0.97</td>\n",
       "    </tr>\n",
       "    <tr>\n",
       "      <th>g1_SH</th>\n",
       "      <td>-0.51</td>\n",
       "      <td>0.97</td>\n",
       "      <td>1.00</td>\n",
       "      <td>0.90</td>\n",
       "      <td>-1.00</td>\n",
       "    </tr>\n",
       "    <tr>\n",
       "      <th>LoadVariation_E</th>\n",
       "      <td>-0.15</td>\n",
       "      <td>0.97</td>\n",
       "      <td>0.90</td>\n",
       "      <td>1.00</td>\n",
       "      <td>-0.90</td>\n",
       "    </tr>\n",
       "    <tr>\n",
       "      <th>LoadVariation_H</th>\n",
       "      <td>0.51</td>\n",
       "      <td>-0.97</td>\n",
       "      <td>-1.00</td>\n",
       "      <td>-0.90</td>\n",
       "      <td>1.00</td>\n",
       "    </tr>\n",
       "  </tbody>\n",
       "</table>\n",
       "</div>"
      ],
      "text/plain": [
       "hvt              g1_WS  g1_PV  g1_SH  LoadVariation_E  LoadVariation_H\n",
       "hvt                                                                   \n",
       "g1_WS             1.00  -0.29  -0.51            -0.15             0.51\n",
       "g1_PV            -0.29   1.00   0.97             0.97            -0.97\n",
       "g1_SH            -0.51   0.97   1.00             0.90            -1.00\n",
       "LoadVariation_E  -0.15   0.97   0.90             1.00            -0.90\n",
       "LoadVariation_H   0.51  -0.97  -1.00            -0.90             1.00"
      ]
     },
     "execution_count": 4,
     "metadata": {},
     "output_type": "execute_result"
    }
   ],
   "source": [
    "DFVariation.astype(float).corr().round(2)"
   ]
  },
  {
   "cell_type": "markdown",
   "id": "f2614b7d-dcc8-4a8c-9c7b-1302bd112070",
   "metadata": {},
   "source": [
    "#### Technologies:\n",
    "\n",
    "We include the following technologies:\n",
    "* Condensation plants (```CD```): Simple electricity producing, dispatchable plants. Three versions: One that relies on coal, one on natural gas, and one that relies on biomass.\n",
    "* Boiler Heater plants (```BH```): Simple heat producing, dispatchable plants. Two versions: One that relies on natural gas, one that relies on biomass.\n",
    "* Back-pressure plants (```BP```): Combined heat and power plants. Two versions: One relies on coal, another on natural gas.\n",
    "* Wind and solar plants (```WS,PV,SH```): Intermittent plants. WS,PV produce electricity. SH produce heat. \n",
    "* Heat pump (```HP```): Relies on electricity to produce heat. "
   ]
  },
  {
   "cell_type": "markdown",
   "id": "70ca4d6f-3dcb-473c-82f3-922676b1039d",
   "metadata": {
    "tags": []
   },
   "source": [
    "### Problem 1: Baseline scenario"
   ]
  },
  {
   "cell_type": "markdown",
   "id": "65722174-8460-4469-9952-11550a277456",
   "metadata": {},
   "source": [
    "*Solve the model in the baseline scenario (data as is) and comment.*"
   ]
  },
  {
   "cell_type": "markdown",
   "id": "f053efe7-b46b-4c77-aef8-9764c5bd72c2",
   "metadata": {
    "tags": []
   },
   "source": [
    "### Problem 2: Suggest CHP plant strategy"
   ]
  },
  {
   "cell_type": "markdown",
   "id": "c7f55a6b-dd7e-4c86-944f-e9e60cb4e29d",
   "metadata": {},
   "source": [
    "*Based on your results in problem 1, suggest a better technology mix that includes CHP plants. Keep the total generating capacity for electricity and heat roughly constant to isolate the effect of changing the composition of plants. Simulate and comment on your result.*"
   ]
  },
  {
   "cell_type": "markdown",
   "id": "fa8cd9d2-5a64-4fff-83ba-65b019e1ffa6",
   "metadata": {
    "tags": []
   },
   "source": [
    "### Problem 3: Marginal system costs with large shares of CHP"
   ]
  },
  {
   "cell_type": "markdown",
   "id": "fed7850a-dae3-4446-a0ae-109bf1474def",
   "metadata": {},
   "source": [
    "*Update generating capacities to the ones detailed in the sheet ```UpdateCaps``` as follows:*"
   ]
  },
  {
   "cell_type": "code",
   "execution_count": 5,
   "id": "d16cdfd1-886e-4c33-8163-14b2c12718d2",
   "metadata": {},
   "outputs": [],
   "source": [
    "newCaps = dbFromWB(os.path.join(d['data'],'E4.xlsx'), {'variables': ['UpdateCaps']})\n",
    "db.symbols.update(**newCaps.symbols)"
   ]
  },
  {
   "cell_type": "markdown",
   "id": "9000cdd5-60e6-4aa6-bb97-9772c4761fb8",
   "metadata": {},
   "source": [
    "*Note that the sum of capacities has increased. Also, instead of only relying on simple condensation and boiler heating plants, we now have all types of plants. Re-solve the model and comment on the solution. Specifically, answer why electricity prices are high in $h=2,3$ and heat prices in $h=1,4$.*"
   ]
  },
  {
   "cell_type": "markdown",
   "id": "3a88a9cf-4b68-417a-a16b-801c38eac444",
   "metadata": {
    "tags": []
   },
   "source": [
    "### Problem 4: Renewables and heat pumps."
   ]
  },
  {
   "cell_type": "markdown",
   "id": "b683a95b-5ac3-455b-8245-8c85646eeccc",
   "metadata": {},
   "source": [
    "*Vary the generating capacity of wind and solar from 50 to 200 GJ. For each step in this loop, vary the installed capacity of heat pumps from 25-100 as well.*"
   ]
  },
  {
   "cell_type": "markdown",
   "id": "fe35d031-a8bc-4be4-8a85-17df3ac47914",
   "metadata": {},
   "source": [
    "*Hint: You can use the following syntax to perform create 1d loop that can be used with the ```loopSolveExtract``` method used in the previous exercises*"
   ]
  },
  {
   "cell_type": "markdown",
   "id": "6a59b92f-431b-4cdf-a857-41c2e455ba27",
   "metadata": {},
   "source": [
    "```Python\n",
    "# Create two separate grids for Cap_E and Cap_H:\n",
    "loop1 = pd.Index(range(11), name = 'l1')\n",
    "loop2 = pd.Index(range(11), name = 'l2')\n",
    "v0_ECap = pd.Series(50, index =  mBasicPH.getTechs_i(['PV','WS'],db))\n",
    "vT_ECap = pd.Series(200, index = v0_ECap.index)\n",
    "v0_HCap = pd.Series(25, index = mBasicPH.getTechs_i('HP',db))\n",
    "vT_HCap = pd.Series(100, index = mBasicPH.getTechs_i('HP',db))\n",
    "grid_ECap = addGrid(v0_ECap,vT_ECap,loop1,'GeneratingCap_E')\n",
    "grid_HCap = addGrid(v0_HCap,vT_HCap,loop2,'GeneratingCap_H')\n",
    "# Collapse the two grids into two 1d index:\n",
    "df_E = lpCompiler.sortAll(addGrid(grid_ECap, grid_ECap, loop2, 'GeneratingCap_E').unstack('id'))\n",
    "df_H = lpCompiler.sortAll(addGrid(grid_HCap, grid_HCap, loop1, 'GeneratingCap_H').unstack('id'))\n",
    "df_E.index = df_E.index.to_flat_index().rename('loop')\n",
    "df_H.index = df_H.index.to_flat_index().rename('loop')\n",
    "grid_ECap_1d = df_E.stack().rename('GeneratingCap_E')\n",
    "grid_HCap_1d = df_H.stack().rename('GeneratingCap_H')\n",
    "grids = [grid_ECap_1d, grid_HCap_1d]\n",
    "loop = df_E.index\n",
    "```"
   ]
  }
 ],
 "metadata": {
  "kernelspec": {
   "display_name": "Python 3 (ipykernel)",
   "language": "python",
   "name": "python3"
  },
  "language_info": {
   "codemirror_mode": {
    "name": "ipython",
    "version": 3
   },
   "file_extension": ".py",
   "mimetype": "text/x-python",
   "name": "python",
   "nbconvert_exporter": "python",
   "pygments_lexer": "ipython3",
   "version": "3.9.7"
  }
 },
 "nbformat": 4,
 "nbformat_minor": 5
}
