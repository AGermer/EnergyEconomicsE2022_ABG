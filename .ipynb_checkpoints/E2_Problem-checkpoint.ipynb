{
 "cells": [
  {
   "cell_type": "markdown",
   "id": "abf05f27-c7a0-47b0-a271-1b460c2ff077",
   "metadata": {},
   "source": [
    "*Load packages and data:*"
   ]
  },
  {
   "cell_type": "code",
   "execution_count": 1,
   "id": "7315ba39-d768-49d3-8bea-ef3acbd32749",
   "metadata": {},
   "outputs": [],
   "source": [
    "%run stdPackages.ipynb\n",
    "read = {'variables': ['Fundamentals', 'Load', 'Generators_Other'], \n",
    "        'variable2D': ['Generators_FuelMix','HourlyVariation'],\n",
    "        'scalars': ['MWP'],\n",
    "        'maps': ['Generators_Categories']}\n",
    "db = dbFromWB(os.path.join(d['data'],'E2.xlsx'), read)\n",
    "db.updateAlias(alias=[('h','h_alias')])\n",
    "readSets(db)"
   ]
  },
  {
   "cell_type": "markdown",
   "id": "a0d923d2-4c96-4575-b4a9-a316daf125d4",
   "metadata": {
    "tags": []
   },
   "source": [
    "# Exercise 2: Measures of economic value for competing technologies"
   ]
  },
  {
   "cell_type": "markdown",
   "id": "d2fde262-5928-4828-b293-b08615926213",
   "metadata": {},
   "source": [
    "The main objectives of the second exercise are:\n",
    "1. Investigating the relation between hourly variation in demand/supply, installed generation capacity, and profitability of different technologies;\n",
    "2. explore how this variation relates to policies aimed at reducing emissions;\n",
    "3. and learn to interact with the code and model classes.\n",
    "\n",
    "The exercise builds on the ```mBasicInt``` model class; you can find helpful information on this in the following:\n",
    "* The note \"*Models for Energy Economics*\" describes the model in section 2.\n",
    "* The notebook [M_mBasicInt](M_mBasicInt.ipynb) includes some description of the model class.\n",
    "* The notebook [E2_SolutionGuide](E2_SolutionGuide.ipynb) provides a short solution to the problems posted in the current notebook."
   ]
  },
  {
   "cell_type": "markdown",
   "id": "47526320-4ce1-4b62-9d93-bb3d201f7b05",
   "metadata": {},
   "source": [
    "The first parts of the exercise produces tables and figures that are used in section 2.2."
   ]
  },
  {
   "cell_type": "markdown",
   "id": "7a25fc33-e190-4c4a-89f1-e142d5b4ecb5",
   "metadata": {
    "tags": []
   },
   "source": [
    "## The setup:"
   ]
  },
  {
   "cell_type": "markdown",
   "id": "2da9d99c-8730-41a5-b4d9-23e38257c2a8",
   "metadata": {},
   "source": [
    "We consider a ```mBasicInt``` model where four different electricity producing plants contribute to satisfy a \"daily\" load of $400$ GJ. Three of the plant suse a combination of fuels: Coal, natural gas, and bio mass. The last plant produces wind power. The parameter ```FuelMix``` stored in the ```db``` database shows the input intensities:"
   ]
  },
  {
   "cell_type": "code",
   "execution_count": 2,
   "id": "e59e5497-67b6-4f25-8b4a-2b20272171cd",
   "metadata": {},
   "outputs": [
    {
     "data": {
      "text/html": [
       "<div>\n",
       "<style scoped>\n",
       "    .dataframe tbody tr th:only-of-type {\n",
       "        vertical-align: middle;\n",
       "    }\n",
       "\n",
       "    .dataframe tbody tr th {\n",
       "        vertical-align: top;\n",
       "    }\n",
       "\n",
       "    .dataframe thead th {\n",
       "        text-align: right;\n",
       "    }\n",
       "</style>\n",
       "<table border=\"1\" class=\"dataframe\">\n",
       "  <thead>\n",
       "    <tr style=\"text-align: right;\">\n",
       "      <th>id</th>\n",
       "      <th>id1</th>\n",
       "      <th>id2</th>\n",
       "      <th>id3</th>\n",
       "      <th>id4</th>\n",
       "    </tr>\n",
       "    <tr>\n",
       "      <th>BFt</th>\n",
       "      <th></th>\n",
       "      <th></th>\n",
       "      <th></th>\n",
       "      <th></th>\n",
       "    </tr>\n",
       "  </thead>\n",
       "  <tbody>\n",
       "    <tr>\n",
       "      <th>Coal</th>\n",
       "      <td>1.35</td>\n",
       "      <td>0</td>\n",
       "      <td>0</td>\n",
       "      <td>0</td>\n",
       "    </tr>\n",
       "    <tr>\n",
       "      <th>NatGas</th>\n",
       "      <td>0</td>\n",
       "      <td>1.3</td>\n",
       "      <td>0</td>\n",
       "      <td>0</td>\n",
       "    </tr>\n",
       "    <tr>\n",
       "      <th>BioMass</th>\n",
       "      <td>0</td>\n",
       "      <td>0</td>\n",
       "      <td>1.2</td>\n",
       "      <td>0</td>\n",
       "    </tr>\n",
       "  </tbody>\n",
       "</table>\n",
       "</div>"
      ],
      "text/plain": [
       "id        id1  id2  id3 id4\n",
       "BFt                        \n",
       "Coal     1.35    0    0   0\n",
       "NatGas      0  1.3    0   0\n",
       "BioMass     0    0  1.2   0"
      ]
     },
     "execution_count": 2,
     "metadata": {},
     "output_type": "execute_result"
    }
   ],
   "source": [
    "db['FuelMix'].unstack()"
   ]
  },
  {
   "cell_type": "markdown",
   "id": "086373c5-1524-435c-9480-ef206484ead1",
   "metadata": {},
   "source": [
    "The day consists of four short run states that we refer to as \"hours\" for convenience. The hourly load peaks at mid-day (states 2,3) and is lowest early morning and night (states 1,4). The wind power plant though, primarily produces energy in the early morning and night; thus, there is a **negative correlation** between load variation and wind generation variation. Consumers have a willingness to pay to avoid load shedding at $25$€ per GJ; this is significantly higher then the most expensive plant. Thus, load shedding will only occur if there is no other way to establish equilibrium. \n",
    "\n",
    "Figures 2.1 and 2.2 from the note *Models for Energy Economics* are plotted here for convenience to provide an overview:"
   ]
  },
  {
   "cell_type": "code",
   "execution_count": 3,
   "id": "df6d39cd-5d37-4548-99a3-910975b8f44c",
   "metadata": {},
   "outputs": [
    {
     "data": {
      "text/html": [
       "\n",
       "        <iframe\n",
       "            width=\"600\"\n",
       "            height=\"300\"\n",
       "            src=\"Misc/Figs/mBasicInt_hvt.pdf\"\n",
       "            frameborder=\"0\"\n",
       "            allowfullscreen\n",
       "            \n",
       "        ></iframe>\n",
       "        "
      ],
      "text/plain": [
       "<IPython.lib.display.IFrame at 0x2312f4ecdf0>"
      ]
     },
     "execution_count": 3,
     "metadata": {},
     "output_type": "execute_result"
    }
   ],
   "source": [
    "IFrame(\"Misc/Figs/mBasicInt_hvt.pdf\", width=600, height=300)"
   ]
  },
  {
   "cell_type": "code",
   "execution_count": 4,
   "id": "15a3b5ea-c12d-47d2-a268-c0c69a1dd365",
   "metadata": {},
   "outputs": [
    {
     "data": {
      "text/html": [
       "\n",
       "        <iframe\n",
       "            width=\"600\"\n",
       "            height=\"300\"\n",
       "            src=\"Misc/Figs/mBasicInt_MeritOrder.pdf\"\n",
       "            frameborder=\"0\"\n",
       "            allowfullscreen\n",
       "            \n",
       "        ></iframe>\n",
       "        "
      ],
      "text/plain": [
       "<IPython.lib.display.IFrame at 0x2312f4eceb0>"
      ]
     },
     "execution_count": 4,
     "metadata": {},
     "output_type": "execute_result"
    }
   ],
   "source": [
    "IFrame(\"Misc/Figs/mBasicInt_MeritOrder.pdf\", width=600, height=300)"
   ]
  },
  {
   "cell_type": "markdown",
   "id": "391b860b-e520-4d3c-8b80-a197a4882ca8",
   "metadata": {
    "tags": []
   },
   "source": [
    "### Problem 1: Utilization of generation capacities"
   ]
  },
  {
   "cell_type": "markdown",
   "id": "2375be6c-1d49-4ebc-8ce1-28b8175a4f01",
   "metadata": {},
   "source": [
    "The four plants have a maximum hourly generation capacity of ```GeneratingCapacity```: For the first three *dispatchable* plants this generation capacity is constant across hours. For the wind turbine (```id4```), generating capacity equals its maximum only in hour $1$. The hourly generation capacity are programmed as the property ```m.hourlyGeneratingCapacity```. The optimal hourly generation is stored as ```Generation``` when the model is solved. We define the daily average theoretical (TCF) and practical (PCF) capacity factors for the utilization of installed capacity from:\n",
    "\n",
    "$$\\begin{align}\n",
    "    TCF_{id} &= \\sum_{h=1}^H \\dfrac{\\text{Generation}_{id, h}}{q_{id}^{day}}, \\qquad q_{id}^{day} \\equiv H \\cdot \\text{GeneratingCapacity}_{id} \\\\\n",
    "    PCF_{id} &= \\sum_{h=1}^H \\dfrac{\\text{Generation}_{id, h}}{\\tilde{q}_{id}^{day}}, \\qquad \\tilde{q}_{id}^{day} \\equiv \\sum_h \\text{hourlyGeneratingCapacity}_{id, h} \n",
    "\\end{align}$$ \n",
    "\n",
    "*Solve the model. Compute the theoretical and practical daily average capacity factors for the four plants. Explain briefly the TCF patterns for dispatchable plants and why TCF and PCF differs for the wind turbine.*"
   ]
  },
  {
   "cell_type": "code",
   "execution_count": 5,
   "id": "a25d4307-1088-4119-aacc-d79ab52bf99e",
   "metadata": {
    "tags": []
   },
   "outputs": [],
   "source": [
    "m = mBasicInt.mBasicInt(db) # initialize using the database 'db' from above."
   ]
  },
  {
   "cell_type": "code",
   "execution_count": 6,
   "id": "05037e65-d02d-4525-9b04-bcc36df83cb5",
   "metadata": {
    "collapsed": true,
    "jupyter": {
     "outputs_hidden": true,
     "source_hidden": true
    },
    "tags": []
   },
   "outputs": [
    {
     "name": "stdout",
     "output_type": "stream",
     "text": [
      "Solution status 0: Optimization terminated successfully.\n"
     ]
    }
   ],
   "source": [
    "m.solve()"
   ]
  },
  {
   "cell_type": "markdown",
   "id": "218e6f42-c8ac-4d9a-91e9-f3c87a146e36",
   "metadata": {
    "tags": []
   },
   "source": [
    "### Problem 2: Average costs of capacity and average costs of energy"
   ]
  },
  {
   "cell_type": "markdown",
   "id": "c0402992-15ec-48b6-8da0-ed45b898b85c",
   "metadata": {},
   "source": [
    "In the current model, all plants face two types of costs: \n",
    "* Fixed costs (```FOM```): The variable is measured in (1000€ / (GJ/h capacity)) / year. This might look a bit complicated at first, but it is somewhat of an industry standard to report it this way. \n",
    "    * First, you should note that \"GJ/h capacity\" is simply represented as the ```GeneratingCapacity``` variable in our model ($q_i$ in the note).\n",
    "    * We read FOM as: \"It costs 'FOM' $\\cdot$ 1000€ every year to maintain 1 unit of capacity $q_i$\". \n",
    "    * As it is a measure per year, it presumes that there are $H=8760$ hours in the model. In our model with $H=4$ the variable should be scaled appropriately.\n",
    "* Marginal costs (```mc```): In [exercise 1](E1_Problem.ipynb), we looked into the marginal cost of generation. The variable measures \"€/GJ generation\"."
   ]
  },
  {
   "cell_type": "markdown",
   "id": "05790601-3397-4878-a47c-a8b2bfa5dfad",
   "metadata": {},
   "source": [
    "*Compute the plants' average capacity costs and average energy costs. Compare to their marginal costs and comment briefly.*"
   ]
  },
  {
   "cell_type": "markdown",
   "id": "d25910cd-7206-449f-8da2-ecc8efb91d09",
   "metadata": {
    "tags": []
   },
   "source": [
    "### Problem 3: Economic value of capacity"
   ]
  },
  {
   "cell_type": "markdown",
   "id": "1372247f-29fa-4d46-91e4-e67aad29e934",
   "metadata": {},
   "source": [
    "1. *Compute the weighted average marginal system costs across the $h$ hours (use 'HourlyDemand' as weights)*\n",
    "2. *Define and compute the weighted average marginal system costs for all ids. (use 'Generation')*\n",
    "3. *Compute the marginal economic value of generating capacity for all plants.*\n",
    "4. *Comment on the results; relate to results in problems 1-2.*"
   ]
  },
  {
   "cell_type": "markdown",
   "id": "cafa40dd-1901-482a-8e5a-d8dbec5fdbf3",
   "metadata": {},
   "source": [
    "**Hint 1: Coding help**"
   ]
  },
  {
   "cell_type": "markdown",
   "id": "98a914cb-3108-4250-a829-b52d7f96f1e6",
   "metadata": {},
   "source": [
    "The marginal system costs are accessed as"
   ]
  },
  {
   "cell_type": "code",
   "execution_count": null,
   "id": "59cdd6e5-695f-4af3-a788-10643331def5",
   "metadata": {},
   "outputs": [
    {
     "data": {
      "text/plain": [
       "h_alias  _type\n",
       "1        eq        6.189324\n",
       "2        eq       15.402685\n",
       "3        eq       25.000000\n",
       "4        eq        6.189324\n",
       "dtype: float64"
      ]
     },
     "execution_count": 7,
     "metadata": {},
     "output_type": "execute_result"
    }
   ],
   "source": [
    "m.db['λ_equilibrium']"
   ]
  },
  {
   "cell_type": "markdown",
   "id": "7959dceb-9c6d-4cde-b845-21a4ad505a08",
   "metadata": {},
   "source": [
    "To remove the ```'_type'``` index level and rename the hour index to 'h', use the shortcut:"
   ]
  },
  {
   "cell_type": "code",
   "execution_count": null,
   "id": "c638e330-4381-492e-8015-cfc02abb6855",
   "metadata": {},
   "outputs": [
    {
     "data": {
      "text/plain": [
       "h\n",
       "1     6.189324\n",
       "2    15.402685\n",
       "3    25.000000\n",
       "4     6.189324\n",
       "Name: 0, dtype: float64"
      ]
     },
     "execution_count": 8,
     "metadata": {},
     "output_type": "execute_result"
    }
   ],
   "source": [
    "mBasicInt.marginalSystemCosts(m.db)"
   ]
  },
  {
   "cell_type": "markdown",
   "id": "2db7855a-ad23-464a-b8c7-9fed12ef820d",
   "metadata": {},
   "source": [
    "**Hint 2: Name of variables in the model**"
   ]
  },
  {
   "cell_type": "markdown",
   "id": "2c034612-b384-4536-8372-0e803ee9946a",
   "metadata": {},
   "source": [
    "To compute the marginal economic value of generating capacity, you need to use symbols:"
   ]
  },
  {
   "cell_type": "code",
   "execution_count": 17,
   "id": "e1708372-b927-40b3-ac9e-07f24bb8a38e",
   "metadata": {},
   "outputs": [
    {
     "data": {
      "text/plain": [
       "h  id \n",
       "1  id1    -0.000000\n",
       "   id2    -0.000000\n",
       "   id3    -0.000000\n",
       "   id4     3.189324\n",
       "2  id1     9.213361\n",
       "   id2     5.842570\n",
       "   id3    -0.000000\n",
       "   id4    12.402685\n",
       "3  id1    18.810676\n",
       "   id2    15.439886\n",
       "   id3     9.597315\n",
       "   id4    22.000000\n",
       "4  id1    -0.000000\n",
       "   id2    -0.000000\n",
       "   id3    -0.000000\n",
       "   id4     3.189324\n",
       "dtype: float64"
      ]
     },
     "execution_count": 17,
     "metadata": {},
     "output_type": "execute_result"
    }
   ],
   "source": [
    "ϑ_upper = - m.db['λ_Generation'].xs('u',level='_type') # this looks in the database 'm.db'\n",
    "γ = m.hourlyCapFactors # this is a 'property' of the model 'm'\n",
    "ϑ_upper"
   ]
  },
  {
   "cell_type": "code",
   "execution_count": 18,
   "id": "5538c05c-d420-47e1-844f-4ade7894ee3e",
   "metadata": {},
   "outputs": [
    {
     "data": {
      "text/plain": [
       "id   h\n",
       "id1  1     1.0\n",
       "     2     1.0\n",
       "     3     1.0\n",
       "     4     1.0\n",
       "id2  1     1.0\n",
       "     2     1.0\n",
       "     3     1.0\n",
       "     4     1.0\n",
       "id3  1     1.0\n",
       "     2     1.0\n",
       "     3     1.0\n",
       "     4     1.0\n",
       "id4  1     1.0\n",
       "     2     0.5\n",
       "     3    0.25\n",
       "     4     0.8\n",
       "dtype: object"
      ]
     },
     "execution_count": 18,
     "metadata": {},
     "output_type": "execute_result"
    }
   ],
   "source": [
    "γ"
   ]
  },
  {
   "cell_type": "markdown",
   "id": "a42f65cd-3ce7-403a-995d-559b521c99b9",
   "metadata": {
    "tags": []
   },
   "source": [
    "### Problem 4: The effect of wind generation and marginal economic value"
   ]
  },
  {
   "cell_type": "markdown",
   "id": "f7d448a2-0678-403f-84e2-90f249ad2f55",
   "metadata": {},
   "source": [
    "1. *Simulate an experiment where you gradually change wind generation capacity from 0 to 100.*\n",
    "2. *Display the effect on (i) The capacity factor (theoretical) and (ii) the marginal economic value of wind.*\n",
    "3. *Explain.*"
   ]
  },
  {
   "cell_type": "markdown",
   "id": "413b32c7-ed19-4e0e-a443-0437119aba0a",
   "metadata": {},
   "source": [
    "**Hint 1:** The capacity factor and marginal economic value of wind are automatically computed and added to the database when the model is solved; you can access them from:"
   ]
  },
  {
   "cell_type": "code",
   "execution_count": 19,
   "id": "3b921b5a-6778-4ba5-8db6-fd65d9585908",
   "metadata": {},
   "outputs": [
    {
     "data": {
      "text/plain": [
       "id\n",
       "id1      0.585\n",
       "id2        0.5\n",
       "id3    0.34375\n",
       "id4     0.6375\n",
       "dtype: object"
      ]
     },
     "execution_count": 19,
     "metadata": {},
     "output_type": "execute_result"
    }
   ],
   "source": [
    "m.db['capacityFactor']"
   ]
  },
  {
   "cell_type": "code",
   "execution_count": 20,
   "id": "c601a851-7c2f-4714-bb09-6a57add7914f",
   "metadata": {},
   "outputs": [
    {
     "data": {
      "text/plain": [
       "id\n",
       "id1    28.024037\n",
       "id2    21.282456\n",
       "id3     9.597315\n",
       "id4    17.442125\n",
       "dtype: object"
      ]
     },
     "execution_count": 20,
     "metadata": {},
     "output_type": "execute_result"
    }
   ],
   "source": [
    "m.db['marginalEconomicValue']"
   ]
  },
  {
   "cell_type": "markdown",
   "id": "5e63ef1e-6a34-406f-beb5-42e3646d9a9f",
   "metadata": {},
   "source": [
    "**Hint 2:** To simulate the experiment, use the solution to [Exercise 1](E1_SolutionGuide.ipynb), problem 4 as a guide."
   ]
  }
 ],
 "metadata": {
  "kernelspec": {
   "display_name": "Python 3 (ipykernel)",
   "language": "python",
   "name": "python3"
  },
  "language_info": {
   "codemirror_mode": {
    "name": "ipython",
    "version": 3
   },
   "file_extension": ".py",
   "mimetype": "text/x-python",
   "name": "python",
   "nbconvert_exporter": "python",
   "pygments_lexer": "ipython3",
   "version": "3.9.7"
  }
 },
 "nbformat": 4,
 "nbformat_minor": 5
}
