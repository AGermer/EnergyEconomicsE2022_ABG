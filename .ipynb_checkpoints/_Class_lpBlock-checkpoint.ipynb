{
 "cells": [
  {
   "cell_type": "markdown",
   "id": "9d1a4bd6-bbda-401a-9ec0-71aa63fc2eee",
   "metadata": {},
   "source": [
    "*Load packages and data:*"
   ]
  },
  {
   "cell_type": "code",
   "execution_count": 1,
   "id": "89283e8a-0045-40d3-9d2d-f725f0636f38",
   "metadata": {},
   "outputs": [],
   "source": [
    "%run stdPackages.ipynb\n",
    "read = {'variables': ['Fundamentals', 'Load', 'Generators_Other'], \n",
    "        'variable2D': ['Generators_FuelMix'],\n",
    "        'maps': ['Generators_Categories']}\n",
    "db = dbFromWB(os.path.join(d['data'],'0_GlobalData.xlsx'), read)\n",
    "db.updateAlias(alias=[('BFt','BFt_alias')])\n",
    "readSets(db)\n",
    "db['mc'] = lpModels.mc(db)"
   ]
  },
  {
   "cell_type": "markdown",
   "id": "727f67b3-b4ef-4991-9680-7be3d872a65d",
   "metadata": {},
   "source": [
    "# The ```lpBlock``` class"
   ]
  },
  {
   "cell_type": "markdown",
   "id": "1b2b83e4-b538-4f40-a4e2-b9bfe2ad9b2d",
   "metadata": {},
   "source": [
    "The ```lpBlock``` class is used to define linear programming (**LP**) models for the ```scipy.optimize.linprog``` method. The highlights of the class is:\n",
    "1. Allows for symbols defined and constraints defined as ```pd.Series``` to be defined over sets ```pd.Index```.\n",
    "2. Allows for the user to split up the **LP** problem in sub-problems; the ```lbBlock``` combines sub-problems to full matrices/vectors checking for missing domains etc.\n",
    "3. Allows for fast implementation of complicated constraints by relying on ```alias``` methods for symbols and constraints (as used in *GAMS*)."
   ]
  },
  {
   "cell_type": "markdown",
   "id": "75235b2c-d58c-4953-bf44-37305b6628ba",
   "metadata": {},
   "source": [
    "## 1. Standard-form **LP** models:\n",
    "<a id='StandardForm'>"
   ]
  },
  {
   "cell_type": "markdown",
   "id": "a54e4a44-e6da-46a5-8a80-29eab3d0182c",
   "metadata": {},
   "source": [
    "The ```scipy.optimize.linprog``` solves the **LP** problem defined on the standard form:\n",
    "$$\\begin{align} \\tag{1}\n",
    "    &\\min_{x}\\mbox{ }c^T\\cdot x \\\\ \n",
    "    &A_{ub}\\times x \\leq b_{ub} \\\\ \n",
    "    &A_{eq}\\times x  = b_{eq} \\\\ \n",
    "    &l\\leq x\\leq u,\n",
    "\\end{align}$$\n",
    "where:\n",
    "* $c, x, l, u$ are vectors of length $N$,\n",
    "* $b_{eq}, b_{ub}$ are vectors of lengths $N_{eq}, N_{ub}$, \n",
    "* and $A_{eq}, A_{ub}$ are coefficient matrices of sizes $(N_{eq}\\times N)$ and $(N_{ub} \\times N)$ respectively.\n",
    "\n",
    "The solver takes inputs as ```np.arrays```, which means that we have to be careful with what order different variables and constraints are added to all symbols: The $n$'th element in $c$ represents the same element as the $n$'th elements in $l,u$ and the $n$'th column vectors in $A_{ub}, A_{eq}$. Thus, when solving a model with many different types of constraints and variables, the task of constructing suitable vectors / matrices becomes quite cumbersome. The main task of the ```lpBlock``` compiler is to make it easier to formulate this type of **LP** models."
   ]
  },
  {
   "cell_type": "markdown",
   "id": "ca98508d-4ab8-450e-bf4f-b57c55254ac6",
   "metadata": {},
   "source": [
    "### Model example\n",
    "<a id='example'>"
   ]
  },
  {
   "cell_type": "markdown",
   "id": "a04946f6-3d10-4ed8-a616-f418afaf2113",
   "metadata": {},
   "source": [
    "In the following, we will use the following simple linear model as example:\n",
    "$$\\begin{align} \\tag{2}\n",
    "    \\min_{E_i, B_f} SC &= \\sum_i^Nc_i E_i \\\\ \n",
    "                L &= \\sum_i E_i \\\\ \n",
    "               B_f&= \\sum_i\\mu_f^i E_i, && \\text{for }f=f_1,...,f_F\\\\\n",
    "               E_i&\\in[0,q_i], && \\text{for }i=1,...,N. \n",
    "\\end{align}$$\n",
    "\n",
    "This system of equations represents minimizing the system costs $(SC)$ of satisfying a given level of demand $(L)$ by supply $(E_i)$ from $N$ different sources at the cost $c_i$. Each producer can at most produce $q_i$. In producing $E_i$ the producer $i$ uses $\\mu_f^iE_i$ of fuel type $f$. The total use of fuel $B_f$ is computed by summing over all $i$ suppliers. \n",
    "\n",
    "We note that it is straightforward to leave out $B_f$ from the system and simply compute this having solved for $E_i$. Keeping the computation of $B_f$ in the simple helps highlighting features of the compiler."
   ]
  },
  {
   "cell_type": "markdown",
   "id": "7a325a41-52ce-419f-b847-0577bfabbef8",
   "metadata": {},
   "source": [
    "The relevant parameters for the model example is pre-loaded to the database ```db```. The syntax is slightly different here though:\n",
    "* Sets: $i$=```'id'``` and $f$ = ```'BFt'```.\n",
    "* Variables: $E_i$ = ```'Generation'```, $B_f$ = ```'FuelConsumption'```.\n",
    "* Parameters: $c_i$ = ```'mc'```, $L$=```'Load'```, $\\mu_f^i$ = ```'FuelMix'```, $q_i$ = ```'GeneratingCapacity'```."
   ]
  },
  {
   "cell_type": "markdown",
   "id": "1e1c69a0-f4d4-4fa8-a6a3-0f8967e7d532",
   "metadata": {},
   "source": [
    "## 2. Inputs to the ```lpBlock```"
   ]
  },
  {
   "cell_type": "markdown",
   "id": "ac54ac57-7382-4eb0-88d5-50fbf8cc1d7e",
   "metadata": {},
   "source": [
    "The class builds on five main inputs corresponding to each of the blocks outlined in the standard form approach above: ```('c','eq','ub','l','u')```. The blocks should be added with a specific syntax that is easiest to showcase using the [model example](#example):"
   ]
  },
  {
   "cell_type": "code",
   "execution_count": 2,
   "id": "7119a914-fc3b-4d2c-a140-f0af227e02c3",
   "metadata": {},
   "outputs": [],
   "source": [
    "block = lpCompiler.lpBlock()"
   ]
  },
  {
   "cell_type": "markdown",
   "id": "0903d15d-d8b2-42c1-a784-fb1580165c58",
   "metadata": {},
   "source": [
    "### 2.1. $c$-blocks"
   ]
  },
  {
   "cell_type": "markdown",
   "id": "a532cd85-666f-44dc-ab0c-560f58aba021",
   "metadata": {},
   "source": [
    "The $c$-block specifies the parameters $c^T$ in the [standard form](#StandardForm). In the model example, note that we solve for both $E$ and $B$. The coefficients are thus specified as:"
   ]
  },
  {
   "cell_type": "code",
   "execution_count": 3,
   "id": "5b044aef-5925-41e2-a2de-17cfd8c91d26",
   "metadata": {},
   "outputs": [],
   "source": [
    "c_E = db['mc'] # coefficients in c^T loaded onto vector of Ei's\n",
    "c_B = pd.Series(0, index = db['BFt']) # coefficients in c^T loaded onto vector of Bf's."
   ]
  },
  {
   "cell_type": "markdown",
   "id": "4efc3aaf-a681-411a-bfb3-a187fff96eb9",
   "metadata": {},
   "source": [
    "and added to the ```lpBlock``` using the syntax: The ```'variableName'``` identifies the relevant variable coefficients are loaded onto and ```'parameter'``` the coefficients that we use."
   ]
  },
  {
   "cell_type": "code",
   "execution_count": 4,
   "id": "91e77efb-3ff3-44a8-92e3-6f66006446d1",
   "metadata": {},
   "outputs": [],
   "source": [
    "block['c'] = [{'variableName': 'Generation', 'parameter': c_E}, \n",
    "              {'variableName': 'FuelConsumption', 'parameter': c_B}]"
   ]
  },
  {
   "cell_type": "markdown",
   "id": "0af5b048-d129-4c41-9834-fb07fce207ae",
   "metadata": {},
   "source": [
    "If we stopped here, the ```lpBlock``` would stack and sort the parameters, and return it in the appropriate np.array:"
   ]
  },
  {
   "cell_type": "code",
   "execution_count": 5,
   "id": "7e761200-e93a-4539-bdbd-614eee5f75ca",
   "metadata": {},
   "outputs": [
    {
     "data": {
      "text/plain": [
       "array([0, 0, 0, 0, 0, 0, 0, 0, 0, 0, 0, 0, 0, 0, 0, 11.872520789065591,\n",
       "       12.346413778840134, 12.193476419423797, 8.393216172041864,\n",
       "       5.0310677452878725, 23.44365590801896, 3.0, 3.0], dtype=object)"
      ]
     },
     "execution_count": 5,
     "metadata": {},
     "output_type": "execute_result"
    }
   ],
   "source": [
    "block()['c']"
   ]
  },
  {
   "cell_type": "markdown",
   "id": "869bb37c-d004-4888-a9f8-0a3af8b67ea9",
   "metadata": {},
   "source": [
    "#### Smart compiling:"
   ]
  },
  {
   "cell_type": "markdown",
   "id": "bf4b42bb-0152-478d-a9a7-d36e025d7cb6",
   "metadata": {},
   "source": [
    "Before we continue to the other types of blocks, let's highlight a couple of shortcuts that makes it easier to specify the model:\n",
    "* Specifying ```self.globalDomains:``` In this example, the coefficients on ```FuelConsumption``` are 0 across the entire set ```BFt```. If we add this to ```self.globalDomains```, the compiler automatically infers the vector of coefficients on ```FuelConsumption```.\n",
    "* Automatically filling in missing values: In this example, there are actually no coefficients needed on ```FuelConsumption``` to compute the objective function. One way to handle this is to tell the compiler that it should include a vector of zeros for ```FuelConsumption```. However, the compiler will automatically detect this, as long as the variable ```FuelConsumption``` is used in just one of the blocks. In this instance, the ```FuelConsumption``` variable is used in the equality constraint block ```'eq'```."
   ]
  },
  {
   "cell_type": "markdown",
   "id": "564a9c32-8ba9-463b-8129-af8f057beb7f",
   "metadata": {},
   "source": [
    "*Using ```self.globalDomains```:*"
   ]
  },
  {
   "cell_type": "code",
   "execution_count": 6,
   "id": "bb1e906c-ab71-461e-9fa6-2ac4720bba7c",
   "metadata": {},
   "outputs": [
    {
     "data": {
      "text/plain": [
       "array([0, 0, 0, 0, 0, 0, 0, 0, 0, 0, 0, 0, 0, 0, 0, 11.872520789065591,\n",
       "       12.346413778840134, 12.193476419423797, 8.393216172041864,\n",
       "       5.0310677452878725, 23.44365590801896, 3.0, 3.0], dtype=object)"
      ]
     },
     "execution_count": 6,
     "metadata": {},
     "output_type": "execute_result"
    }
   ],
   "source": [
    "block.globalDomains['FuelConsumption'] = db['BFt'] \n",
    "block['c'] = [{'variableName': 'Generation', 'parameter': c_E}, \n",
    "              {'variableName': 'FuelConsumption', 'parameter': None}] # Note: We can simply input 0 or None as the parameter; the compiler automatically returns the correct vector of coefficients.\n",
    "block()['c']"
   ]
  },
  {
   "cell_type": "markdown",
   "id": "603fa181-124a-4a9e-a99d-6a0c273575b0",
   "metadata": {},
   "source": [
    "*Automatic detection: This sets up the equality constraint that relies on 'FuelConsumption' (explanation of this syntax comes later in the notebook)*"
   ]
  },
  {
   "cell_type": "code",
   "execution_count": 7,
   "id": "cd43d45e-46e5-4a59-a044-f9301ffd32dc",
   "metadata": {},
   "outputs": [
    {
     "data": {
      "text/plain": [
       "array([0, 0, 0, 0, 0, 0, 0, 0, 0, 0, 0, 0, 0, 0, 0, 11.872520789065591,\n",
       "       12.346413778840134, 12.193476419423797, 8.393216172041864,\n",
       "       5.0310677452878725, 23.44365590801896, 3.0, 3.0], dtype=object)"
      ]
     },
     "execution_count": 7,
     "metadata": {},
     "output_type": "execute_result"
    }
   ],
   "source": [
    "block['c'] = [{'variableName': 'Generation', 'parameter': c_E}] # leave out the 'FuelConsumption' part entirely here; as long as it is used somewhere else, the compiler fills in zeros where it is needed.\n",
    "block['eq'] = [\n",
    "                {'constrName': 'eqFuelConsumption', 'b': pd.Series(0, index = db['BFt_alias']), \n",
    "                 'A': [{'variableName': 'Generation', 'parameter': rc_pd(db['FuelMix'], alias = {'BFt':'BFt_alias'})},\n",
    "                       {'variableName': 'FuelConsumption', 'parameter': pd.Series(-1, index = pd.MultiIndex.from_arrays([db['BFt'], db['BFt_alias']]))}\n",
    "                      ]\n",
    "                }\n",
    "               ]\n",
    "block()['c']"
   ]
  },
  {
   "cell_type": "markdown",
   "id": "499b992c-19b8-493d-a8c4-811d2c1a6585",
   "metadata": {},
   "source": [
    "### 2.2. $u$ and $l$-blocks"
   ]
  },
  {
   "cell_type": "markdown",
   "id": "c2763858-093b-4573-9bd2-b83c0e6fdcc5",
   "metadata": {},
   "source": [
    "The $u,l$-blocks specify the upper and lower bounds in the [standard form](#StandardForm). In the model example, the variable ```Generation``` has a lower bound of $0$ and an upper bound specified by the ```GeneratingCapacity``` variable. The variable ```FuelConsumption``` is not bounded. We specify this as follows:"
   ]
  },
  {
   "cell_type": "code",
   "execution_count": 8,
   "id": "d84bde42-425a-446b-910c-0c567757d969",
   "metadata": {},
   "outputs": [],
   "source": [
    "l_Generation = pd.Series(0, index = db['id'])\n",
    "u_Generation = db['GeneratingCapacity']\n",
    "l_FuelConsumption = pd.Series(-np.inf, index = db['BFt'])\n",
    "u_FuelConsumption = pd.Series(np.inf, index = db['BFt'])"
   ]
  },
  {
   "cell_type": "markdown",
   "id": "2740c66f-c7ae-4e51-a695-d17ae17f87fa",
   "metadata": {},
   "source": [
    "and add this to the ```lpBlock``` using a syntax equivalent to the $c$-blocks:"
   ]
  },
  {
   "cell_type": "code",
   "execution_count": 9,
   "id": "e5be70ba-9d91-444a-ad94-3fe889dd6f5c",
   "metadata": {},
   "outputs": [],
   "source": [
    "block['l'] = [{'variableName': 'Generation', 'parameter': l_Generation}, \n",
    "              {'variableName': 'FuelConsumption', 'parameter': l_FuelConsumption}]\n",
    "block['u'] = [{'variableName': 'Generation', 'parameter': u_Generation},\n",
    "              {'variableName': 'FuelConsumption', 'parameter': u_FuelConsumption}]"
   ]
  },
  {
   "cell_type": "markdown",
   "id": "e212a7e1-95b0-46d9-b302-9058c1a63bc0",
   "metadata": {},
   "source": [
    "```lpBlock``` stacks and sorts the parameters into the ```bounds``` parameter as a sequence of lower, upper bounds:"
   ]
  },
  {
   "cell_type": "code",
   "execution_count": 10,
   "id": "cec45ef8-5df9-4605-9fa9-5010e5761d8a",
   "metadata": {},
   "outputs": [
    {
     "data": {
      "text/plain": [
       "array([[-inf,  inf],\n",
       "       [-inf,  inf],\n",
       "       [-inf,  inf],\n",
       "       [-inf,  inf],\n",
       "       [-inf,  inf],\n",
       "       [-inf,  inf],\n",
       "       [-inf,  inf],\n",
       "       [-inf,  inf],\n",
       "       [-inf,  inf],\n",
       "       [-inf,  inf],\n",
       "       [-inf,  inf],\n",
       "       [-inf,  inf],\n",
       "       [-inf,  inf],\n",
       "       [-inf,  inf],\n",
       "       [-inf,  inf],\n",
       "       [  0.,  10.],\n",
       "       [  0.,  15.],\n",
       "       [  0.,  10.],\n",
       "       [  0.,  30.],\n",
       "       [  0.,   5.],\n",
       "       [  0.,   8.],\n",
       "       [  0.,  35.],\n",
       "       [  0.,  10.]])"
      ]
     },
     "execution_count": 10,
     "metadata": {},
     "output_type": "execute_result"
    }
   ],
   "source": [
    "block()['bounds']"
   ]
  },
  {
   "cell_type": "markdown",
   "id": "d3812a4b-2f21-40ba-96cd-1bedd9a7a09d",
   "metadata": {},
   "source": [
    "#### Smart compiling:"
   ]
  },
  {
   "cell_type": "markdown",
   "id": "1c7ecee5-2a42-4a09-8fde-d19c290ecdd8",
   "metadata": {},
   "source": [
    "We can use the same methods as outlined for the $c$-block to minimize the information we parse to the compiler: \n",
    "* ```self.globalDomains:``` If the domain of a variable is specified in the ```self.globalDomains``` any scalar values are automatically broadcasted to these domains. In this example, we can specify ```-np.inf``` and ```np.inf``` as the bounds on 'FuelConsumption', if we have added ```BFt``` to the global domains. Note that if we pass the value ```None```, the compiler default to using ```0``` for lower bounds, and ```np.inf``` for upper bounds. \n",
    "* Automatically filling in missing values: In this example, we can drop the upper bounds for ```FuelConsumption``` and lower bounds for ```Generation``` as we are using default values anyway. As long as the variables ```FuelConsumption``` and ```Generation``` are used somewhere in the model (e.g. in the 'eq' or 'c') blocks, we don't need to provide any information where default values suffices. "
   ]
  },
  {
   "cell_type": "markdown",
   "id": "5d347d55-a75b-4a92-97ce-f6a1ad83f06a",
   "metadata": {},
   "source": [
    "*Using ```self.globalDomains```:*"
   ]
  },
  {
   "cell_type": "code",
   "execution_count": 11,
   "id": "50ab12cf-03f5-4a0e-a642-62a1a2bc6512",
   "metadata": {},
   "outputs": [
    {
     "data": {
      "text/plain": [
       "array([[-inf,  nan],\n",
       "       [-inf,  nan],\n",
       "       [-inf,  nan],\n",
       "       [-inf,  nan],\n",
       "       [-inf,  nan],\n",
       "       [-inf,  nan],\n",
       "       [-inf,  nan],\n",
       "       [-inf,  nan],\n",
       "       [-inf,  nan],\n",
       "       [-inf,  nan],\n",
       "       [-inf,  nan],\n",
       "       [-inf,  nan],\n",
       "       [-inf,  nan],\n",
       "       [-inf,  nan],\n",
       "       [-inf,  nan],\n",
       "       [  0.,  10.],\n",
       "       [  0.,  15.],\n",
       "       [  0.,  10.],\n",
       "       [  0.,  30.],\n",
       "       [  0.,   5.],\n",
       "       [  0.,   8.],\n",
       "       [  0.,  35.],\n",
       "       [  0.,  10.]])"
      ]
     },
     "execution_count": 11,
     "metadata": {},
     "output_type": "execute_result"
    }
   ],
   "source": [
    "block.globalDomains.update({'FuelConsumption': db['BFt'], 'Generation': db['id']})\n",
    "block['l'] = [{'variableName': 'Generation', 'parameter': None}, # using None means that the compiler defaults to 0 for the lower bound. \n",
    "              {'variableName': 'FuelConsumption', 'parameter': -np.inf}]\n",
    "block['u'] = [{'variableName': 'Generation', 'parameter': u_Generation},\n",
    "              {'variableName': 'FuelConsumption', 'parameter': None}] # Using None means that the compiler defaults to np.inf for the upper bound.\n",
    "block()['bounds']"
   ]
  },
  {
   "cell_type": "markdown",
   "id": "d8890aa7-e5c2-43aa-ad87-341118e33419",
   "metadata": {},
   "source": [
    "*Automatic detection of missing values:*"
   ]
  },
  {
   "cell_type": "code",
   "execution_count": 12,
   "id": "108983b7-c43c-44cd-b3d9-813445672897",
   "metadata": {},
   "outputs": [
    {
     "data": {
      "text/plain": [
       "array([[-inf,  nan],\n",
       "       [-inf,  nan],\n",
       "       [-inf,  nan],\n",
       "       [-inf,  nan],\n",
       "       [-inf,  nan],\n",
       "       [-inf,  nan],\n",
       "       [-inf,  nan],\n",
       "       [-inf,  nan],\n",
       "       [-inf,  nan],\n",
       "       [-inf,  nan],\n",
       "       [-inf,  nan],\n",
       "       [-inf,  nan],\n",
       "       [-inf,  nan],\n",
       "       [-inf,  nan],\n",
       "       [-inf,  nan],\n",
       "       [  0.,  10.],\n",
       "       [  0.,  15.],\n",
       "       [  0.,  10.],\n",
       "       [  0.,  30.],\n",
       "       [  0.,   5.],\n",
       "       [  0.,   8.],\n",
       "       [  0.,  35.],\n",
       "       [  0.,  10.]])"
      ]
     },
     "execution_count": 12,
     "metadata": {},
     "output_type": "execute_result"
    }
   ],
   "source": [
    "block['l'] = [{'variableName': 'FuelConsumption', 'parameter': -np.inf}]\n",
    "block['u'] = [{'variableName': 'Generation', 'parameter': u_Generation}]\n",
    "block()['bounds']"
   ]
  },
  {
   "cell_type": "markdown",
   "id": "dc4f274f-9643-4d8d-8386-c9f91dccf49e",
   "metadata": {},
   "source": [
    "### 2.3. $eq$ and $ub$ blocks:"
   ]
  },
  {
   "cell_type": "markdown",
   "id": "b7c2ca72-9689-4cea-aa3f-211a3b3b7e70",
   "metadata": {},
   "source": [
    "The final and most complicated blocks to add are the constraint blocks $eq$ (equality) and $ub$ (inequality, upper bound). To specify these, we need to add both specification of constants ($b_e, b_{ub}$) and the coefficient matrices $A_{eq}, A_{ub}$. In the model example used here, we only deal with equality constraints, but $ub$ constraints are handled equivalently. Note that, mathematically, we are setting up the system of equations:\n",
    "\n",
    "$$\\begin{align}\n",
    "        \\underbrace{\\begin{pmatrix} 1, & \\cdots & 1, & 0, & \\cdots & 0 \\\\\n",
    "        \\mu_1^1, & \\cdots & \\mu_1^N & -1, & \\cdots & 0 \\\\ \n",
    "        \\vdots & \\vdots & \\vdots & \\vdots & \\vdots & \\vdots \\\\ \\mu_F^1, & \\cdots & \\mu_F^N, & 0, & \\cdots & -1\n",
    "        \\end{pmatrix}}_{\\equiv A_{eq}} \\times \\underbrace{\\begin{pmatrix} E_1 \\\\ \\vdots \\\\ E_N \\\\ B_1 \\\\ \\vdots \\\\ B_F \\end{pmatrix}}_{=x} =\n",
    "        \\underbrace{\\begin{pmatrix} L \\\\ 0 \\\\ \\vdots \\\\ 0\\end{pmatrix}}_{b_{eq}} \\tag{3}\n",
    "\\end{align}$$\n",
    "\n",
    "We refer to the first constraint as the ```'equilibrium'``` constraint $\\sum_i E_i = L$, and the next $F$ constraints as ```'eqFuelConsumption'``` constraint (note: Try not to use the exact same names as parameters/variables used in the model)."
   ]
  },
  {
   "cell_type": "markdown",
   "id": "565b0daf-0c4f-4cfe-8499-c3f7a6aa7f44",
   "metadata": {},
   "source": [
    "#### $b$ coefficients"
   ]
  },
  {
   "cell_type": "markdown",
   "id": "a3aaa256-7a1c-43c9-870e-0110ed7a3e47",
   "metadata": {},
   "source": [
    "For the ```equilibrium``` constraint there is a single constraint, namely the ```Load``` variable:"
   ]
  },
  {
   "cell_type": "code",
   "execution_count": 13,
   "id": "a88c58b8-2086-4797-bdea-854e48b1836f",
   "metadata": {},
   "outputs": [],
   "source": [
    "b_equilibrium = db['Load']"
   ]
  },
  {
   "cell_type": "markdown",
   "id": "3591b1e1-b78a-47c2-a389-50b29bfaddd8",
   "metadata": {},
   "source": [
    "For the ```eqFuelConsumption``` constraint, however, the situation is slightly more complicated: The constraint is $0$ repeated for all fuel types (```BFt```). However, the index ```BFt``` is used to indicate the set of variables on the left-hand side in equation (3). To indicate that the **constraint set** is separate from the **variable set**, we use the *alias* for ```BFt``` denoted ```BFt_alias```; an alias contains the same set elements as the aliased set, but with its own identifier (name):"
   ]
  },
  {
   "cell_type": "code",
   "execution_count": 14,
   "id": "67c4a929-0ac5-42d9-b17c-59d18f3ec9a0",
   "metadata": {},
   "outputs": [],
   "source": [
    "b_eqFuelConsumption = pd.Series(0, index = db['BFt_alias'])"
   ]
  },
  {
   "cell_type": "markdown",
   "id": "f2647996-54c5-4c7f-990f-9aa58982c23e",
   "metadata": {},
   "source": [
    "We add the constraints using the syntax:"
   ]
  },
  {
   "cell_type": "code",
   "execution_count": 15,
   "id": "e9676565-b999-44ed-b96f-cf1973ba99ba",
   "metadata": {},
   "outputs": [],
   "source": [
    "block = lpCompiler.lpBlock()\n",
    "block['eq'] = [{'constrName': 'eqFuelConsumption', 'b': b_eqFuelConsumption},\n",
    "               {'constrName': 'equilibrium', 'b': b_equilibrium}]"
   ]
  },
  {
   "cell_type": "markdown",
   "id": "984e3c11-377a-4008-aa6b-79e8fbfd6524",
   "metadata": {},
   "source": [
    "#### $A$ matrix coefficients"
   ]
  },
  {
   "cell_type": "markdown",
   "id": "6aa04b74-3e24-44dd-8b50-8eeaf31919a8",
   "metadata": {},
   "source": [
    "For the ```equilibrium``` constraint, we need to add the vector of ones for the variable ```Generation```, and zeros for ```FuelConsumption```:"
   ]
  },
  {
   "cell_type": "code",
   "execution_count": 16,
   "id": "b986367c-0c1e-4b3e-af21-738bf6e71e52",
   "metadata": {},
   "outputs": [],
   "source": [
    "A_equilibrium_Generation = pd.Series(1, index = db['id'])\n",
    "A_equilibrium_FuelConsumption = pd.Series(0, index = db['BFt'])"
   ]
  },
  {
   "cell_type": "markdown",
   "id": "0f7032f6-c3c1-4be7-b3d2-2aa58535acb8",
   "metadata": {},
   "source": [
    "We add the coefficients using the syntax:"
   ]
  },
  {
   "cell_type": "code",
   "execution_count": 17,
   "id": "1ea8fb13-90a9-45b0-8034-78ead50fce87",
   "metadata": {},
   "outputs": [],
   "source": [
    "block['eq'] += [{'constrName': 'equilibrium', 'A': [{'variableName': 'Generation', 'parameter': A_equilibrium_Generation},\n",
    "                                                    {'variableName': 'FuelConsumption', 'parameter': A_equilibrium_FuelConsumption}]}]"
   ]
  },
  {
   "cell_type": "markdown",
   "id": "0e22d111-33b7-42f2-a575-3394074d869a",
   "metadata": {},
   "source": [
    "For the ```eqFuelConsumption``` constraint, we add a matrix of ```FuelMix``` ($\\mu_f^i$) for ```Generation``` and a diagonal matrix of $-1$ for ```FuelConsumption```. Importantly, recall that the ```Generation``` variable is only defined over ```id```, whereas the constraint is defined over the alias ```BFt_alias```. Thus, the matrix of fuel mix coefficients are defined over ```[BFt_alias, id]```:"
   ]
  },
  {
   "cell_type": "code",
   "execution_count": 18,
   "id": "f6f5ed00-83bb-482e-b0da-e63fc58ab5e2",
   "metadata": {},
   "outputs": [],
   "source": [
    "A_eqFuelConsumption_Generation = rc_pd(db['FuelMix'], alias = {'BFt': 'BFt_alias'})"
   ]
  },
  {
   "cell_type": "markdown",
   "id": "a1451a33-f03e-4a25-8579-69a6f2bbdc46",
   "metadata": {},
   "source": [
    "Similarly, to create the full matrix for the variable ```FuelConsumption```, we need to create a diagonal matrix of $-1$:"
   ]
  },
  {
   "cell_type": "code",
   "execution_count": 19,
   "id": "490e5d59-f60a-448a-b056-5ed7e5d8dbdb",
   "metadata": {},
   "outputs": [],
   "source": [
    "x = np.diag([-1]*len(db['BFt']))"
   ]
  },
  {
   "cell_type": "markdown",
   "id": "d31ddf92-8f3f-4bbe-925b-755445754d79",
   "metadata": {},
   "source": [
    "and then stack it as a pandas series defined over ```[BFt, BFt_alias]```:"
   ]
  },
  {
   "cell_type": "code",
   "execution_count": 20,
   "id": "9d7d3e4e-2678-4ce2-9bca-e4615f2787d8",
   "metadata": {},
   "outputs": [],
   "source": [
    "A_eqFuelConsumption_FuelConsumption = pd.Series(np.ndarray.flatten(np.stack(x)), index = pd.MultiIndex.from_product([db['BFt'], db['BFt_alias']]))"
   ]
  },
  {
   "cell_type": "markdown",
   "id": "97fac4d5-5c08-493a-95ea-e95156ca6dc5",
   "metadata": {},
   "source": [
    "We add the coefficients using the syntax:"
   ]
  },
  {
   "cell_type": "code",
   "execution_count": 21,
   "id": "41d4afe6-fb26-4489-8367-bae3e560e0d2",
   "metadata": {},
   "outputs": [],
   "source": [
    "block['eq'] += [\n",
    "                {'constrName': 'eqFuelConsumption', 'A': [{'variableName': 'Generation', 'parameter': A_eqFuelConsumption_Generation},\n",
    "                                                          {'variableName': 'FuelConsumption', 'parameter': A_eqFuelConsumption_FuelConsumption}\n",
    "                                                         ]\n",
    "                }\n",
    "               ]"
   ]
  },
  {
   "cell_type": "markdown",
   "id": "8e0bb34b-ce72-4399-8584-4bb948edb7af",
   "metadata": {},
   "source": [
    "The results are a matrix $A_{eq}$ and a vector $b_{eq}$ of dimensions:"
   ]
  },
  {
   "cell_type": "code",
   "execution_count": 22,
   "id": "78089291-6c72-4b09-a9e2-71c45e0d689f",
   "metadata": {},
   "outputs": [
    {
     "data": {
      "text/plain": [
       "((16, 23), (16,))"
      ]
     },
     "execution_count": 22,
     "metadata": {},
     "output_type": "execute_result"
    }
   ],
   "source": [
    "block()['A_eq'].shape, block()['b_eq'].shape"
   ]
  },
  {
   "cell_type": "markdown",
   "id": "1a21f818-7664-439f-b4b8-b49b7a8a2f70",
   "metadata": {
    "tags": []
   },
   "source": [
    "#### Smart compiling:"
   ]
  },
  {
   "cell_type": "markdown",
   "id": "4b25cc9e-1d78-4eaf-a255-6836f3767c89",
   "metadata": {},
   "source": [
    "We can use the same methods as outlined for the other types of blocks, and a few extra ones, to minimize the information we give to the compiler\n",
    "* ```self.globalDomains:``` If the domain of a variable is specified in the ```self.globalDomains``` any scalar values are automatically broadcasted to these domains. In this case, for instance, we can specify that the domain of the constraint ```'eqFuelConsumption'``` is ```BFt_alias```, and set ```b=None```.\n",
    "* Automatically filling in missing values: In this example, we don't have to specify that the constraint ```eqFuelConsumption``` has a matrix of zeros for the variable ```FuelConsumption```. Similarly, we do not have to create a full diagonal matrix to specify how the variable ```Generation``` is used in the constraint ```eqFuelConsumption```, we just have to add the values that are non-zero."
   ]
  },
  {
   "cell_type": "markdown",
   "id": "bd135cf7-08d1-43c1-95bd-c33366b9a9a5",
   "metadata": {},
   "source": [
    "Using the default values a bit more actively, we get the same results by specifying:"
   ]
  },
  {
   "cell_type": "code",
   "execution_count": 23,
   "id": "87bb1a31-963f-4f7a-90b4-1a0451345278",
   "metadata": {},
   "outputs": [],
   "source": [
    "block = lpCompiler.lpBlock()\n",
    "block.globalDomains.update({'eqFuelConsumption': db['BFt_alias'], 'Generation': db['id']})\n",
    "block['eq'] = [{'constrName': 'eqFuelConsumption', 'b': None}, # use globalDomains to specify 'b' parameter\n",
    "               {'constrName': 'equilibrium', 'b': db['Load']},\n",
    "               {'constrName': 'eqFuelConsumption', 'A': [{'variableName': 'FuelConsumption', 'parameter': pd.Series(-1, index = pd.MultiIndex.from_arrays([db['BFt'], db['BFt_alias']]))},\n",
    "                                                         {'variableName': 'Generation', 'parameter': rc_pd(db['FuelMix'], alias = {'BFt': 'BFt_alias'})}\n",
    "                                                        ]},\n",
    "               {'constrName': 'equilibrium', 'A': [{'variableName': 'Generation', 'parameter': 1}]}\n",
    "              ]"
   ]
  },
  {
   "cell_type": "markdown",
   "id": "e0f08d04-b2d8-4c58-a903-e162254b4419",
   "metadata": {},
   "source": [
    "The results are a matrix $A_{eq}$ and a vector $b_{eq}$ of dimensions:"
   ]
  },
  {
   "cell_type": "code",
   "execution_count": 24,
   "id": "c6e7392b-2b3a-435e-bb90-f0a08303f6d5",
   "metadata": {},
   "outputs": [
    {
     "data": {
      "text/plain": [
       "((16, 23), (16,))"
      ]
     },
     "execution_count": 24,
     "metadata": {},
     "output_type": "execute_result"
    }
   ],
   "source": [
    "block()['A_eq'].shape, block()['b_eq'].shape"
   ]
  },
  {
   "cell_type": "markdown",
   "id": "b3e22f11-ddb4-4c9d-a202-b8da9373d3b7",
   "metadata": {},
   "source": [
    "### 2.4. The full model"
   ]
  },
  {
   "cell_type": "markdown",
   "id": "473e940f-56ba-43ff-ab1f-0966303686e8",
   "metadata": {},
   "source": [
    "Specifying the model with minimal amount of information:"
   ]
  },
  {
   "cell_type": "code",
   "execution_count": 25,
   "id": "a94ddfa0-c040-4b54-9fc3-633af33ef8d7",
   "metadata": {},
   "outputs": [],
   "source": [
    "block = lpCompiler.lpBlock(globalDomains = {'Generation': db['id'], 'FuelConsumption': db['BFt'], 'eqFuelConsumption': db['BFt_alias']})\n",
    "block['c'] = [{'variableName': 'Generation', 'parameter': db['mc']}] \n",
    "block['l'] = [{'variableName': 'FuelConsumption', 'parameter': -np.inf}]\n",
    "block['u'] = [{'variableName': 'Generation', 'parameter': db['GeneratingCapacity']}]\n",
    "block['eq']= [{'constrName': 'equilibrium', 'b': db['Load'], 'A': [{'variableName': 'Generation', 'parameter': 1}]},\n",
    "              {'constrName': 'eqFuelConsumption', 'b': None, 'A': [{'variableName': 'Generation', 'parameter': rc_pd(db['FuelMix'], alias={'BFt':'BFt_alias'})},\n",
    "                                                                   {'variableName': 'FuelConsumption', 'parameter': pd.Series(-1, index = pd.MultiIndex.from_arrays([db['BFt'], db['BFt_alias']]))}\n",
    "                                                                  ]}\n",
    "             ]"
   ]
  },
  {
   "cell_type": "markdown",
   "id": "fe8b0ae7-4eb3-487f-a944-4fc6ab259651",
   "metadata": {},
   "source": [
    "The ```self.__call__``` method compiles the model and returns arrays that can be used in the ```scipy.optimize.linprog``` solver:"
   ]
  },
  {
   "cell_type": "code",
   "execution_count": 26,
   "id": "6c5cc279-be99-4426-8825-57ae32fffcca",
   "metadata": {},
   "outputs": [],
   "source": [
    "sol = optimize.linprog(**block())"
   ]
  },
  {
   "cell_type": "markdown",
   "id": "d77fc423-485c-461a-806e-a83b99e472e0",
   "metadata": {},
   "source": [
    "## 3. Repeated observations"
   ]
  },
  {
   "cell_type": "markdown",
   "id": "2e28a565-542f-45e1-88d3-c7ef84c96092",
   "metadata": {},
   "source": [
    "As the previous section has outlined, all blocks are specified as ```lists``` (or iterators). Each element in the blocks is a dictionary that is either defined by a variable (```variableName```) or a constraint (```constrName```). If the same variable or constraint is added more than once, the following default behavior is used:\n",
    "* In $c$-blocks: If the same variable is added more than one, the two entries are **added**. The idea is that the user can build the $c^T$ vector in the standard form as a sum of components.\n",
    "* In $u,l$-blocks: If the same variable is constrained by more than one entry, the most stringent boundary is used. For the upper bound, this means that the compiler **only keeps the minimum**  and for the upper bound it **only keeps the maximum**.\n",
    "* In $eq,ub$-blocks: Similar logic as $c$ blocks is applied. That means that $A,b$ can be constructed as sums of different inputs."
   ]
  },
  {
   "cell_type": "markdown",
   "id": "7362f4d9-9831-4756-88c6-7f1c5d493ff3",
   "metadata": {},
   "source": [
    "*Multiple $c$-entries: This adds 1 to all marginal costs in generation*"
   ]
  },
  {
   "cell_type": "code",
   "execution_count": 27,
   "id": "6bb3b4d7-6120-49be-8cd9-5a334be68c60",
   "metadata": {},
   "outputs": [
    {
     "data": {
      "text/plain": [
       "array([0, 0, 0, 0, 0, 0, 0, 0, 0, 0, 0, 0, 0, 0, 0, 1.0, 1.0, 1.0, 1.0,\n",
       "       1.0, 1.0, 1.0, 1.0], dtype=object)"
      ]
     },
     "execution_count": 27,
     "metadata": {},
     "output_type": "execute_result"
    }
   ],
   "source": [
    "c_before = block()['c']\n",
    "block['c'] = [{'variableName': 'Generation', 'parameter': db['mc']},\n",
    "              {'variableName': 'Generation', 'parameter': 1}]\n",
    "block()['c']-c_before #"
   ]
  },
  {
   "cell_type": "markdown",
   "id": "b2d0273a-21bd-4e50-ba07-6d927b2aeaa7",
   "metadata": {},
   "source": [
    "*Multiple lower bound constraints: Set the minimum to 1 and then 2:*"
   ]
  },
  {
   "cell_type": "code",
   "execution_count": 28,
   "id": "9b9130b8-5660-473b-ba0a-64d8fc4b0e36",
   "metadata": {},
   "outputs": [
    {
     "data": {
      "text/plain": [
       "array([[-inf,  nan],\n",
       "       [-inf,  nan],\n",
       "       [-inf,  nan],\n",
       "       [-inf,  nan],\n",
       "       [-inf,  nan],\n",
       "       [-inf,  nan],\n",
       "       [-inf,  nan],\n",
       "       [-inf,  nan],\n",
       "       [-inf,  nan],\n",
       "       [-inf,  nan],\n",
       "       [-inf,  nan],\n",
       "       [-inf,  nan],\n",
       "       [-inf,  nan],\n",
       "       [-inf,  nan],\n",
       "       [-inf,  nan],\n",
       "       [  2.,  10.],\n",
       "       [  2.,  15.],\n",
       "       [  2.,  10.],\n",
       "       [  2.,  30.],\n",
       "       [  2.,   5.],\n",
       "       [  2.,   8.],\n",
       "       [  2.,  35.],\n",
       "       [  2.,  10.]])"
      ]
     },
     "execution_count": 28,
     "metadata": {},
     "output_type": "execute_result"
    }
   ],
   "source": [
    "block['l'] += [{'variableName': 'Generation', 'parameter': 1},\n",
    "               {'variableName': 'Generation', 'parameter': 2}] # set the limit to 2, but only for the first two entries in 'id' set.\n",
    "block()['bounds']"
   ]
  },
  {
   "cell_type": "markdown",
   "id": "9f3a6367-3ea6-4f20-9c97-ce90a45185dc",
   "metadata": {},
   "source": [
    "*Multiple upper bound constraints: Set upper bound 50 for all. Then set it to 100. The effective limit will be 50:*"
   ]
  },
  {
   "cell_type": "code",
   "execution_count": 29,
   "id": "ff27ebc2-e970-4353-94e2-428787a0dc6a",
   "metadata": {},
   "outputs": [
    {
     "data": {
      "text/plain": [
       "array([[-inf,  nan],\n",
       "       [-inf,  nan],\n",
       "       [-inf,  nan],\n",
       "       [-inf,  nan],\n",
       "       [-inf,  nan],\n",
       "       [-inf,  nan],\n",
       "       [-inf,  nan],\n",
       "       [-inf,  nan],\n",
       "       [-inf,  nan],\n",
       "       [-inf,  nan],\n",
       "       [-inf,  nan],\n",
       "       [-inf,  nan],\n",
       "       [-inf,  nan],\n",
       "       [-inf,  nan],\n",
       "       [-inf,  nan],\n",
       "       [  2.,  50.],\n",
       "       [  2.,  50.],\n",
       "       [  2.,  50.],\n",
       "       [  2.,  50.],\n",
       "       [  2.,  50.],\n",
       "       [  2.,  50.],\n",
       "       [  2.,  50.],\n",
       "       [  2.,  50.]])"
      ]
     },
     "execution_count": 29,
     "metadata": {},
     "output_type": "execute_result"
    }
   ],
   "source": [
    "block['u'] = [{'variableName': 'Generation', 'parameter': 50},\n",
    "              {'variableName': 'Generation', 'parameter': 100}] # set the limit to 2, but only for the first two entries in 'id' set.\n",
    "block()['bounds']"
   ]
  },
  {
   "cell_type": "markdown",
   "id": "6130acea-818b-48f1-9729-62128342ec89",
   "metadata": {},
   "source": [
    "Get indices for $x$-vector:"
   ]
  },
  {
   "cell_type": "code",
   "execution_count": 30,
   "id": "5c928f64-0450-421a-a51a-a7afc4b44184",
   "metadata": {},
   "outputs": [
    {
     "data": {
      "text/plain": [
       "MultiIndex([('FuelConsumption',      'BioOil'),\n",
       "            ('FuelConsumption',      'Biogas'),\n",
       "            ('FuelConsumption',        'Coal'),\n",
       "            ('FuelConsumption',     'Fueloil'),\n",
       "            ('FuelConsumption',      'Gasoil'),\n",
       "            ('FuelConsumption',    'Hydrogen'),\n",
       "            ('FuelConsumption',     'Lignite'),\n",
       "            ('FuelConsumption',      'NatGas'),\n",
       "            ('FuelConsumption',        'Peat'),\n",
       "            ('FuelConsumption',       'Straw'),\n",
       "            ('FuelConsumption',     'Uranium'),\n",
       "            ('FuelConsumption',       'Waste'),\n",
       "            ('FuelConsumption',   'WoodChips'),\n",
       "            ('FuelConsumption', 'WoodPellets'),\n",
       "            ('FuelConsumption',   'WoodWaste'),\n",
       "            (     'Generation',         'id1'),\n",
       "            (     'Generation',         'id2'),\n",
       "            (     'Generation',         'id3'),\n",
       "            (     'Generation',         'id4'),\n",
       "            (     'Generation',         'id5'),\n",
       "            (     'Generation',         'id6'),\n",
       "            (     'Generation',         'id7'),\n",
       "            (     'Generation',         'id8')],\n",
       "           names=['_vsymbol', '_vindex'])"
      ]
     },
     "execution_count": 30,
     "metadata": {},
     "output_type": "execute_result"
    }
   ],
   "source": [
    "block.lp_solutionIndex"
   ]
  }
 ],
 "metadata": {
  "kernelspec": {
   "display_name": "Python 3 (ipykernel)",
   "language": "python",
   "name": "python3"
  },
  "language_info": {
   "codemirror_mode": {
    "name": "ipython",
    "version": 3
   },
   "file_extension": ".py",
   "mimetype": "text/x-python",
   "name": "python",
   "nbconvert_exporter": "python",
   "pygments_lexer": "ipython3",
   "version": "3.9.7"
  }
 },
 "nbformat": 4,
 "nbformat_minor": 5
}
