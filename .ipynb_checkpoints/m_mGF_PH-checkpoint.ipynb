{
 "cells": [
  {
   "cell_type": "code",
   "execution_count": 1,
   "id": "f95fcbf1-3a67-407c-996a-a269596c0cd6",
   "metadata": {},
   "outputs": [],
   "source": [
    "%run stdPackages.ipynb\n",
    "read = {'variables': ['Fundamentals', 'LoadVariables', 'TransmissionLines', 'GeneratorsVariables'],\n",
    "        'maps': ['LoadMaps','GeneratorsMaps'],\n",
    "        'variable2D': ['HourlyVariation'],\n",
    "        'scalars': ['Scalars']}\n",
    "db = dbFromWB(os.path.join(d['data'],'mGF_PH.xlsx'), read)\n",
    "readSets(db)"
   ]
  },
  {
   "cell_type": "markdown",
   "id": "171b9af1-9fd0-4812-85fc-3e940c3f0a22",
   "metadata": {
    "tags": []
   },
   "source": [
    "# The ```mGF_PH``` model"
   ]
  },
  {
   "cell_type": "code",
   "execution_count": 2,
   "id": "34170edd-bbc3-4a95-869a-5f3e2e5e4fb2",
   "metadata": {},
   "outputs": [
    {
     "name": "stdout",
     "output_type": "stream",
     "text": [
      "Solution status 0: Optimization terminated successfully. (HiGHS Status 7: Optimal)\n"
     ]
    }
   ],
   "source": [
    "m = mGF_PH.mSimple(db)\n",
    "m.solve()"
   ]
  },
  {
   "cell_type": "markdown",
   "id": "12489756-1357-4be3-b931-fb4feb1271f0",
   "metadata": {},
   "source": [
    "With multiple consumers:"
   ]
  },
  {
   "cell_type": "code",
   "execution_count": 3,
   "id": "bd58d17a-de8d-4313-a6ab-4869fc812890",
   "metadata": {},
   "outputs": [],
   "source": [
    "mc = mGF_PH.mMultipleConsumers(db)\n",
    "mc.solve()"
   ]
  }
 ],
 "metadata": {
  "kernelspec": {
   "display_name": "Python 3 (ipykernel)",
   "language": "python",
   "name": "python3"
  },
  "language_info": {
   "codemirror_mode": {
    "name": "ipython",
    "version": 3
   },
   "file_extension": ".py",
   "mimetype": "text/x-python",
   "name": "python",
   "nbconvert_exporter": "python",
   "pygments_lexer": "ipython3",
   "version": "3.9.7"
  }
 },
 "nbformat": 4,
 "nbformat_minor": 5
}
