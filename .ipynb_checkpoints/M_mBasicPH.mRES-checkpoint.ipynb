{
 "cells": [
  {
   "cell_type": "code",
   "execution_count": 1,
   "id": "0c20f326-1057-442d-ae87-1b238a244e4c",
   "metadata": {},
   "outputs": [],
   "source": [
    "%run stdPackages.ipynb\n",
    "read = {'variables': ['Fundamentals', 'LoadVariables', 'TransmissionLines', 'GeneratorsVariables','Regulation'],\n",
    "        'maps': ['LoadMaps','GeneratorsMaps'],\n",
    "        'variable2D': ['HourlyVariation'],\n",
    "        'scalars': ['Scalars']}\n",
    "db = dbFromWB(os.path.join(d['data'],'E4.xlsx'), read)\n",
    "readSets(db)"
   ]
  },
  {
   "cell_type": "markdown",
   "id": "ae3c49cb-3c9b-44bd-afdd-9213e6b50cda",
   "metadata": {
    "tags": []
   },
   "source": [
    "# The ```mBasicPH.mRES``` model"
   ]
  },
  {
   "cell_type": "code",
   "execution_count": 2,
   "id": "e41b5985-1652-4370-b026-176df8229574",
   "metadata": {},
   "outputs": [],
   "source": [
    "m = mBasicPH.mRES(db)"
   ]
  },
  {
   "cell_type": "markdown",
   "id": "0bf58b33-08cc-49fd-933d-9c396ac1a8dc",
   "metadata": {
    "tags": []
   },
   "source": [
    "### **The model**"
   ]
  },
  {
   "cell_type": "markdown",
   "id": "6cc7457e-acf5-480a-873f-caabf2c9829a",
   "metadata": {},
   "source": [
    "The model is an extension to the [mBasicPH](M_mBasicPH.ipynb) model. The difference is that the share of electricity generation that is clean/green has a lower bound. We can enforce two types of: One common, or one for each geographic area."
   ]
  },
  {
   "cell_type": "markdown",
   "id": "77e43caa-8554-4fdc-8ff1-14accbecc544",
   "metadata": {},
   "source": [
    "**With one common cap:**"
   ]
  },
  {
   "cell_type": "markdown",
   "id": "ed13d063-98f1-4a93-a7ea-e31bf0aa9e73",
   "metadata": {},
   "source": [
    "$$\\begin{align}\n",
    "    \\sum_{id\\in \\text{cleanIds} }\\sum_{h}\\left(E_{id, h}+H_{id,h}\\right) \\geq& \\overline{\\text{RESCap}} \\cdot \\sum_{h,g} \\left(D_{h,g}^E+D_{h,g}^H \\right)\\tag{1}\n",
    "\\end{align}$$"
   ]
  },
  {
   "cell_type": "markdown",
   "id": "89fd5be5-a37d-4972-9442-0a89b4f22090",
   "metadata": {},
   "source": [
    "Solve with common cap:"
   ]
  },
  {
   "cell_type": "code",
   "execution_count": 3,
   "id": "0b019b53-acad-45ac-8553-4e109bdf38d4",
   "metadata": {},
   "outputs": [
    {
     "name": "stdout",
     "output_type": "stream",
     "text": [
      "Solution status 0: Optimization terminated successfully.\n"
     ]
    }
   ],
   "source": [
    "m = mBasicPH.mRES(db,commonCap = True)\n",
    "m.solve()"
   ]
  },
  {
   "cell_type": "markdown",
   "id": "19525809-527a-4da6-9aaf-18a8af6bfc3a",
   "metadata": {},
   "source": [
    "**With geograpic-specific caps:**"
   ]
  },
  {
   "cell_type": "markdown",
   "id": "204f5257-2aa6-421c-9d29-69df4fa0acb7",
   "metadata": {},
   "source": [
    "In this case the following constraint is imposed for each area $g$:"
   ]
  },
  {
   "cell_type": "markdown",
   "id": "19f6b2f6-5f64-4b84-80f2-a3d6491af28c",
   "metadata": {},
   "source": [
    "$$\\begin{align}\n",
    "    \\overline{RESCap}_g \\cdot \\sum_h D_h^g - \\sum_{id\\in \\text{cleanIds} \\text{ and }id\\in\\mathcal{I}_g} \\sum_h E_{id,h} \\leq 0.\n",
    "\\end{align}$$"
   ]
  },
  {
   "cell_type": "markdown",
   "id": "3d1828be-d7c5-407c-b432-773510e7695c",
   "metadata": {},
   "source": [
    "Solve with geographic-specific caps:"
   ]
  },
  {
   "cell_type": "code",
   "execution_count": 4,
   "id": "8fe711bb-5682-40be-b57a-15c939ade611",
   "metadata": {},
   "outputs": [
    {
     "name": "stdout",
     "output_type": "stream",
     "text": [
      "Solution status 0: Optimization terminated successfully.\n"
     ]
    }
   ],
   "source": [
    "m.commonCap = False\n",
    "m.solve()"
   ]
  }
 ],
 "metadata": {
  "kernelspec": {
   "display_name": "Python 3 (ipykernel)",
   "language": "python",
   "name": "python3"
  },
  "language_info": {
   "codemirror_mode": {
    "name": "ipython",
    "version": 3
   },
   "file_extension": ".py",
   "mimetype": "text/x-python",
   "name": "python",
   "nbconvert_exporter": "python",
   "pygments_lexer": "ipython3",
   "version": "3.9.7"
  }
 },
 "nbformat": 4,
 "nbformat_minor": 5
}
