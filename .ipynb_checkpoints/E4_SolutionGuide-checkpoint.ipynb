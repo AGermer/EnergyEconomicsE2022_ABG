{
 "cells": [
  {
   "cell_type": "markdown",
   "id": "9c23ee6f-9884-4165-bf3c-004fe63a5c29",
   "metadata": {},
   "source": [
    "*Load packages and data:*"
   ]
  },
  {
   "cell_type": "code",
   "execution_count": 1,
   "id": "20f1c45a-b0c0-4915-a2da-9539ae324db9",
   "metadata": {},
   "outputs": [],
   "source": [
    "%run stdPackages.ipynb\n",
    "read = {'variables': ['Fundamentals', 'LoadVariables', 'TransmissionLines', 'GeneratorsVariables'],\n",
    "        'maps': ['LoadMaps','GeneratorsMaps'],\n",
    "        'variable2D': ['HourlyVariation'],\n",
    "        'scalars': ['Scalars']}\n",
    "db = dbFromWB(os.path.join(d['data'],'E4.xlsx'), read)\n",
    "readSets(db)"
   ]
  },
  {
   "cell_type": "markdown",
   "id": "62f9a478-e23f-46a5-ad3e-e7b3ff89b1e5",
   "metadata": {
    "tags": []
   },
   "source": [
    "# Exercise 4: Technology Complementarity"
   ]
  },
  {
   "cell_type": "markdown",
   "id": "e75e12e4-e5bf-4209-965b-45839d8c5cdf",
   "metadata": {},
   "source": [
    "*Auxiliary sets used to access g1:*"
   ]
  },
  {
   "cell_type": "code",
   "execution_count": 2,
   "id": "7b88e99f-bc18-4bf5-86d3-4418db64a4f1",
   "metadata": {},
   "outputs": [],
   "source": [
    "ids = db['id'][db['id'].str.startswith('g1')]\n",
    "g   = pd.Index(['g1'],name='g')\n",
    "hvts= db['hvt'][db['hvt'].str.startswith('g1')]\n",
    "cE  = pd.Index(['c1'],name='c_E')\n",
    "cH  = pd.Index(['c2'],name='c_H')"
   ]
  },
  {
   "cell_type": "markdown",
   "id": "77927a0e-0cba-44c7-81c7-c096ca1f3859",
   "metadata": {
    "tags": []
   },
   "source": [
    "### Problem 1: Gains of trade"
   ]
  },
  {
   "cell_type": "markdown",
   "id": "4e299e2a-b9c5-4ed7-a90a-4b09162a62f4",
   "metadata": {
    "tags": []
   },
   "source": [
    "### Problem 1: Baseline scenario"
   ]
  },
  {
   "cell_type": "markdown",
   "id": "1e71ef49-b56c-4f56-9ab6-82f382f1cb1d",
   "metadata": {},
   "source": [
    "We set up and solve the model using the simple call as in previous exercises:"
   ]
  },
  {
   "cell_type": "code",
   "execution_count": 3,
   "id": "15aa71e0-048f-4d91-ad79-773e9f626d6f",
   "metadata": {},
   "outputs": [
    {
     "name": "stdout",
     "output_type": "stream",
     "text": [
      "Solution status 0: Optimization terminated successfully.\n"
     ]
    }
   ],
   "source": [
    "m = mBasicPH.mSimple(db)\n",
    "m.solve()"
   ]
  },
  {
   "cell_type": "markdown",
   "id": "782ed76c-3cff-4276-aa31-6c6e8cd7ee97",
   "metadata": {},
   "source": [
    "There is naturally not \"one correct\" description of the baseline scenario. The following highlights some of the important parts of the baseline scenario."
   ]
  },
  {
   "cell_type": "markdown",
   "id": "b1d96f1e-8e35-4b66-bb84-7b075c922e3f",
   "metadata": {},
   "source": [
    "*i) Generation capacity*"
   ]
  },
  {
   "cell_type": "markdown",
   "id": "39cc259d-8041-4a5a-89dc-3d580b17bb6e",
   "metadata": {},
   "source": [
    "Let's start by looking at the generating capacities in the baseline (the ```rc_pd``` method subsets the symbol): In this baseline scenario, we can only use condensation plants and boiler heaters (we've left a very small generating capacity for other plants to be able to assess marginal economic value). These are the simple dispatchable plants. Note that the total installed capacity is 150 GJ for both electricity and heat producing plants (1.5 times the hourly average load)."
   ]
  },
  {
   "cell_type": "code",
   "execution_count": 4,
   "id": "e7a10619-649d-42b1-a7ab-b7c1961c0eb3",
   "metadata": {},
   "outputs": [
    {
     "data": {
      "text/plain": [
       "id\n",
       "g1_BP_Coal       0.01\n",
       "g1_BP_NatGas     0.01\n",
       "g1_BP_BioMass    0.01\n",
       "g1_CD_Coal         50\n",
       "g1_CD_NatGas       50\n",
       "g1_CD_Nuclear      50\n",
       "g1_WS            0.01\n",
       "g1_PV            0.01\n",
       "Name: GeneratingCap_E, dtype: object"
      ]
     },
     "execution_count": 4,
     "metadata": {},
     "output_type": "execute_result"
    }
   ],
   "source": [
    "rc_pd(m.db['GeneratingCap_E'], ids)"
   ]
  },
  {
   "cell_type": "code",
   "execution_count": 5,
   "id": "a0d6734f-cdad-47cd-9bc1-fceaaa60aff5",
   "metadata": {},
   "outputs": [
    {
     "data": {
      "text/plain": [
       "id\n",
       "g1_BH_BioMass      75\n",
       "g1_BH_NatGas       75\n",
       "g1_SH            0.01\n",
       "g1_HP            0.01\n",
       "Name: GeneratingCap_H, dtype: object"
      ]
     },
     "execution_count": 5,
     "metadata": {},
     "output_type": "execute_result"
    }
   ],
   "source": [
    "rc_pd(m.db['GeneratingCap_H'], ids)"
   ]
  },
  {
   "cell_type": "markdown",
   "id": "cf594895-6fca-4a35-9986-a6675924eae7",
   "metadata": {},
   "source": [
    "Let's define a subset of active plants (non-zero capacity):"
   ]
  },
  {
   "cell_type": "code",
   "execution_count": 6,
   "id": "9f264b5d-4297-4cae-aabb-86e9575a17f0",
   "metadata": {},
   "outputs": [],
   "source": [
    "active = m.db['GeneratingCap_E'][m.db['GeneratingCap_E']>0.01].index.union(\n",
    "         m.db['GeneratingCap_H'][m.db['GeneratingCap_H']>0.01].index)\n",
    "active = rc_pd(active, ids)"
   ]
  },
  {
   "cell_type": "markdown",
   "id": "1c6e1f68-4726-489b-b84d-4ae31f9e4aa6",
   "metadata": {},
   "source": [
    "*ii) Prices/marginal system costs and marginal costs*"
   ]
  },
  {
   "cell_type": "markdown",
   "id": "96a1bcc0-f8d8-46c9-bb06-f0ad6394fff3",
   "metadata": {},
   "source": [
    "Electricity:\n",
    "* In hours $h=1,4$ the marginal supply of electricity comes from the nuclear plant (```g1_CD_Nuclear```). \n",
    "* In $h=2$ the marginal supply of electricity comes from natural gas.\n",
    "* In $h=3$ the final part of the load is shedded. The marginal willingness to pay is set at 50€ here."
   ]
  },
  {
   "cell_type": "markdown",
   "id": "3ca15c5c-4041-47e3-97a0-e4bd50962be0",
   "metadata": {},
   "source": [
    "Heat:\n",
    "* In $h=2,3$ the marginal supply comes from natural gas (```g1_BH_NatGas```). \n",
    "* In $h=1,4$ the marginal supply of electricity comes from biomass (```g1_BH_BioMass```)."
   ]
  },
  {
   "cell_type": "code",
   "execution_count": 7,
   "id": "d4c5d7c3-bd04-4a9c-b698-d302b6312c85",
   "metadata": {},
   "outputs": [
    {
     "data": {
      "image/png": "[encoded data removed]",
      "text/plain": [
       "<Figure size 1440x288 with 3 Axes>"
      ]
     },
     "metadata": {},
     "output_type": "display_data"
    }
   ],
   "source": [
    "fig, axes = plt.subplots(1, 3, figsize = (20,4));\n",
    "ax1, ax2, ax3 = plt.subplot(1, 3, 1), plt.subplot(1, 3, 2), plt.subplot(1, 3, 3);\n",
    "m.db['marginalSystemCosts_E'].xs('g1').plot.bar(ax=ax1);\n",
    "m.db['marginalSystemCosts_H'].xs('g1').plot.bar(ax=ax2);\n",
    "rc_pd(m.db['mc'], active).sort_values().plot.bar(ax=ax3);"
   ]
  },
  {
   "cell_type": "markdown",
   "id": "e9cba092-9d6e-4cbb-b445-ab4bb531bd90",
   "metadata": {},
   "source": [
    "*iii) Emissions/fuel consumption*"
   ]
  },
  {
   "cell_type": "markdown",
   "id": "856c5e6c-3c94-4614-ad1b-13c5d091cb89",
   "metadata": {},
   "source": [
    "Emissions start at roughly 40 tonnes of CO2 for the entire system. This comes from natural gas and coal (coal is more emission intensive, but consumption of natural gas is higher)."
   ]
  },
  {
   "cell_type": "code",
   "execution_count": 8,
   "id": "edac06e3-8971-4412-adee-0d15247709e5",
   "metadata": {},
   "outputs": [
    {
     "data": {
      "text/plain": [
       "g   EmissionType\n",
       "g1  CO2             40.184761\n",
       "g2  CO2             40.184761\n",
       "dtype: object"
      ]
     },
     "execution_count": 8,
     "metadata": {},
     "output_type": "execute_result"
    }
   ],
   "source": [
    "m.db['Emissions']"
   ]
  },
  {
   "cell_type": "code",
   "execution_count": 9,
   "id": "2b0e8c22-07d1-4907-899b-5830dbf14b82",
   "metadata": {},
   "outputs": [
    {
     "data": {
      "text/plain": [
       "BFt\n",
       "BioMass    128.698783\n",
       "Coal       200.081633\n",
       "NatGas     373.737851\n",
       "Uranium    359.946429\n",
       "dtype: object"
      ]
     },
     "execution_count": 9,
     "metadata": {},
     "output_type": "execute_result"
    }
   ],
   "source": [
    "m.db['FuelConsumption'].xs('g1',level='g')"
   ]
  },
  {
   "cell_type": "markdown",
   "id": "c6edf412-9d2b-4822-84c4-6cea93d1b813",
   "metadata": {},
   "source": [
    "*iv) Marginal economic value of technologies:*"
   ]
  },
  {
   "cell_type": "markdown",
   "id": "d15764a1-f6e2-4195-8cb2-8496c361e00d",
   "metadata": {},
   "source": [
    "* We note that the biomass plants are generally the ones with the lowest marginal economic value. If you go into more detail about the cost structure, you'll se that this is due to a combination of fuel costs and fixed operating and maintenance costs: Both are pretty high.\n",
    "* Next, note that, in particular the back-pressure plant that relies on coal seem to worth investing in."
   ]
  },
  {
   "cell_type": "code",
   "execution_count": 10,
   "id": "b6097292-c719-4239-b685-7f0025320710",
   "metadata": {},
   "outputs": [
    {
     "data": {
      "image/png": "[encoded data removed]",
      "text/plain": [
       "<Figure size 576x396 with 1 Axes>"
      ]
     },
     "metadata": {},
     "output_type": "display_data"
    }
   ],
   "source": [
    "rc_pd(m.db['marginalEconomicValue'],ids).sort_values().plot.bar();"
   ]
  },
  {
   "cell_type": "markdown",
   "id": "fac16bf0-712a-47ad-866d-9a082fde9dc2",
   "metadata": {
    "tags": []
   },
   "source": [
    "### Problem 2: Suggest a CHP plant strategy"
   ]
  },
  {
   "cell_type": "markdown",
   "id": "1812d79a-3e99-4710-801c-f4ea96ddf867",
   "metadata": {},
   "source": [
    "Based on the results from problem 1, it looks like the back-pressure plant that relies on coal is particularly profitable; conversely, the biomass plant is quite costly to use. The least profitable electricity producing plant (that is currently active) looks to be the condensation plant that relies on coal (```g1_CD_Coal```)."
   ]
  },
  {
   "cell_type": "markdown",
   "id": "cb3d042a-ce62-401e-9302-3d9c5864250c",
   "metadata": {},
   "source": [
    "We note that the pant ```g1_BP_Coal``` produces slightly more heat than electricity (electricity-to-heat ratio is less than 1):"
   ]
  },
  {
   "cell_type": "code",
   "execution_count": 11,
   "id": "a492b1e6-4d38-4c29-8d1c-07c8c1e86e69",
   "metadata": {},
   "outputs": [
    {
     "data": {
      "text/plain": [
       "id\n",
       "g1_BP_Coal           0.84\n",
       "g1_BP_NatGas          1.3\n",
       "g1_BP_BioMass        0.46\n",
       "g2_BP_Coal           0.84\n",
       "g2_BP_NatGas          1.3\n",
       "g2_BP_BioMass        0.46\n",
       "g1_HP           -0.285714\n",
       "g2_HP           -0.285714\n",
       "Name: E2H, dtype: object"
      ]
     },
     "execution_count": 11,
     "metadata": {},
     "output_type": "execute_result"
    }
   ],
   "source": [
    "db['E2H']"
   ]
  },
  {
   "cell_type": "markdown",
   "id": "4c0cced1-c7a1-4039-9489-477611f8a470",
   "metadata": {},
   "source": [
    "If we entirely eliminate the coal plant ```g1_CD_Coal``` (capacity of 50 GJ/h), the corresponding heat capacity from the back-pressure plant will be $50/E2H$. So, we keep the generation capacity somewhat constant if we introduce the change:"
   ]
  },
  {
   "cell_type": "code",
   "execution_count": 12,
   "id": "d3166735-60f7-49d3-a249-395c4d9d8b3c",
   "metadata": {},
   "outputs": [],
   "source": [
    "db['GeneratingCap_E'].loc['g1_BP_Coal'] = 50\n",
    "db['GeneratingCap_E'].loc['g1_CD_Coal'] = 0.01\n",
    "db['GeneratingCap_H'].loc['g1_BH_BioMass'] = 75-50/0.84"
   ]
  },
  {
   "cell_type": "markdown",
   "id": "79190f04-c5b7-4f33-9cc6-d95c1609bb3c",
   "metadata": {},
   "source": [
    "Store a version of the solution before we re-solve, and then solve:"
   ]
  },
  {
   "cell_type": "code",
   "execution_count": 13,
   "id": "d885f51a-9ea8-4a99-8e96-22584c6a8e9c",
   "metadata": {},
   "outputs": [
    {
     "name": "stdout",
     "output_type": "stream",
     "text": [
      "Solution status 0: Optimization terminated successfully.\n"
     ]
    }
   ],
   "source": [
    "db_Before = db.copy()\n",
    "m.solve()"
   ]
  },
  {
   "cell_type": "markdown",
   "id": "55a7922e-843e-4690-b095-1c65876bbee7",
   "metadata": {},
   "source": [
    "Now, compare the variables from earlier:"
   ]
  },
  {
   "cell_type": "markdown",
   "id": "0d49a398-02f7-4332-bd61-ffaf4b783aed",
   "metadata": {},
   "source": [
    "*i) Marginal System Costs:*"
   ]
  },
  {
   "cell_type": "markdown",
   "id": "1a71e9e9-e8bd-4b5e-a503-318fbc959c02",
   "metadata": {},
   "source": [
    "The condensation plant can drive down the cost of electricity, but not heat (there is still not enough heat generation to avoid the biomass plant):"
   ]
  },
  {
   "cell_type": "code",
   "execution_count": 19,
   "id": "0f25ac2d-02d9-4da1-8f18-17b7a99f9a64",
   "metadata": {},
   "outputs": [
    {
     "data": {
      "image/png": "[encoded data removed]",
      "text/plain": [
       "<Figure size 864x288 with 2 Axes>"
      ]
     },
     "metadata": {},
     "output_type": "display_data"
    }
   ],
   "source": [
    "fig, axes = plt.subplots(1, 2, figsize = (12,4));\n",
    "ax1, ax2 = plt.subplot(1, 2, 1), plt.subplot(1, 2, 2);\n",
    "pd.DataFrame({'Before': db_Before['marginalSystemCosts_E'].xs('g1'), 'After': m.db['marginalSystemCosts_E'].xs('g1')}).plot.bar(ax=ax1);\n",
    "pd.DataFrame({'Before': db_Before['marginalSystemCosts_H'].xs('g1'), 'After': m.db['marginalSystemCosts_H'].xs('g1')}).plot.bar(ax=ax2);"
   ]
  },
  {
   "cell_type": "markdown",
   "id": "12261614-8cc9-44c5-bdbe-14acb7897737",
   "metadata": {},
   "source": [
    "*ii) Emissions/fuel consumption*"
   ]
  },
  {
   "cell_type": "markdown",
   "id": "e20326f4-f83f-4c43-b7cc-273581a8d810",
   "metadata": {},
   "source": [
    "Naturally, there is a change from biomass to coal. There is, however, also an overall drop in the total fuel that is used in power and heat generation; this is because the back-pressure plants usually feature significantly higher energy efficiency than the simpler condensation plants:"
   ]
  },
  {
   "cell_type": "code",
   "execution_count": 41,
   "id": "9772b3ae-824c-423b-86c1-c9e0a09fa055",
   "metadata": {},
   "outputs": [
    {
     "data": {
      "image/png": "[encoded data removed]",
      "text/plain": [
       "<Figure size 576x288 with 1 Axes>"
      ]
     },
     "metadata": {},
     "output_type": "display_data"
    }
   ],
   "source": [
    "pd.DataFrame({'Before': db_Before['FuelConsumption'].xs('g1',level='g'), 'After': m.db['FuelConsumption'].xs('g1',level='g')}).plot.bar(figsize=(8,4));"
   ]
  },
  {
   "cell_type": "markdown",
   "id": "6cd0b207-a2ac-41fe-8b1d-2c243dadc11f",
   "metadata": {},
   "source": [
    "Naturally, emissions increase with the use of coal:"
   ]
  },
  {
   "cell_type": "code",
   "execution_count": 44,
   "id": "2ccba996-caf6-471e-80d7-67a0e3c0a02f",
   "metadata": {},
   "outputs": [
    {
     "data": {
      "image/png": "[encoded data removed]",
      "text/plain": [
       "<Figure size 576x288 with 1 Axes>"
      ]
     },
     "metadata": {},
     "output_type": "display_data"
    }
   ],
   "source": [
    "pd.DataFrame({'Before': db_Before['Emissions'].xs('g1',level='g'), 'After': m.db['Emissions'].xs('g1',level='g')}).plot.bar(figsize=(8,4));"
   ]
  },
  {
   "cell_type": "markdown",
   "id": "3a4909a8-7dba-4e3f-8817-b4e376235b68",
   "metadata": {},
   "source": [
    "*iii) Marginal economic value of technologies:*"
   ]
  },
  {
   "cell_type": "markdown",
   "id": "5bc0c721-00fb-4069-89f6-c88feb50d3d6",
   "metadata": {},
   "source": [
    "The changes are subtle. However, the value of the heat plants increase, whereas the value of intermittent technologies drop (WS,PV):"
   ]
  },
  {
   "cell_type": "code",
   "execution_count": 40,
   "id": "731c711e-b1b2-4a4c-93d1-533afe4419ce",
   "metadata": {},
   "outputs": [
    {
     "data": {
      "text/plain": [
       "<AxesSubplot:xlabel='id'>"
      ]
     },
     "execution_count": 40,
     "metadata": {},
     "output_type": "execute_result"
    },
    {
     "data": {
      "image/png": "[encoded data removed]",
      "text/plain": [
       "<Figure size 864x288 with 1 Axes>"
      ]
     },
     "metadata": {},
     "output_type": "display_data"
    }
   ],
   "source": [
    "pd.DataFrame({'Before': rc_pd(db_Before['marginalEconomicValue'],ids),'After': rc_pd(m.db['marginalEconomicValue'],ids)}).sort_values(by='Before').plot.bar(figsize=(12,4))"
   ]
  }
 ],
 "metadata": {
  "kernelspec": {
   "display_name": "Python 3 (ipykernel)",
   "language": "python",
   "name": "python3"
  },
  "language_info": {
   "codemirror_mode": {
    "name": "ipython",
    "version": 3
   },
   "file_extension": ".py",
   "mimetype": "text/x-python",
   "name": "python",
   "nbconvert_exporter": "python",
   "pygments_lexer": "ipython3",
   "version": "3.9.7"
  }
 },
 "nbformat": 4,
 "nbformat_minor": 5
}
