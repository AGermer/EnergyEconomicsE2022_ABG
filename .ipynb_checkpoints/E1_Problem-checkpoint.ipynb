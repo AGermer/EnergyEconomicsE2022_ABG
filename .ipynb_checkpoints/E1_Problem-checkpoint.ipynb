{
 "cells": [
  {
   "cell_type": "markdown",
   "id": "3b13d885-ffd6-481b-b6ad-9bf26e83be24",
   "metadata": {},
   "source": [
    "*Load packages and data:*"
   ]
  },
  {
   "cell_type": "code",
   "execution_count": 1,
   "id": "d788edf0-3199-4339-8e6d-5190cbca5c14",
   "metadata": {},
   "outputs": [],
   "source": [
    "%run stdPackages.ipynb\n",
    "read = {'variables': ['Fundamentals', 'Load', 'Generators_Other'], \n",
    "        'variable2D': ['Generators_FuelMix'],\n",
    "        'maps': ['Generators_Categories']}\n",
    "db = dbFromWB(os.path.join(d['data'],'E1.xlsx'), read)\n",
    "readSets(db)"
   ]
  },
  {
   "cell_type": "markdown",
   "id": "e9a856a2-4171-4c55-82a5-9b736b17ef90",
   "metadata": {
    "tags": []
   },
   "source": [
    "# Exercise 1: Getting to know the ```mBasic``` model class"
   ]
  },
  {
   "cell_type": "markdown",
   "id": "ef1e58bf-6ea0-4b1d-873a-cd70bc960d08",
   "metadata": {},
   "source": [
    "The objective of the first exercise is to get to know the models used throughout the course and learn how to interact with the code. Thus, the intuitive gains from the exercise might be limited. The exercise builds on the ```mBasic``` model class; you can find helpful information on this in the following:\n",
    "* The note \"*Models for Energy Economics*\" describes the model in section 2.\n",
    "* The notebook [M_mBasic](M_mBasic.ipynb) includes some description of the model class and shows how to interact with the model class and run simple experiments.\n",
    "* The notebook [E1_SolutionGuide](E1_SolutionGuide.ipynb) provides a short solution to the problems posted in the current notebook."
   ]
  },
  {
   "cell_type": "markdown",
   "id": "2bc3ba60-3e82-475f-9ddd-0e70d2412217",
   "metadata": {},
   "source": [
    "*Note: If you are not familiar with Python and specifically the package ```pandas```, you may benefit from spending some time dissecting the code used in the solution guide instead of trying to solve the exercises on your own.*"
   ]
  },
  {
   "cell_type": "markdown",
   "id": "166aba1f-80bb-4ce6-9d6f-701317cdb26c",
   "metadata": {},
   "source": [
    "## The setup:"
   ]
  },
  {
   "cell_type": "markdown",
   "id": "93efc867-3f83-4812-8d86-12120203400a",
   "metadata": {},
   "source": [
    "We consider a ```mBasic``` model where 5 different electricity producing plants contribute to satisfy a fixed load of $100$ GJ. 4 of the plants use a mix of four fuels: Coal, natural gas, biomass, or waste. The last plant produces wind power. The parameter ```'FuelMix'``` that is stored in the ```db``` database shows the input shares: "
   ]
  },
  {
   "cell_type": "code",
   "execution_count": 2,
   "id": "b523fbd6-3b03-4ba2-83d0-66a07cec5b57",
   "metadata": {},
   "outputs": [
    {
     "data": {
      "text/html": [
       "<div>\n",
       "<style scoped>\n",
       "    .dataframe tbody tr th:only-of-type {\n",
       "        vertical-align: middle;\n",
       "    }\n",
       "\n",
       "    .dataframe tbody tr th {\n",
       "        vertical-align: top;\n",
       "    }\n",
       "\n",
       "    .dataframe thead th {\n",
       "        text-align: right;\n",
       "    }\n",
       "</style>\n",
       "<table border=\"1\" class=\"dataframe\">\n",
       "  <thead>\n",
       "    <tr style=\"text-align: right;\">\n",
       "      <th>BFt</th>\n",
       "      <th>Coal</th>\n",
       "      <th>NatGas</th>\n",
       "      <th>BioMass</th>\n",
       "      <th>Waste</th>\n",
       "    </tr>\n",
       "    <tr>\n",
       "      <th>id</th>\n",
       "      <th></th>\n",
       "      <th></th>\n",
       "      <th></th>\n",
       "      <th></th>\n",
       "    </tr>\n",
       "  </thead>\n",
       "  <tbody>\n",
       "    <tr>\n",
       "      <th>id1</th>\n",
       "      <td>0.9</td>\n",
       "      <td>0.1</td>\n",
       "      <td>0</td>\n",
       "      <td>0</td>\n",
       "    </tr>\n",
       "    <tr>\n",
       "      <th>id2</th>\n",
       "      <td>0.1</td>\n",
       "      <td>0.9</td>\n",
       "      <td>0</td>\n",
       "      <td>0</td>\n",
       "    </tr>\n",
       "    <tr>\n",
       "      <th>id3</th>\n",
       "      <td>0</td>\n",
       "      <td>0</td>\n",
       "      <td>1</td>\n",
       "      <td>0</td>\n",
       "    </tr>\n",
       "    <tr>\n",
       "      <th>id4</th>\n",
       "      <td>0</td>\n",
       "      <td>0</td>\n",
       "      <td>0</td>\n",
       "      <td>1.15</td>\n",
       "    </tr>\n",
       "    <tr>\n",
       "      <th>id5</th>\n",
       "      <td>0</td>\n",
       "      <td>0</td>\n",
       "      <td>0</td>\n",
       "      <td>0</td>\n",
       "    </tr>\n",
       "  </tbody>\n",
       "</table>\n",
       "</div>"
      ],
      "text/plain": [
       "BFt Coal NatGas BioMass Waste\n",
       "id                           \n",
       "id1  0.9    0.1       0     0\n",
       "id2  0.1    0.9       0     0\n",
       "id3    0      0       1     0\n",
       "id4    0      0       0  1.15\n",
       "id5    0      0       0     0"
      ]
     },
     "execution_count": 2,
     "metadata": {},
     "output_type": "execute_result"
    }
   ],
   "source": [
    "db['FuelMix'].unstack('BFt') # note that you access the symbols in the database 'db' using the slicing syntax '[]'"
   ]
  },
  {
   "cell_type": "markdown",
   "id": "5e8d4f57-b8b0-4e9a-95e7-b531563a05ce",
   "metadata": {},
   "source": [
    "### Problem 1: Compute the marginal costs of operation for the five plants."
   ]
  },
  {
   "cell_type": "markdown",
   "id": "dd8c7800-ec01-41a3-9c10-2b4a40b59e35",
   "metadata": {},
   "source": [
    "The plants pays a price (```FuelPrice```) for the fuel inputs and pays a tax (```EmissionTax```)  on the CO2 it emits. Furthermore, the plant has 'other costs' of operation (```OtherMC```). The marginal cost of operation for the five plants are then computed as:\n",
    "$$\\begin{align}\n",
    " mc_{id} = \\text{OtherMC}_{id}+\\sum_{BFt} \\mu_{BFt}^{id}\\left[\\text{FuelPrice}_{BFt}+\\text{EmissionTax}\\cdot \\text{EmissionIntensity}_{BFt}\\right],\n",
    "\\end{align}$$\n",
    "\n",
    "*Compute the marginal costs for the five plants. Check that your result is equivalent to the result from the predefined method ```lpModels.mc(db)```.*"
   ]
  },
  {
   "cell_type": "markdown",
   "id": "9e087260-c3d9-4f42-9bbd-3aec546ede6b",
   "metadata": {},
   "source": [
    "### Problem 2: Identify the marginal producer and the system marginal costs"
   ]
  },
  {
   "cell_type": "markdown",
   "id": "bccded06-72e0-4ef4-83ce-98ffc3676689",
   "metadata": {},
   "source": [
    "The *marginal producer* and *system marginal costs* are defined in the note \"*Models for Energy Economics*\". To identify the two concepts, we first need to solve the model. Doing this is very straightforward using the ```mBasic``` model class. Specifically, we use two simple steps: (1) Initialize the model with the database, and (2) solve:"
   ]
  },
  {
   "cell_type": "code",
   "execution_count": 3,
   "id": "045b637a-c519-4ce5-b400-7802bfb102e4",
   "metadata": {},
   "outputs": [
    {
     "name": "stdout",
     "output_type": "stream",
     "text": [
      "Solution status 0: Optimization terminated successfully.\n"
     ]
    }
   ],
   "source": [
    "m = mBasic.mBasic(db) # initialize using the database 'db' from above.\n",
    "m.solve() # solve the model; should return a short printed statement that optimization is succesful."
   ]
  },
  {
   "cell_type": "markdown",
   "id": "b3f2e204-baea-4311-9504-5ab57d442447",
   "metadata": {},
   "source": [
    "*Identify the marginal producer (a specific id) and the system marginal costs of this model.*\n",
    "\n",
    "*Hint: The optimal production is referred to as ```'Generation'```, and the generation capacity is called ```GeneratingCapacity```.*"
   ]
  },
  {
   "cell_type": "markdown",
   "id": "6ee7023f-c734-4a65-9acb-e1682d0949a9",
   "metadata": {},
   "source": [
    "### Problem 3: A shock to tax on CO2 emissions"
   ]
  },
  {
   "cell_type": "markdown",
   "id": "7d573549-32a6-4f48-87a3-c6bd5b1352af",
   "metadata": {},
   "source": [
    "*Increase the tax on CO2 emissions to respectively $50$ and $100$ EUR/Tonnes CO2. Report the effect on emissions and explain briefly.*"
   ]
  },
  {
   "cell_type": "markdown",
   "id": "1d1c5b2e-1973-41d5-b52c-1459d2096ac8",
   "metadata": {},
   "source": [
    "*Hint 1: When re-solving the model the results in the 'db' are overwritten. To save the first results, create some type of copy before resolving, for instance using the copy method:*"
   ]
  },
  {
   "cell_type": "code",
   "execution_count": 4,
   "id": "35ec2528-f20b-4810-989a-9146ff5c59c4",
   "metadata": {},
   "outputs": [],
   "source": [
    "db_BeforeShock = m.db.copy()"
   ]
  },
  {
   "cell_type": "markdown",
   "id": "b9ea2679-69d4-4d56-ac74-20b3872d4652",
   "metadata": {},
   "source": [
    "*Hint 2: To recompute the marginal costs before solving the model again, you can pass the following option to the solve statment*"
   ]
  },
  {
   "cell_type": "code",
   "execution_count": 5,
   "id": "3d0c4c96-949e-4486-813b-0c0c419bdac1",
   "metadata": {},
   "outputs": [
    {
     "name": "stdout",
     "output_type": "stream",
     "text": [
      "Solution status 0: Optimization terminated successfully.\n"
     ]
    }
   ],
   "source": [
    "m.solve(preSolve = {'recomputeMC': True})"
   ]
  },
  {
   "cell_type": "markdown",
   "id": "b0ccadec-9685-434c-a4fb-c7154cf0f54a",
   "metadata": {},
   "source": [
    "*Hint 3: Emissions are automaticaly stored as the symbol 'Emissions' when the model is solved. So, you don't have to compute them manually, but just access them:*"
   ]
  },
  {
   "cell_type": "code",
   "execution_count": 6,
   "id": "4ef2941c-05e3-4e3e-93b1-016382bbe2f6",
   "metadata": {},
   "outputs": [
    {
     "data": {
      "text/plain": [
       "EmissionType\n",
       "CO2    5.669729\n",
       "dtype: object"
      ]
     },
     "execution_count": 6,
     "metadata": {},
     "output_type": "execute_result"
    }
   ],
   "source": [
    "m.db['Emissions']"
   ]
  },
  {
   "cell_type": "markdown",
   "id": "3a1055c4-ecbf-455e-8ed4-d06977125fff",
   "metadata": {},
   "source": [
    "*Revert to the original database before carrying out the other shocks:*"
   ]
  },
  {
   "cell_type": "code",
   "execution_count": 7,
   "id": "c7a0cd61-07c7-442d-9538-d3b32e4b84e3",
   "metadata": {},
   "outputs": [],
   "source": [
    "m.db = db_BeforeShock"
   ]
  },
  {
   "cell_type": "markdown",
   "id": "63c189d8-0289-467a-bbb9-cb932da25d0c",
   "metadata": {},
   "source": [
    "### Problem 4: Abating emissions using wind power"
   ]
  },
  {
   "cell_type": "markdown",
   "id": "7b855a7f-2b9c-47f1-8dd9-35d7efb5f7c6",
   "metadata": {},
   "source": [
    "In the final task, we will practice using the predefined method ```loopSolveExtract``` to run simple experiments. This method is defined to create the following simple type of experiments in a loop: For each step in the loop:\n",
    "* update some parameter value,\n",
    "* re-solve the model,\n",
    "* extract some specific parts of the solution that you are interested in."
   ]
  },
  {
   "cell_type": "markdown",
   "id": "0d07afa0-ae16-4c56-b3f4-89c0f55754c7",
   "metadata": {},
   "source": [
    "*Solve the model on a grid of different levels of installed wind power: From 10 to 50 with 41 gridpoints. Extract the solution for emissions and fuel consumption on this same grid. Plot the solutions and comment briefly on how effective a mandate to install additional wind energy is at abating emissions in the current model.*"
   ]
  },
  {
   "cell_type": "markdown",
   "id": "96e9c007-8109-471f-b774-41f272abaabd",
   "metadata": {},
   "source": [
    "*Hint 1: The notebook [M_mBasic](M_mBasic.ipynb) has an example of the syntax needed to use the ```loopSolveExtract```. Use this as inspiration for how to apply the method in this case.*"
   ]
  },
  {
   "cell_type": "markdown",
   "id": "aafa678c-8372-4851-a7bf-7cd4fe3e4344",
   "metadata": {},
   "source": [
    "*Hint 2: The auxiliary function ```addGrid``` can create a grid for us based on the first and the final value on the grid. The following syntax can be used to create a grid 'windGrid' from 10-50 GJ with 41 gridpoints:*"
   ]
  },
  {
   "cell_type": "code",
   "execution_count": 8,
   "id": "7e1640a1-896e-46df-9a9e-00ea0e13211d",
   "metadata": {},
   "outputs": [],
   "source": [
    "loop = pd.Index(range(41), name = 'loop')\n",
    "v0 = pd.Series(10, index = pd.Index(['id5'], name = 'id'))\n",
    "vT = pd.Series(50, index = pd.Index(['id5'], name = 'id'))\n",
    "windGrid = addGrid(v0,vT,loop,'GeneratingCapacity') # inputs are (1) first value in grid, (2) final value, (3) loop, (4) name of symbol"
   ]
  }
 ],
 "metadata": {
  "kernelspec": {
   "display_name": "Python 3 (ipykernel)",
   "language": "python",
   "name": "python3"
  },
  "language_info": {
   "codemirror_mode": {
    "name": "ipython",
    "version": 3
   },
   "file_extension": ".py",
   "mimetype": "text/x-python",
   "name": "python",
   "nbconvert_exporter": "python",
   "pygments_lexer": "ipython3",
   "version": "3.9.7"
  }
 },
 "nbformat": 4,
 "nbformat_minor": 5
}
