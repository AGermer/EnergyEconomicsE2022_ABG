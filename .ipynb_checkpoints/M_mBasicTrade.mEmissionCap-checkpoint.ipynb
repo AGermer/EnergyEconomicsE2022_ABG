{
 "cells": [
  {
   "cell_type": "code",
   "execution_count": 1,
   "id": "e228e165-3471-42ee-9dcd-cc6b632e3e08",
   "metadata": {},
   "outputs": [],
   "source": [
    "%run stdPackages.ipynb\n",
    "read = {'variables': ['Fundamentals', 'Load', 'Generators_Other','TL','Regulation'], \n",
    "        'variable2D': ['Generators_FuelMix','HourlyVariation'],\n",
    "        'scalars': ['Scalars'],\n",
    "        'maps': ['Generators_Categories', 'Load_Categories']}\n",
    "db = dbFromWB(os.path.join(d['data'],'E3.xlsx'), read)\n",
    "readSets(db)"
   ]
  },
  {
   "cell_type": "markdown",
   "id": "016e190b-9ce0-414b-8a01-f3ea40410855",
   "metadata": {
    "tags": []
   },
   "source": [
    "# The ```mBasicTrade.mEmissionCap``` model"
   ]
  },
  {
   "cell_type": "markdown",
   "id": "a7611716-c7ef-4ff6-a630-684f3ce9680c",
   "metadata": {},
   "source": [
    "### **The model**"
   ]
  },
  {
   "cell_type": "markdown",
   "id": "9b4293fb-e751-448b-8733-a2afc695fa47",
   "metadata": {},
   "source": [
    "The model is an extension to the [mBasicTrade](M_mBasicTrade.ipynb) model. The difference is that emissions are capped in this section. We can cap emissions in two ways: One common, or one for each geographic area."
   ]
  },
  {
   "cell_type": "markdown",
   "id": "19add44d-8e44-476d-8858-f7ce9c4e4f69",
   "metadata": {},
   "source": [
    "**With one common cap:**"
   ]
  },
  {
   "cell_type": "markdown",
   "id": "39adfeb7-eb86-4775-88b6-a50b35684269",
   "metadata": {},
   "source": [
    "With one common emissions cap, the condition is:\n",
    "$$\\begin{align}\n",
    "    \\sum_{BFt,id,h} \\mu_{BFt}^{id} \\cdot E_{id,h} \\cdot \\text{EmissionIntensity}_{BFt,CO2} \\leq \\sum_g CO2Cap_g.\n",
    "\\end{align}$$"
   ]
  },
  {
   "cell_type": "markdown",
   "id": "7e57d12b-0e68-448c-a46c-0feef96205a3",
   "metadata": {},
   "source": [
    "Solve with common cap:"
   ]
  },
  {
   "cell_type": "code",
   "execution_count": 2,
   "id": "19a16725-7d0a-401d-8fa9-1651d41d93b5",
   "metadata": {},
   "outputs": [
    {
     "name": "stdout",
     "output_type": "stream",
     "text": [
      "Solution status 0: Optimization terminated successfully.\n"
     ]
    }
   ],
   "source": [
    "m = mBasicTrade.mEmissionCap(db,commonCap = True)\n",
    "m.solve()"
   ]
  },
  {
   "cell_type": "markdown",
   "id": "a43a789d-937f-471a-8880-5eaec81626da",
   "metadata": {},
   "source": [
    "**With geograpic-specific emission caps:**"
   ]
  },
  {
   "cell_type": "markdown",
   "id": "b163961d-a466-418d-8fb6-015f5f8056f6",
   "metadata": {},
   "source": [
    "The constraint is now:\n",
    "$$\\begin{align}\n",
    "    \\sum_{BFt,h}\\sum_{id\\in\\mathcal{I}_g} \\mu_{BFt}^{id} \\cdot E_{id,h} \\cdot \\text{EmissionIntensity}_{BFt,CO2} \\leq CO2Cap_g.\n",
    "\\end{align}$$"
   ]
  },
  {
   "cell_type": "markdown",
   "id": "1a7ec5ea-d6af-4cf4-b043-f16d4538571e",
   "metadata": {},
   "source": [
    "Solve with geographic-specific caps:"
   ]
  },
  {
   "cell_type": "code",
   "execution_count": 3,
   "id": "de181461-6436-46d0-a353-d8eba7494f28",
   "metadata": {},
   "outputs": [
    {
     "name": "stdout",
     "output_type": "stream",
     "text": [
      "Solution status 0: Optimization terminated successfully.\n"
     ]
    }
   ],
   "source": [
    "m.commonCap = False\n",
    "m.solve()"
   ]
  },
  {
   "cell_type": "markdown",
   "id": "0f459c67-d302-417a-ab42-b3c83d91e1cb",
   "metadata": {
    "tags": []
   },
   "source": [
    "### Adjustments to the code"
   ]
  },
  {
   "cell_type": "markdown",
   "id": "84220e64-b2a7-470d-82c7-501fa8041a13",
   "metadata": {},
   "source": [
    "Compared to ```mBasicTrade``` the main adjustment is that there is an added ```block``` of the type ```ub```:"
   ]
  },
  {
   "cell_type": "markdown",
   "id": "cc181a62-50d0-4d9e-a4f7-d5b8d0125464",
   "metadata": {},
   "source": [
    "The specification of the constraint is in terms of syntax equivalent to the ```eq``` constraints:\n",
    "* There is a constraint named ```emissionsCap``` ,\n",
    "* with the parameter constraint $b_{ub}$ from ```self.db['CO2Cap']```.\n",
    "* $A_{ub}$ coefficients for this constraint are on the variable ```'Generation'```. Specifically, the parameters are the emission intensity for CO2 repeated for all hours, but also with added geography using the mapping ```id2g```."
   ]
  },
  {
   "cell_type": "markdown",
   "id": "e4f89750-a8de-4761-99f4-5cdbb01c186b",
   "metadata": {},
   "source": [
    "**With one common cap:**"
   ]
  },
  {
   "cell_type": "markdown",
   "id": "3ad0c667-477e-4ab6-826c-bcd9f71997c9",
   "metadata": {},
   "source": [
    "<img src=\"snippets/mBasicTrade_EmissionCap_snippet1.png\" width=\"1500\" height=\"400\">"
   ]
  },
  {
   "cell_type": "markdown",
   "id": "a828e40f-2d66-4dd1-8cf3-5f9dcc3d17b2",
   "metadata": {},
   "source": [
    "The ```'parameter'``` option in ```A``` returns the emission intensity mapped onto the domains in the variable ```Generation[id,g,h]```:"
   ]
  },
  {
   "cell_type": "code",
   "execution_count": 4,
   "id": "f5866b04-c588-4e51-8c9f-4ebdc1fd8cd9",
   "metadata": {
    "scrolled": true,
    "tags": []
   },
   "outputs": [
    {
     "data": {
      "text/plain": [
       "id   g   h\n",
       "id1  g1  1    0.1274\n",
       "         2    0.1274\n",
       "         3    0.1274\n",
       "         4    0.1274\n",
       "id2  g1  1    0.0741\n",
       "         2    0.0741\n",
       "         3    0.0741\n",
       "         4    0.0741\n",
       "id3  g1  1       0.0\n",
       "         2       0.0\n",
       "         3       0.0\n",
       "         4       0.0\n",
       "id4  g1  1       0.0\n",
       "         2       0.0\n",
       "         3       0.0\n",
       "         4       0.0\n",
       "id5  g2  1    0.0741\n",
       "         2    0.0741\n",
       "         3    0.0741\n",
       "         4    0.0741\n",
       "id6  g2  1       0.0\n",
       "         2       0.0\n",
       "         3       0.0\n",
       "         4       0.0\n",
       "dtype: object"
      ]
     },
     "execution_count": 4,
     "metadata": {},
     "output_type": "execute_result"
    }
   ],
   "source": [
    "s = lpCompiler.broadcast(mBasicTrade.plantEmissionIntensity(m.db).xs('CO2',level='EmissionType'), m.globalDomains['Generation'])\n",
    "s"
   ]
  },
  {
   "cell_type": "markdown",
   "id": "70fea0c8-46f2-4f62-82dd-90e3545b47f8",
   "metadata": {},
   "source": [
    "**With geographic-specific emission caps:**"
   ]
  },
  {
   "cell_type": "markdown",
   "id": "a1ad4c1e-fb52-4d4c-8834-455d86a20411",
   "metadata": {},
   "source": [
    "<img src=\"snippets/mBasicTrade_EmissionCap_snippet2.png\" width=\"1500\" height=\"400\">"
   ]
  },
  {
   "cell_type": "markdown",
   "id": "db41deeb-95f8-437f-9a42-72e9f1151ada",
   "metadata": {},
   "source": [
    "This takes the same parameter as with one common cap, and adds the index level ```g_alias``` to it:"
   ]
  },
  {
   "cell_type": "code",
   "execution_count": 5,
   "id": "710ba3ce-a3ed-4005-923c-00aa27a7eefa",
   "metadata": {
    "scrolled": true,
    "tags": []
   },
   "outputs": [
    {
     "data": {
      "text/plain": [
       "id   g   h  g_alias\n",
       "id1  g1  1  g1         0.1274\n",
       "         2  g1         0.1274\n",
       "         3  g1         0.1274\n",
       "         4  g1         0.1274\n",
       "id2  g1  1  g1         0.0741\n",
       "         2  g1         0.0741\n",
       "         3  g1         0.0741\n",
       "         4  g1         0.0741\n",
       "id3  g1  1  g1            0.0\n",
       "         2  g1            0.0\n",
       "         3  g1            0.0\n",
       "         4  g1            0.0\n",
       "id4  g1  1  g1            0.0\n",
       "         2  g1            0.0\n",
       "         3  g1            0.0\n",
       "         4  g1            0.0\n",
       "id5  g2  1  g2         0.0741\n",
       "         2  g2         0.0741\n",
       "         3  g2         0.0741\n",
       "         4  g2         0.0741\n",
       "id6  g2  1  g2            0.0\n",
       "         2  g2            0.0\n",
       "         3  g2            0.0\n",
       "         4  g2            0.0\n",
       "dtype: object"
      ]
     },
     "execution_count": 5,
     "metadata": {},
     "output_type": "execute_result"
    }
   ],
   "source": [
    "s = mBasicTrade.appIndexWithCopySeries(s, 'g','g_alias')\n",
    "s"
   ]
  },
  {
   "cell_type": "markdown",
   "id": "2c24f4c5-beb5-4f8c-9b5f-240f6b25e7ab",
   "metadata": {},
   "source": [
    "When the constraint is defined over ```g_alias```, this states that the coefficients are only used when ```g=g_alias```. So, in the matrix ```A``` this will be unstacked something like this:"
   ]
  },
  {
   "cell_type": "code",
   "execution_count": 6,
   "id": "b3900e3b-c3ce-439e-aec8-97bbeb751902",
   "metadata": {
    "scrolled": true,
    "tags": []
   },
   "outputs": [
    {
     "data": {
      "text/html": [
       "<div>\n",
       "<style scoped>\n",
       "    .dataframe tbody tr th:only-of-type {\n",
       "        vertical-align: middle;\n",
       "    }\n",
       "\n",
       "    .dataframe tbody tr th {\n",
       "        vertical-align: top;\n",
       "    }\n",
       "\n",
       "    .dataframe thead th {\n",
       "        text-align: right;\n",
       "    }\n",
       "</style>\n",
       "<table border=\"1\" class=\"dataframe\">\n",
       "  <thead>\n",
       "    <tr style=\"text-align: right;\">\n",
       "      <th></th>\n",
       "      <th></th>\n",
       "      <th>g_alias</th>\n",
       "      <th>g1</th>\n",
       "      <th>g2</th>\n",
       "    </tr>\n",
       "    <tr>\n",
       "      <th>id</th>\n",
       "      <th>g</th>\n",
       "      <th>h</th>\n",
       "      <th></th>\n",
       "      <th></th>\n",
       "    </tr>\n",
       "  </thead>\n",
       "  <tbody>\n",
       "    <tr>\n",
       "      <th rowspan=\"4\" valign=\"top\">id1</th>\n",
       "      <th rowspan=\"4\" valign=\"top\">g1</th>\n",
       "      <th>1</th>\n",
       "      <td>0.1274</td>\n",
       "      <td>0.0000</td>\n",
       "    </tr>\n",
       "    <tr>\n",
       "      <th>2</th>\n",
       "      <td>0.1274</td>\n",
       "      <td>0.0000</td>\n",
       "    </tr>\n",
       "    <tr>\n",
       "      <th>3</th>\n",
       "      <td>0.1274</td>\n",
       "      <td>0.0000</td>\n",
       "    </tr>\n",
       "    <tr>\n",
       "      <th>4</th>\n",
       "      <td>0.1274</td>\n",
       "      <td>0.0000</td>\n",
       "    </tr>\n",
       "    <tr>\n",
       "      <th rowspan=\"4\" valign=\"top\">id2</th>\n",
       "      <th rowspan=\"4\" valign=\"top\">g1</th>\n",
       "      <th>1</th>\n",
       "      <td>0.0741</td>\n",
       "      <td>0.0000</td>\n",
       "    </tr>\n",
       "    <tr>\n",
       "      <th>2</th>\n",
       "      <td>0.0741</td>\n",
       "      <td>0.0000</td>\n",
       "    </tr>\n",
       "    <tr>\n",
       "      <th>3</th>\n",
       "      <td>0.0741</td>\n",
       "      <td>0.0000</td>\n",
       "    </tr>\n",
       "    <tr>\n",
       "      <th>4</th>\n",
       "      <td>0.0741</td>\n",
       "      <td>0.0000</td>\n",
       "    </tr>\n",
       "    <tr>\n",
       "      <th rowspan=\"4\" valign=\"top\">id3</th>\n",
       "      <th rowspan=\"4\" valign=\"top\">g1</th>\n",
       "      <th>1</th>\n",
       "      <td>0.0000</td>\n",
       "      <td>0.0000</td>\n",
       "    </tr>\n",
       "    <tr>\n",
       "      <th>2</th>\n",
       "      <td>0.0000</td>\n",
       "      <td>0.0000</td>\n",
       "    </tr>\n",
       "    <tr>\n",
       "      <th>3</th>\n",
       "      <td>0.0000</td>\n",
       "      <td>0.0000</td>\n",
       "    </tr>\n",
       "    <tr>\n",
       "      <th>4</th>\n",
       "      <td>0.0000</td>\n",
       "      <td>0.0000</td>\n",
       "    </tr>\n",
       "    <tr>\n",
       "      <th rowspan=\"4\" valign=\"top\">id4</th>\n",
       "      <th rowspan=\"4\" valign=\"top\">g1</th>\n",
       "      <th>1</th>\n",
       "      <td>0.0000</td>\n",
       "      <td>0.0000</td>\n",
       "    </tr>\n",
       "    <tr>\n",
       "      <th>2</th>\n",
       "      <td>0.0000</td>\n",
       "      <td>0.0000</td>\n",
       "    </tr>\n",
       "    <tr>\n",
       "      <th>3</th>\n",
       "      <td>0.0000</td>\n",
       "      <td>0.0000</td>\n",
       "    </tr>\n",
       "    <tr>\n",
       "      <th>4</th>\n",
       "      <td>0.0000</td>\n",
       "      <td>0.0000</td>\n",
       "    </tr>\n",
       "    <tr>\n",
       "      <th rowspan=\"4\" valign=\"top\">id5</th>\n",
       "      <th rowspan=\"4\" valign=\"top\">g2</th>\n",
       "      <th>1</th>\n",
       "      <td>0.0000</td>\n",
       "      <td>0.0741</td>\n",
       "    </tr>\n",
       "    <tr>\n",
       "      <th>2</th>\n",
       "      <td>0.0000</td>\n",
       "      <td>0.0741</td>\n",
       "    </tr>\n",
       "    <tr>\n",
       "      <th>3</th>\n",
       "      <td>0.0000</td>\n",
       "      <td>0.0741</td>\n",
       "    </tr>\n",
       "    <tr>\n",
       "      <th>4</th>\n",
       "      <td>0.0000</td>\n",
       "      <td>0.0741</td>\n",
       "    </tr>\n",
       "    <tr>\n",
       "      <th rowspan=\"4\" valign=\"top\">id6</th>\n",
       "      <th rowspan=\"4\" valign=\"top\">g2</th>\n",
       "      <th>1</th>\n",
       "      <td>0.0000</td>\n",
       "      <td>0.0000</td>\n",
       "    </tr>\n",
       "    <tr>\n",
       "      <th>2</th>\n",
       "      <td>0.0000</td>\n",
       "      <td>0.0000</td>\n",
       "    </tr>\n",
       "    <tr>\n",
       "      <th>3</th>\n",
       "      <td>0.0000</td>\n",
       "      <td>0.0000</td>\n",
       "    </tr>\n",
       "    <tr>\n",
       "      <th>4</th>\n",
       "      <td>0.0000</td>\n",
       "      <td>0.0000</td>\n",
       "    </tr>\n",
       "  </tbody>\n",
       "</table>\n",
       "</div>"
      ],
      "text/plain": [
       "g_alias       g1      g2\n",
       "id  g  h                \n",
       "id1 g1 1  0.1274  0.0000\n",
       "       2  0.1274  0.0000\n",
       "       3  0.1274  0.0000\n",
       "       4  0.1274  0.0000\n",
       "id2 g1 1  0.0741  0.0000\n",
       "       2  0.0741  0.0000\n",
       "       3  0.0741  0.0000\n",
       "       4  0.0741  0.0000\n",
       "id3 g1 1  0.0000  0.0000\n",
       "       2  0.0000  0.0000\n",
       "       3  0.0000  0.0000\n",
       "       4  0.0000  0.0000\n",
       "id4 g1 1  0.0000  0.0000\n",
       "       2  0.0000  0.0000\n",
       "       3  0.0000  0.0000\n",
       "       4  0.0000  0.0000\n",
       "id5 g2 1  0.0000  0.0741\n",
       "       2  0.0000  0.0741\n",
       "       3  0.0000  0.0741\n",
       "       4  0.0000  0.0741\n",
       "id6 g2 1  0.0000  0.0000\n",
       "       2  0.0000  0.0000\n",
       "       3  0.0000  0.0000\n",
       "       4  0.0000  0.0000"
      ]
     },
     "execution_count": 6,
     "metadata": {},
     "output_type": "execute_result"
    }
   ],
   "source": [
    "s.unstack('g_alias').fillna(0)"
   ]
  }
 ],
 "metadata": {
  "kernelspec": {
   "display_name": "Python 3 (ipykernel)",
   "language": "python",
   "name": "python3"
  },
  "language_info": {
   "codemirror_mode": {
    "name": "ipython",
    "version": 3
   },
   "file_extension": ".py",
   "mimetype": "text/x-python",
   "name": "python",
   "nbconvert_exporter": "python",
   "pygments_lexer": "ipython3",
   "version": "3.9.7"
  }
 },
 "nbformat": 4,
 "nbformat_minor": 5
}
