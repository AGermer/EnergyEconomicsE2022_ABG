{
 "cells": [
  {
   "cell_type": "code",
   "execution_count": 1,
   "id": "49be62c5-6f4f-450d-8dfd-a4f46903d9b8",
   "metadata": {},
   "outputs": [],
   "source": [
    "import os"
   ]
  },
  {
   "cell_type": "code",
   "execution_count": null,
   "id": "e398b81e-16ec-47ce-95a9-5a85251bc89e",
   "metadata": {},
   "outputs": [],
   "source": [
    "%%capture\n",
    "for i in [x for x in os.listdir(os.getcwd()) if x.endswith('.ipynb') and not x.startswith('x')]:\n",
    "    %run $i\n",
    "    print(f\"{i} completed\")"
   ]
  }
 ],
 "metadata": {
  "kernelspec": {
   "display_name": "Python 3 (ipykernel)",
   "language": "python",
   "name": "python3"
  },
  "language_info": {
   "codemirror_mode": {
    "name": "ipython",
    "version": 3
   },
   "file_extension": ".py",
   "mimetype": "text/x-python",
   "name": "python",
   "nbconvert_exporter": "python",
   "pygments_lexer": "ipython3",
   "version": "3.9.7"
  }
 },
 "nbformat": 4,
 "nbformat_minor": 5
}
