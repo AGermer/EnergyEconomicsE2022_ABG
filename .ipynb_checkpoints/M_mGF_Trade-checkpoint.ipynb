{
 "cells": [
  {
   "cell_type": "code",
   "execution_count": 1,
   "id": "5c72bdd4-31b4-47f1-8e8a-b545a820583c",
   "metadata": {},
   "outputs": [],
   "source": [
    "%run stdPackages.ipynb\n",
    "read = {'variables': ['Fundamentals', 'LoadVariables', 'TransmissionLines', 'GeneratorsVariables'],\n",
    "        'maps': ['LoadMaps','GeneratorsMaps'],\n",
    "        'variable2D': ['HourlyVariation'],\n",
    "        'scalars': ['Scalars']}\n",
    "db = dbFromWB(os.path.join(d['data'],'mGF_Trade.xlsx'), read)\n",
    "readSets(db)"
   ]
  },
  {
   "cell_type": "markdown",
   "id": "b2f73623-9f68-4a06-bcf8-4e96e384b664",
   "metadata": {
    "tags": []
   },
   "source": [
    "# The ```mGF_Trade``` model"
   ]
  },
  {
   "cell_type": "code",
   "execution_count": 2,
   "id": "d47a868f-8356-45e0-a029-8e3319af4a8a",
   "metadata": {},
   "outputs": [
    {
     "name": "stdout",
     "output_type": "stream",
     "text": [
      "Solution status 0: Optimization terminated successfully.\n"
     ]
    }
   ],
   "source": [
    "m = mGF_Trade.mSimple(db)\n",
    "m.solve()"
   ]
  },
  {
   "cell_type": "code",
   "execution_count": 23,
   "id": "8ffce597-f011-4bc1-9692-089f302aa420",
   "metadata": {},
   "outputs": [
    {
     "data": {
      "text/plain": [
       "id\n",
       "g1_CD_Coal         0.000000\n",
       "g1_CD_NatGas       0.000000\n",
       "g1_CD_Nuclear     16.250000\n",
       "g1_PV            500.000000\n",
       "g1_WS              0.000000\n",
       "g2_CD_Coal         0.000000\n",
       "g2_CD_NatGas       0.000000\n",
       "g2_CD_Nuclear      1.088816\n",
       "g2_PV            500.000000\n",
       "g2_WS             55.789474\n",
       "dtype: float64"
      ]
     },
     "execution_count": 23,
     "metadata": {},
     "output_type": "execute_result"
    }
   ],
   "source": [
    "m.db['GeneratingCapacity']"
   ]
  }
 ],
 "metadata": {
  "kernelspec": {
   "display_name": "Python 3 (ipykernel)",
   "language": "python",
   "name": "python3"
  },
  "language_info": {
   "codemirror_mode": {
    "name": "ipython",
    "version": 3
   },
   "file_extension": ".py",
   "mimetype": "text/x-python",
   "name": "python",
   "nbconvert_exporter": "python",
   "pygments_lexer": "ipython3",
   "version": "3.9.7"
  }
 },
 "nbformat": 4,
 "nbformat_minor": 5
}
