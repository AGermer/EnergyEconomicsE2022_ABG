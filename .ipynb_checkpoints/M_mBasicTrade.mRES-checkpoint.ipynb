{
 "cells": [
  {
   "cell_type": "code",
   "execution_count": 1,
   "id": "0f576276-962f-423a-8a8e-db8ea76289d6",
   "metadata": {},
   "outputs": [],
   "source": [
    "%run stdPackages.ipynb\n",
    "read = {'variables': ['Fundamentals', 'Load', 'Generators_Other','TL','Regulation'], \n",
    "        'variable2D': ['Generators_FuelMix','HourlyVariation'],\n",
    "        'scalars': ['Scalars'],\n",
    "        'maps': ['Generators_Categories', 'Load_Categories']}\n",
    "db = dbFromWB(os.path.join(d['data'],'E3.xlsx'), read)\n",
    "readSets(db)"
   ]
  },
  {
   "cell_type": "markdown",
   "id": "e5b83941-51af-4233-8e4d-5d7c903d9f20",
   "metadata": {
    "tags": []
   },
   "source": [
    "# The ```mBasicTrade.mRES``` model"
   ]
  },
  {
   "cell_type": "markdown",
   "id": "bebb8464-9b4a-4c25-ac5e-7f92cda1eded",
   "metadata": {},
   "source": [
    "### **The model**"
   ]
  },
  {
   "cell_type": "markdown",
   "id": "8286cebe-70d3-4b1a-ae1e-442281335d57",
   "metadata": {},
   "source": [
    "The model is an extension to the [mBasicTrade](M_mBasicTrade.ipynb) model. The difference is that the share of electricity generation that is clean/green has a lower bound. We can enforce two types of: One common, or one for each geographic area."
   ]
  },
  {
   "cell_type": "markdown",
   "id": "5e6894f4-47b6-4ffe-847f-2beae55348c4",
   "metadata": {},
   "source": [
    "**With one common cap:**"
   ]
  },
  {
   "cell_type": "markdown",
   "id": "25ab2e20-01f2-46bd-ba19-304678c0dae3",
   "metadata": {},
   "source": [
    "$$\\begin{align}\n",
    "    \\sum_{id\\in\\text{cleanIds}}\\sum_{h} E_{id, h} \\geq& \\overline{\\text{RESCap}} \\cdot \\sum_{h,g} D_h^g \\tag{1}\n",
    "\\end{align}$$\n",
    "Written on the augmented linear programming form this becomes:\n",
    "$$\\begin{align}\n",
    "    \\overline{\\text{RESCap}} \\cdot \\sum_{h,g}D_h^g -\\sum_{id\\in\\text{cleanIds}}\\sum_{h} E_{id, h} \\leq 0. \\tag{2}\n",
    "\\end{align}$$"
   ]
  },
  {
   "cell_type": "markdown",
   "id": "88a68027-163d-4bbe-80da-dab6d4e41a90",
   "metadata": {},
   "source": [
    "Solve with common cap:"
   ]
  },
  {
   "cell_type": "code",
   "execution_count": 2,
   "id": "359d4f4a-0894-4b51-bebc-869645ccbdbc",
   "metadata": {},
   "outputs": [
    {
     "name": "stdout",
     "output_type": "stream",
     "text": [
      "Solution status 0: Optimization terminated successfully.\n"
     ]
    }
   ],
   "source": [
    "m = mBasicTrade.mRES(db,commonCap = True)\n",
    "m.solve()"
   ]
  },
  {
   "cell_type": "markdown",
   "id": "c2f0dfd7-dd64-43ad-994a-4e05bba36502",
   "metadata": {},
   "source": [
    "**With geograpic-specific caps:**"
   ]
  },
  {
   "cell_type": "markdown",
   "id": "1e4229ae-ea81-4141-896a-a68428fd3b6c",
   "metadata": {},
   "source": [
    "In this case the following constraint is imposed for each area $g$:"
   ]
  },
  {
   "cell_type": "markdown",
   "id": "b335c167-b236-45fa-bc8c-81395c723779",
   "metadata": {},
   "source": [
    "$$\\begin{align}\n",
    "    \\overline{RESCap}_g \\cdot \\sum_h D_h^g - \\sum_{id\\in \\text{cleanIds} \\text{ and }id\\in\\mathcal{I}_g} \\sum_h E_{id,h} \\leq 0.\n",
    "\\end{align}$$"
   ]
  },
  {
   "cell_type": "markdown",
   "id": "8f2accc0-4711-41e5-8b8c-d209e0f23b0c",
   "metadata": {},
   "source": [
    "Solve with geographic-specific caps:"
   ]
  },
  {
   "cell_type": "code",
   "execution_count": 3,
   "id": "25cbbe22-5fa1-43f8-8043-e68288ebe1dd",
   "metadata": {},
   "outputs": [
    {
     "name": "stdout",
     "output_type": "stream",
     "text": [
      "Solution status 0: Optimization terminated successfully.\n"
     ]
    }
   ],
   "source": [
    "m.commonCap = False\n",
    "m.solve()"
   ]
  },
  {
   "cell_type": "markdown",
   "id": "c112a384-bfcb-4bdd-9eea-46a43155b066",
   "metadata": {
    "tags": []
   },
   "source": [
    "### Adjustments to the code"
   ]
  },
  {
   "cell_type": "markdown",
   "id": "6721e1ac-4f40-4188-89b5-25c777f480b0",
   "metadata": {},
   "source": [
    "Compared to ```mBasicTrade``` the main adjustment is that there is an added ```block``` of the type ```ub```:"
   ]
  },
  {
   "cell_type": "markdown",
   "id": "1ec4c99c-af51-45f7-bc3c-fcb8ab0821bb",
   "metadata": {},
   "source": [
    "The specification of the constraint is in terms of syntax equivalent to the ```eq``` constraints:\n",
    "* There is a constraint named ```RESCapConstraint``` ,\n",
    "* with a parmeter constraint 0,\n",
    "* $A_{ub}$ coefficients for this constraint are:\n",
    "    * $-1$ on the variable  ```'Generation'```, but only for the renewable ids (```self.cleanIds```), and\n",
    "    * the parameter ```RESCap``` on the ```HourlyDemand``` variable."
   ]
  },
  {
   "cell_type": "markdown",
   "id": "68cbd49c-d0e3-4bb2-a888-446bddedd468",
   "metadata": {},
   "source": [
    "**With one common cap:**"
   ]
  },
  {
   "cell_type": "markdown",
   "id": "9a616162-01cf-45be-8a30-e3679f929bde",
   "metadata": {},
   "source": [
    "<img src=\"snippets/mBasicTrade_RES_snippet1.png\" width=\"1200\" height=\"400\">"
   ]
  },
  {
   "cell_type": "markdown",
   "id": "654ba2fa-7e7c-4481-99d7-e0e3f47a5b64",
   "metadata": {},
   "source": [
    "The parameter ```b``` is set to zero, ```Generation``` is added with coefficient $-1$ for ```self.cleanIds```, and ```HourlyDemand``` is added with the coefficient corresponding to the mean of entries in ```self.db['RESCap']``` (which is defined over $g$)."
   ]
  },
  {
   "cell_type": "markdown",
   "id": "4b7b7644-6d4e-4258-8c4f-5cc5ed0e15d9",
   "metadata": {},
   "source": [
    "**With geographic-specific caps:**"
   ]
  },
  {
   "cell_type": "markdown",
   "id": "41e208f0-242c-48f0-9e58-78d8f218862b",
   "metadata": {},
   "source": [
    "<img src=\"snippets/mBasicTrade_RES_snippet2.png\" width=\"1200\" height=\"400\">"
   ]
  },
  {
   "cell_type": "markdown",
   "id": "1c51f934-23b4-45a6-9889-ab1dc62cf2c0",
   "metadata": {},
   "source": [
    "In this case, the parameter constraint $b=0$ is repeated for all $g$:"
   ]
  },
  {
   "cell_type": "code",
   "execution_count": 4,
   "id": "48024c87-4f7e-4c99-968d-83611247eac8",
   "metadata": {},
   "outputs": [
    {
     "data": {
      "text/plain": [
       "g\n",
       "g1    0\n",
       "g2    0\n",
       "dtype: int64"
      ]
     },
     "execution_count": 4,
     "metadata": {},
     "output_type": "execute_result"
    }
   ],
   "source": [
    "pd.Series(0, index = m.db['RESCap'].index)"
   ]
  },
  {
   "cell_type": "markdown",
   "id": "03635dca-461a-4dac-b713-cc321db61482",
   "metadata": {},
   "source": [
    "The ```Generation``` variable is added with $-1$ (for ```self.cleanIds```). We add the index level ```g_alias``` as a copy of the level ```g``` to indicate that the coefficients are only used when the constraint index (```g_alias```) matches the variable index. The matrix $A$ becomes:"
   ]
  },
  {
   "cell_type": "code",
   "execution_count": 5,
   "id": "3ca4c2be-62d8-4a03-9fdd-c28954736b46",
   "metadata": {
    "scrolled": true,
    "tags": []
   },
   "outputs": [
    {
     "data": {
      "text/html": [
       "<div>\n",
       "<style scoped>\n",
       "    .dataframe tbody tr th:only-of-type {\n",
       "        vertical-align: middle;\n",
       "    }\n",
       "\n",
       "    .dataframe tbody tr th {\n",
       "        vertical-align: top;\n",
       "    }\n",
       "\n",
       "    .dataframe thead th {\n",
       "        text-align: right;\n",
       "    }\n",
       "</style>\n",
       "<table border=\"1\" class=\"dataframe\">\n",
       "  <thead>\n",
       "    <tr style=\"text-align: right;\">\n",
       "      <th></th>\n",
       "      <th></th>\n",
       "      <th>g_alias</th>\n",
       "      <th>g1</th>\n",
       "      <th>g2</th>\n",
       "    </tr>\n",
       "    <tr>\n",
       "      <th>id</th>\n",
       "      <th>g</th>\n",
       "      <th>h</th>\n",
       "      <th></th>\n",
       "      <th></th>\n",
       "    </tr>\n",
       "  </thead>\n",
       "  <tbody>\n",
       "    <tr>\n",
       "      <th rowspan=\"4\" valign=\"top\">id3</th>\n",
       "      <th rowspan=\"4\" valign=\"top\">g1</th>\n",
       "      <th>1</th>\n",
       "      <td>-1.0</td>\n",
       "      <td>0.0</td>\n",
       "    </tr>\n",
       "    <tr>\n",
       "      <th>2</th>\n",
       "      <td>-1.0</td>\n",
       "      <td>0.0</td>\n",
       "    </tr>\n",
       "    <tr>\n",
       "      <th>3</th>\n",
       "      <td>-1.0</td>\n",
       "      <td>0.0</td>\n",
       "    </tr>\n",
       "    <tr>\n",
       "      <th>4</th>\n",
       "      <td>-1.0</td>\n",
       "      <td>0.0</td>\n",
       "    </tr>\n",
       "    <tr>\n",
       "      <th rowspan=\"4\" valign=\"top\">id4</th>\n",
       "      <th rowspan=\"4\" valign=\"top\">g1</th>\n",
       "      <th>1</th>\n",
       "      <td>-1.0</td>\n",
       "      <td>0.0</td>\n",
       "    </tr>\n",
       "    <tr>\n",
       "      <th>2</th>\n",
       "      <td>-1.0</td>\n",
       "      <td>0.0</td>\n",
       "    </tr>\n",
       "    <tr>\n",
       "      <th>3</th>\n",
       "      <td>-1.0</td>\n",
       "      <td>0.0</td>\n",
       "    </tr>\n",
       "    <tr>\n",
       "      <th>4</th>\n",
       "      <td>-1.0</td>\n",
       "      <td>0.0</td>\n",
       "    </tr>\n",
       "    <tr>\n",
       "      <th rowspan=\"4\" valign=\"top\">id6</th>\n",
       "      <th rowspan=\"4\" valign=\"top\">g2</th>\n",
       "      <th>1</th>\n",
       "      <td>0.0</td>\n",
       "      <td>-1.0</td>\n",
       "    </tr>\n",
       "    <tr>\n",
       "      <th>2</th>\n",
       "      <td>0.0</td>\n",
       "      <td>-1.0</td>\n",
       "    </tr>\n",
       "    <tr>\n",
       "      <th>3</th>\n",
       "      <td>0.0</td>\n",
       "      <td>-1.0</td>\n",
       "    </tr>\n",
       "    <tr>\n",
       "      <th>4</th>\n",
       "      <td>0.0</td>\n",
       "      <td>-1.0</td>\n",
       "    </tr>\n",
       "  </tbody>\n",
       "</table>\n",
       "</div>"
      ],
      "text/plain": [
       "g_alias    g1   g2\n",
       "id  g  h          \n",
       "id3 g1 1 -1.0  0.0\n",
       "       2 -1.0  0.0\n",
       "       3 -1.0  0.0\n",
       "       4 -1.0  0.0\n",
       "id4 g1 1 -1.0  0.0\n",
       "       2 -1.0  0.0\n",
       "       3 -1.0  0.0\n",
       "       4 -1.0  0.0\n",
       "id6 g2 1  0.0 -1.0\n",
       "       2  0.0 -1.0\n",
       "       3  0.0 -1.0\n",
       "       4  0.0 -1.0"
      ]
     },
     "execution_count": 5,
     "metadata": {},
     "output_type": "execute_result"
    }
   ],
   "source": [
    "rc_pd(lpModels.appIndexWithCopySeries(pd.Series(-1, index = m.globalDomains['Generation']), 'g','g_alias'),\n",
    "      m.cleanIds).unstack(level='g_alias').fillna(0)"
   ]
  },
  {
   "cell_type": "markdown",
   "id": "982f7020-963b-4d14-86a7-55b2b3d0b979",
   "metadata": {},
   "source": [
    "The ```HourlyDemand``` variable is added with coefficient ```RESCap```. The coefficient is broadcasted to fit the ```HourlyDemand``` variable:"
   ]
  },
  {
   "cell_type": "code",
   "execution_count": 6,
   "id": "37dd25ae-9840-4f7b-8fdd-9897ae450dc7",
   "metadata": {},
   "outputs": [
    {
     "data": {
      "text/plain": [
       "g   h\n",
       "g1  1    0.1\n",
       "    2    0.1\n",
       "    3    0.1\n",
       "    4    0.1\n",
       "g2  1    0.1\n",
       "    2    0.1\n",
       "    3    0.1\n",
       "    4    0.1\n",
       "dtype: object"
      ]
     },
     "execution_count": 6,
     "metadata": {},
     "output_type": "execute_result"
    }
   ],
   "source": [
    "s = lpCompiler.broadcast(m.db['RESCap'], m.globalDomains['HourlyDemand'])\n",
    "s"
   ]
  },
  {
   "cell_type": "markdown",
   "id": "329dc419-c15a-422d-a825-8470060c1cbf",
   "metadata": {},
   "source": [
    "Then, as with the ```Generation``` variable, we add the ```g_alias``` index to indicate what constraints the variable enters in: Only when ```g=g_alias```:"
   ]
  },
  {
   "cell_type": "code",
   "execution_count": 7,
   "id": "43067c9e-20b0-4b34-949b-f30037b3c8b5",
   "metadata": {
    "scrolled": true,
    "tags": []
   },
   "outputs": [
    {
     "data": {
      "text/plain": [
       "g   h  g_alias\n",
       "g1  1  g1         0.1\n",
       "    2  g1         0.1\n",
       "    3  g1         0.1\n",
       "    4  g1         0.1\n",
       "g2  1  g2         0.1\n",
       "    2  g2         0.1\n",
       "    3  g2         0.1\n",
       "    4  g2         0.1\n",
       "dtype: object"
      ]
     },
     "execution_count": 7,
     "metadata": {},
     "output_type": "execute_result"
    }
   ],
   "source": [
    "lpModels.appIndexWithCopySeries(s, 'g', 'g_alias')"
   ]
  }
 ],
 "metadata": {
  "kernelspec": {
   "display_name": "Python 3 (ipykernel)",
   "language": "python",
   "name": "python3"
  },
  "language_info": {
   "codemirror_mode": {
    "name": "ipython",
    "version": 3
   },
   "file_extension": ".py",
   "mimetype": "text/x-python",
   "name": "python",
   "nbconvert_exporter": "python",
   "pygments_lexer": "ipython3",
   "version": "3.9.7"
  }
 },
 "nbformat": 4,
 "nbformat_minor": 5
}
