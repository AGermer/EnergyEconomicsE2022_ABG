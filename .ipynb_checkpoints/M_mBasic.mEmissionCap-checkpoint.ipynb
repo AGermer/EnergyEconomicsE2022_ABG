{
 "cells": [
  {
   "cell_type": "code",
   "execution_count": 1,
   "id": "ddfdffcf-1c3d-44e1-8257-752666e90b4b",
   "metadata": {},
   "outputs": [],
   "source": [
    "%run stdPackages.ipynb\n",
    "read = {'variables': ['Fundamentals', 'Load', 'Generators_Other'], \n",
    "        'variable2D': ['Generators_FuelMix'],\n",
    "        'scalars': ['Scalars'],\n",
    "        'maps': ['Generators_Categories']}\n",
    "db = dbFromWB(os.path.join(d['data'],'0_GlobalData.xlsx'), read)\n",
    "readSets(db)"
   ]
  },
  {
   "cell_type": "markdown",
   "id": "f3ddfa4f-23b8-4479-8270-feb8f73e7735",
   "metadata": {
    "tags": []
   },
   "source": [
    "# The ```mBasic.mEmissionCap``` model"
   ]
  },
  {
   "cell_type": "code",
   "execution_count": 2,
   "id": "b22c997a-337e-4c55-9dfa-215782f575de",
   "metadata": {},
   "outputs": [],
   "source": [
    "m = mBasic.mEmissionCap(db)\n",
    "m.solve()"
   ]
  },
  {
   "cell_type": "markdown",
   "id": "4b44d0f0-1299-4e07-ae86-a9f1d874e67b",
   "metadata": {},
   "source": [
    "### **The model**"
   ]
  },
  {
   "cell_type": "markdown",
   "id": "c6af2a86-5bf0-41d8-aeb9-decc1e3e9eba",
   "metadata": {},
   "source": [
    "The model is an extension to the model [mBasic](M_mBasic.ipynb); the note \"*Models for Energy Economics*\" describes the extension in section 1.2.1. The extension is that a cap on $CO_2$ emissions from fuel consumption. Specifically, as also outlined for ```mBasic```, fuel consumption and emissions can be computed as:\n",
    "$$\\begin{align}\n",
    "    \\text{FuelConsumption}_{BFt} =& \\sum_{id}\\mu_{BFt}^{id}\\cdot E_{id} \\\\ \n",
    "    \\text{Emissions}_m =& \\sum_{BFt}\\text{FuelConsumption}_{BFt}\\cdot \\text{EmissionIntensity}_{BFt,m},\n",
    "\\end{align}$$\n",
    "where $\\mu_{BFt}^{id}$ is the fuel intensity for plant $id$. The emission cap is thus included as the inequality constraint that:\n",
    "$$\\begin{align}\n",
    "    \\sum_{BFt} \\sum_{id}\\mu_{BFt}^{id}\\cdot E_{id} \\cdot \\text{EmissionIntensity}_{BFt,CO2} \\leq \\text{CO2Cap}\n",
    "\\end{align}$$"
   ]
  },
  {
   "cell_type": "markdown",
   "id": "b7bedcd8-5da5-4332-be98-6188328aa60d",
   "metadata": {},
   "source": [
    "### **Augmented-form LP**"
   ]
  },
  {
   "cell_type": "markdown",
   "id": "3a6482c1-cb28-47ad-b922-abdb95c2fc16",
   "metadata": {},
   "source": [
    "To solve the model, the algorithm in ```scipy.optimize.linprog``` requires that we specify the problem in the 'augmented'-form that specifically looks as follows:\n",
    "$$\\begin{align} \\tag{2}\n",
    "    &\\min_{x}\\mbox{ }c^T\\cdot x \\\\ \n",
    "    &A_{ub}\\times x \\leq b_{ub} \\\\ \n",
    "    &A_{eq}\\times x  = b_{eq} \\\\ \n",
    "    &l\\leq x\\leq u,\n",
    "\\end{align}$$\n",
    "where \n",
    "* $c,x,l,u$ are all vectors of the same length $N$, \n",
    "* $b_{eq},b_{ub}$ are vectors of lengths $N_{eq},N_{ub}$ respectively,\n",
    "* and $A_{eq}, A_{ub}$ are coefficient matrices of sizes $(N_{eq}\\times N)$ and $(N_{ub} \\times N)$ respectively."
   ]
  },
  {
   "cell_type": "markdown",
   "id": "92e428df-8439-4b0b-be1f-4786ce5e4131",
   "metadata": {},
   "source": [
    "Extending the model with the emission cap is straightforward here, as the ```mBasic``` do not have any other inequality constraints and the extension does not warrant any new definition of variables. Thus, the augmented form becomes (note $A_{ub}$ is transposed here):\n",
    "<b id='augmentedForm'>\n",
    "    \n",
    "$$\\begin{align}\\tag{3}\n",
    "c = \\begin{pmatrix} mc_{id1} \\\\ \\vdots \\\\ mc_{idN}\\end{pmatrix}, \\qquad l = \\begin{pmatrix} 0 \\\\ \\vdots \\\\ 0 \\end{pmatrix}, \\qquad u = \\begin{pmatrix} q_{id1} \\\\ \\vdots \\\\ q_{idN}\\end{pmatrix}, \\qquad b_{eq} = L, \\qquad A_{eq} = \\begin{pmatrix} 1 & \\cdots & 1 \\end{pmatrix}, \\qquad b_{ub} = \\text{CO2Cap}, \\qquad A_{ub} = \\begin{pmatrix} \\sum_{BFt}\\mu_{BFt}^{id1} \\cdot \\text{EmissionIntensity}_{BFt,CO2} \\\\ \\vdots \\\\ \\sum_{BFt}\\mu_{BFt}^{idN} \\cdot \\text{EmissionIntensity}_{BFt,CO2} \\end{pmatrix}^T\n",
    "\\end{align}$$\n"
   ]
  },
  {
   "cell_type": "markdown",
   "id": "c4f1ebe3-d6e1-43b9-b373-d712932a2149",
   "metadata": {
    "tags": []
   },
   "source": [
    "### Adjustments to the code"
   ]
  },
  {
   "cell_type": "markdown",
   "id": "47e2aee0-42c2-4b45-b17a-b9a75203911a",
   "metadata": {},
   "source": [
    "Compared to ```mBasic``` the main adjustment is that there is an added ```block``` of the type ```ub```:"
   ]
  },
  {
   "cell_type": "markdown",
   "id": "8ee7d96a-1301-4215-8933-0e99effae187",
   "metadata": {},
   "source": [
    "<img src=\"snippets/mBasic_EmissionCap_snippet.png\" width=\"1300\" height=\"400\">"
   ]
  },
  {
   "cell_type": "markdown",
   "id": "deae96e9-0930-4907-a2c5-67bae8cf3f19",
   "metadata": {},
   "source": [
    "The specification of the constraint is in terms of syntax equivalent to the ```eq``` constraints:\n",
    "* There is a constraint named ```emissionsCap``` ,\n",
    "* with the parameter constraint $b_{ub}$ from ```self.db['CO2Cap']```.\n",
    "* $A_{ub}$ coefficients for this constraint are on the variable ```'Generation'``` and specifically given by their emission intensity computed by the function ```plantEmissionIntensity``` (follows the formula in [equation (3)](#augmentedForm))."
   ]
  },
  {
   "cell_type": "code",
   "execution_count": 3,
   "id": "d0497abf-92af-4d48-8bb0-2029fc20772b",
   "metadata": {},
   "outputs": [
    {
     "data": {
      "text/plain": [
       "id\n",
       "id1    0.413676\n",
       "id2    0.104306\n",
       "id3       0.066\n",
       "id4    0.036637\n",
       "id5    0.135125\n",
       "id6         0.0\n",
       "id7         0.0\n",
       "id8         0.0\n",
       "dtype: object"
      ]
     },
     "execution_count": 3,
     "metadata": {},
     "output_type": "execute_result"
    }
   ],
   "source": [
    "mBasic.plantEmissionIntensity(m.db)"
   ]
  }
 ],
 "metadata": {
  "kernelspec": {
   "display_name": "Python 3 (ipykernel)",
   "language": "python",
   "name": "python3"
  },
  "language_info": {
   "codemirror_mode": {
    "name": "ipython",
    "version": 3
   },
   "file_extension": ".py",
   "mimetype": "text/x-python",
   "name": "python",
   "nbconvert_exporter": "python",
   "pygments_lexer": "ipython3",
   "version": "3.9.7"
  }
 },
 "nbformat": 4,
 "nbformat_minor": 5
}
