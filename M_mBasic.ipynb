{
 "cells": [
  {
   "cell_type": "markdown",
   "id": "88145ee9-e4d7-4034-8aea-bfeb7a5c1377",
   "metadata": {},
   "source": [
    "*Load packages and data:*"
   ]
  },
  {
   "cell_type": "code",
   "execution_count": 1,
   "id": "065a7f85-7279-4a8c-8c96-2e408e588394",
   "metadata": {},
   "outputs": [],
   "source": [
    "%run stdPackages.ipynb\n",
    "read = {'variables': ['Fundamentals', 'Load', 'Generators_Other'], \n",
    "        'variable2D': ['Generators_FuelMix'],\n",
    "        'maps': ['Generators_Categories']}\n",
    "db = dbFromWB(os.path.join(d['data'],'0_GlobalData.xlsx'), read)\n",
    "readSets(db)"
   ]
  },
  {
   "cell_type": "markdown",
   "id": "e466856e-1e5a-4402-9827-8192613e537b",
   "metadata": {
    "tags": []
   },
   "source": [
    "# The ```mBasic``` model"
   ]
  },
  {
   "cell_type": "markdown",
   "id": "7d61c540-429b-4135-a303-b2c882008944",
   "metadata": {},
   "source": [
    "### **The model**"
   ]
  },
  {
   "cell_type": "markdown",
   "id": "2b7f4b8c-0514-459e-b086-13b79fd16e04",
   "metadata": {},
   "source": [
    "The class specifies the simple linear electricity system model specified as:\n",
    "<a id='simplemodel'>\n",
    "$$\\begin{align} \\tag{1}\n",
    "    \\min \\text{SystemCosts} &= \\sum_{id}mc_{id} E_{id} \\\\ \n",
    "               \\text{Load} &= \\sum_{id} E_{id} \\\\ \n",
    "               E_{id}&\\in[0,q_{id}], && \\text{for all }id. \n",
    "\\end{align}$$\n",
    "\n",
    "This model minimizes the system costs of satisfying a given level of demand (Load) by supply $(E_{id})$ from different producers at the cost $mc_{id}$. Each producer can at most produce $q_{id}$. The relevant parameters for the model example are pre-loaded to the database ```db```. The database uses the name definitions: $E_{id}$ = ```'Generation'``` and $q_{id}$ = ```'GeneratingCapacity'```."
   ]
  },
  {
   "cell_type": "markdown",
   "id": "e1730c03-1bd0-488c-ae37-3ead8b28a03e",
   "metadata": {},
   "source": [
    "### **Standard-form LP**"
   ]
  },
  {
   "cell_type": "markdown",
   "id": "6445a6c2-4890-4728-8a6a-782b0817045d",
   "metadata": {},
   "source": [
    "To solve the model, the algorithm in ```scipy.optimize.linprog``` requires that we specify the problem in the 'standard'-form that specifically looks as follows:\n",
    "$$\\begin{align} \\tag{2}\n",
    "    &\\min_{x}\\mbox{ }c^T\\cdot x \\\\ \n",
    "    &A_{ub}\\times x \\leq b_{ub} \\\\ \n",
    "    &A_{eq}\\times x  = b_{eq} \\\\ \n",
    "    &l\\leq x\\leq u,\n",
    "\\end{align}$$\n",
    "where \n",
    "* $c,x,l,u$ are all vectors of the same length $N$, \n",
    "* $b_{eq},b_{ub}$ are vectors of lengths $N_{eq},N_{ub}$ respectively,\n",
    "* and $A_{eq}, A_{ub}$ are coefficient matrices of sizes $(N_{eq}\\times N)$ and $(N_{ub} \\times N)$ respectively."
   ]
  },
  {
   "cell_type": "markdown",
   "id": "62a73efa-41f8-41ba-b540-35d87c56c089",
   "metadata": {},
   "source": [
    "You can confirm that to go from the specific model in equations (1) and the standard form in (2), we have (symbols from (2) on the left, symbols from (1) on the right)):\n",
    "<a id='standardform'>\n",
    "$$\\begin{align}\\tag{3}\n",
    "c = \\begin{pmatrix} mc_{id1} \\\\ \\vdots \\\\ mc_{idN}\\end{pmatrix}, \\qquad l = \\begin{pmatrix} 0 \\\\ \\vdots \\\\ 0 \\end{pmatrix}, \\qquad u = \\begin{pmatrix} q_{id1} \\\\ \\vdots \\\\ q_{idN}\\end{pmatrix}, \\qquad b_{eq} = L, \\qquad A_{eq} = \\begin{pmatrix} 1 & \\cdots & 1 \\end{pmatrix}.\n",
    "\\end{align}$$\n"
   ]
  },
  {
   "cell_type": "markdown",
   "id": "c4d1aa11-1915-4013-a24d-99f8c4082803",
   "metadata": {
    "tags": []
   },
   "source": [
    "## 1. Initialize and solve model"
   ]
  },
  {
   "cell_type": "markdown",
   "id": "ed321b9a-33b5-48bb-b9f1-cf314f688a8c",
   "metadata": {},
   "source": [
    "The model is initialized with the database as input using: "
   ]
  },
  {
   "cell_type": "code",
   "execution_count": 2,
   "id": "c2938464-9421-4895-a321-88bf1e74b14f",
   "metadata": {},
   "outputs": [],
   "source": [
    "m = lpModels.mBasic(db)"
   ]
  },
  {
   "cell_type": "markdown",
   "id": "5f7f0df9-6882-4d88-90a1-2aabc8192477",
   "metadata": {},
   "source": [
    "All models are provided with three main methods: ```self.preSolve```, ```self.initBlocks```, and ```self.postSolve```. The ```preSolve``` and ```postSolve``` methods are used to carry out computations before and after the model is solved, respectively. The following goes through each of these methods to giv esome insight into how to specify new/adjust models. However, it should be noted that all it takes to set up and solve the model is the following single statement:"
   ]
  },
  {
   "cell_type": "code",
   "execution_count": 3,
   "id": "50fe8d0c-d429-42eb-aa6a-f4302ec2fd0a",
   "metadata": {},
   "outputs": [
    {
     "name": "stdout",
     "output_type": "stream",
     "text": [
      "Solution status 0: Optimization terminated successfully.\n"
     ]
    }
   ],
   "source": [
    "m.solve()"
   ]
  },
  {
   "cell_type": "markdown",
   "id": "d225289e-5fe1-4bd8-9157-cfdceca7e35a",
   "metadata": {},
   "source": [
    "### 1.1: ```preSolve:```\n",
    "In this model the marginal costs $mc$ are computed ```preSolve``` based on the cost of fuels, emissions, and other costs:\n",
    "$$\\begin{align}\\tag{2}\n",
    " mc_{id} = \\text{OtherMC}_{id}+\\sum_{BFt} \\mu_{BFt}^{id}\\left[\\text{FuelPrice}_{BFt}+\\sum_m\\left(\\text{EmissionTax}_{m}\\cdot \\text{EmissionIntensity}_{BFt,m}\\right)\\right],\n",
    "\\end{align}$$\n",
    "Here $BFt$ is a set of fuel types, $m$ is an index over types of emissions (e.g. CO2 or SO2), and $\\mu_{BFt}^{id}$ specifies how much fuel $BFt$ is needed for producer $id$ to produce one MWh of electricity."
   ]
  },
  {
   "cell_type": "code",
   "execution_count": 4,
   "id": "54bc27f8-f8de-4cc2-9cf0-ee71e2e7818f",
   "metadata": {},
   "outputs": [
    {
     "data": {
      "text/plain": [
       "id\n",
       "id1    11.872521\n",
       "id2    12.346414\n",
       "id3    12.193476\n",
       "id4     8.393216\n",
       "id5     5.031068\n",
       "id6    23.443656\n",
       "id7          3.0\n",
       "id8          3.0\n",
       "dtype: object"
      ]
     },
     "execution_count": 4,
     "metadata": {},
     "output_type": "execute_result"
    }
   ],
   "source": [
    "m.preSolve()\n",
    "m.db['mc']"
   ]
  },
  {
   "cell_type": "markdown",
   "id": "4a6c1bc9-6cde-42fd-8a2d-cfb751c78af5",
   "metadata": {},
   "source": [
    "Note that we could also just have added the marginal costs $mc$ to the database along with all the other data. The reason we include this in the ```preSolve``` method is that this allows us to easily update e.g. the emission taxes and re-solve the model. The experiment in section 2 elaborates on this."
   ]
  },
  {
   "cell_type": "markdown",
   "id": "2a1ce27d-0903-4181-942c-47f26e7ef9e5",
   "metadata": {},
   "source": [
    "### 1.2: ```initBlocks:```"
   ]
  },
  {
   "cell_type": "markdown",
   "id": "9966f54d-7b0b-422e-bc31-633ddeb6317f",
   "metadata": {},
   "source": [
    "This method adds the information translating the model into a [standard-form LP problem](#standardform). As outlined above, this boils down to specifying five components: Cost coefficients ('c'), lower bounds ('l'), upper bounds ('u'), equality constraints ('eq'), and inequality constraints ('ub'). We use the ```lpBlock``` class to help us specify these (see [_Class_lpBlock.ipynb](_Class_lpBlock.ipynb) for help on syntax etc.)\n",
    "\n",
    "* Cost coefficients 'c': We specify that the coefficients are given by the 'mc' parameter, and that the coefficients are related to the variable 'Generation'.\n",
    "* Upper bounds 'u': We specify that the variable 'Generation' is bound by the parameter called 'GeneratingCapacity'.\n",
    "* Lower bounds 'l': We do not specify anything here; the reason is that the lower bound is zero, which is used as default.\n",
    "* Equality constraints 'eq': We specify that the constraint that we call 'equilibrium' consists of (i) the constant $b_{eq}$ corresponding to the 'Load' variable, and (ii) the matrix $A_{eq}$ that consists of ones multiplied onto the variable 'Generation'.\n",
    "* Inequality constraints 'ub': No inequality constraints in this model."
   ]
  },
  {
   "cell_type": "markdown",
   "id": "9adf7f32-06c6-413f-9e3b-77a721e1596a",
   "metadata": {},
   "source": [
    "<img src=\"mBasic_snippet.png\" width=\"1000\" height=\"400\">"
   ]
  },
  {
   "cell_type": "markdown",
   "id": "1dc2893b-45b4-4c1c-909c-697ef24ced2d",
   "metadata": {},
   "source": [
    "We can confirm that these settings results in the vectors/matrices as specified in equations [(3)](#standardform) by printing the following:"
   ]
  },
  {
   "cell_type": "markdown",
   "id": "7ad404c4-1282-47c7-a4a9-515f595c498d",
   "metadata": {},
   "source": [
    "*$c$-coefficients: A vector of 'mc' parameters for each $id$ producer*"
   ]
  },
  {
   "cell_type": "code",
   "execution_count": 5,
   "id": "21b25435-1945-4631-b4f0-f85e09cf2fa8",
   "metadata": {},
   "outputs": [
    {
     "data": {
      "text/plain": [
       "array([11.872520789065591, 12.346413778840134, 12.193476419423797,\n",
       "       8.393216172041864, 5.0310677452878725, 23.44365590801896, 3.0, 3.0],\n",
       "      dtype=object)"
      ]
     },
     "execution_count": 5,
     "metadata": {},
     "output_type": "execute_result"
    }
   ],
   "source": [
    "m.blocks.lp_c "
   ]
  },
  {
   "cell_type": "markdown",
   "id": "dc3173ba-b575-4709-bb3f-6544b0205205",
   "metadata": {},
   "source": [
    "*Lower and upper bounds: Bounded by zero from below and 'GeneratingCapacity' above for each $id$:*"
   ]
  },
  {
   "cell_type": "code",
   "execution_count": 6,
   "id": "b841b584-da90-49b1-a2f6-d3ece7e074f8",
   "metadata": {},
   "outputs": [
    {
     "data": {
      "text/plain": [
       "array([[ 0., 10.],\n",
       "       [ 0., 15.],\n",
       "       [ 0., 10.],\n",
       "       [ 0., 30.],\n",
       "       [ 0.,  5.],\n",
       "       [ 0.,  8.],\n",
       "       [ 0., 35.],\n",
       "       [ 0., 10.]])"
      ]
     },
     "execution_count": 6,
     "metadata": {},
     "output_type": "execute_result"
    }
   ],
   "source": [
    "m.blocks.lp_bounds"
   ]
  },
  {
   "cell_type": "markdown",
   "id": "0ddc52be-3fb4-40c9-ae92-f40e78006e04",
   "metadata": {},
   "source": [
    "*$A_{eq}$ and $b_{eq}$: A vector of ones for each $id$ and the 'Load':*"
   ]
  },
  {
   "cell_type": "code",
   "execution_count": 7,
   "id": "44611c11-ae8f-45d2-9f18-dedafcd08f02",
   "metadata": {},
   "outputs": [
    {
     "data": {
      "text/plain": [
       "(array([[1, 1, 1, 1, 1, 1, 1, 1]], dtype=int64), array([100], dtype=object))"
      ]
     },
     "execution_count": 7,
     "metadata": {},
     "output_type": "execute_result"
    }
   ],
   "source": [
    "m.blocks.lp_A_eq, m.blocks.lp_b_eq"
   ]
  },
  {
   "cell_type": "markdown",
   "id": "0635cfae-5783-421c-9417-75eddb2eb212",
   "metadata": {},
   "source": [
    "### 1.3: ```postSolve:```"
   ]
  },
  {
   "cell_type": "markdown",
   "id": "b78f151a-04cc-42ca-a18c-693c3e4d7864",
   "metadata": {},
   "source": [
    "The ```postSolve``` method is used to extract the solution and do some simple computations after the linear program is solved. In this case, we go through the following four steps: (1) Unload the solution to the main database, (2) Store the objective value as 'SystemCosts', (3) Compute the fuel consumption based on the solution, and (4) compute emissions based on the solution:"
   ]
  },
  {
   "cell_type": "markdown",
   "id": "55b89a85-3ef0-47db-aca5-d45a55dfb667",
   "metadata": {},
   "source": [
    "<img src=\"mBasic_snippet2.png\" width=\"600\" height=\"400\">"
   ]
  },
  {
   "cell_type": "markdown",
   "id": "48ebd6fc-343d-4768-a170-463018babcd1",
   "metadata": {},
   "source": [
    "The functions used to compute fuel consumption and emissions are specified elsewhere in the program as the equations:\n",
    "$$\\begin{align}\n",
    "    \\text{FuelConsumption}_{BFt} =& \\sum_{id}\\mu_{BFt}^{id}\\cdot E_{id} \\\\ \n",
    "    \\text{Emissions}_m =& \\sum_{BFt}\\text{FuelConsumption}_{BFt}\\cdot \\text{EmissionIntensity}_{BFt,m}\n",
    "\\end{align}$$\n",
    "\n",
    "Note that we could have included these two equations as equality constraints in the [linear program in equation (1)](#simplemodel). However, as a general guideline, one should try to keep as little as possible in the *optimization part* of the problem and do as much as possible in preSolve/postSolve steps; this is computationally more efficient and it is easier to write the code. In more complicated models, e.g. with quotas on total emissions, we would have to include these equations in the optimization part of the model."
   ]
  },
  {
   "cell_type": "markdown",
   "id": "e188fec8-26cc-4978-8f62-4f6276024ac5",
   "metadata": {
    "tags": []
   },
   "source": [
    "## 2. Setting up simple experiments"
   ]
  },
  {
   "cell_type": "markdown",
   "id": "c693154e-3265-496f-8aa6-97605c7e153a",
   "metadata": {},
   "source": [
    "Now that we have covered the basics of the model ```mBasic```, let's do a simple policy simulation in the model and investigate *what happens to system costs, fuel consumption, and emissions, if we gradually increase the tax on $CO_2$ emissions.* To investigate this we use the standard method ```loopSolveExtract``` that comes with all LP models you will see in this course. This method draws on three inputs:\n",
    "1. A loop object to loop through.\n",
    "2. A collection of grids with parameter values that are updated in the loop.\n",
    "3. A list of variables that we want to inspect for all solutions in the loop."
   ]
  },
  {
   "cell_type": "markdown",
   "id": "2354c132-2558-4f6c-9cae-287e2baf910d",
   "metadata": {
    "tags": []
   },
   "source": [
    "### 2.1. Loop object"
   ]
  },
  {
   "cell_type": "markdown",
   "id": "23b1823f-0ace-447a-818b-6f16e2fcd022",
   "metadata": {},
   "source": [
    "The loop object has to be a ```pd.Index```. The length of the loop identifies the number of loops to run through, but is otherwise not that interesting. This is a loop with 11 elements:"
   ]
  },
  {
   "cell_type": "code",
   "execution_count": 8,
   "id": "14122174-0e3e-4554-ba75-df5bbcde63ba",
   "metadata": {},
   "outputs": [],
   "source": [
    "loop = pd.Index(range(11), name = 'loop')"
   ]
  },
  {
   "cell_type": "markdown",
   "id": "073907e5-1e17-4928-8922-66021ae675fc",
   "metadata": {
    "tags": []
   },
   "source": [
    "### 2.2. Grids"
   ]
  },
  {
   "cell_type": "markdown",
   "id": "6a811941-192f-4e11-b43e-8af2b6db2045",
   "metadata": {},
   "source": [
    "The grids are ```pd.Series``` that are defined over the loop index and potentially other. Consider for instance the simulation with 'EmissionTax' being gradually increased for $CO2$ only. The parameter 'EmissionTax' is itself defined over the index 'EmissionType':"
   ]
  },
  {
   "cell_type": "code",
   "execution_count": 9,
   "id": "c4aab3ff-7b0c-4a2a-8661-79378d6e9a74",
   "metadata": {},
   "outputs": [
    {
     "data": {
      "text/plain": [
       "EmissionType\n",
       "CO2    35.513339\n",
       "SO2     3.245415\n",
       "Name: EmissionTax, dtype: object"
      ]
     },
     "execution_count": 9,
     "metadata": {},
     "output_type": "execute_result"
    }
   ],
   "source": [
    "db['EmissionTax']"
   ]
  },
  {
   "cell_type": "markdown",
   "id": "54dea8ab-cd08-454d-ad6f-cf080bdb7581",
   "metadata": {},
   "source": [
    "Assume that we want to simulate the effect of inreasing the tax on $CO2$ from $0$ to $100$. We then need a parameter defined over the loop index and 'EmissionType'. We can use the ```addGrid``` function to create this by specifying the first and end value in the grid:"
   ]
  },
  {
   "cell_type": "code",
   "execution_count": 10,
   "id": "a05a6eb9-35aa-4e19-a3a4-2bd89546810f",
   "metadata": {},
   "outputs": [
    {
     "data": {
      "text/plain": [
       "loop  EmissionType\n",
       "0     CO2               0.0\n",
       "1     CO2              10.0\n",
       "2     CO2              20.0\n",
       "3     CO2              30.0\n",
       "4     CO2              40.0\n",
       "5     CO2              50.0\n",
       "6     CO2              60.0\n",
       "7     CO2              70.0\n",
       "8     CO2              80.0\n",
       "9     CO2              90.0\n",
       "10    CO2             100.0\n",
       "Name: EmissionTax, dtype: float64"
      ]
     },
     "execution_count": 10,
     "metadata": {},
     "output_type": "execute_result"
    }
   ],
   "source": [
    "v0 = pd.Series(0, index = pd.Index(['CO2'], name = 'EmissionType'))\n",
    "vT = pd.Series(100, index = pd.Index(['CO2'], name = 'EmissionType'))\n",
    "taxGrid = addGrid(v0,vT,loop,'EmissionTax')\n",
    "taxGrid"
   ]
  },
  {
   "cell_type": "markdown",
   "id": "cf4cb999-df12-4aee-a638-a118beda0b0e",
   "metadata": {
    "tags": []
   },
   "source": [
    "### 2.3. Extract symbols"
   ]
  },
  {
   "cell_type": "markdown",
   "id": "dc7b47f3-9f4c-49e9-a485-0f2207ee6f64",
   "metadata": {},
   "source": [
    "Finally, we need to specify that variables we are interested in to inspect. This is straightforward to specify, for instance:"
   ]
  },
  {
   "cell_type": "code",
   "execution_count": 11,
   "id": "6d6609c5-5c7f-457c-97ed-cda4c5a3060e",
   "metadata": {},
   "outputs": [],
   "source": [
    "extract = ['SystemCosts','FuelConsumption','Emissions']"
   ]
  },
  {
   "cell_type": "markdown",
   "id": "0d419ce2-57aa-485f-af17-8bc088fca0ed",
   "metadata": {
    "tags": []
   },
   "source": [
    "### 2.4. Run experiment"
   ]
  },
  {
   "cell_type": "markdown",
   "id": "6f866f0f-bc5b-4f3d-90a1-344cfae3ae8c",
   "metadata": {},
   "source": [
    "We run the experiment using the ```loopSolvExtract``` method:"
   ]
  },
  {
   "cell_type": "code",
   "execution_count": 16,
   "id": "bf228703-4228-43f8-98b5-71639c6dc7f5",
   "metadata": {},
   "outputs": [],
   "source": [
    "solution = m.loopSolveExtract(loop,[taxGrid],extract,preSolve={'recomputeMC': True})"
   ]
  },
  {
   "cell_type": "markdown",
   "id": "ee79be97-cf2b-4959-a946-38162faae9a2",
   "metadata": {},
   "source": [
    "The solution is returned as a ```dict```. We can now inspect total CO2 emissions:"
   ]
  },
  {
   "cell_type": "code",
   "execution_count": 20,
   "id": "3aed0374-ed37-40ba-9062-df5399f68731",
   "metadata": {},
   "outputs": [
    {
     "data": {
      "image/png": "[encoded data removed]",
      "text/plain": [
       "<Figure size 576x396 with 1 Axes>"
      ]
     },
     "metadata": {},
     "output_type": "display_data"
    }
   ],
   "source": [
    "solution['Emissions'].xs('CO2').plot();"
   ]
  }
 ],
 "metadata": {
  "kernelspec": {
   "display_name": "Python 3 (ipykernel)",
   "language": "python",
   "name": "python3"
  },
  "language_info": {
   "codemirror_mode": {
    "name": "ipython",
    "version": 3
   },
   "file_extension": ".py",
   "mimetype": "text/x-python",
   "name": "python",
   "nbconvert_exporter": "python",
   "pygments_lexer": "ipython3",
   "version": "3.9.7"
  }
 },
 "nbformat": 4,
 "nbformat_minor": 5
}
