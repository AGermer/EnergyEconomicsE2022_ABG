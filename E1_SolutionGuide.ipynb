{
 "cells": [
  {
   "cell_type": "markdown",
   "id": "3e16cebf-daf4-4735-8a76-971a9a61b8f4",
   "metadata": {},
   "source": [
    "*Load packages and data:*"
   ]
  },
  {
   "cell_type": "code",
   "execution_count": 1,
   "id": "84db8c4c-ddd0-44df-9d81-8fc1c025f85d",
   "metadata": {},
   "outputs": [],
   "source": [
    "%run stdPackages.ipynb\n",
    "read = {'variables': ['Fundamentals', 'Load', 'Generators_Other'], \n",
    "        'variable2D': ['Generators_FuelMix'],\n",
    "        'maps': ['Generators_Categories']}\n",
    "db = dbFromWB(os.path.join(d['data'],'E1.xlsx'), read)\n",
    "readSets(db)"
   ]
  },
  {
   "cell_type": "markdown",
   "id": "65afb5fd-895e-4d66-8540-275af7226413",
   "metadata": {
    "tags": []
   },
   "source": [
    "# Exercise 1: Getting to know the ```mBasic``` model class"
   ]
  },
  {
   "cell_type": "markdown",
   "id": "106ea3bc-1f3d-4bb4-ab7b-01b6b95afd1f",
   "metadata": {
    "tags": []
   },
   "source": [
    "### Problem 1: Compute the marginal costs of operation for the five plants."
   ]
  },
  {
   "cell_type": "markdown",
   "id": "2ed55a64-a49e-4d2b-94e9-a1ed6be2e7ca",
   "metadata": {},
   "source": [
    "The plants pays a price (```FuelPrice```) for the fuel inputs and pays a tax (```EmissionTax```)  on the CO2 it emits. Furthermore, the plant has 'other costs' of operation (```OtherMC```). The marginal cost of operation for the five plants are then computed as:\n",
    "$$\\begin{align}\n",
    " mc_{id} = \\text{OtherMC}_{id}+\\sum_{BFt} \\mu_{BFt}^{id}\\left[\\text{FuelPrice}_{BFt}+\\text{EmissionTax}\\cdot \\text{EmissionIntensity}_{BFt}\\right],\n",
    "\\end{align}$$"
   ]
  },
  {
   "cell_type": "markdown",
   "id": "f2e56715-ee3c-4d4a-9135-946ca0235d25",
   "metadata": {},
   "source": [
    "To compute the marginal costs of operation, we need to access four symbols: (1) ```OtherMC```, (2) ```FuelMix```, (3) ```FuelPrice```, (4) ```EmissionTax```, and (5) ```EmissionIntensity```."
   ]
  },
  {
   "cell_type": "markdown",
   "id": "c29fd4c1-087c-4e2d-871d-3e12eba84f6b",
   "metadata": {},
   "source": [
    "*Fuel costs:* The symbols ```FuelMix``` and ```FuelPrice``` are both defined over the index ```BFt```, which represents the fuel types in the model. The ```pandas``` package thus allows us to simply multiply the two to get the following symbol defined over both [BFt, id]:"
   ]
  },
  {
   "cell_type": "code",
   "execution_count": 2,
   "id": "b8b58b90-0b6b-48b4-aa7d-b03253c67254",
   "metadata": {},
   "outputs": [
    {
     "data": {
      "text/plain": [
       "BFt      id \n",
       "Coal     id1    2.126216\n",
       "         id2    0.236246\n",
       "         id3         0.0\n",
       "         id4         0.0\n",
       "         id5         0.0\n",
       "NatGas   id1    0.504624\n",
       "         id2    4.541617\n",
       "         id3         0.0\n",
       "         id4         0.0\n",
       "         id5         0.0\n",
       "BioMass  id1         0.0\n",
       "         id2         0.0\n",
       "         id3    6.996357\n",
       "         id4         0.0\n",
       "         id5         0.0\n",
       "Waste    id1         0.0\n",
       "         id2         0.0\n",
       "         id3         0.0\n",
       "         id4    0.015436\n",
       "         id5         0.0\n",
       "dtype: object"
      ]
     },
     "execution_count": 2,
     "metadata": {},
     "output_type": "execute_result"
    }
   ],
   "source": [
    "FuelCosts = db['FuelPrice'] * db['FuelMix']\n",
    "FuelCosts"
   ]
  },
  {
   "cell_type": "markdown",
   "id": "610a57c9-7349-47e9-b998-c2b776a89e08",
   "metadata": {},
   "source": [
    "To sum up to the index ```id``` (sum over BFt), we use the build-in ```pandas``` method groupby.sum:"
   ]
  },
  {
   "cell_type": "code",
   "execution_count": 3,
   "id": "62f75041-4c62-4dd8-8070-b05bdb78abfc",
   "metadata": {},
   "outputs": [
    {
     "data": {
      "text/plain": [
       "id\n",
       "id1     2.63084\n",
       "id2    4.777864\n",
       "id3    6.996357\n",
       "id4    0.015436\n",
       "id5         0.0\n",
       "dtype: object"
      ]
     },
     "execution_count": 3,
     "metadata": {},
     "output_type": "execute_result"
    }
   ],
   "source": [
    "FuelCosts = FuelCosts.groupby('id').sum()\n",
    "FuelCosts"
   ]
  },
  {
   "cell_type": "markdown",
   "id": "4a3d9649-c79f-477b-b38f-982b1e78b325",
   "metadata": {},
   "source": [
    "*Emission costs:* The cost of emissions is the product of ```EmissionTax```, ```EmissionIntensity```, and ```FuelMix```. The ```pandas``` package allows us to simply multiply the three as well to get the costs defined over [BFt, id, EmissionType]:"
   ]
  },
  {
   "cell_type": "code",
   "execution_count": 4,
   "id": "277d4c4f-32f8-4518-a891-d956a1f6f312",
   "metadata": {},
   "outputs": [
    {
     "data": {
      "text/plain": [
       "BFt      id   EmissionType\n",
       "BioMass  id1  CO2                  0.0\n",
       "         id2  CO2                  0.0\n",
       "         id3  CO2                  0.0\n",
       "         id4  CO2                  0.0\n",
       "         id5  CO2                  0.0\n",
       "Coal     id1  CO2             3.016254\n",
       "         id2  CO2             0.335139\n",
       "         id3  CO2                  0.0\n",
       "         id4  CO2                  0.0\n",
       "         id5  CO2                  0.0\n",
       "NatGas   id1  CO2             0.202426\n",
       "         id2  CO2             1.821834\n",
       "         id3  CO2                  0.0\n",
       "         id4  CO2                  0.0\n",
       "         id5  CO2                  0.0\n",
       "Waste    id1  CO2                  0.0\n",
       "         id2  CO2                  0.0\n",
       "         id3  CO2                  0.0\n",
       "         id4  CO2             1.735714\n",
       "         id5  CO2                  0.0\n",
       "dtype: object"
      ]
     },
     "execution_count": 4,
     "metadata": {},
     "output_type": "execute_result"
    }
   ],
   "source": [
    "EmissionCosts = db['FuelMix'] * db['EmissionIntensity']*db['EmissionTax']\n",
    "EmissionCosts"
   ]
  },
  {
   "cell_type": "markdown",
   "id": "0e15390b-6fc4-478d-96f7-a6ff7cf7dbcc",
   "metadata": {},
   "source": [
    "As with fuel costs, we want to sum up to the 'id' level using the groupby method from pandas. We can confirm that ids ```id3, id5``` do not pay any taxes from CO2 emissions as they use biomass and wind:"
   ]
  },
  {
   "cell_type": "code",
   "execution_count": 5,
   "id": "01c30340-1432-4691-a85c-78a48c013202",
   "metadata": {},
   "outputs": [
    {
     "data": {
      "text/plain": [
       "id\n",
       "id1     3.21868\n",
       "id2    2.156974\n",
       "id3         0.0\n",
       "id4    1.735714\n",
       "id5         0.0\n",
       "dtype: object"
      ]
     },
     "execution_count": 5,
     "metadata": {},
     "output_type": "execute_result"
    }
   ],
   "source": [
    "EmissionCosts = EmissionCosts.groupby('id').sum()\n",
    "EmissionCosts"
   ]
  },
  {
   "cell_type": "markdown",
   "id": "5a974456-bc9f-4358-8a21-f3e6e0a27713",
   "metadata": {},
   "source": [
    "Finally, we get the marginal costs from summing other costs, fuel costs, and emission costs:"
   ]
  },
  {
   "cell_type": "code",
   "execution_count": 6,
   "id": "285ae5f9-35cc-4c6f-807c-93e709cc0b6b",
   "metadata": {},
   "outputs": [
    {
     "data": {
      "text/plain": [
       "id\n",
       "id1    8.849521\n",
       "id2    9.934837\n",
       "id3    9.996357\n",
       "id4    4.751151\n",
       "id5         3.0\n",
       "dtype: object"
      ]
     },
     "execution_count": 6,
     "metadata": {},
     "output_type": "execute_result"
    }
   ],
   "source": [
    "MC = db['OtherMC']+FuelCosts+EmissionCosts\n",
    "MC"
   ]
  },
  {
   "cell_type": "markdown",
   "id": "f8a995d1-e818-490b-bc36-8647e472e69e",
   "metadata": {},
   "source": [
    "We can confirm that this is indeed the method implemented in ```lpModels.mc(db)```:"
   ]
  },
  {
   "cell_type": "code",
   "execution_count": 7,
   "id": "9b3629aa-e9de-4088-be50-590b358883b4",
   "metadata": {},
   "outputs": [
    {
     "data": {
      "text/plain": [
       "id\n",
       "id1    True\n",
       "id2    True\n",
       "id3    True\n",
       "id4    True\n",
       "id5    True\n",
       "dtype: bool"
      ]
     },
     "execution_count": 7,
     "metadata": {},
     "output_type": "execute_result"
    }
   ],
   "source": [
    "lpModels.mc(db) == MC"
   ]
  },
  {
   "cell_type": "markdown",
   "id": "0db39e29-a806-4616-893b-c9c316d20f15",
   "metadata": {},
   "source": [
    "### Problem 2: Identify the marginal producer and the system marginal costs"
   ]
  },
  {
   "cell_type": "markdown",
   "id": "ec6f72d9-5992-4680-bd4e-f96f00460a2e",
   "metadata": {},
   "source": [
    "Recall from the note on \"*Models for Energy Economics*\" that the marginal producer is the only one that is characterized by **an interior solution** in the sense that it produces somewhere between 0 and its generating capacity; all other plants either produce nothing or at full capacity.\n",
    "\n",
    "We start by solving the model:"
   ]
  },
  {
   "cell_type": "code",
   "execution_count": 8,
   "id": "dbdf8125-3f2e-43ed-9323-5365fc4d6c3c",
   "metadata": {},
   "outputs": [
    {
     "name": "stdout",
     "output_type": "stream",
     "text": [
      "Solution status 0: Optimization terminated successfully.\n"
     ]
    }
   ],
   "source": [
    "m = lpModels.mBasic(db) # initialize using the database 'db' from above.\n",
    "m.solve() # solve the model; should return a short printed statement that optimization is succesful."
   ]
  },
  {
   "cell_type": "markdown",
   "id": "9936f140-b8e3-4a1d-a28d-4b0b3973dc0b",
   "metadata": {},
   "source": [
    "Next, we compare the actual production ('Generation') to the generating capacity ('GeneratingCapacity') for the plants. One way we can do this is to define the ratio of generation to capacity, which we can also call the *degree of utilization* and look for the 'id' with a degree between [0,1]:"
   ]
  },
  {
   "cell_type": "code",
   "execution_count": 9,
   "id": "9c442f73-7491-4c04-a4f1-c98738d2d310",
   "metadata": {},
   "outputs": [
    {
     "data": {
      "text/plain": [
       "id\n",
       "id1       1.0\n",
       "id2    0.8625\n",
       "id3       0.0\n",
       "id4       1.0\n",
       "id5       1.0\n",
       "dtype: object"
      ]
     },
     "execution_count": 9,
     "metadata": {},
     "output_type": "execute_result"
    }
   ],
   "source": [
    "m.db['Generation'] / m.db['GeneratingCapacity']"
   ]
  },
  {
   "cell_type": "markdown",
   "id": "3c946ef0-0ce4-49ae-b512-fcb6b4b178be",
   "metadata": {},
   "source": [
    "The *marginal producer* is the ```id2``` plant that relies primarily on natural gas in this model. As this is the marginal producer, we know that the system marginal costs is given by the marginal cost of ```id2```. Thus, the system marginal cost is in this case $9.93$ EUR/GJ (see print below)"
   ]
  },
  {
   "cell_type": "code",
   "execution_count": 10,
   "id": "cb2d8950-01e1-4bc8-9774-d9af4dc82cab",
   "metadata": {},
   "outputs": [
    {
     "data": {
      "text/plain": [
       "id\n",
       "id1    8.849521\n",
       "id2    9.934837\n",
       "id3    9.996357\n",
       "id4    4.751151\n",
       "id5         3.0\n",
       "dtype: object"
      ]
     },
     "execution_count": 10,
     "metadata": {},
     "output_type": "execute_result"
    }
   ],
   "source": [
    "m.db['mc']"
   ]
  },
  {
   "cell_type": "markdown",
   "id": "429063e9-6c7d-4d02-959f-f98bceb58a85",
   "metadata": {},
   "source": [
    "### Problem 3: A shock to tax on CO2 emissions"
   ]
  },
  {
   "cell_type": "markdown",
   "id": "d96cc1c2-38b8-4df7-8e17-a0224fbfd15e",
   "metadata": {},
   "source": [
    "We start by storing the results from the first solution:"
   ]
  },
  {
   "cell_type": "code",
   "execution_count": 11,
   "id": "5df797a1-a19a-45a3-aa0b-0eaafba2fcee",
   "metadata": {},
   "outputs": [],
   "source": [
    "db_BeforeShock = m.db.copy()"
   ]
  },
  {
   "cell_type": "markdown",
   "id": "12d42a2c-845f-4de7-ac2f-edf497feef25",
   "metadata": {},
   "source": [
    "Next, we set the tax on CO2 emissions to 50 EUR instead, re-compute the marginal costs, re-solve, and store a copy of this solution:"
   ]
  },
  {
   "cell_type": "code",
   "execution_count": 12,
   "id": "65a7c16e-bde1-4f6d-87db-266511011343",
   "metadata": {},
   "outputs": [
    {
     "name": "stdout",
     "output_type": "stream",
     "text": [
      "Solution status 0: Optimization terminated successfully.\n"
     ]
    }
   ],
   "source": [
    "m.db['EmissionTax'] = 50\n",
    "m.solve(preSolve = {'recomputeMC':True})\n",
    "db_50Euro = m.db.copy()"
   ]
  },
  {
   "cell_type": "markdown",
   "id": "30fd752c-b84e-47e2-9432-33412affa5e1",
   "metadata": {},
   "source": [
    "And repeat this for the case of 100 EUR:"
   ]
  },
  {
   "cell_type": "code",
   "execution_count": 13,
   "id": "a8b91893-ba28-44f9-a860-9a09ae5119e1",
   "metadata": {},
   "outputs": [
    {
     "name": "stdout",
     "output_type": "stream",
     "text": [
      "Solution status 0: Optimization terminated successfully.\n"
     ]
    }
   ],
   "source": [
    "m.db['EmissionTax'] = 100\n",
    "m.solve(preSolve = {'recomputeMC':True})\n",
    "db_100Euro = m.db.copy()"
   ]
  },
  {
   "cell_type": "markdown",
   "id": "d4d435f0-028d-4276-b0d0-7375a90aacb4",
   "metadata": {},
   "source": [
    "We can then compare emissions e.g. by plotting the three. The syntax used here uses another feature of the ```pandas``` package, namely that pandas objects can be plotted by simply adding ```.plot```:"
   ]
  },
  {
   "cell_type": "code",
   "execution_count": 14,
   "id": "75295aaa-4e3a-428d-85ba-a8f57c0001a1",
   "metadata": {},
   "outputs": [
    {
     "data": {
      "image/png": "[encoded data removed]",
      "text/plain": [
       "<Figure size 576x396 with 1 Axes>"
      ]
     },
     "metadata": {},
     "output_type": "display_data"
    }
   ],
   "source": [
    "results = pd.DataFrame({db_BeforeShock['EmissionTax'][0]: db_BeforeShock['Emissions'], \n",
    "                        db_50Euro['EmissionTax'][0] : db_50Euro['Emissions'],\n",
    "                        db_100Euro['EmissionTax'][0]: db_100Euro['Emissions']}).stack().xs('CO2')\n",
    "results.plot();"
   ]
  },
  {
   "cell_type": "markdown",
   "id": "8a711a08-c9b2-41ee-b868-3dc9f20fc29e",
   "metadata": {},
   "source": [
    "Not surprisingly, emissions decrease when the tax on emissions increase. The largest effect is seen when increasing the tax from the original $35$ EUR/Tonnes CO2 to $50$.\n",
    "\n",
    "We can see why this is the case by inspecting the variable 'FuelConsumption' in the three instances:"
   ]
  },
  {
   "cell_type": "code",
   "execution_count": 15,
   "id": "4d72491a-504a-4843-a8e9-4bb0dc23d3f6",
   "metadata": {},
   "outputs": [
    {
     "data": {
      "text/html": [
       "<div>\n",
       "<style scoped>\n",
       "    .dataframe tbody tr th:only-of-type {\n",
       "        vertical-align: middle;\n",
       "    }\n",
       "\n",
       "    .dataframe tbody tr th {\n",
       "        vertical-align: top;\n",
       "    }\n",
       "\n",
       "    .dataframe thead th {\n",
       "        text-align: right;\n",
       "    }\n",
       "</style>\n",
       "<table border=\"1\" class=\"dataframe\">\n",
       "  <thead>\n",
       "    <tr style=\"text-align: right;\">\n",
       "      <th></th>\n",
       "      <th>35.513339</th>\n",
       "      <th>50.000000</th>\n",
       "      <th>100.000000</th>\n",
       "    </tr>\n",
       "    <tr>\n",
       "      <th>BFt</th>\n",
       "      <th></th>\n",
       "      <th></th>\n",
       "      <th></th>\n",
       "    </tr>\n",
       "  </thead>\n",
       "  <tbody>\n",
       "    <tr>\n",
       "      <th>Coal</th>\n",
       "      <td>30.45</td>\n",
       "      <td>27.95</td>\n",
       "      <td>3.95</td>\n",
       "    </tr>\n",
       "    <tr>\n",
       "      <th>NatGas</th>\n",
       "      <td>34.05</td>\n",
       "      <td>11.55</td>\n",
       "      <td>35.55</td>\n",
       "    </tr>\n",
       "    <tr>\n",
       "      <th>BioMass</th>\n",
       "      <td>0.0</td>\n",
       "      <td>25.0</td>\n",
       "      <td>25.0</td>\n",
       "    </tr>\n",
       "    <tr>\n",
       "      <th>Waste</th>\n",
       "      <td>20.125</td>\n",
       "      <td>20.125</td>\n",
       "      <td>20.125</td>\n",
       "    </tr>\n",
       "  </tbody>\n",
       "</table>\n",
       "</div>"
      ],
      "text/plain": [
       "        35.513339  50.000000  100.000000\n",
       "BFt                                     \n",
       "Coal         30.45      27.95       3.95\n",
       "NatGas       34.05      11.55      35.55\n",
       "BioMass        0.0       25.0       25.0\n",
       "Waste       20.125     20.125     20.125"
      ]
     },
     "execution_count": 15,
     "metadata": {},
     "output_type": "execute_result"
    }
   ],
   "source": [
    "results = pd.DataFrame({db_BeforeShock['EmissionTax'][0]: db_BeforeShock['FuelConsumption'], \n",
    "                        db_50Euro['EmissionTax'][0] : db_50Euro['FuelConsumption'],\n",
    "                        db_100Euro['EmissionTax'][0]: db_100Euro['FuelConsumption']})\n",
    "results"
   ]
  },
  {
   "cell_type": "markdown",
   "id": "a06a71a7-4a02-4046-86dc-d1c9b5c56dd4",
   "metadata": {},
   "source": [
    "* We can see that when the tax increases from $35$ to $50$, a lot of the natural gas production is replaced by biomass; this has a large effect on emissions.\n",
    "* When the tax increases from $50$ to $100$, we instead see that natural gas replaces coal; this has a smaller impact on emissions as natural gas still emits some CO2."
   ]
  },
  {
   "cell_type": "markdown",
   "id": "ff07bfcf-a209-461e-9475-fd34a9a3adf2",
   "metadata": {},
   "source": [
    "### Problem 4: Abating emissions using wind power"
   ]
  },
  {
   "cell_type": "markdown",
   "id": "f17e6db0-861c-4b12-91bd-32494644d7dc",
   "metadata": {},
   "source": [
    "First, we reset the price of emissions to the original level."
   ]
  },
  {
   "cell_type": "code",
   "execution_count": 16,
   "id": "8abb8476-0c32-4200-8cf8-b71c9883afc8",
   "metadata": {},
   "outputs": [],
   "source": [
    "m.db = db_BeforeShock"
   ]
  },
  {
   "cell_type": "markdown",
   "id": "b2b15cf8-2aef-446d-ad11-adfdf756c3c0",
   "metadata": {},
   "source": [
    "First, create the loop object with 41 gridpoints:"
   ]
  },
  {
   "cell_type": "code",
   "execution_count": 17,
   "id": "b317f60b-c63f-4b32-8362-097ab4a2a069",
   "metadata": {},
   "outputs": [],
   "source": [
    "loop = pd.Index(range(41), name = 'loop')"
   ]
  },
  {
   "cell_type": "markdown",
   "id": "1a5b836f-2ba5-454f-9a77-227951edf005",
   "metadata": {},
   "source": [
    "Second, create the grid with parameter values to use. In this case, the parameter ```GeneratingCapacity``` should be updated from 10 to 50, but only for the id ```id5``` (this plant represents wind power). A fast way to do this is the function ```addGrid``` which takes as inputs the initial and final value in the relevant grid:"
   ]
  },
  {
   "cell_type": "code",
   "execution_count": 18,
   "id": "f9177f46-7fdd-41da-939e-0d8aff1ec43e",
   "metadata": {},
   "outputs": [
    {
     "data": {
      "text/plain": [
       "loop  id \n",
       "0     id5    10.0\n",
       "1     id5    11.0\n",
       "2     id5    12.0\n",
       "3     id5    13.0\n",
       "4     id5    14.0\n",
       "5     id5    15.0\n",
       "6     id5    16.0\n",
       "7     id5    17.0\n",
       "8     id5    18.0\n",
       "9     id5    19.0\n",
       "10    id5    20.0\n",
       "11    id5    21.0\n",
       "12    id5    22.0\n",
       "13    id5    23.0\n",
       "14    id5    24.0\n",
       "15    id5    25.0\n",
       "16    id5    26.0\n",
       "17    id5    27.0\n",
       "18    id5    28.0\n",
       "19    id5    29.0\n",
       "20    id5    30.0\n",
       "21    id5    31.0\n",
       "22    id5    32.0\n",
       "23    id5    33.0\n",
       "24    id5    34.0\n",
       "25    id5    35.0\n",
       "26    id5    36.0\n",
       "27    id5    37.0\n",
       "28    id5    38.0\n",
       "29    id5    39.0\n",
       "30    id5    40.0\n",
       "31    id5    41.0\n",
       "32    id5    42.0\n",
       "33    id5    43.0\n",
       "34    id5    44.0\n",
       "35    id5    45.0\n",
       "36    id5    46.0\n",
       "37    id5    47.0\n",
       "38    id5    48.0\n",
       "39    id5    49.0\n",
       "40    id5    50.0\n",
       "Name: GeneratingCapacity, dtype: float64"
      ]
     },
     "execution_count": 18,
     "metadata": {},
     "output_type": "execute_result"
    }
   ],
   "source": [
    "v0 = pd.Series(10, index = pd.Index(['id5'], name = 'id'))\n",
    "vT = pd.Series(50, index = pd.Index(['id5'], name = 'id'))\n",
    "windGrid = addGrid(v0,vT,loop,'GeneratingCapacity') # inputs are (1) first value in grid, (2) final value, (3) loop, (4) name of symbol\n",
    "windGrid"
   ]
  },
  {
   "cell_type": "markdown",
   "id": "1ed1f358-8783-465f-a165-29faccf1441b",
   "metadata": {},
   "source": [
    "Third, we specify which symbols we want to solve for and store in the loop. In this exercise, we want to plot what happens to 'Emissions' and 'FuelConsumption':"
   ]
  },
  {
   "cell_type": "code",
   "execution_count": 19,
   "id": "a56d42cb-9a7c-4d1c-a1b0-f9c4e78c6b1f",
   "metadata": {},
   "outputs": [],
   "source": [
    "extract = ['FuelConsumption','Emissions']"
   ]
  },
  {
   "cell_type": "markdown",
   "id": "adef29e5-2b17-4367-b17f-e534f5b7187c",
   "metadata": {},
   "source": [
    "We run the experiment using the ```loopSolvExtract``` method:"
   ]
  },
  {
   "cell_type": "code",
   "execution_count": 20,
   "id": "6ea62503-f5a3-449c-9752-176bf3024b78",
   "metadata": {},
   "outputs": [],
   "source": [
    "solution = m.loopSolveExtract(loop,[windGrid],extract)"
   ]
  },
  {
   "cell_type": "markdown",
   "id": "bd3d375a-c680-48fc-ad4b-eaa9b68194ea",
   "metadata": {},
   "source": [
    "We can now plot emissions by simply writing:"
   ]
  },
  {
   "cell_type": "code",
   "execution_count": 21,
   "id": "f60714c5-983b-4409-83a3-924f371e5dd8",
   "metadata": {},
   "outputs": [
    {
     "data": {
      "image/png": "[encoded data removed]",
      "text/plain": [
       "<Figure size 432x288 with 1 Axes>"
      ]
     },
     "metadata": {},
     "output_type": "display_data"
    }
   ],
   "source": [
    "solution['Emissions'].xs('CO2').plot(figsize=(6,4));"
   ]
  },
  {
   "cell_type": "markdown",
   "id": "beea049f-99ea-47e4-89c7-d4b652483e7c",
   "metadata": {},
   "source": [
    "And plot fuel consumption by writing (unstacking results in multiple lines in the figure):"
   ]
  },
  {
   "cell_type": "code",
   "execution_count": 22,
   "id": "eec7ba5f-c95f-4f6a-be2e-7fca4c8166a1",
   "metadata": {},
   "outputs": [
    {
     "data": {
      "image/png": "[encoded data removed]",
      "text/plain": [
       "<Figure size 576x396 with 1 Axes>"
      ]
     },
     "metadata": {},
     "output_type": "display_data"
    }
   ],
   "source": [
    "solution['FuelConsumption'].unstack(level='BFt').plot();"
   ]
  },
  {
   "cell_type": "markdown",
   "id": "5e7b345f-2d0a-4d14-ada5-d96ada2f9acc",
   "metadata": {},
   "source": [
    "**Comments on the solution:**\n",
    "* Initially, wind power crowds out electricity generated using biomass. This has no effect on emissions.\n",
    "* As more wind power is installed, the next technology that it crowded out is the plant that relies primarily on natural gas.\n",
    "* In this scenario, using renewable energy shares (RES) as an instrument to abate emissions is not very effective; the dirtiest of production technologies - coal - is barely reduced at all. "
   ]
  }
 ],
 "metadata": {
  "kernelspec": {
   "display_name": "Python 3 (ipykernel)",
   "language": "python",
   "name": "python3"
  },
  "language_info": {
   "codemirror_mode": {
    "name": "ipython",
    "version": 3
   },
   "file_extension": ".py",
   "mimetype": "text/x-python",
   "name": "python",
   "nbconvert_exporter": "python",
   "pygments_lexer": "ipython3",
   "version": "3.9.7"
  }
 },
 "nbformat": 4,
 "nbformat_minor": 5
}
