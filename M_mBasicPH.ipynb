{
 "cells": [
  {
   "cell_type": "code",
   "execution_count": 1,
   "id": "236c4b14-a2a1-41e6-b453-d92ac8764ea1",
   "metadata": {},
   "outputs": [],
   "source": [
    "%run stdPackages.ipynb\n",
    "read = {'variables': ['Fundamentals', 'LoadVariables', 'TransmissionLines', 'GeneratorsVariables'],\n",
    "        'maps': ['LoadMaps','GeneratorsMaps'],\n",
    "        'variable2D': ['HourlyVariation'],\n",
    "        'scalars': ['Scalars']}\n",
    "db = dbFromWB(os.path.join(d['data'],'E4.xlsx'), read)\n",
    "readSets(db)"
   ]
  },
  {
   "cell_type": "markdown",
   "id": "35d14faf-fcb8-4eed-a193-561a98c3b181",
   "metadata": {
    "tags": []
   },
   "source": [
    "# The ```mBasicPH``` model"
   ]
  },
  {
   "cell_type": "code",
   "execution_count": 2,
   "id": "77699aa8-d295-4842-b4ad-2d369bf9b964",
   "metadata": {},
   "outputs": [],
   "source": [
    "m = mBasicPH.mSimple(db)"
   ]
  },
  {
   "cell_type": "markdown",
   "id": "c4e03882-3645-4683-8299-198541171021",
   "metadata": {},
   "source": [
    "The class specifies a linear electricity system model with the following main features:\n",
    "* Electricity and heat markets.\n",
    "* Hourly variation in generation capacity and demand.\n",
    "* No flexible demand systems, but load can be shedded if the marginal costs exceed a threshold value.\n",
    "* Geographically separated markets; electricity markets are linked via transmission lines (HVDC-links) enablin trade.\n",
    "* Different technologies generate electricity and heat. We split them into the following overall categories:\n",
    "    * ```standard_E```: Only generates electricity. These are the only plant types used in basic models (```mBasic,mBasicInt,mBasicTrade```).\n",
    "    * ```standard_H```: Works as ```standard_E``` plants, but generates heat instead of electricity.\n",
    "    * ```BP```: Back-pressure plants. Generates electricity and heat in a fixed ratio ```E2H```>0.\n",
    "    * ```HP```: Heat pump. Generates heat, but draws on electricity to do so. Also characterized by fixed ratio ```E2H```<0 for heat pumps."
   ]
  },
  {
   "cell_type": "markdown",
   "id": "193bd861-8c04-4bfe-9fc8-49f40fc5d0e8",
   "metadata": {},
   "source": [
    "### **The model**"
   ]
  },
  {
   "cell_type": "markdown",
   "id": "4fc3c10a-0d06-456b-8660-e4c5472ef240",
   "metadata": {},
   "source": [
    "Formally, the model solves:\n",
    "<a id='model'>\n",
    "$$\\begin{align} \\tag{1}\n",
    "    \\max\\mbox{ }\\text{Welfare} &= \\sum_{h,g}\\left(u_E\\cdot D_{h,g}^E - \\sum_{i\\in \\lbrace \\mathcal{I}^{g,E}, \\mathcal{I}^{g,BP}\\rbrace}mc_i\\cdot E_{i,h} \\right) - \\left(\\sum_{l,h}c_l\\cdot x_{l,h}\\right) \\\\\n",
    "                                &+\\sum_{h,g}\\left(u_H\\cdot D_{h,g}^H - \\sum_{i\\in\\lbrace \\mathcal{I}^{H,g}, \\mathcal{I}^{g,HP}\\rbrace} mc_i\\cdot H_{i,h}\\right) \\\\ \n",
    "    D_{h,g}^{E}&=\\sum_{i\\in\\lbrace \\mathcal{I}^{E,g}, \\mathcal{I}^{BP,g}, \\mathcal{I}^{HP,g}\\rbrace} E_{i,h}+\\sum_{l\\in S_g}(1-\\text{ll})\\cdot x_{l',h}-x_{l,h} \\\\\n",
    "    D_{h,g}^{H}&=\\sum_{i\\in\\lbrace \\mathcal{I}^{H,g}, \\mathcal{I}^{BP,g}, \\mathcal{I}^{HP,g}\\rbrace} H_{i,h} \\\\\n",
    "    E_{i,h} &= \\text{E2H}_i\\cdot H_{i,h}, \\qquad \\forall i\\in\\lbrace \\mathcal{I}^{BP}, \\mathcal{I}^{HP}\\rbrace \\\\\n",
    "    D_{h,g}^E &\\in[0, \\text{Load}_{h,g}^E] \\\\ \n",
    "    D_{h,g}^H &\\in[0, \\text{Load}_{h,g}^H] \\\\ \n",
    "    E_{i,h} & \\in[0, q_{i,h}^E], \\qquad \\forall i \\in \\mathcal{I}^{E}, \\mathcal{I}^{BP} \\\\\n",
    "    H_{i,h} & \\in[0, q_{i,h}^H], \\qquad \\forall i \\in \\mathcal{I}^{H}, \\mathcal{I}^{HP} \\\\ \n",
    "    x_{l,h} & \\in[0, q_l],\n",
    "\\end{align}$$\n",
    "    \n",
    "where we have used notation from earlier model descriptions, and we have used the notation $\\mathcal{I}^{BP,g}$ to indicate the set of plants that are of a specific type (BP) and belongs to a specific geographic area (g). A full description of the parameters used throughout here would be quite lengthy, so, instead you may look up notation from other notebooks or the note *\"Models for Energy Economics\"* sections 3-4."
   ]
  },
  {
   "cell_type": "markdown",
   "id": "e7e079f2-4b09-4cb5-9ff5-a39ffa5fb1ee",
   "metadata": {},
   "source": [
    "### Supply with different types of technology:"
   ]
  },
  {
   "cell_type": "markdown",
   "id": "fcd252c7-d076-4547-a4d5-51afc244f66a",
   "metadata": {},
   "source": [
    "When we talk about different types of plant, the basic models only included an ```id```. Now, instead, we distinguish between three levels of identification (most-to-least granular details):\n",
    "* ```id```: Most specific; every plant has a specific id. Most variables are specific to ```id```, including ```FuelMix, GeneratingCap_E,OtherMC,FOM,E2H```.\n",
    "* ```tech```: Is used when some parameter values are the same for a group of ```ids```. This is for example used for the parameter ```InvestCost```. One example of ```tech``` categories are the three different levels of back-pressure plants in the data: ```BP_Coal, BP_NatGas, BP_BioMass```.\n",
    "* ```modelTech```: This identification is used to indicate how the plants are *modelled*. For instance, the three different types of back-pressure plants all essentially use the same code in the model - just with different parameter values. Other large categories include ```StandardE, StandardH```. The ```StandardE``` for instance includes offshore wind, onshore wind, photovoltaics, condensation plants using coal, condensation plants using natural gas, and nuclear power plants."
   ]
  },
  {
   "cell_type": "markdown",
   "id": "f22681de-974f-436f-996c-31b4c0e8d3b7",
   "metadata": {},
   "source": [
    "The information on how plants are mapped to ```tech``` and ```modelTech``` categories can be accessed through the index ```id2modelTech2tech```: "
   ]
  },
  {
   "cell_type": "code",
   "execution_count": 3,
   "id": "f444391a-83a8-4ee2-857a-cfa2cf2f1d83",
   "metadata": {
    "scrolled": true,
    "tags": []
   },
   "outputs": [
    {
     "data": {
      "text/plain": [
       "MultiIndex([('g1_BH_BioMass', 'standard_H', 'BH_BioMass'),\n",
       "            ( 'g1_BH_NatGas', 'standard_H',  'BH_NatGas'),\n",
       "            ('g1_BP_BioMass',         'BP', 'BP_BioMass'),\n",
       "            (   'g1_BP_Coal',         'BP',    'BP_Coal'),\n",
       "            ( 'g1_BP_NatGas',         'BP',  'BP_NatGas'),\n",
       "            (   'g1_CD_Coal', 'standard_E',    'CD_Coal'),\n",
       "            ( 'g1_CD_NatGas', 'standard_E',  'CD_NatGas'),\n",
       "            ('g1_CD_Nuclear', 'standard_E', 'CD_Nuclear'),\n",
       "            (        'g1_HP',         'HP',         'HP'),\n",
       "            (        'g1_PV', 'standard_E',         'PV'),\n",
       "            (        'g1_SH', 'standard_H',         'SH'),\n",
       "            (        'g1_WS', 'standard_E',         'WS'),\n",
       "            ('g2_BH_BioMass', 'standard_H', 'BH_BioMass'),\n",
       "            ( 'g2_BH_NatGas', 'standard_H',  'BH_NatGas'),\n",
       "            ('g2_BP_BioMass',         'BP', 'BP_BioMass'),\n",
       "            (   'g2_BP_Coal',         'BP',    'BP_Coal'),\n",
       "            ( 'g2_BP_NatGas',         'BP',  'BP_NatGas'),\n",
       "            (   'g2_CD_Coal', 'standard_E',    'CD_Coal'),\n",
       "            ( 'g2_CD_NatGas', 'standard_E',  'CD_NatGas'),\n",
       "            ('g2_CD_Nuclear', 'standard_E', 'CD_Nuclear'),\n",
       "            (        'g2_HP',         'HP',         'HP'),\n",
       "            (        'g2_PV', 'standard_E',         'PV'),\n",
       "            (        'g2_SH', 'standard_H',         'SH'),\n",
       "            (        'g2_WS', 'standard_E',         'WS')],\n",
       "           names=['id', 'modelTech', 'tech'])"
      ]
     },
     "execution_count": 3,
     "metadata": {},
     "output_type": "execute_result"
    }
   ],
   "source": [
    "m.db['id2modelTech2tech']"
   ]
  },
  {
   "cell_type": "markdown",
   "id": "970a8e9d-8666-421c-b663-df0509a727c6",
   "metadata": {},
   "source": [
    "An auxiliary function is added ```getTechs(techs, db)``` to create the subsets ($\\mathcal{I}^{X}$) used in the formal model in [(1)](#model):"
   ]
  },
  {
   "cell_type": "code",
   "execution_count": 4,
   "id": "86012968-9dc5-4397-b1ef-a6cd61e34dd8",
   "metadata": {},
   "outputs": [
    {
     "data": {
      "text/plain": [
       "Index(['g1_BP_BioMass', 'g1_BP_Coal', 'g1_BP_NatGas', 'g2_BP_BioMass',\n",
       "       'g2_BP_Coal', 'g2_BP_NatGas'],\n",
       "      dtype='object', name='id')"
      ]
     },
     "execution_count": 4,
     "metadata": {},
     "output_type": "execute_result"
    }
   ],
   "source": [
    "mBasicPH.getTechs('BP',db) # returns all back-pressure plants"
   ]
  },
  {
   "cell_type": "code",
   "execution_count": 5,
   "id": "d292fb64-03c6-478e-91f8-fe2decd1485a",
   "metadata": {},
   "outputs": [
    {
     "data": {
      "text/plain": [
       "Index(['g1_BP_BioMass', 'g1_BP_Coal', 'g1_BP_NatGas', 'g1_HP', 'g2_BP_BioMass',\n",
       "       'g2_BP_Coal', 'g2_BP_NatGas', 'g2_HP'],\n",
       "      dtype='object', name='id')"
      ]
     },
     "execution_count": 5,
     "metadata": {},
     "output_type": "execute_result"
    }
   ],
   "source": [
    "mBasicPH.getTechs(['BP','HP'], db) # returns all back-pressure and heat pumps"
   ]
  },
  {
   "cell_type": "markdown",
   "id": "3051f51c-66dc-4f7b-8e14-973ee31ef9a7",
   "metadata": {
    "tags": []
   },
   "source": [
    "## Initialize and solve model"
   ]
  },
  {
   "cell_type": "markdown",
   "id": "9d07bb1a-5dc2-4978-8f26-a1cdd8d24a97",
   "metadata": {},
   "source": [
    "The model is initialized with the database as input using: "
   ]
  },
  {
   "cell_type": "code",
   "execution_count": 6,
   "id": "a6d6e21b-bec3-4e8b-8bb2-212f4d288285",
   "metadata": {},
   "outputs": [],
   "source": [
    "m = mBasicPH.mSimple(db)"
   ]
  },
  {
   "cell_type": "markdown",
   "id": "614839c3-53d1-4277-9f1e-67b438227f11",
   "metadata": {},
   "source": [
    "The core functions of the model class are similar to those of the basic models (```mBasic, mBasicInt, mBasicTrade```). We focus on the ```self.initBlocks``` method here, as this is the specifying the linear program. As usual, the model is simply compiled and solved using the ```self.solve``` method:"
   ]
  },
  {
   "cell_type": "code",
   "execution_count": 7,
   "id": "84a0745a-0bcc-49f3-83cd-8bd7ed2faa08",
   "metadata": {},
   "outputs": [
    {
     "name": "stdout",
     "output_type": "stream",
     "text": [
      "Solution status 0: Optimization terminated successfully.\n"
     ]
    }
   ],
   "source": [
    "m.solve()"
   ]
  },
  {
   "cell_type": "markdown",
   "id": "19ddce55-bc18-4795-9068-acec1d6c339b",
   "metadata": {
    "tags": []
   },
   "source": [
    "### 1: Global domains"
   ]
  },
  {
   "cell_type": "markdown",
   "id": "aa4c9f5a-ff53-43f0-98c8-f6308ab36c35",
   "metadata": {},
   "source": [
    "The ```self.globalDomains``` are used to properly broadcast coefficients to the correct domains (we will see how more specifically below). In this model, the domains are definde as:"
   ]
  },
  {
   "cell_type": "markdown",
   "id": "0f0557b7-2f20-41a4-89dc-bda20e3d9600",
   "metadata": {},
   "source": [
    "<img src=\"snippets/mAdvPH_globalDomains.png\" width=\"1000\" height=\"400\">"
   ]
  },
  {
   "cell_type": "markdown",
   "id": "92bf99b0-4288-47d4-98dc-29eae863f099",
   "metadata": {},
   "source": [
    "#### ```Generation_E```"
   ]
  },
  {
   "cell_type": "markdown",
   "id": "91cf39cb-3bd4-4ae4-85d7-32e0839e0520",
   "metadata": {},
   "source": [
    "Let's have a look at the domains for the variable ```Generation_E``` (corresponds to $E_{i,h}$). The global domain for this variable is defined by first establishing the correct plant ids:"
   ]
  },
  {
   "cell_type": "markdown",
   "id": "c7ba17b1-970d-4f5e-ab13-2ff6c5ad8ff1",
   "metadata": {},
   "source": [
    "The ```subsetIdsTech(x, techs, db)``` method uses the ```getTechs``` method to subset the symbol ```x``` based on the technology types ```techs```. This first part returns an index with ```id2g``` where we only keep plants that produce electricity (```self.modelTech_E```):"
   ]
  },
  {
   "cell_type": "code",
   "execution_count": 8,
   "id": "ba72b36e-668a-4639-8db1-cac4a8d5ece5",
   "metadata": {
    "scrolled": true,
    "tags": []
   },
   "outputs": [
    {
     "data": {
      "text/plain": [
       "MultiIndex([(   'g1_BP_Coal', 'g1'),\n",
       "            ( 'g1_BP_NatGas', 'g1'),\n",
       "            ('g1_BP_BioMass', 'g1'),\n",
       "            (   'g2_BP_Coal', 'g2'),\n",
       "            ( 'g2_BP_NatGas', 'g2'),\n",
       "            ('g2_BP_BioMass', 'g2'),\n",
       "            (   'g1_CD_Coal', 'g1'),\n",
       "            ( 'g1_CD_NatGas', 'g1'),\n",
       "            ('g1_CD_Nuclear', 'g1'),\n",
       "            (   'g2_CD_Coal', 'g2'),\n",
       "            ( 'g2_CD_NatGas', 'g2'),\n",
       "            ('g2_CD_Nuclear', 'g2'),\n",
       "            (        'g1_WS', 'g1'),\n",
       "            (        'g1_PV', 'g1'),\n",
       "            (        'g2_WS', 'g2'),\n",
       "            (        'g2_PV', 'g2'),\n",
       "            (        'g1_HP', 'g1'),\n",
       "            (        'g2_HP', 'g2')],\n",
       "           names=['id', 'g'])"
      ]
     },
     "execution_count": 8,
     "metadata": {},
     "output_type": "execute_result"
    }
   ],
   "source": [
    "mBasicPH.subsetIdsTech(m.db['id2g'], m.modelTech_E, m.db) # Only keep electricity-producing plants in the symbol 'id2g'"
   ]
  },
  {
   "cell_type": "markdown",
   "id": "91dfa1f8-1f7f-49e9-a341-1ee8d70ec6af",
   "metadata": {},
   "source": [
    "The next part of the global domains for ```Generation_E``` is to repeat this index for all hours ```h```. This is done using the auxiliary function ```cartesianProductIndex```. The result is:"
   ]
  },
  {
   "cell_type": "code",
   "execution_count": 9,
   "id": "f41e3c87-be13-4a9f-99bc-8ff1fc8f82c1",
   "metadata": {
    "scrolled": true,
    "tags": []
   },
   "outputs": [
    {
     "data": {
      "text/plain": [
       "MultiIndex([(   'g1_BP_Coal', 'g1', 1),\n",
       "            (   'g1_BP_Coal', 'g1', 2),\n",
       "            (   'g1_BP_Coal', 'g1', 3),\n",
       "            (   'g1_BP_Coal', 'g1', 4),\n",
       "            ( 'g1_BP_NatGas', 'g1', 1),\n",
       "            ( 'g1_BP_NatGas', 'g1', 2),\n",
       "            ( 'g1_BP_NatGas', 'g1', 3),\n",
       "            ( 'g1_BP_NatGas', 'g1', 4),\n",
       "            ('g1_BP_BioMass', 'g1', 1),\n",
       "            ('g1_BP_BioMass', 'g1', 2),\n",
       "            ('g1_BP_BioMass', 'g1', 3),\n",
       "            ('g1_BP_BioMass', 'g1', 4),\n",
       "            (   'g2_BP_Coal', 'g2', 1),\n",
       "            (   'g2_BP_Coal', 'g2', 2),\n",
       "            (   'g2_BP_Coal', 'g2', 3),\n",
       "            (   'g2_BP_Coal', 'g2', 4),\n",
       "            ( 'g2_BP_NatGas', 'g2', 1),\n",
       "            ( 'g2_BP_NatGas', 'g2', 2),\n",
       "            ( 'g2_BP_NatGas', 'g2', 3),\n",
       "            ( 'g2_BP_NatGas', 'g2', 4),\n",
       "            ('g2_BP_BioMass', 'g2', 1),\n",
       "            ('g2_BP_BioMass', 'g2', 2),\n",
       "            ('g2_BP_BioMass', 'g2', 3),\n",
       "            ('g2_BP_BioMass', 'g2', 4),\n",
       "            (   'g1_CD_Coal', 'g1', 1),\n",
       "            (   'g1_CD_Coal', 'g1', 2),\n",
       "            (   'g1_CD_Coal', 'g1', 3),\n",
       "            (   'g1_CD_Coal', 'g1', 4),\n",
       "            ( 'g1_CD_NatGas', 'g1', 1),\n",
       "            ( 'g1_CD_NatGas', 'g1', 2),\n",
       "            ( 'g1_CD_NatGas', 'g1', 3),\n",
       "            ( 'g1_CD_NatGas', 'g1', 4),\n",
       "            ('g1_CD_Nuclear', 'g1', 1),\n",
       "            ('g1_CD_Nuclear', 'g1', 2),\n",
       "            ('g1_CD_Nuclear', 'g1', 3),\n",
       "            ('g1_CD_Nuclear', 'g1', 4),\n",
       "            (   'g2_CD_Coal', 'g2', 1),\n",
       "            (   'g2_CD_Coal', 'g2', 2),\n",
       "            (   'g2_CD_Coal', 'g2', 3),\n",
       "            (   'g2_CD_Coal', 'g2', 4),\n",
       "            ( 'g2_CD_NatGas', 'g2', 1),\n",
       "            ( 'g2_CD_NatGas', 'g2', 2),\n",
       "            ( 'g2_CD_NatGas', 'g2', 3),\n",
       "            ( 'g2_CD_NatGas', 'g2', 4),\n",
       "            ('g2_CD_Nuclear', 'g2', 1),\n",
       "            ('g2_CD_Nuclear', 'g2', 2),\n",
       "            ('g2_CD_Nuclear', 'g2', 3),\n",
       "            ('g2_CD_Nuclear', 'g2', 4),\n",
       "            (        'g1_WS', 'g1', 1),\n",
       "            (        'g1_WS', 'g1', 2),\n",
       "            (        'g1_WS', 'g1', 3),\n",
       "            (        'g1_WS', 'g1', 4),\n",
       "            (        'g1_PV', 'g1', 1),\n",
       "            (        'g1_PV', 'g1', 2),\n",
       "            (        'g1_PV', 'g1', 3),\n",
       "            (        'g1_PV', 'g1', 4),\n",
       "            (        'g2_WS', 'g2', 1),\n",
       "            (        'g2_WS', 'g2', 2),\n",
       "            (        'g2_WS', 'g2', 3),\n",
       "            (        'g2_WS', 'g2', 4),\n",
       "            (        'g2_PV', 'g2', 1),\n",
       "            (        'g2_PV', 'g2', 2),\n",
       "            (        'g2_PV', 'g2', 3),\n",
       "            (        'g2_PV', 'g2', 4),\n",
       "            (        'g1_HP', 'g1', 1),\n",
       "            (        'g1_HP', 'g1', 2),\n",
       "            (        'g1_HP', 'g1', 3),\n",
       "            (        'g1_HP', 'g1', 4),\n",
       "            (        'g2_HP', 'g2', 1),\n",
       "            (        'g2_HP', 'g2', 2),\n",
       "            (        'g2_HP', 'g2', 3),\n",
       "            (        'g2_HP', 'g2', 4)],\n",
       "           names=['id', 'g', 'h'])"
      ]
     },
     "execution_count": 9,
     "metadata": {},
     "output_type": "execute_result"
    }
   ],
   "source": [
    "m.globalDomains['Generation_E'] # repeat the symbol 'id2g' for all hours, only keep electricity-producing plants."
   ]
  },
  {
   "cell_type": "markdown",
   "id": "bce4c901-023a-4adf-bfd0-6edfbd7db987",
   "metadata": {
    "tags": []
   },
   "source": [
    "#### ```PowerToHeat```"
   ]
  },
  {
   "cell_type": "markdown",
   "id": "dc796547-8af5-4d10-b6ea-db7356557e95",
   "metadata": {},
   "source": [
    "The ```PowerToHeat``` symbol represents the constraint $E_{i,h} = \\text{E2H}_i\\cdot H_{i,h}$. The domain for this constraint is defined as the combination of (1) Plant ids that are either back-pressure or heat pumps, and (2) hours. Note that we use the aliases ```id_alias, h_alias```, as we have ususally done with constraints. The result is:"
   ]
  },
  {
   "cell_type": "code",
   "execution_count": 10,
   "id": "31657e26-04f7-4f97-9b2f-1659cdb6b1ef",
   "metadata": {
    "scrolled": true,
    "tags": []
   },
   "outputs": [
    {
     "data": {
      "text/plain": [
       "MultiIndex([('g1_BP_BioMass', 1),\n",
       "            ('g1_BP_BioMass', 2),\n",
       "            ('g1_BP_BioMass', 3),\n",
       "            ('g1_BP_BioMass', 4),\n",
       "            (   'g1_BP_Coal', 1),\n",
       "            (   'g1_BP_Coal', 2),\n",
       "            (   'g1_BP_Coal', 3),\n",
       "            (   'g1_BP_Coal', 4),\n",
       "            ( 'g1_BP_NatGas', 1),\n",
       "            ( 'g1_BP_NatGas', 2),\n",
       "            ( 'g1_BP_NatGas', 3),\n",
       "            ( 'g1_BP_NatGas', 4),\n",
       "            (        'g1_HP', 1),\n",
       "            (        'g1_HP', 2),\n",
       "            (        'g1_HP', 3),\n",
       "            (        'g1_HP', 4),\n",
       "            ('g2_BP_BioMass', 1),\n",
       "            ('g2_BP_BioMass', 2),\n",
       "            ('g2_BP_BioMass', 3),\n",
       "            ('g2_BP_BioMass', 4),\n",
       "            (   'g2_BP_Coal', 1),\n",
       "            (   'g2_BP_Coal', 2),\n",
       "            (   'g2_BP_Coal', 3),\n",
       "            (   'g2_BP_Coal', 4),\n",
       "            ( 'g2_BP_NatGas', 1),\n",
       "            ( 'g2_BP_NatGas', 2),\n",
       "            ( 'g2_BP_NatGas', 3),\n",
       "            ( 'g2_BP_NatGas', 4),\n",
       "            (        'g2_HP', 1),\n",
       "            (        'g2_HP', 2),\n",
       "            (        'g2_HP', 3),\n",
       "            (        'g2_HP', 4)],\n",
       "           names=['id_alias', 'h_alias'])"
      ]
     },
     "execution_count": 10,
     "metadata": {},
     "output_type": "execute_result"
    }
   ],
   "source": [
    "m.globalDomains['PowerToHeat']"
   ]
  },
  {
   "cell_type": "markdown",
   "id": "fc940014-1bb4-4c3c-996c-8b9ade131d2d",
   "metadata": {
    "tags": []
   },
   "source": [
    "### 2: Cost coefficients $c$"
   ]
  },
  {
   "cell_type": "markdown",
   "id": "20b56895-6156-4edb-bd79-91443d7e05e7",
   "metadata": {},
   "source": [
    "The cost coefficients are as outlined in [(1)](#model): Costs are proportional to electricity generation for ```standard_E, BP``` plants and proportional to heat generation for ```standard_H, HP``` plant types. The costs of demand and transmission are exactly as in ```mBasicTrade```."
   ]
  },
  {
   "cell_type": "markdown",
   "id": "d7376930-5d0e-4a45-8b83-bb5321fff837",
   "metadata": {},
   "source": [
    "<img src=\"snippets/mAdvPH_c.png\" width=\"1400\" height=\"500\">"
   ]
  },
  {
   "cell_type": "markdown",
   "id": "88ab2952-aa65-486f-b67a-0c7ba30e45cb",
   "metadata": {
    "tags": []
   },
   "source": [
    "### 3: Upper bounds $u$"
   ]
  },
  {
   "cell_type": "markdown",
   "id": "5ebe00ee-1935-419c-81cb-c67278301d60",
   "metadata": {},
   "source": [
    "The upper bounds are imposed on the electricity generation for plant types ```standard_E, BP``` and on heat generation for plant types ```standard_H, HP```. This is ensured by using the ```conditions``` argument. The constraints on demand and transmission are equivalent to ```mBasicTrade``` model."
   ]
  },
  {
   "cell_type": "markdown",
   "id": "f7eb6659-dca9-46eb-bbc5-82ec1f50ec61",
   "metadata": {},
   "source": [
    "<img src=\"snippets/mAdvPH_u.png\" width=\"1400\" height=\"500\">"
   ]
  },
  {
   "cell_type": "markdown",
   "id": "e58f045c-05c3-4b98-955e-dbe11099bef9",
   "metadata": {},
   "source": [
    "The ```conditions``` argument uses the ```rc_pd``` method to subset the parameter by matching indices. So, in this case, the parameter on ```Generation_E``` is"
   ]
  },
  {
   "cell_type": "code",
   "execution_count": 11,
   "id": "5a795250-c9d9-4ccd-b618-7f7fec99ed01",
   "metadata": {},
   "outputs": [
    {
     "data": {
      "text/plain": [
       "id             h  g \n",
       "g1_BP_BioMass  1  g1      25\n",
       "               2  g1      25\n",
       "               3  g1      25\n",
       "               4  g1      25\n",
       "g1_BP_Coal     1  g1      25\n",
       "                        ... \n",
       "g2_PV          4  g2       0\n",
       "g2_WS          1  g2    70.0\n",
       "               2  g2    20.0\n",
       "               3  g2    60.0\n",
       "               4  g2     100\n",
       "Length: 72, dtype: object"
      ]
     },
     "execution_count": 11,
     "metadata": {},
     "output_type": "execute_result"
    }
   ],
   "source": [
    "full = lpCompiler.broadcast(m.hourlyGeneratingCap_E, m.globalDomains['Generation_E'])\n",
    "full"
   ]
  },
  {
   "cell_type": "markdown",
   "id": "65812872-6b18-410a-a65c-f83db4e081dd",
   "metadata": {},
   "source": [
    "Note the length is 72. The ```getTechs(['standard_E','BP'], self.db)``` returns an index of ```id```s that remove 8 of the entries:"
   ]
  },
  {
   "cell_type": "code",
   "execution_count": 12,
   "id": "a3b1efe6-27ec-4881-84c6-d2e5a8efcda5",
   "metadata": {},
   "outputs": [
    {
     "data": {
      "text/plain": [
       "id             h  g \n",
       "g1_BP_BioMass  1  g1      25\n",
       "               2  g1      25\n",
       "               3  g1      25\n",
       "               4  g1      25\n",
       "g1_BP_Coal     1  g1      25\n",
       "                        ... \n",
       "g2_PV          4  g2       0\n",
       "g2_WS          1  g2    70.0\n",
       "               2  g2    20.0\n",
       "               3  g2    60.0\n",
       "               4  g2     100\n",
       "Name: 0, Length: 64, dtype: object"
      ]
     },
     "execution_count": 12,
     "metadata": {},
     "output_type": "execute_result"
    }
   ],
   "source": [
    "rc_pd(full, mBasicPH.getTechs(['standard_E','BP'], m.db))"
   ]
  },
  {
   "cell_type": "markdown",
   "id": "c0afe97f-9f24-49b3-9ee9-a20cad301da1",
   "metadata": {
    "tags": []
   },
   "source": [
    "### 4: Lower bounds $l$"
   ]
  },
  {
   "cell_type": "markdown",
   "id": "f987d4cc-2ed9-4517-992f-0f1e829060a8",
   "metadata": {},
   "source": [
    "Recall that if no bounds are imposed, the model naturally uses zero as the lower bound. So, the only instance where we need to specify a lower bound, is for the heat pumps generation of electricity (because it is negative). So, for the heat pumps, we set this to $-\\infty$ instead:"
   ]
  },
  {
   "cell_type": "markdown",
   "id": "bc7e104e-d880-4f0a-af22-223173eb0e92",
   "metadata": {},
   "source": [
    "<img src=\"snippets/mAdvPH_l.png\" width=\"850\" height=\"200\">"
   ]
  },
  {
   "cell_type": "markdown",
   "id": "a0d10057-74ae-4f1b-9752-70ff28402223",
   "metadata": {
    "tags": []
   },
   "source": [
    "### 5: Equality constraints $A_{eq}, b_{eq}$"
   ]
  }
 ],
 "metadata": {
  "kernelspec": {
   "display_name": "Python 3 (ipykernel)",
   "language": "python",
   "name": "python3"
  },
  "language_info": {
   "codemirror_mode": {
    "name": "ipython",
    "version": 3
   },
   "file_extension": ".py",
   "mimetype": "text/x-python",
   "name": "python",
   "nbconvert_exporter": "python",
   "pygments_lexer": "ipython3",
   "version": "3.9.7"
  }
 },
 "nbformat": 4,
 "nbformat_minor": 5
}
