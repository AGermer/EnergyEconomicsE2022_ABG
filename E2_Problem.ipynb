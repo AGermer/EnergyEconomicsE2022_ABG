{
 "cells": [
  {
   "cell_type": "markdown",
   "id": "abf05f27-c7a0-47b0-a271-1b460c2ff077",
   "metadata": {},
   "source": [
    "*Load packages and data:*"
   ]
  },
  {
   "cell_type": "code",
   "execution_count": 1,
   "id": "7315ba39-d768-49d3-8bea-ef3acbd32749",
   "metadata": {},
   "outputs": [],
   "source": [
    "%run stdPackages.ipynb\n",
    "read = {'variables': ['Fundamentals', 'Load', 'Generators_Other'], \n",
    "        'variable2D': ['Generators_FuelMix','HourlyVariation'],\n",
    "        'scalars': ['MWP'],\n",
    "        'maps': ['Generators_Categories']}\n",
    "db = dbFromWB(os.path.join(d['data'],'E2.xlsx'), read)\n",
    "readSets(db)"
   ]
  },
  {
   "cell_type": "markdown",
   "id": "a0d923d2-4c96-4575-b4a9-a316daf125d4",
   "metadata": {
    "tags": []
   },
   "source": [
    "# Exercise 2: Capacity factors"
   ]
  },
  {
   "cell_type": "markdown",
   "id": "d2fde262-5928-4828-b293-b08615926213",
   "metadata": {},
   "source": [
    "The objective of the second exercise is to get to know the models used throughout the course and learn how to interact with the code. Thus, the intuitive gains from the exercise might be limited. The exercise builds on the ```mBasic``` model class; you can find helpful information on this in the following:\n",
    "* The note \"*Models for Energy Economics*\" describes the model in section 3.\n",
    "* The notebook [M_mBasicInt](M_mBasicInt.ipynb) includes some description of the model class and shows how to interact with the model class and run simple experiments.\n",
    "* The notebook [E2_SolutionGuide](E2_SolutionGuide.ipynb) provides a short solution to the problems posted in the current notebook."
   ]
  }
 ],
 "metadata": {
  "kernelspec": {
   "display_name": "Python 3 (ipykernel)",
   "language": "python",
   "name": "python3"
  },
  "language_info": {
   "codemirror_mode": {
    "name": "ipython",
    "version": 3
   },
   "file_extension": ".py",
   "mimetype": "text/x-python",
   "name": "python",
   "nbconvert_exporter": "python",
   "pygments_lexer": "ipython3",
   "version": "3.9.7"
  }
 },
 "nbformat": 4,
 "nbformat_minor": 5
}
