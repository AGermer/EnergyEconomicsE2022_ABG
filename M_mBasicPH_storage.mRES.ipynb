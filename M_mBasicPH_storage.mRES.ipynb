{
 "cells": [
  {
   "cell_type": "code",
   "execution_count": 1,
   "id": "a5da1285-a454-4c0a-9c79-e170441c98db",
   "metadata": {},
   "outputs": [],
   "source": [
    "%run stdPackages.ipynb\n",
    "read = {'variables': ['Fundamentals', 'LoadVariables', 'TransmissionLines', 'GeneratorsVariables','StorageVariables','Regulation'],\n",
    "        'maps': ['LoadMaps','GeneratorsMaps','StorageMaps'],\n",
    "        'variable2D': ['HourlyVariation'],\n",
    "        'scalars': ['Scalars']}\n",
    "db = dbFromWB(os.path.join(d['data'],'E5.xlsx'), read)\n",
    "readSets(db)"
   ]
  },
  {
   "cell_type": "markdown",
   "id": "c4fe4de3-ee0f-4a9e-964f-90b3e3ddf139",
   "metadata": {
    "tags": []
   },
   "source": [
    "# The ```mBasicPH_storage.mRES``` model"
   ]
  },
  {
   "cell_type": "markdown",
   "id": "f710d54e-627d-46fd-a0de-3cfece21ff27",
   "metadata": {},
   "source": [
    "*Extension is identical to the one in ```mBasicPH.mRES```*"
   ]
  },
  {
   "cell_type": "markdown",
   "id": "b1ac6e3d-42ca-4eb9-9918-fc0ad961b0df",
   "metadata": {},
   "source": [
    "Test with common cap on clean generation:"
   ]
  },
  {
   "cell_type": "code",
   "execution_count": 2,
   "id": "0ac803a7-a891-4fc7-9956-47d0653f367f",
   "metadata": {},
   "outputs": [
    {
     "name": "stdout",
     "output_type": "stream",
     "text": [
      "Solution status 0: Optimization terminated successfully.\n"
     ]
    }
   ],
   "source": [
    "m = mBasicPH_storage.mRES(db, commonCap = True)\n",
    "m.solve()"
   ]
  },
  {
   "cell_type": "markdown",
   "id": "656ce575-f02d-4cc8-b3a5-1991e422d18f",
   "metadata": {},
   "source": [
    "Test with geographic-specific clean generation cap:"
   ]
  },
  {
   "cell_type": "code",
   "execution_count": 3,
   "id": "90870aeb-1676-4f65-b415-cad447d0f62d",
   "metadata": {},
   "outputs": [
    {
     "name": "stdout",
     "output_type": "stream",
     "text": [
      "Solution status 0: Optimization terminated successfully.\n"
     ]
    }
   ],
   "source": [
    "m.commonCap = False\n",
    "m.solve()"
   ]
  }
 ],
 "metadata": {
  "kernelspec": {
   "display_name": "Python 3 (ipykernel)",
   "language": "python",
   "name": "python3"
  },
  "language_info": {
   "codemirror_mode": {
    "name": "ipython",
    "version": 3
   },
   "file_extension": ".py",
   "mimetype": "text/x-python",
   "name": "python",
   "nbconvert_exporter": "python",
   "pygments_lexer": "ipython3",
   "version": "3.9.7"
  }
 },
 "nbformat": 4,
 "nbformat_minor": 5
}
