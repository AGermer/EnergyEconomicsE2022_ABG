{
 "cells": [
  {
   "cell_type": "code",
   "execution_count": 1,
   "id": "5942d476-c16d-4f79-991d-858b959c6108",
   "metadata": {},
   "outputs": [],
   "source": [
    "%run stdPackages.ipynb\n",
    "read = {'variables': ['Fundamentals', 'Load', 'Generators_Other'], \n",
    "        'variable2D': ['Generators_FuelMix','HourlyVariation'],\n",
    "        'scalars': ['Scalars'],\n",
    "        'maps': ['Generators_Categories']}\n",
    "db = dbFromWB(os.path.join(d['data'],'0_GlobalData.xlsx'), read)\n",
    "readSets(db)"
   ]
  },
  {
   "cell_type": "markdown",
   "id": "8b5b6560-62c9-4674-afa1-5b600a3f209b",
   "metadata": {
    "tags": []
   },
   "source": [
    "# The ```mBasicInt_EmissionCap``` model"
   ]
  },
  {
   "cell_type": "code",
   "execution_count": 2,
   "id": "c3f53408-8d0d-4f26-9636-6a2a19436687",
   "metadata": {},
   "outputs": [
    {
     "name": "stdout",
     "output_type": "stream",
     "text": [
      "Solution status 0: Optimization terminated successfully.\n"
     ]
    }
   ],
   "source": [
    "m = mBasicInt.mBasicInt_EmissionCap(db)\n",
    "m.solve()"
   ]
  },
  {
   "cell_type": "markdown",
   "id": "7e4e1cce-64b7-48cc-ab45-961b87e38e1d",
   "metadata": {},
   "source": [
    "### **The model**"
   ]
  },
  {
   "cell_type": "markdown",
   "id": "d6b1853f-cbaa-4bfb-82e4-2d67bff4bf26",
   "metadata": {},
   "source": [
    "The model is an extension to the model [mBasicInt](M_mBasicInt.ipynb). The extension is that a cap on $CO_2$ emissions from fuel consumption. Specifically, as also outlined for ```mBasicInt```, fuel consumption and emissions can be computed as:\n",
    "$$\\begin{align}\n",
    "    \\text{FuelConsumption}_{BFt} =& \\sum_{id,h}\\mu_{BFt}^{id}\\cdot E_{id,h} \\\\ \n",
    "    \\text{Emissions}_m =& \\sum_{BFt}\\text{FuelConsumption}_{BFt}\\cdot \\text{EmissionIntensity}_{BFt,m},\n",
    "\\end{align}$$\n",
    "where $\\mu_{BFt}^{id}$ is the fuel intensity for plant $id$. The emission cap is thus included as the inequality constraint that:\n",
    "$$\\begin{align}\n",
    "    \\sum_{BFt, id, h} \\mu_{BFt}^{id}\\cdot E_{id, h} \\cdot \\text{EmissionIntensity}_{BFt,CO2} \\leq \\text{CO2Cap}\n",
    "\\end{align}$$"
   ]
  },
  {
   "cell_type": "markdown",
   "id": "118ac226-1583-4f6d-8b22-fe3ff6c4f546",
   "metadata": {
    "tags": []
   },
   "source": [
    "### Adjustments to the code"
   ]
  },
  {
   "cell_type": "markdown",
   "id": "41db57ea-ecf4-4084-9a19-e44171853d4f",
   "metadata": {},
   "source": [
    "Compared to ```mBasicInt``` the main adjustment is that there is an added ```block``` of the type ```ub```:"
   ]
  },
  {
   "cell_type": "markdown",
   "id": "9241800d-9929-47e8-afb2-154ecb86200d",
   "metadata": {},
   "source": [
    "<img src=\"snippets/mBasicInt_EmissionCap_snippet.png\" width=\"1300\" height=\"400\">"
   ]
  },
  {
   "cell_type": "markdown",
   "id": "3fea03cb-0d1d-4ee7-9857-58bd6ecdf796",
   "metadata": {},
   "source": [
    "The specification of the constraint is in terms of syntax equivalent to the ```eq``` constraints:\n",
    "* There is a constraint named ```emissionsCap``` ,\n",
    "* with the parameter constraint $b_{ub}$ from ```self.db['CO2Cap']```.\n",
    "* $A_{ub}$ coefficients for this constraint are on the variable ```'Generation'```. Specifically, the parameters are the emission intensity for CO2 repeated for all hours:"
   ]
  },
  {
   "cell_type": "markdown",
   "id": "a2231f38-64b7-4277-8b91-c02c8aef2066",
   "metadata": {},
   "source": [
    "*Parameters for the emission cap:*"
   ]
  },
  {
   "cell_type": "code",
   "execution_count": 3,
   "id": "0e362dac-c134-432a-b036-2674b2db46ca",
   "metadata": {
    "scrolled": true,
    "tags": []
   },
   "outputs": [
    {
     "data": {
      "text/plain": [
       "id   h\n",
       "id1  1    0.109699\n",
       "     2    0.109699\n",
       "     3    0.109699\n",
       "     4    0.109699\n",
       "id2  1    0.072329\n",
       "     2    0.072329\n",
       "     3    0.072329\n",
       "     4    0.072329\n",
       "id3  1         0.0\n",
       "     2         0.0\n",
       "     3         0.0\n",
       "     4         0.0\n",
       "id4  1    0.009437\n",
       "     2    0.009437\n",
       "     3    0.009437\n",
       "     4    0.009437\n",
       "id5  1    0.048875\n",
       "     2    0.048875\n",
       "     3    0.048875\n",
       "     4    0.048875\n",
       "id6  1         0.0\n",
       "     2         0.0\n",
       "     3         0.0\n",
       "     4         0.0\n",
       "id7  1         0.0\n",
       "     2         0.0\n",
       "     3         0.0\n",
       "     4         0.0\n",
       "id8  1         0.0\n",
       "     2         0.0\n",
       "     3         0.0\n",
       "     4         0.0\n",
       "dtype: object"
      ]
     },
     "execution_count": 3,
     "metadata": {},
     "output_type": "execute_result"
    }
   ],
   "source": [
    "lpCompiler.broadcast(mBasicInt.plantEmissionIntensity(m.db).xs('CO2', level = 'EmissionType'), m.db['h'])"
   ]
  }
 ],
 "metadata": {
  "kernelspec": {
   "display_name": "Python 3 (ipykernel)",
   "language": "python",
   "name": "python3"
  },
  "language_info": {
   "codemirror_mode": {
    "name": "ipython",
    "version": 3
   },
   "file_extension": ".py",
   "mimetype": "text/x-python",
   "name": "python",
   "nbconvert_exporter": "python",
   "pygments_lexer": "ipython3",
   "version": "3.9.7"
  }
 },
 "nbformat": 4,
 "nbformat_minor": 5
}
