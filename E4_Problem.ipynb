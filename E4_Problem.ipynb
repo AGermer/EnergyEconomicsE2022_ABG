{
 "cells": [
  {
   "cell_type": "markdown",
   "id": "197661ba-0915-476f-9c87-ec94b1bb1f74",
   "metadata": {},
   "source": [
    "*Load packages and data:*"
   ]
  },
  {
   "cell_type": "code",
   "execution_count": 1,
   "id": "031316b6-b141-48e7-a637-a756cf1cd9ff",
   "metadata": {},
   "outputs": [],
   "source": [
    "%run stdPackages.ipynb\n",
    "read = {'variables': ['Fundamentals', 'LoadVariables', 'TransmissionLines', 'GeneratorsVariables'],\n",
    "        'maps': ['LoadMaps','GeneratorsMaps'],\n",
    "        'variable2D': ['HourlyVariation'],\n",
    "        'scalars': ['Scalars']}\n",
    "db = dbFromWB(os.path.join(d['data'],'E4.xlsx'), read)\n",
    "readSets(db)"
   ]
  },
  {
   "cell_type": "markdown",
   "id": "bc956f9f-9bed-4836-bf75-f09f0a8166a6",
   "metadata": {
    "tags": []
   },
   "source": [
    "# Exercise 4: Regulation of "
   ]
  },
  {
   "cell_type": "code",
   "execution_count": null,
   "id": "5deb014a-ad5e-409d-a0b0-2c07a16b1a9d",
   "metadata": {},
   "outputs": [],
   "source": []
  }
 ],
 "metadata": {
  "kernelspec": {
   "display_name": "Python 3 (ipykernel)",
   "language": "python",
   "name": "python3"
  },
  "language_info": {
   "codemirror_mode": {
    "name": "ipython",
    "version": 3
   },
   "file_extension": ".py",
   "mimetype": "text/x-python",
   "name": "python",
   "nbconvert_exporter": "python",
   "pygments_lexer": "ipython3",
   "version": "3.9.7"
  }
 },
 "nbformat": 4,
 "nbformat_minor": 5
}
