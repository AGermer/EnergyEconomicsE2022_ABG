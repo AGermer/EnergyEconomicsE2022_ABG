{
 "cells": [
  {
   "cell_type": "markdown",
   "id": "197661ba-0915-476f-9c87-ec94b1bb1f74",
   "metadata": {},
   "source": [
    "*Load packages and data:*"
   ]
  },
  {
   "cell_type": "code",
   "execution_count": 1,
   "id": "031316b6-b141-48e7-a637-a756cf1cd9ff",
   "metadata": {},
   "outputs": [],
   "source": [
    "%run stdPackages.ipynb\n",
    "read = {'variables': ['Fundamentals', 'LoadVariables', 'TransmissionLines', 'GeneratorsVariables'],\n",
    "        'maps': ['LoadMaps','GeneratorsMaps'],\n",
    "        'variable2D': ['HourlyVariation'],\n",
    "        'scalars': ['Scalars']}\n",
    "db = dbFromWB(os.path.join(d['data'],'E4.xlsx'), read)\n",
    "readSets(db)"
   ]
  },
  {
   "cell_type": "markdown",
   "id": "bc956f9f-9bed-4836-bf75-f09f0a8166a6",
   "metadata": {
    "tags": []
   },
   "source": [
    "# Exercise 4: Technology Complementarity"
   ]
  },
  {
   "cell_type": "markdown",
   "id": "7387f5ad-91eb-486e-bc36-9e73fb809527",
   "metadata": {},
   "source": [
    "The main objective of the fourth exercise is to estimate how technologies may complement each other. Specifically, we will look at a number of scenarios:\n",
    "* *High/low shares of renewables*.\n",
    "* *High/low shares of CHP plants*.\n",
    "* *Large/small heat markets*.\n",
    "\n",
    "The exercise builds on the ```mBasicPH``` model class; you can find helpful information on this in the following:\n",
    "* The note \"*Models in Energy Economics*\" describes the model in section 4.\n",
    "* The notebook [M_mBasicPH](M_mBasicPH.ipynb) includes some description of the model class.\n",
    "* The notebook [E4_SolutionGuide](E4_SolutionGuide.ipynb) provides a short solution to the problems posted in the current notebook."
   ]
  },
  {
   "cell_type": "markdown",
   "id": "8b518799-b6d3-4789-b73b-0806581dc93e",
   "metadata": {},
   "source": [
    "*Note: The model class ```mBasicPH``` automatically includes transmission lines and geographic markets. Currently, the class needs to have multiple geographic areas. We have set the transmission capacity between $g_1,g_2$ to zero, and only focus on $g_1$ - so, we ignore the effect of trade throughout. Technically, though, this means that we have to keep extracting the right information from $g_1$. The following should help subsetting the relevant symbols throughout:*"
   ]
  },
  {
   "cell_type": "code",
   "execution_count": 2,
   "id": "db35f626-7191-4312-97f1-5484a6004375",
   "metadata": {},
   "outputs": [],
   "source": [
    "ids = db['id'][db['id'].str.startswith('g1')]\n",
    "g   = pd.Index(['g1'],name='g')\n",
    "hvts= db['hvt'][db['hvt'].str.startswith('g1')]\n",
    "cE  = pd.Index(['c1'],name='c_E')\n",
    "cH  = pd.Index(['c2'],name='c_H')"
   ]
  },
  {
   "cell_type": "markdown",
   "id": "6c80d1fd-8905-4454-aece-34dd8b883895",
   "metadata": {
    "tags": []
   },
   "source": [
    "## The setup:"
   ]
  },
  {
   "cell_type": "markdown",
   "id": "21a05ba2-5418-4c2e-bf3b-d3fe1bdc4739",
   "metadata": {},
   "source": [
    "We consider a ```mBasicPH``` model with $H=4$ hours. The hourly average load is $100 GJ$ for both power and heat markets.\n",
    "\n",
    "#### Hourly Variation;\n",
    "\n",
    "We use a stylized hourly variation pattern where the four hours represent four 6-hour blocks of the day (hours 0-6, 6-12, 12-18, 18-24). Heat demand is slightly higher in the night ($h=1,4$), whereas electricity is somewhat higher during the day $(h=2,3$). Wind generation is slightly higher at night, whereas photovoltaics and solar heating primarily produce during the day."
   ]
  },
  {
   "cell_type": "code",
   "execution_count": 3,
   "id": "aa76f5e5-eb0e-42e6-8c55-06c61fa09fb3",
   "metadata": {},
   "outputs": [
    {
     "data": {
      "text/html": [
       "<div>\n",
       "<style scoped>\n",
       "    .dataframe tbody tr th:only-of-type {\n",
       "        vertical-align: middle;\n",
       "    }\n",
       "\n",
       "    .dataframe tbody tr th {\n",
       "        vertical-align: top;\n",
       "    }\n",
       "\n",
       "    .dataframe thead th {\n",
       "        text-align: right;\n",
       "    }\n",
       "</style>\n",
       "<table border=\"1\" class=\"dataframe\">\n",
       "  <thead>\n",
       "    <tr style=\"text-align: right;\">\n",
       "      <th>hvt</th>\n",
       "      <th>g1_WS</th>\n",
       "      <th>g1_PV</th>\n",
       "      <th>g1_SH</th>\n",
       "      <th>LoadVariation_E</th>\n",
       "      <th>LoadVariation_H</th>\n",
       "    </tr>\n",
       "    <tr>\n",
       "      <th>h</th>\n",
       "      <th></th>\n",
       "      <th></th>\n",
       "      <th></th>\n",
       "      <th></th>\n",
       "      <th></th>\n",
       "    </tr>\n",
       "  </thead>\n",
       "  <tbody>\n",
       "    <tr>\n",
       "      <th>1</th>\n",
       "      <td>0.5</td>\n",
       "      <td>0</td>\n",
       "      <td>0.15</td>\n",
       "      <td>0.1</td>\n",
       "      <td>0.35</td>\n",
       "    </tr>\n",
       "    <tr>\n",
       "      <th>2</th>\n",
       "      <td>0.3</td>\n",
       "      <td>0.3</td>\n",
       "      <td>0.25</td>\n",
       "      <td>0.3</td>\n",
       "      <td>0.15</td>\n",
       "    </tr>\n",
       "    <tr>\n",
       "      <th>3</th>\n",
       "      <td>0.6</td>\n",
       "      <td>0.4</td>\n",
       "      <td>0.25</td>\n",
       "      <td>0.5</td>\n",
       "      <td>0.15</td>\n",
       "    </tr>\n",
       "    <tr>\n",
       "      <th>4</th>\n",
       "      <td>0.7</td>\n",
       "      <td>0.05</td>\n",
       "      <td>0.15</td>\n",
       "      <td>0.1</td>\n",
       "      <td>0.35</td>\n",
       "    </tr>\n",
       "  </tbody>\n",
       "</table>\n",
       "</div>"
      ],
      "text/plain": [
       "hvt g1_WS g1_PV g1_SH LoadVariation_E LoadVariation_H\n",
       "h                                                    \n",
       "1     0.5     0  0.15             0.1            0.35\n",
       "2     0.3   0.3  0.25             0.3            0.15\n",
       "3     0.6   0.4  0.25             0.5            0.15\n",
       "4     0.7  0.05  0.15             0.1            0.35"
      ]
     },
     "execution_count": 3,
     "metadata": {},
     "output_type": "execute_result"
    }
   ],
   "source": [
    "DFVariation = rc_pd(db['CapVariation'], hvts).unstack('hvt').assign(LoadVariation_E = db['LoadVariation_E'].xs('c1'), LoadVariation_H = db['LoadVariation_H'].xs('c1'))\n",
    "DFVariation"
   ]
  },
  {
   "cell_type": "markdown",
   "id": "99e35a92-f61c-4b1b-ab87-807f3af4bb85",
   "metadata": {},
   "source": [
    "With only four hours, this stylized setup produces some pretty correlated variables:"
   ]
  },
  {
   "cell_type": "code",
   "execution_count": 4,
   "id": "6f9cba00-c1ba-488f-854e-35f3078c5b53",
   "metadata": {},
   "outputs": [
    {
     "data": {
      "text/html": [
       "<div>\n",
       "<style scoped>\n",
       "    .dataframe tbody tr th:only-of-type {\n",
       "        vertical-align: middle;\n",
       "    }\n",
       "\n",
       "    .dataframe tbody tr th {\n",
       "        vertical-align: top;\n",
       "    }\n",
       "\n",
       "    .dataframe thead th {\n",
       "        text-align: right;\n",
       "    }\n",
       "</style>\n",
       "<table border=\"1\" class=\"dataframe\">\n",
       "  <thead>\n",
       "    <tr style=\"text-align: right;\">\n",
       "      <th>hvt</th>\n",
       "      <th>g1_WS</th>\n",
       "      <th>g1_PV</th>\n",
       "      <th>g1_SH</th>\n",
       "      <th>LoadVariation_E</th>\n",
       "      <th>LoadVariation_H</th>\n",
       "    </tr>\n",
       "    <tr>\n",
       "      <th>hvt</th>\n",
       "      <th></th>\n",
       "      <th></th>\n",
       "      <th></th>\n",
       "      <th></th>\n",
       "      <th></th>\n",
       "    </tr>\n",
       "  </thead>\n",
       "  <tbody>\n",
       "    <tr>\n",
       "      <th>g1_WS</th>\n",
       "      <td>1.00</td>\n",
       "      <td>-0.29</td>\n",
       "      <td>-0.51</td>\n",
       "      <td>-0.15</td>\n",
       "      <td>0.51</td>\n",
       "    </tr>\n",
       "    <tr>\n",
       "      <th>g1_PV</th>\n",
       "      <td>-0.29</td>\n",
       "      <td>1.00</td>\n",
       "      <td>0.97</td>\n",
       "      <td>0.97</td>\n",
       "      <td>-0.97</td>\n",
       "    </tr>\n",
       "    <tr>\n",
       "      <th>g1_SH</th>\n",
       "      <td>-0.51</td>\n",
       "      <td>0.97</td>\n",
       "      <td>1.00</td>\n",
       "      <td>0.90</td>\n",
       "      <td>-1.00</td>\n",
       "    </tr>\n",
       "    <tr>\n",
       "      <th>LoadVariation_E</th>\n",
       "      <td>-0.15</td>\n",
       "      <td>0.97</td>\n",
       "      <td>0.90</td>\n",
       "      <td>1.00</td>\n",
       "      <td>-0.90</td>\n",
       "    </tr>\n",
       "    <tr>\n",
       "      <th>LoadVariation_H</th>\n",
       "      <td>0.51</td>\n",
       "      <td>-0.97</td>\n",
       "      <td>-1.00</td>\n",
       "      <td>-0.90</td>\n",
       "      <td>1.00</td>\n",
       "    </tr>\n",
       "  </tbody>\n",
       "</table>\n",
       "</div>"
      ],
      "text/plain": [
       "hvt              g1_WS  g1_PV  g1_SH  LoadVariation_E  LoadVariation_H\n",
       "hvt                                                                   \n",
       "g1_WS             1.00  -0.29  -0.51            -0.15             0.51\n",
       "g1_PV            -0.29   1.00   0.97             0.97            -0.97\n",
       "g1_SH            -0.51   0.97   1.00             0.90            -1.00\n",
       "LoadVariation_E  -0.15   0.97   0.90             1.00            -0.90\n",
       "LoadVariation_H   0.51  -0.97  -1.00            -0.90             1.00"
      ]
     },
     "execution_count": 4,
     "metadata": {},
     "output_type": "execute_result"
    }
   ],
   "source": [
    "DFVariation.astype(float).corr().round(2)"
   ]
  },
  {
   "cell_type": "markdown",
   "id": "f2614b7d-dcc8-4a8c-9c7b-1302bd112070",
   "metadata": {},
   "source": [
    "#### Technologies:\n",
    "\n",
    "We include the following technologies:\n",
    "* Condensation plants (```CD```): Simple electricity producing, dispatchable plants. Three versions: One that relies on coal, one on natural gas, and one that relies on biomass.\n",
    "* Boiler Heater plants (```BH```): Simple heat producing, dispatchable plants. Two versions: One that relies on natural gas, one that relies on biomass.\n",
    "* Back-pressure plants (```BP```): Combined heat and power plants. Two versions: One relies on coal, another on natural gas.\n",
    "* Wind and solar plants (```WS,PV,SH```): Intermittent plants. WS,PV produce electricity. SH produce heat. \n",
    "* Heat pump (```HP```): Relies on electricity to produce heat. "
   ]
  },
  {
   "cell_type": "markdown",
   "id": "70ca4d6f-3dcb-473c-82f3-922676b1039d",
   "metadata": {
    "tags": []
   },
   "source": [
    "### Problem 1: Baseline scenario"
   ]
  },
  {
   "cell_type": "markdown",
   "id": "65722174-8460-4469-9952-11550a277456",
   "metadata": {},
   "source": [
    "*Solve the model in the baseline scenario (data as is) and comment.*"
   ]
  },
  {
   "cell_type": "markdown",
   "id": "f053efe7-b46b-4c77-aef8-9764c5bd72c2",
   "metadata": {
    "tags": []
   },
   "source": [
    "### Problem 2: Suggest CHP plant strategy"
   ]
  },
  {
   "cell_type": "markdown",
   "id": "c7f55a6b-dd7e-4c86-944f-e9e60cb4e29d",
   "metadata": {},
   "source": [
    "*Based on your results in problem 1, suggest a better technology mix that includes CHP plants. Keep the total generating capacity for electricity and heat roughly constant to isolate the effect of changing the composition of plants. Simulate and comment on your result.*"
   ]
  },
  {
   "cell_type": "markdown",
   "id": "ef0edac3-ce20-4b5f-a055-0f01a7f8f01d",
   "metadata": {},
   "source": [
    "*Hint: *"
   ]
  },
  {
   "cell_type": "markdown",
   "id": "97d73dca-08df-484c-8943-1f0faa5746e4",
   "metadata": {},
   "source": [
    "*Grid for ```GeneratingCap_E```:*"
   ]
  },
  {
   "cell_type": "code",
   "execution_count": 5,
   "id": "d96234ce-512b-4c4d-94bd-a47e673c6cb6",
   "metadata": {},
   "outputs": [
    {
     "data": {
      "text/html": [
       "<div>\n",
       "<style scoped>\n",
       "    .dataframe tbody tr th:only-of-type {\n",
       "        vertical-align: middle;\n",
       "    }\n",
       "\n",
       "    .dataframe tbody tr th {\n",
       "        vertical-align: top;\n",
       "    }\n",
       "\n",
       "    .dataframe thead th {\n",
       "        text-align: right;\n",
       "    }\n",
       "</style>\n",
       "<table border=\"1\" class=\"dataframe\">\n",
       "  <thead>\n",
       "    <tr style=\"text-align: right;\">\n",
       "      <th>id</th>\n",
       "      <th>g1_BP_Coal</th>\n",
       "      <th>g1_BP_NatGas</th>\n",
       "      <th>g1_CD_Coal</th>\n",
       "      <th>g1_CD_NatGas</th>\n",
       "      <th>g1_CD_Nuclear</th>\n",
       "    </tr>\n",
       "    <tr>\n",
       "      <th>loop</th>\n",
       "      <th></th>\n",
       "      <th></th>\n",
       "      <th></th>\n",
       "      <th></th>\n",
       "      <th></th>\n",
       "    </tr>\n",
       "  </thead>\n",
       "  <tbody>\n",
       "    <tr>\n",
       "      <th>0</th>\n",
       "      <td>0.01</td>\n",
       "      <td>0.01</td>\n",
       "      <td>50.0</td>\n",
       "      <td>50.0</td>\n",
       "      <td>50.0</td>\n",
       "    </tr>\n",
       "    <tr>\n",
       "      <th>1</th>\n",
       "      <td>7.509</td>\n",
       "      <td>7.509</td>\n",
       "      <td>45.001</td>\n",
       "      <td>45.001</td>\n",
       "      <td>45.001</td>\n",
       "    </tr>\n",
       "    <tr>\n",
       "      <th>2</th>\n",
       "      <td>15.008</td>\n",
       "      <td>15.008</td>\n",
       "      <td>40.002</td>\n",
       "      <td>40.002</td>\n",
       "      <td>40.002</td>\n",
       "    </tr>\n",
       "    <tr>\n",
       "      <th>3</th>\n",
       "      <td>22.507</td>\n",
       "      <td>22.507</td>\n",
       "      <td>35.003</td>\n",
       "      <td>35.003</td>\n",
       "      <td>35.003</td>\n",
       "    </tr>\n",
       "    <tr>\n",
       "      <th>4</th>\n",
       "      <td>30.006</td>\n",
       "      <td>30.006</td>\n",
       "      <td>30.004</td>\n",
       "      <td>30.004</td>\n",
       "      <td>30.004</td>\n",
       "    </tr>\n",
       "    <tr>\n",
       "      <th>5</th>\n",
       "      <td>37.505</td>\n",
       "      <td>37.505</td>\n",
       "      <td>25.005</td>\n",
       "      <td>25.005</td>\n",
       "      <td>25.005</td>\n",
       "    </tr>\n",
       "    <tr>\n",
       "      <th>6</th>\n",
       "      <td>45.004</td>\n",
       "      <td>45.004</td>\n",
       "      <td>20.006</td>\n",
       "      <td>20.006</td>\n",
       "      <td>20.006</td>\n",
       "    </tr>\n",
       "    <tr>\n",
       "      <th>7</th>\n",
       "      <td>52.503</td>\n",
       "      <td>52.503</td>\n",
       "      <td>15.007</td>\n",
       "      <td>15.007</td>\n",
       "      <td>15.007</td>\n",
       "    </tr>\n",
       "    <tr>\n",
       "      <th>8</th>\n",
       "      <td>60.002</td>\n",
       "      <td>60.002</td>\n",
       "      <td>10.008</td>\n",
       "      <td>10.008</td>\n",
       "      <td>10.008</td>\n",
       "    </tr>\n",
       "    <tr>\n",
       "      <th>9</th>\n",
       "      <td>67.501</td>\n",
       "      <td>67.501</td>\n",
       "      <td>5.009</td>\n",
       "      <td>5.009</td>\n",
       "      <td>5.009</td>\n",
       "    </tr>\n",
       "    <tr>\n",
       "      <th>10</th>\n",
       "      <td>75.0</td>\n",
       "      <td>75.0</td>\n",
       "      <td>0.01</td>\n",
       "      <td>0.01</td>\n",
       "      <td>0.01</td>\n",
       "    </tr>\n",
       "  </tbody>\n",
       "</table>\n",
       "</div>"
      ],
      "text/plain": [
       "id   g1_BP_Coal g1_BP_NatGas g1_CD_Coal g1_CD_NatGas g1_CD_Nuclear\n",
       "loop                                                              \n",
       "0          0.01         0.01       50.0         50.0          50.0\n",
       "1         7.509        7.509     45.001       45.001        45.001\n",
       "2        15.008       15.008     40.002       40.002        40.002\n",
       "3        22.507       22.507     35.003       35.003        35.003\n",
       "4        30.006       30.006     30.004       30.004        30.004\n",
       "5        37.505       37.505     25.005       25.005        25.005\n",
       "6        45.004       45.004     20.006       20.006        20.006\n",
       "7        52.503       52.503     15.007       15.007        15.007\n",
       "8        60.002       60.002     10.008       10.008        10.008\n",
       "9        67.501       67.501      5.009        5.009         5.009\n",
       "10         75.0         75.0       0.01         0.01          0.01"
      ]
     },
     "execution_count": 5,
     "metadata": {},
     "output_type": "execute_result"
    }
   ],
   "source": [
    "loop = pd.Index(range(11), name = 'loop') # loop\n",
    "CD_ids = db['id'][db['id'].str.contains('CD')]; # CD plants\n",
    "BP_ids = db['id'][db['id'].str.contains('BP')]; # BP plants\n",
    "v0_CD = rc_pd(db['GeneratingCap_E'], ('and', [CD_ids, ids])) # initial values taken from database\n",
    "v0_BP = rc_pd(db['GeneratingCap_E'], ('and', [BP_ids, ids])) # initial values taken from database\n",
    "vT_CD = pd.Series(0.01, index = v0_CD.index) # final value in grid \n",
    "vT_BP = pd.Series(75, index   = v0_BP.index) # final value in grid\n",
    "grid_ECap = addGrid(v0_CD.combine_first(v0_BP), vT_CD.combine_first(vT_BP), loop, 'GeneratingCap_E') # create grid of values\n",
    "grid_ECap.unstack('id') # inspect the grid to see that it makes sense"
   ]
  },
  {
   "cell_type": "markdown",
   "id": "234ee595-7ab2-45ce-8d1f-7a456d72cecf",
   "metadata": {},
   "source": [
    "*Create similar grid for ```GeneratingCap_H```:* "
   ]
  },
  {
   "cell_type": "code",
   "execution_count": 6,
   "id": "ec6c05a6-7884-41a0-ac33-133fddd9dfc8",
   "metadata": {},
   "outputs": [],
   "source": [
    "BH_ids = db['id'][db['id'].str.contains('BH')];\n",
    "v0_BH = rc_pd(db['GeneratingCap_H'], ('and', [BH_ids, ids]))\n",
    "vT_BH = pd.Series(0.01, index = v0_BH.index)\n",
    "grid_HCap = addGrid(v0_BH, vT_BH, loop, 'GeneratingCap_H')"
   ]
  }
 ],
 "metadata": {
  "kernelspec": {
   "display_name": "Python 3 (ipykernel)",
   "language": "python",
   "name": "python3"
  },
  "language_info": {
   "codemirror_mode": {
    "name": "ipython",
    "version": 3
   },
   "file_extension": ".py",
   "mimetype": "text/x-python",
   "name": "python",
   "nbconvert_exporter": "python",
   "pygments_lexer": "ipython3",
   "version": "3.9.7"
  }
 },
 "nbformat": 4,
 "nbformat_minor": 5
}
